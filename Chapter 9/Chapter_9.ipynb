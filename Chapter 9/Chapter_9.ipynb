{
  "nbformat": 4,
  "nbformat_minor": 0,
  "metadata": {
    "colab": {
      "provenance": []
    },
    "kernelspec": {
      "name": "ir",
      "display_name": "R"
    },
    "language_info": {
      "name": "R"
    },
    "gpuClass": "standard"
  },
  "cells": [
    {
      "cell_type": "markdown",
      "source": [
        "# **9. BETİMSEL İSTATİSTİKLER**"
      ],
      "metadata": {
        "id": "MlFI9W6eSfb0"
      }
    },
    {
      "cell_type": "markdown",
      "source": [
        "## **9.1. Merkezi Eğilim Ölçüleri**"
      ],
      "metadata": {
        "id": "Y2n4uwde2LF0"
      }
    },
    {
      "cell_type": "markdown",
      "source": [
        "## **`ortalama()` fonksiyonu**"
      ],
      "metadata": {
        "id": "OVAXrw8aSpwZ"
      }
    },
    {
      "cell_type": "code",
      "source": [
        "ortalama<-function(x,sütun=TRUE){\n",
        "  if (is.vector(x)==TRUE){ # Eğer vektörse\n",
        "    return(sum(x)/length(x))\n",
        "  }else if (is.data.frame(x)==TRUE){ # Eğer veri çerçevesi ise\n",
        "    n<-nrow(x) ; p<-ncol(x)\n",
        "    ort<-NULL\n",
        "    for (i in 1:p){\n",
        "      ort[i]<-sum(x[,i])/n     \n",
        "    }\n",
        "    return(ort)\n",
        "  } else if (is.matrix(x)==TRUE){ # Eğer matris ise\n",
        "    n<-nrow(x) ; p<-ncol(x)\n",
        "    if(sütun==TRUE){\n",
        "      ort<-NULL\n",
        "      for (i in 1:p){\n",
        "        ort[i]<-sum(x[,i])/n     \n",
        "      }\n",
        "    }else{\n",
        "      ort<-NULL\n",
        "      for (i in 1:n){\n",
        "        ort[i]<-sum(x[i,])/n         \n",
        "      }}\n",
        "    return(ort)  \n",
        "  }\n",
        "}"
      ],
      "metadata": {
        "id": "nlK-4YDBStMl"
      },
      "execution_count": 1,
      "outputs": []
    },
    {
      "cell_type": "code",
      "source": [
        "x<-c(60,70,90,48,67,75,50,50,75)\n",
        "ortalama(x)"
      ],
      "metadata": {
        "colab": {
          "base_uri": "https://localhost:8080/",
          "height": 34
        },
        "id": "izkt8gQL0Kum",
        "outputId": "ce82f4f8-c637-4744-8b04-b1f81d60d7dc"
      },
      "execution_count": 2,
      "outputs": [
        {
          "output_type": "display_data",
          "data": {
            "text/html": [
              "65"
            ],
            "text/markdown": "65",
            "text/latex": "65",
            "text/plain": [
              "[1] 65"
            ]
          },
          "metadata": {}
        }
      ]
    },
    {
      "cell_type": "code",
      "source": [
        "ortalama(iris[,-5])"
      ],
      "metadata": {
        "colab": {
          "base_uri": "https://localhost:8080/",
          "height": 34
        },
        "id": "SwFQLdSP0Sor",
        "outputId": "f11732eb-6f21-43e2-e99e-13297ecd4ca7"
      },
      "execution_count": 3,
      "outputs": [
        {
          "output_type": "display_data",
          "data": {
            "text/html": [
              "<style>\n",
              ".list-inline {list-style: none; margin:0; padding: 0}\n",
              ".list-inline>li {display: inline-block}\n",
              ".list-inline>li:not(:last-child)::after {content: \"\\00b7\"; padding: 0 .5ex}\n",
              "</style>\n",
              "<ol class=list-inline><li>5.84333333333333</li><li>3.05733333333333</li><li>3.758</li><li>1.19933333333333</li></ol>\n"
            ],
            "text/markdown": "1. 5.84333333333333\n2. 3.05733333333333\n3. 3.758\n4. 1.19933333333333\n\n\n",
            "text/latex": "\\begin{enumerate*}\n\\item 5.84333333333333\n\\item 3.05733333333333\n\\item 3.758\n\\item 1.19933333333333\n\\end{enumerate*}\n",
            "text/plain": [
              "[1] 5.843333 3.057333 3.758000 1.199333"
            ]
          },
          "metadata": {}
        }
      ]
    },
    {
      "cell_type": "code",
      "source": [
        "ortalama(as.matrix(iris[,-5]))"
      ],
      "metadata": {
        "colab": {
          "base_uri": "https://localhost:8080/",
          "height": 34
        },
        "id": "cjxQtjya0V3e",
        "outputId": "143bed51-b546-473f-a149-88ac996aaa3e"
      },
      "execution_count": 4,
      "outputs": [
        {
          "output_type": "display_data",
          "data": {
            "text/html": [
              "<style>\n",
              ".list-inline {list-style: none; margin:0; padding: 0}\n",
              ".list-inline>li {display: inline-block}\n",
              ".list-inline>li:not(:last-child)::after {content: \"\\00b7\"; padding: 0 .5ex}\n",
              "</style>\n",
              "<ol class=list-inline><li>5.84333333333333</li><li>3.05733333333333</li><li>3.758</li><li>1.19933333333333</li></ol>\n"
            ],
            "text/markdown": "1. 5.84333333333333\n2. 3.05733333333333\n3. 3.758\n4. 1.19933333333333\n\n\n",
            "text/latex": "\\begin{enumerate*}\n\\item 5.84333333333333\n\\item 3.05733333333333\n\\item 3.758\n\\item 1.19933333333333\n\\end{enumerate*}\n",
            "text/plain": [
              "[1] 5.843333 3.057333 3.758000 1.199333"
            ]
          },
          "metadata": {}
        }
      ]
    },
    {
      "cell_type": "code",
      "source": [
        "ortalama(as.matrix(iris[,-5]),sütun=FALSE)"
      ],
      "metadata": {
        "colab": {
          "base_uri": "https://localhost:8080/",
          "height": 295
        },
        "id": "UVTprFYU0eEG",
        "outputId": "0b1dd198-a91c-4c5f-8a8d-421e394be0da"
      },
      "execution_count": 5,
      "outputs": [
        {
          "output_type": "display_data",
          "data": {
            "text/html": [
              "<style>\n",
              ".list-inline {list-style: none; margin:0; padding: 0}\n",
              ".list-inline>li {display: inline-block}\n",
              ".list-inline>li:not(:last-child)::after {content: \"\\00b7\"; padding: 0 .5ex}\n",
              "</style>\n",
              "<ol class=list-inline><li>0.068</li><li>0.0633333333333333</li><li>0.0626666666666667</li><li>0.0626666666666667</li><li>0.068</li><li>0.076</li><li>0.0646666666666667</li><li>0.0673333333333333</li><li>0.0593333333333333</li><li>0.064</li><li>0.072</li><li>0.0666666666666667</li><li>0.062</li><li>0.0566666666666667</li><li>0.0746666666666667</li><li>0.08</li><li>0.0733333333333333</li><li>0.0686666666666667</li><li>0.0766666666666667</li><li>0.0713333333333333</li><li>0.0713333333333333</li><li>0.0713333333333333</li><li>0.0626666666666667</li><li>0.0706666666666667</li><li>0.0686666666666667</li><li>0.0653333333333333</li><li>0.0693333333333333</li><li>0.0693333333333333</li><li>0.068</li><li>0.0646666666666667</li><li>0.0646666666666667</li><li>0.0713333333333333</li><li>0.0726666666666667</li><li>0.0753333333333333</li><li>0.0646666666666667</li><li>0.064</li><li>0.07</li><li>0.0666666666666667</li><li>0.0593333333333333</li><li>0.068</li><li>0.0673333333333333</li><li>0.056</li><li>0.0606666666666667</li><li>0.0713333333333333</li><li>0.0746666666666667</li><li>0.0633333333333333</li><li>0.0713333333333333</li><li>0.0626666666666667</li><li>0.0713333333333333</li><li>0.066</li><li>0.108666666666667</li><li>0.104</li><li>0.109333333333333</li><li>0.0873333333333333</li><li>0.102666666666667</li><li>0.0953333333333333</li><li>0.106</li><li>0.0773333333333333</li><li>0.102666666666667</li><li>0.088</li><li>0.0766666666666667</li><li>0.0973333333333333</li><li>0.088</li><li>0.100666666666667</li><li>0.0893333333333333</li><li>0.104</li><li>0.0973333333333333</li><li>0.0906666666666667</li><li>0.096</li><li>0.0873333333333333</li><li>0.104666666666667</li><li>0.0946666666666667</li><li>0.101333333333333</li><li>0.0986666666666667</li><li>0.0993333333333333</li><li>0.102666666666667</li><li>0.105333333333333</li><li>0.109333333333333</li><li>0.0993333333333333</li><li>0.0853333333333333</li><li>0.0853333333333333</li><li>0.084</li><li>0.0906666666666667</li><li>0.102666666666667</li><li>0.096</li><li>0.103333333333333</li><li>0.106666666666667</li><li>0.0953333333333333</li><li>0.0933333333333333</li><li>0.0886666666666667</li><li>0.0913333333333333</li><li>0.100666666666667</li><li>0.0906666666666667</li><li>0.0773333333333333</li><li>0.092</li><li>0.094</li><li>0.094</li><li>0.098</li><li>0.078</li><li>0.0926666666666667</li><li>0.120666666666667</li><li>0.103333333333333</li><li>0.120666666666667</li><li>0.110666666666667</li><li>0.116666666666667</li><li>0.128666666666667</li><li>0.0906666666666667</li><li>0.122</li><li>0.112</li><li>0.129333333333333</li><li>0.112</li><li>0.108666666666667</li><li>0.116</li><li>0.101333333333333</li><li>0.107333333333333</li><li>0.114666666666667</li><li>0.112</li><li>0.136</li><li>0.13</li><li>0.098</li><li>0.120666666666667</li><li>0.102</li><li>0.128</li><li>0.104666666666667</li><li>0.118666666666667</li><li>0.121333333333333</li><li>0.104</li><li>0.105333333333333</li><li>0.112666666666667</li><li>0.117333333333333</li><li>0.121333333333333</li><li>0.134</li><li>0.113333333333333</li><li>0.104666666666667</li><li>0.104666666666667</li><li>0.127333333333333</li><li>0.118</li><li>0.112</li><li>0.104</li><li>0.116666666666667</li><li>0.118666666666667</li><li>0.116</li><li>0.103333333333333</li><li>0.121333333333333</li><li>0.121333333333333</li><li>0.114666666666667</li><li>0.104666666666667</li><li>0.111333333333333</li><li>0.115333333333333</li><li>0.105333333333333</li></ol>\n"
            ],
            "text/markdown": "1. 0.068\n2. 0.0633333333333333\n3. 0.0626666666666667\n4. 0.0626666666666667\n5. 0.068\n6. 0.076\n7. 0.0646666666666667\n8. 0.0673333333333333\n9. 0.0593333333333333\n10. 0.064\n11. 0.072\n12. 0.0666666666666667\n13. 0.062\n14. 0.0566666666666667\n15. 0.0746666666666667\n16. 0.08\n17. 0.0733333333333333\n18. 0.0686666666666667\n19. 0.0766666666666667\n20. 0.0713333333333333\n21. 0.0713333333333333\n22. 0.0713333333333333\n23. 0.0626666666666667\n24. 0.0706666666666667\n25. 0.0686666666666667\n26. 0.0653333333333333\n27. 0.0693333333333333\n28. 0.0693333333333333\n29. 0.068\n30. 0.0646666666666667\n31. 0.0646666666666667\n32. 0.0713333333333333\n33. 0.0726666666666667\n34. 0.0753333333333333\n35. 0.0646666666666667\n36. 0.064\n37. 0.07\n38. 0.0666666666666667\n39. 0.0593333333333333\n40. 0.068\n41. 0.0673333333333333\n42. 0.056\n43. 0.0606666666666667\n44. 0.0713333333333333\n45. 0.0746666666666667\n46. 0.0633333333333333\n47. 0.0713333333333333\n48. 0.0626666666666667\n49. 0.0713333333333333\n50. 0.066\n51. 0.108666666666667\n52. 0.104\n53. 0.109333333333333\n54. 0.0873333333333333\n55. 0.102666666666667\n56. 0.0953333333333333\n57. 0.106\n58. 0.0773333333333333\n59. 0.102666666666667\n60. 0.088\n61. 0.0766666666666667\n62. 0.0973333333333333\n63. 0.088\n64. 0.100666666666667\n65. 0.0893333333333333\n66. 0.104\n67. 0.0973333333333333\n68. 0.0906666666666667\n69. 0.096\n70. 0.0873333333333333\n71. 0.104666666666667\n72. 0.0946666666666667\n73. 0.101333333333333\n74. 0.0986666666666667\n75. 0.0993333333333333\n76. 0.102666666666667\n77. 0.105333333333333\n78. 0.109333333333333\n79. 0.0993333333333333\n80. 0.0853333333333333\n81. 0.0853333333333333\n82. 0.084\n83. 0.0906666666666667\n84. 0.102666666666667\n85. 0.096\n86. 0.103333333333333\n87. 0.106666666666667\n88. 0.0953333333333333\n89. 0.0933333333333333\n90. 0.0886666666666667\n91. 0.0913333333333333\n92. 0.100666666666667\n93. 0.0906666666666667\n94. 0.0773333333333333\n95. 0.092\n96. 0.094\n97. 0.094\n98. 0.098\n99. 0.078\n100. 0.0926666666666667\n101. 0.120666666666667\n102. 0.103333333333333\n103. 0.120666666666667\n104. 0.110666666666667\n105. 0.116666666666667\n106. 0.128666666666667\n107. 0.0906666666666667\n108. 0.122\n109. 0.112\n110. 0.129333333333333\n111. 0.112\n112. 0.108666666666667\n113. 0.116\n114. 0.101333333333333\n115. 0.107333333333333\n116. 0.114666666666667\n117. 0.112\n118. 0.136\n119. 0.13\n120. 0.098\n121. 0.120666666666667\n122. 0.102\n123. 0.128\n124. 0.104666666666667\n125. 0.118666666666667\n126. 0.121333333333333\n127. 0.104\n128. 0.105333333333333\n129. 0.112666666666667\n130. 0.117333333333333\n131. 0.121333333333333\n132. 0.134\n133. 0.113333333333333\n134. 0.104666666666667\n135. 0.104666666666667\n136. 0.127333333333333\n137. 0.118\n138. 0.112\n139. 0.104\n140. 0.116666666666667\n141. 0.118666666666667\n142. 0.116\n143. 0.103333333333333\n144. 0.121333333333333\n145. 0.121333333333333\n146. 0.114666666666667\n147. 0.104666666666667\n148. 0.111333333333333\n149. 0.115333333333333\n150. 0.105333333333333\n\n\n",
            "text/latex": "\\begin{enumerate*}\n\\item 0.068\n\\item 0.0633333333333333\n\\item 0.0626666666666667\n\\item 0.0626666666666667\n\\item 0.068\n\\item 0.076\n\\item 0.0646666666666667\n\\item 0.0673333333333333\n\\item 0.0593333333333333\n\\item 0.064\n\\item 0.072\n\\item 0.0666666666666667\n\\item 0.062\n\\item 0.0566666666666667\n\\item 0.0746666666666667\n\\item 0.08\n\\item 0.0733333333333333\n\\item 0.0686666666666667\n\\item 0.0766666666666667\n\\item 0.0713333333333333\n\\item 0.0713333333333333\n\\item 0.0713333333333333\n\\item 0.0626666666666667\n\\item 0.0706666666666667\n\\item 0.0686666666666667\n\\item 0.0653333333333333\n\\item 0.0693333333333333\n\\item 0.0693333333333333\n\\item 0.068\n\\item 0.0646666666666667\n\\item 0.0646666666666667\n\\item 0.0713333333333333\n\\item 0.0726666666666667\n\\item 0.0753333333333333\n\\item 0.0646666666666667\n\\item 0.064\n\\item 0.07\n\\item 0.0666666666666667\n\\item 0.0593333333333333\n\\item 0.068\n\\item 0.0673333333333333\n\\item 0.056\n\\item 0.0606666666666667\n\\item 0.0713333333333333\n\\item 0.0746666666666667\n\\item 0.0633333333333333\n\\item 0.0713333333333333\n\\item 0.0626666666666667\n\\item 0.0713333333333333\n\\item 0.066\n\\item 0.108666666666667\n\\item 0.104\n\\item 0.109333333333333\n\\item 0.0873333333333333\n\\item 0.102666666666667\n\\item 0.0953333333333333\n\\item 0.106\n\\item 0.0773333333333333\n\\item 0.102666666666667\n\\item 0.088\n\\item 0.0766666666666667\n\\item 0.0973333333333333\n\\item 0.088\n\\item 0.100666666666667\n\\item 0.0893333333333333\n\\item 0.104\n\\item 0.0973333333333333\n\\item 0.0906666666666667\n\\item 0.096\n\\item 0.0873333333333333\n\\item 0.104666666666667\n\\item 0.0946666666666667\n\\item 0.101333333333333\n\\item 0.0986666666666667\n\\item 0.0993333333333333\n\\item 0.102666666666667\n\\item 0.105333333333333\n\\item 0.109333333333333\n\\item 0.0993333333333333\n\\item 0.0853333333333333\n\\item 0.0853333333333333\n\\item 0.084\n\\item 0.0906666666666667\n\\item 0.102666666666667\n\\item 0.096\n\\item 0.103333333333333\n\\item 0.106666666666667\n\\item 0.0953333333333333\n\\item 0.0933333333333333\n\\item 0.0886666666666667\n\\item 0.0913333333333333\n\\item 0.100666666666667\n\\item 0.0906666666666667\n\\item 0.0773333333333333\n\\item 0.092\n\\item 0.094\n\\item 0.094\n\\item 0.098\n\\item 0.078\n\\item 0.0926666666666667\n\\item 0.120666666666667\n\\item 0.103333333333333\n\\item 0.120666666666667\n\\item 0.110666666666667\n\\item 0.116666666666667\n\\item 0.128666666666667\n\\item 0.0906666666666667\n\\item 0.122\n\\item 0.112\n\\item 0.129333333333333\n\\item 0.112\n\\item 0.108666666666667\n\\item 0.116\n\\item 0.101333333333333\n\\item 0.107333333333333\n\\item 0.114666666666667\n\\item 0.112\n\\item 0.136\n\\item 0.13\n\\item 0.098\n\\item 0.120666666666667\n\\item 0.102\n\\item 0.128\n\\item 0.104666666666667\n\\item 0.118666666666667\n\\item 0.121333333333333\n\\item 0.104\n\\item 0.105333333333333\n\\item 0.112666666666667\n\\item 0.117333333333333\n\\item 0.121333333333333\n\\item 0.134\n\\item 0.113333333333333\n\\item 0.104666666666667\n\\item 0.104666666666667\n\\item 0.127333333333333\n\\item 0.118\n\\item 0.112\n\\item 0.104\n\\item 0.116666666666667\n\\item 0.118666666666667\n\\item 0.116\n\\item 0.103333333333333\n\\item 0.121333333333333\n\\item 0.121333333333333\n\\item 0.114666666666667\n\\item 0.104666666666667\n\\item 0.111333333333333\n\\item 0.115333333333333\n\\item 0.105333333333333\n\\end{enumerate*}\n",
            "text/plain": [
              "  [1] 0.06800000 0.06333333 0.06266667 0.06266667 0.06800000 0.07600000\n",
              "  [7] 0.06466667 0.06733333 0.05933333 0.06400000 0.07200000 0.06666667\n",
              " [13] 0.06200000 0.05666667 0.07466667 0.08000000 0.07333333 0.06866667\n",
              " [19] 0.07666667 0.07133333 0.07133333 0.07133333 0.06266667 0.07066667\n",
              " [25] 0.06866667 0.06533333 0.06933333 0.06933333 0.06800000 0.06466667\n",
              " [31] 0.06466667 0.07133333 0.07266667 0.07533333 0.06466667 0.06400000\n",
              " [37] 0.07000000 0.06666667 0.05933333 0.06800000 0.06733333 0.05600000\n",
              " [43] 0.06066667 0.07133333 0.07466667 0.06333333 0.07133333 0.06266667\n",
              " [49] 0.07133333 0.06600000 0.10866667 0.10400000 0.10933333 0.08733333\n",
              " [55] 0.10266667 0.09533333 0.10600000 0.07733333 0.10266667 0.08800000\n",
              " [61] 0.07666667 0.09733333 0.08800000 0.10066667 0.08933333 0.10400000\n",
              " [67] 0.09733333 0.09066667 0.09600000 0.08733333 0.10466667 0.09466667\n",
              " [73] 0.10133333 0.09866667 0.09933333 0.10266667 0.10533333 0.10933333\n",
              " [79] 0.09933333 0.08533333 0.08533333 0.08400000 0.09066667 0.10266667\n",
              " [85] 0.09600000 0.10333333 0.10666667 0.09533333 0.09333333 0.08866667\n",
              " [91] 0.09133333 0.10066667 0.09066667 0.07733333 0.09200000 0.09400000\n",
              " [97] 0.09400000 0.09800000 0.07800000 0.09266667 0.12066667 0.10333333\n",
              "[103] 0.12066667 0.11066667 0.11666667 0.12866667 0.09066667 0.12200000\n",
              "[109] 0.11200000 0.12933333 0.11200000 0.10866667 0.11600000 0.10133333\n",
              "[115] 0.10733333 0.11466667 0.11200000 0.13600000 0.13000000 0.09800000\n",
              "[121] 0.12066667 0.10200000 0.12800000 0.10466667 0.11866667 0.12133333\n",
              "[127] 0.10400000 0.10533333 0.11266667 0.11733333 0.12133333 0.13400000\n",
              "[133] 0.11333333 0.10466667 0.10466667 0.12733333 0.11800000 0.11200000\n",
              "[139] 0.10400000 0.11666667 0.11866667 0.11600000 0.10333333 0.12133333\n",
              "[145] 0.12133333 0.11466667 0.10466667 0.11133333 0.11533333 0.10533333"
            ]
          },
          "metadata": {}
        }
      ]
    },
    {
      "cell_type": "markdown",
      "source": [
        "#### Kitaba geri dön! \n",
        "<img src=\"https://raw.githubusercontent.com/tensorchiefs/dl_book/master/imgs/Page_turn_icon_A.png\" width=\"120\" align=\"left\" />  \n",
        "Bölüm 9.1.2'yi incelemek için kitaba geri dönebilirsin."
      ],
      "metadata": {
        "id": "6eWD-wAkTBGX"
      }
    },
    {
      "cell_type": "markdown",
      "source": [
        "## **`medyan()` fonksiyonu**"
      ],
      "metadata": {
        "id": "axOQL_FtU8G1"
      }
    },
    {
      "cell_type": "code",
      "source": [
        "medyan<-function(x){ \n",
        "  n=length(x)\n",
        "  sıralı_değerler<-sort(x)\n",
        "  if(n%%2==0){\n",
        "    m<-(sıralı_değerler[n/2]+sıralı_değerler[n/2+1])/2\n",
        "  } else {\n",
        "    m<-sıralı_değerler[(n+1)/2]\n",
        "  }\n",
        "  return(m)  \n",
        "}"
      ],
      "metadata": {
        "id": "hwjLLQl6W8AA"
      },
      "execution_count": 6,
      "outputs": []
    },
    {
      "cell_type": "code",
      "source": [
        "# Örnek 9.2'nin çözümü\n",
        "x<-c(60,70,90,48,67,75,50,50,75)\n",
        "medyan(x)"
      ],
      "metadata": {
        "colab": {
          "base_uri": "https://localhost:8080/",
          "height": 34
        },
        "id": "ZSaGkqz-1a_O",
        "outputId": "3c6bb70c-c37e-4da9-a91c-11e9a40e32d0"
      },
      "execution_count": 8,
      "outputs": [
        {
          "output_type": "display_data",
          "data": {
            "text/html": [
              "67"
            ],
            "text/markdown": "67",
            "text/latex": "67",
            "text/plain": [
              "[1] 67"
            ]
          },
          "metadata": {}
        }
      ]
    },
    {
      "cell_type": "code",
      "source": [
        "# Örnek 9.3'ün çözümü\n",
        "x<-c(30,70,120,48,67,75,50,50,75,60)\n",
        "medyan(x)"
      ],
      "metadata": {
        "colab": {
          "base_uri": "https://localhost:8080/",
          "height": 34
        },
        "id": "lRf-XD361hLR",
        "outputId": "6befe90f-9f7d-43e8-9a71-28f31b7ba40a"
      },
      "execution_count": 9,
      "outputs": [
        {
          "output_type": "display_data",
          "data": {
            "text/html": [
              "63.5"
            ],
            "text/markdown": "63.5",
            "text/latex": "63.5",
            "text/plain": [
              "[1] 63.5"
            ]
          },
          "metadata": {}
        }
      ]
    },
    {
      "cell_type": "markdown",
      "source": [
        "#### Kitaba geri dön! \n",
        "<img src=\"https://raw.githubusercontent.com/tensorchiefs/dl_book/master/imgs/Page_turn_icon_A.png\" width=\"120\" align=\"left\" />  \n",
        "Bölüm 9.1.3'ü incelemek için kitaba geri dönebilirsin."
      ],
      "metadata": {
        "id": "3MFyAjSAXBXC"
      }
    },
    {
      "cell_type": "markdown",
      "source": [
        "## **`mod()` fonksiyonu**"
      ],
      "metadata": {
        "id": "TLiyPREfXLHM"
      }
    },
    {
      "cell_type": "code",
      "source": [
        "mod<-function(x){\n",
        "  değerler<-sort(unique(x)) \n",
        "  k<-length(değerler)\n",
        "  frekans<-NULL\n",
        "  for(i in 1:k){\n",
        "    frekans[i]<-length(which(x==değerler[i]))\n",
        "  }\n",
        "  return(değerler[which.max(frekans)])\n",
        "}"
      ],
      "metadata": {
        "id": "uPSLmfNBXyQz"
      },
      "execution_count": 10,
      "outputs": []
    },
    {
      "cell_type": "code",
      "source": [
        "x<-c(60,70,90,50,67,75,50,50,75)\n",
        "mod(x)"
      ],
      "metadata": {
        "colab": {
          "base_uri": "https://localhost:8080/",
          "height": 34
        },
        "id": "4mvizRBX3JtX",
        "outputId": "4bd654bd-1712-4ec6-ef54-558678253afb"
      },
      "execution_count": 11,
      "outputs": [
        {
          "output_type": "display_data",
          "data": {
            "text/html": [
              "50"
            ],
            "text/markdown": "50",
            "text/latex": "50",
            "text/plain": [
              "[1] 50"
            ]
          },
          "metadata": {}
        }
      ]
    },
    {
      "cell_type": "markdown",
      "source": [
        "#### Kitaba geri dön! \n",
        "<img src=\"https://raw.githubusercontent.com/tensorchiefs/dl_book/master/imgs/Page_turn_icon_A.png\" width=\"120\" align=\"left\" />  \n",
        "Bölüm 9.1.4'ü incelemek için kitaba geri dönebilirsin."
      ],
      "metadata": {
        "id": "WBDJdsOb5AkB"
      }
    },
    {
      "cell_type": "markdown",
      "source": [
        "## **`GO()` fonksiyonu**"
      ],
      "metadata": {
        "id": "ZjfhEt3I5wXr"
      }
    },
    {
      "cell_type": "code",
      "source": [
        "GO<-function(x){\n",
        "  n<-length(x) \n",
        "  g<-1\n",
        "  for (i in 1:n){\n",
        "    g<-g*x[i]\n",
        "  }\n",
        "  return(g^(1/n))\n",
        "}"
      ],
      "metadata": {
        "id": "zMp2QvNY5CZo"
      },
      "execution_count": 13,
      "outputs": []
    },
    {
      "cell_type": "code",
      "source": [
        "x<-c(60,70,90,50,67,75,40,75)\n",
        "GO(x)"
      ],
      "metadata": {
        "colab": {
          "base_uri": "https://localhost:8080/",
          "height": 34
        },
        "id": "43zk67nr30Zl",
        "outputId": "22d3896c-a425-4cf3-c1f2-8358463699ed"
      },
      "execution_count": 14,
      "outputs": [
        {
          "output_type": "display_data",
          "data": {
            "text/html": [
              "64.0973228328283"
            ],
            "text/markdown": "64.0973228328283",
            "text/latex": "64.0973228328283",
            "text/plain": [
              "[1] 64.09732"
            ]
          },
          "metadata": {}
        }
      ]
    },
    {
      "cell_type": "markdown",
      "source": [
        "#### Kitaba geri dön! \n",
        "<img src=\"https://raw.githubusercontent.com/tensorchiefs/dl_book/master/imgs/Page_turn_icon_A.png\" width=\"120\" align=\"left\" />  \n",
        "Bölüm 9.1.5'i incelemek için kitaba geri dönebilirsin."
      ],
      "metadata": {
        "id": "RFiGbtPY5F3S"
      }
    },
    {
      "cell_type": "markdown",
      "source": [
        "## **`HO()` fonksiyonu**"
      ],
      "metadata": {
        "id": "UEcJsCej5_AM"
      }
    },
    {
      "cell_type": "code",
      "source": [
        "HO<-function(x){ \n",
        "  n<-length(x)\n",
        "  h<-0\n",
        "  for (i in 1:n){\n",
        "    h<-h+1/x[i]\n",
        "  }\n",
        "  return(n/h)\n",
        "}"
      ],
      "metadata": {
        "id": "UcR80fSR5F3T"
      },
      "execution_count": 15,
      "outputs": []
    },
    {
      "cell_type": "code",
      "source": [
        "x<-c(60,70,90,50,67,75,40,75)\n",
        "HO(x)"
      ],
      "metadata": {
        "colab": {
          "base_uri": "https://localhost:8080/",
          "height": 34
        },
        "id": "Jr57h3LT4VCK",
        "outputId": "5c5fb16c-effc-43e4-f3da-0060e7d149bc"
      },
      "execution_count": 16,
      "outputs": [
        {
          "output_type": "display_data",
          "data": {
            "text/html": [
              "62.1815469887949"
            ],
            "text/markdown": "62.1815469887949",
            "text/latex": "62.1815469887949",
            "text/plain": [
              "[1] 62.18155"
            ]
          },
          "metadata": {}
        }
      ]
    },
    {
      "cell_type": "markdown",
      "source": [
        "#### Kitaba geri dön! \n",
        "<img src=\"https://raw.githubusercontent.com/tensorchiefs/dl_book/master/imgs/Page_turn_icon_A.png\" width=\"120\" align=\"left\" />  \n",
        "Bölüm 9.1.6'yı incelemek için kitaba geri dönebilirsin."
      ],
      "metadata": {
        "id": "VtmplI5n6HA9"
      }
    },
    {
      "cell_type": "markdown",
      "source": [
        "## **9.2.Dağılış Ölçüleri**\n",
        "\n",
        "\n",
        "\n"
      ],
      "metadata": {
        "id": "I9O1EE836PoD"
      }
    },
    {
      "cell_type": "markdown",
      "source": [
        "## **`RANGE()` fonksiyonu**"
      ],
      "metadata": {
        "id": "MG_9EWrc5LB_"
      }
    },
    {
      "cell_type": "code",
      "source": [
        "RANGE<-function(x,mm=FALSE){\n",
        "  if(mm==FALSE){ \n",
        "    return(max(x)-min(x))\n",
        "  } else if(mm==TRUE){\n",
        "    return(list(MAX=max(x),MIN=min(x),\n",
        "                RANGE=max(x)-min(x)))\n",
        "  } else {\n",
        "    stop(\"mm argümanı sadece TRUE ya da FALSE değeri alır!\")\n",
        "  }\n",
        "}"
      ],
      "metadata": {
        "id": "0xjJVT_G6Sz6"
      },
      "execution_count": 17,
      "outputs": []
    },
    {
      "cell_type": "code",
      "source": [
        "x<-c(60,70,90,50,67,75,40,75)\n",
        "RANGE(x)"
      ],
      "metadata": {
        "colab": {
          "base_uri": "https://localhost:8080/",
          "height": 34
        },
        "id": "x1Krt-4P59Ms",
        "outputId": "3712d15c-a9aa-4244-99a1-f6f78fca385a"
      },
      "execution_count": 18,
      "outputs": [
        {
          "output_type": "display_data",
          "data": {
            "text/html": [
              "50"
            ],
            "text/markdown": "50",
            "text/latex": "50",
            "text/plain": [
              "[1] 50"
            ]
          },
          "metadata": {}
        }
      ]
    },
    {
      "cell_type": "code",
      "source": [
        "RANGE(x,mm=TRUE)"
      ],
      "metadata": {
        "colab": {
          "base_uri": "https://localhost:8080/",
          "height": 149
        },
        "id": "a8XqvXM46Bcy",
        "outputId": "8638ddaf-462e-4b37-f936-f569cfa3d5c8"
      },
      "execution_count": 19,
      "outputs": [
        {
          "output_type": "display_data",
          "data": {
            "text/html": [
              "<dl>\n",
              "\t<dt>$MAX</dt>\n",
              "\t\t<dd>90</dd>\n",
              "\t<dt>$MIN</dt>\n",
              "\t\t<dd>40</dd>\n",
              "\t<dt>$RANGE</dt>\n",
              "\t\t<dd>50</dd>\n",
              "</dl>\n"
            ],
            "text/markdown": "$MAX\n:   90\n$MIN\n:   40\n$RANGE\n:   50\n\n\n",
            "text/latex": "\\begin{description}\n\\item[\\$MAX] 90\n\\item[\\$MIN] 40\n\\item[\\$RANGE] 50\n\\end{description}\n",
            "text/plain": [
              "$MAX\n",
              "[1] 90\n",
              "\n",
              "$MIN\n",
              "[1] 40\n",
              "\n",
              "$RANGE\n",
              "[1] 50\n"
            ]
          },
          "metadata": {}
        }
      ]
    },
    {
      "cell_type": "markdown",
      "source": [
        "#### Kitaba geri dön! \n",
        "<img src=\"https://raw.githubusercontent.com/tensorchiefs/dl_book/master/imgs/Page_turn_icon_A.png\" width=\"120\" align=\"left\" />  \n",
        "Bölüm 9.2.2'yi incelemek için kitaba geri dönebilirsin."
      ],
      "metadata": {
        "id": "LQqqeV2T6LTs"
      }
    },
    {
      "cell_type": "markdown",
      "source": [
        "## **`oms()` fonksiyonu**"
      ],
      "metadata": {
        "id": "DEYAys-p6ad7"
      }
    },
    {
      "cell_type": "code",
      "source": [
        "oms<-function(x){\n",
        "  n<-length(x)\n",
        "  ort<-mean(x) # veya ortalama(x)\n",
        "  T=0\n",
        "  for(i in 1:n){ \n",
        "    T=T+abs(x[i]-ort)  # Toplam Hesaplama Satırı\n",
        "  }\n",
        "  return(T/n)\n",
        "}"
      ],
      "metadata": {
        "id": "bj1uhu4-6ad8"
      },
      "execution_count": 20,
      "outputs": []
    },
    {
      "cell_type": "code",
      "source": [
        "x<-c(60,70,90,50,67,75,38,70)\n",
        "oms(x)"
      ],
      "metadata": {
        "colab": {
          "base_uri": "https://localhost:8080/",
          "height": 34
        },
        "id": "YL34Zapl7I04",
        "outputId": "e5aef0c2-e3f8-4be9-e765-ae73d71cc89a"
      },
      "execution_count": 22,
      "outputs": [
        {
          "output_type": "display_data",
          "data": {
            "text/html": [
              "11.75"
            ],
            "text/markdown": "11.75",
            "text/latex": "11.75",
            "text/plain": [
              "[1] 11.75"
            ]
          },
          "metadata": {}
        }
      ]
    },
    {
      "cell_type": "markdown",
      "source": [
        "#### Kitaba geri dön! \n",
        "<img src=\"https://raw.githubusercontent.com/tensorchiefs/dl_book/master/imgs/Page_turn_icon_A.png\" width=\"120\" align=\"left\" />  \n",
        "Bölüm 9.2.3'ü incelemek için kitaba geri dönebilirsin."
      ],
      "metadata": {
        "id": "s-R8n3xg6ad9"
      }
    },
    {
      "cell_type": "markdown",
      "source": [
        "## **`var()` fonksiyonu**"
      ],
      "metadata": {
        "id": "a5oDI0u16m6b"
      }
    },
    {
      "cell_type": "code",
      "source": [
        "varyans<-function(x,popul=FALSE){\n",
        "  n<-length(x) \n",
        "  fark<-x-mean(x) # veya ortalama(x)\n",
        "  if(popul==FALSE){\n",
        "    return((sum(fark^2))/(n-1))  \n",
        "  }else if (popul==TRUE){\n",
        "    return((sum(fark^2))/(n)) \n",
        "  }else {\n",
        "    stop(\"popul argümanı sadece TRUE ya da FALSE değerini alabilir.\")\n",
        "  }\n",
        "}"
      ],
      "metadata": {
        "id": "7uZvzn8A6m6c"
      },
      "execution_count": 23,
      "outputs": []
    },
    {
      "cell_type": "code",
      "source": [
        "x<-c(60,70,90,50,67,75,38,70)\n",
        "varyans(x)"
      ],
      "metadata": {
        "colab": {
          "base_uri": "https://localhost:8080/",
          "height": 34
        },
        "id": "Ymwjgfm-7rod",
        "outputId": "ea10b837-b40b-4276-9e8f-20db95087077"
      },
      "execution_count": 24,
      "outputs": [
        {
          "output_type": "display_data",
          "data": {
            "text/html": [
              "251.142857142857"
            ],
            "text/markdown": "251.142857142857",
            "text/latex": "251.142857142857",
            "text/plain": [
              "[1] 251.1429"
            ]
          },
          "metadata": {}
        }
      ]
    },
    {
      "cell_type": "markdown",
      "source": [
        "#### Kitaba geri dön! \n",
        "<img src=\"https://raw.githubusercontent.com/tensorchiefs/dl_book/master/imgs/Page_turn_icon_A.png\" width=\"120\" align=\"left\" />  \n",
        "Bölüm 9.2.4'ü incelemek için kitaba geri dönebilirsin."
      ],
      "metadata": {
        "id": "RiydJKkc6m6d"
      }
    },
    {
      "cell_type": "markdown",
      "source": [
        "## **`ss()` fonksiyonu**\n"
      ],
      "metadata": {
        "id": "oRuAKicL63vs"
      }
    },
    {
      "cell_type": "code",
      "source": [
        "ss<-function(x,popul=FALSE){\n",
        "  n<-length(x)\n",
        "  ort<-mean(x) # veya ortalama(x)\n",
        "  T=0\n",
        "  for(i in 1:n){\n",
        "    T=T+(x[i]-ort)^2\n",
        "  }\n",
        "  if(popul==FALSE){\n",
        "    return(sqrt(T/(n-1)))\n",
        "  } else { \n",
        "    return(sqrt(T/n))}\n",
        "}"
      ],
      "metadata": {
        "id": "PlFdjB3-63vs"
      },
      "execution_count": 26,
      "outputs": []
    },
    {
      "cell_type": "code",
      "source": [
        "x<-c(60,70,90,50,67,75,38,70)\n",
        "ss(x)"
      ],
      "metadata": {
        "colab": {
          "base_uri": "https://localhost:8080/",
          "height": 34
        },
        "id": "_Z4N-PpU8QI2",
        "outputId": "c9809018-50c4-48b4-dc3a-598089ac2c9f"
      },
      "execution_count": 27,
      "outputs": [
        {
          "output_type": "display_data",
          "data": {
            "text/html": [
              "15.8474874078782"
            ],
            "text/markdown": "15.8474874078782",
            "text/latex": "15.8474874078782",
            "text/plain": [
              "[1] 15.84749"
            ]
          },
          "metadata": {}
        }
      ]
    },
    {
      "cell_type": "markdown",
      "source": [
        "#### Kitaba geri dön! \n",
        "<img src=\"https://raw.githubusercontent.com/tensorchiefs/dl_book/master/imgs/Page_turn_icon_A.png\" width=\"120\" align=\"left\" />  \n",
        "Bölüm 9.2.5'i incelemek için kitaba geri dönebilirsin."
      ],
      "metadata": {
        "id": "rxrPR3pF63vt"
      }
    },
    {
      "cell_type": "markdown",
      "source": [
        "## **`dk()` fonksiyonu**"
      ],
      "metadata": {
        "id": "HHUjmWDS7GKQ"
      }
    },
    {
      "cell_type": "code",
      "source": [
        "dk<-function(x,y){\n",
        "  nx<-length(x) ; ny<-length(y)\n",
        "  ortx<-mean(x) ; orty<-mean(y)\n",
        "  ssx<-sd(x) ; ssy<-sd(y)\n",
        "  dkx<-ssx/ortx ; dky<-ssy/orty\n",
        "  if(dkx<dky){\n",
        "    print(paste(\"DK1=\",round(dkx,3),\n",
        "                \" ve DK2=\",round(dky,3),\n",
        "                \" olup, ilk grup daha homojen-dir.\"))\n",
        "  } else {\n",
        "    print(paste(\"DK1=\",round(dkx,3),\n",
        "                \" ve DK2=\",round(dky,3),\n",
        "                \" olup, ikinci grup daha homojen-dir.\"))\n",
        "  }\n",
        "}"
      ],
      "metadata": {
        "id": "CQdfkLaG7Jc7"
      },
      "execution_count": 28,
      "outputs": []
    },
    {
      "cell_type": "code",
      "source": [
        "m1<-c(10,10,8,7,9,12,10,13,11,10) # Makine 1\n",
        "m2<-c(1,2,3,4,3,9,24,19,25) # Makine 2\n",
        "dk(x=m1,y=m2)"
      ],
      "metadata": {
        "colab": {
          "base_uri": "https://localhost:8080/"
        },
        "id": "_DyHS4Aw9n0r",
        "outputId": "18420967-a0d5-4324-a58a-ea50038efc56"
      },
      "execution_count": 29,
      "outputs": [
        {
          "output_type": "stream",
          "name": "stdout",
          "text": [
            "[1] \"DK1= 0.176  ve DK2= 0.989  olup, ilk grup daha homojen-dir.\"\n"
          ]
        }
      ]
    },
    {
      "cell_type": "markdown",
      "source": [
        "#### Kitaba geri dön! \n",
        "<img src=\"https://raw.githubusercontent.com/tensorchiefs/dl_book/master/imgs/Page_turn_icon_A.png\" width=\"120\" align=\"left\" />  \n",
        "Bölüm 9.2.6'yı incelemek için kitaba geri dönebilirsin."
      ],
      "metadata": {
        "id": "tket5YRo7JC-"
      }
    },
    {
      "cell_type": "markdown",
      "source": [
        "## **`çarpıklık()` fonksiyonu**"
      ],
      "metadata": {
        "id": "0kAKlEIu7dmI"
      }
    },
    {
      "cell_type": "code",
      "source": [
        "çarpıklık<-function(x){\n",
        "  fark<-x-mean(x) ; n<-length(x)\n",
        "  return((sum(fark^3)/n)/(sum(fark^2)/n)^1.5)\n",
        "}"
      ],
      "metadata": {
        "id": "2afRm5VH7eC4"
      },
      "execution_count": 30,
      "outputs": []
    },
    {
      "cell_type": "code",
      "source": [
        "x<-c(50, 60, 60, 70, 70, 70, 80, 80, 90)\n",
        "çarpıklık(x)"
      ],
      "metadata": {
        "colab": {
          "base_uri": "https://localhost:8080/",
          "height": 34
        },
        "id": "cqS-VLU0-mRB",
        "outputId": "9924f0f4-3280-4468-e273-170e99dcc8c0"
      },
      "execution_count": 31,
      "outputs": [
        {
          "output_type": "display_data",
          "data": {
            "text/html": [
              "0"
            ],
            "text/markdown": "0",
            "text/latex": "0",
            "text/plain": [
              "[1] 0"
            ]
          },
          "metadata": {}
        }
      ]
    },
    {
      "cell_type": "markdown",
      "source": [
        "#### Kitaba geri dön! \n",
        "<img src=\"https://raw.githubusercontent.com/tensorchiefs/dl_book/master/imgs/Page_turn_icon_A.png\" width=\"120\" align=\"left\" />  \n",
        "Bölüm 9.2.7'yi incelemek için kitaba geri dönebilirsin."
      ],
      "metadata": {
        "id": "aqjmxWB9_NUS"
      }
    },
    {
      "cell_type": "markdown",
      "source": [
        "## **`basıklık()` fonksiyonu**"
      ],
      "metadata": {
        "id": "1azPTg2O_c8l"
      }
    },
    {
      "cell_type": "code",
      "source": [
        "basıklık<-function(x){\n",
        "  fark<-x-mean(x) ; n<-length(x)\n",
        "  return(((sum(fark^4)/n)/(sum(fark^2)/n)^2)-3)\n",
        "}"
      ],
      "metadata": {
        "id": "G7IkkXXh_hk5"
      },
      "execution_count": 32,
      "outputs": []
    },
    {
      "cell_type": "code",
      "source": [
        "basıklık(x)"
      ],
      "metadata": {
        "colab": {
          "base_uri": "https://localhost:8080/",
          "height": 34
        },
        "id": "g9WNiYTU_l3N",
        "outputId": "e5cbd0ff-434f-49a9-d011-e7bda9b1b091"
      },
      "execution_count": 33,
      "outputs": [
        {
          "output_type": "display_data",
          "data": {
            "text/html": [
              "-0.75"
            ],
            "text/markdown": "-0.75",
            "text/latex": "-0.75",
            "text/plain": [
              "[1] -0.75"
            ]
          },
          "metadata": {}
        }
      ]
    },
    {
      "cell_type": "markdown",
      "source": [
        "#### Kitaba geri dön! \n",
        "<img src=\"https://raw.githubusercontent.com/tensorchiefs/dl_book/master/imgs/Page_turn_icon_A.png\" width=\"120\" align=\"left\" />  \n",
        "Bölüm 9.2.8'i incelemek için kitaba geri dönebilirsin."
      ],
      "metadata": {
        "id": "aGQU-Lrq_wnn"
      }
    },
    {
      "cell_type": "markdown",
      "source": [
        "## **`Mad()` fonksiyonu**"
      ],
      "metadata": {
        "id": "1trn1RUU_zpR"
      }
    },
    {
      "cell_type": "code",
      "source": [
        "Mad<-function(x,normal=TRUE){\n",
        "  if(normal==TRUE){ \n",
        "    return(median(abs(x-median(x)))/0.6745)\n",
        "  }else {\n",
        "    return(median(abs(x-median(x))))\n",
        "  }\n",
        "}"
      ],
      "metadata": {
        "id": "iSWaonXf_6nw"
      },
      "execution_count": 34,
      "outputs": []
    },
    {
      "cell_type": "code",
      "source": [
        "x.out<-c(1,3,5,7,90)\n",
        "Mad(x.out)"
      ],
      "metadata": {
        "colab": {
          "base_uri": "https://localhost:8080/",
          "height": 34
        },
        "id": "CGfUuZte_8Ew",
        "outputId": "5e6d48d3-2854-4f1c-c53a-01d0d86f52cb"
      },
      "execution_count": 35,
      "outputs": [
        {
          "output_type": "display_data",
          "data": {
            "text/html": [
              "2.96515937731653"
            ],
            "text/markdown": "2.96515937731653",
            "text/latex": "2.96515937731653",
            "text/plain": [
              "[1] 2.965159"
            ]
          },
          "metadata": {}
        }
      ]
    },
    {
      "cell_type": "markdown",
      "source": [
        "#### Kitaba geri dön! \n",
        "<img src=\"https://raw.githubusercontent.com/tensorchiefs/dl_book/master/imgs/Page_turn_icon_A.png\" width=\"120\" align=\"left\" />  \n",
        "Bölüm 9.3'ü incelemek için kitaba geri dönebilirsin."
      ],
      "metadata": {
        "id": "-leW5WStAfOw"
      }
    },
    {
      "cell_type": "markdown",
      "source": [
        "## **9.3. Frekans Tablosu**"
      ],
      "metadata": {
        "id": "_yusS72zAh56"
      }
    },
    {
      "cell_type": "code",
      "source": [
        "cinsiyet<-c(\"Kadın\", \"Erkek\", \"Kadın\", \"Kadın\", \"Kadın\",\"Erkek\", \"Erkek\", \"Erkek\", \"Kadın\", \"Erkek\", \"Erkek\")\n",
        "table(cinsiyet)"
      ],
      "metadata": {
        "colab": {
          "base_uri": "https://localhost:8080/",
          "height": 71
        },
        "id": "VVwTdAnWBkjQ",
        "outputId": "dd6d54d1-1255-43c1-8edc-015f35d1c04e"
      },
      "execution_count": 36,
      "outputs": [
        {
          "output_type": "display_data",
          "data": {
            "text/plain": [
              "cinsiyet\n",
              "Erkek Kadın \n",
              "    6     5 "
            ]
          },
          "metadata": {}
        }
      ]
    },
    {
      "cell_type": "code",
      "source": [
        "library(epiDisplay)\n",
        "tab1(cinsiyet)"
      ],
      "metadata": {
        "colab": {
          "base_uri": "https://localhost:8080/",
          "height": 661
        },
        "id": "yH5PRe5tBnAv",
        "outputId": "0bbf795f-a85c-4b90-ba4b-6c23d773e937"
      },
      "execution_count": 40,
      "outputs": [
        {
          "output_type": "display_data",
          "data": {
            "text/html": [
              "<dl>\n",
              "\t<dt>$first.line</dt>\n",
              "\t\t<dd>'cinsiyet : \\n'</dd>\n",
              "\t<dt>$output.table</dt>\n",
              "\t\t<dd><table class=\"dataframe\">\n",
              "<caption>A matrix: 3 × 3 of type dbl</caption>\n",
              "<thead>\n",
              "\t<tr><th></th><th scope=col>Frequency</th><th scope=col>Percent</th><th scope=col>Cum. percent</th></tr>\n",
              "</thead>\n",
              "<tbody>\n",
              "\t<tr><th scope=row>Erkek</th><td> 6</td><td> 54.5</td><td> 54.5</td></tr>\n",
              "\t<tr><th scope=row>Kadın</th><td> 5</td><td> 45.5</td><td>100.0</td></tr>\n",
              "\t<tr><th scope=row>  Total</th><td>11</td><td>100.0</td><td>100.0</td></tr>\n",
              "</tbody>\n",
              "</table>\n",
              "</dd>\n",
              "</dl>\n"
            ],
            "text/markdown": "$first.line\n:   'cinsiyet : \\n'\n$output.table\n:   \nA matrix: 3 × 3 of type dbl\n\n| <!--/--> | Frequency | Percent | Cum. percent |\n|---|---|---|---|\n| Erkek |  6 |  54.5 |  54.5 |\n| Kadın |  5 |  45.5 | 100.0 |\n|   Total | 11 | 100.0 | 100.0 |\n\n\n\n\n",
            "text/latex": "\\begin{description}\n\\item[\\$first.line] 'cinsiyet : \\textbackslash{}n'\n\\item[\\$output.table] A matrix: 3 × 3 of type dbl\n\\begin{tabular}{r|lll}\n  & Frequency & Percent & Cum. percent\\\\\n\\hline\n\tErkek &  6 &  54.5 &  54.5\\\\\n\tKadın &  5 &  45.5 & 100.0\\\\\n\t  Total & 11 & 100.0 & 100.0\\\\\n\\end{tabular}\n\n\\end{description}\n",
            "text/plain": [
              "cinsiyet : \n",
              "        Frequency Percent Cum. percent\n",
              "Erkek           6    54.5         54.5\n",
              "Kadın           5    45.5        100.0\n",
              "  Total        11   100.0        100.0"
            ]
          },
          "metadata": {}
        },
        {
          "output_type": "display_data",
          "data": {
            "text/plain": [
              "Plot with title “Distribution of cinsiyet”"
            ],
            "image/png": "[encoded data removed]"
          },
          "metadata": {
            "image/png": {
              "width": 420,
              "height": 420
            }
          }
        }
      ]
    },
    {
      "cell_type": "markdown",
      "source": [
        "#### Kitaba geri dön! \n",
        "<img src=\"https://raw.githubusercontent.com/tensorchiefs/dl_book/master/imgs/Page_turn_icon_A.png\" width=\"120\" align=\"left\" />  \n",
        "Bölüm 9.4'ü incelemek için kitaba geri dönebilirsin."
      ],
      "metadata": {
        "id": "wkc2STHBB7U9"
      }
    },
    {
      "cell_type": "markdown",
      "source": [
        "## **9.4. Çapraz Tablolar**"
      ],
      "metadata": {
        "id": "pb0LChIdB90p"
      }
    },
    {
      "cell_type": "code",
      "source": [
        " cinsiyet<-c(\"Kadın\",\"Kadın\",\"Erkek\",\"Kadın\",\"Erkek\",\n",
        "                           \"Erkek\",\"Erkek\",\"Kadın\",\"Erkek\",\"Erkek\",\n",
        "                           \"Kadın\",\"Erkek\",\"Kadın\",\"Erkek\",\"Erkek\",\n",
        "                           \"Kadın\",\"Kadın\",\"Kadın\",\"Erkek\")\n",
        " Eğitim<-c(\"İlkokul\",\"Ortaokul\",\"Lise\",\"Üniversite\",\n",
        "                        \"Lise\",\"İlkokul\",\"Ortaokul\",\"Lise\",\n",
        "                        \"Üniversite\",\"Ortaokul\",\"Lise\",\n",
        "                        \"Üniversite\",\"İlkokul\",\"İlkokul\",\"Lise\",\n",
        "                        \"Üniversite\",\"Lise\",\"Ortaokul\",\"Üniversite\")\n",
        " table(cinsiyet,Eğitim)"
      ],
      "metadata": {
        "colab": {
          "base_uri": "https://localhost:8080/",
          "height": 88
        },
        "id": "YfZvNSneCQn9",
        "outputId": "b4f335f8-e267-42e3-ec3b-3c0f5a67680b"
      },
      "execution_count": 41,
      "outputs": [
        {
          "output_type": "display_data",
          "data": {
            "text/plain": [
              "        Eğitim\n",
              "cinsiyet İlkokul Lise Ortaokul Üniversite\n",
              "   Erkek       2    3        2          3\n",
              "   Kadın       2    3        2          2"
            ]
          },
          "metadata": {}
        }
      ]
    },
    {
      "cell_type": "markdown",
      "source": [
        "#### Kitaba geri dön! \n",
        "<img src=\"https://raw.githubusercontent.com/tensorchiefs/dl_book/master/imgs/Page_turn_icon_A.png\" width=\"120\" align=\"left\" />  \n",
        "Bölüm 9 tamamlandı. Bir sonraki bölüm için kitaba geri dönebilirsin.\n"
      ],
      "metadata": {
        "id": "dIumbsJyX5sH"
      }
    }
  ]
}