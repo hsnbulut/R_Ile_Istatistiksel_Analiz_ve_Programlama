{
  "nbformat": 4,
  "nbformat_minor": 0,
  "metadata": {
    "colab": {
      "provenance": []
    },
    "kernelspec": {
      "name": "ir",
      "display_name": "R"
    },
    "language_info": {
      "name": "R"
    },
    "gpuClass": "standard"
  },
  "cells": [
    {
      "cell_type": "markdown",
      "source": [
        "# **21. R İLE OTOMATİK TABLOLAR VE RAPORLAMA**"
      ],
      "metadata": {
        "id": "MlFI9W6eSfb0"
      }
    },
    {
      "cell_type": "code",
      "source": [
        "install.packages(\"table1\")"
      ],
      "metadata": {
        "colab": {
          "base_uri": "https://localhost:8080/"
        },
        "id": "EQ4HLxAShQaT",
        "outputId": "0b9f5b3f-9cc4-4d45-fb83-eb401605b00e"
      },
      "execution_count": 2,
      "outputs": [
        {
          "output_type": "stream",
          "name": "stderr",
          "text": [
            "Installing package into ‘/usr/local/lib/R/site-library’\n",
            "(as ‘lib’ is unspecified)\n",
            "\n",
            "also installing the dependency ‘Formula’\n",
            "\n",
            "\n"
          ]
        }
      ]
    },
    {
      "cell_type": "markdown",
      "source": [
        "## **21.1. `table1` Paketi**"
      ],
      "metadata": {
        "id": "uJOxXov5KX65"
      }
    },
    {
      "cell_type": "code",
      "source": [
        "iris2<-dplyr::mutate(.data = iris,Uzunluk=ifelse(Sepal.Length>5.5,\"Uzun\",\"Kısa\"))\n",
        "iris2$Uzunluk<-as.factor(iris2$Uzunluk)\n",
        "str(iris2)"
      ],
      "metadata": {
        "colab": {
          "base_uri": "https://localhost:8080/"
        },
        "id": "7Ws133g0F8Qn",
        "outputId": "5a32023f-f462-40d7-f5c6-7255dc95327d"
      },
      "execution_count": 1,
      "outputs": [
        {
          "output_type": "stream",
          "name": "stdout",
          "text": [
            "'data.frame':\t150 obs. of  6 variables:\n",
            " $ Sepal.Length: num  5.1 4.9 4.7 4.6 5 5.4 4.6 5 4.4 4.9 ...\n",
            " $ Sepal.Width : num  3.5 3 3.2 3.1 3.6 3.9 3.4 3.4 2.9 3.1 ...\n",
            " $ Petal.Length: num  1.4 1.4 1.3 1.5 1.4 1.7 1.4 1.5 1.4 1.5 ...\n",
            " $ Petal.Width : num  0.2 0.2 0.2 0.2 0.2 0.4 0.3 0.2 0.2 0.1 ...\n",
            " $ Species     : Factor w/ 3 levels \"setosa\",\"versicolor\",..: 1 1 1 1 1 1 1 1 1 1 ...\n",
            " $ Uzunluk     : Factor w/ 2 levels \"Kısa\",\"Uzun\": 1 1 1 1 1 1 1 1 1 1 ...\n"
          ]
        }
      ]
    },
    {
      "cell_type": "code",
      "source": [
        "table1::table1(~.,data=iris2)"
      ],
      "metadata": {
        "colab": {
          "base_uri": "https://localhost:8080/",
          "height": 208
        },
        "id": "mfX9DGd-hbEl",
        "outputId": "0a67584e-1310-4e0a-fb2b-725003697a66"
      },
      "execution_count": 5,
      "outputs": [
        {
          "output_type": "display_data",
          "data": {
            "text/html": [
              "'&lt;table class=\"Rtable1\"&gt;\\n&lt;thead&gt;\\n&lt;tr&gt;\\n&lt;th class=\\'rowlabel firstrow lastrow\\'&gt;&lt;/th&gt;\\n&lt;th class=\\'firstrow lastrow\\'&gt;&lt;span class=\\'stratlabel\\'&gt;Overall&lt;br&gt;&lt;span class=\\'stratn\\'&gt;(N=150)&lt;/span&gt;&lt;/span&gt;&lt;/th&gt;\\n&lt;/tr&gt;\\n&lt;/thead&gt;\\n&lt;tbody&gt;\\n&lt;tr&gt;\\n&lt;td class=\\'rowlabel firstrow\\'&gt;Sepal.Length&lt;/td&gt;\\n&lt;td class=\\'firstrow\\'&gt;&lt;/td&gt;\\n&lt;/tr&gt;\\n&lt;tr&gt;\\n&lt;td class=\\'rowlabel\\'&gt;Mean (SD)&lt;/td&gt;\\n&lt;td&gt;5.84 (0.828)&lt;/td&gt;\\n&lt;/tr&gt;\\n&lt;tr&gt;\\n&lt;td class=\\'rowlabel lastrow\\'&gt;Median [Min, Max]&lt;/td&gt;\\n&lt;td class=\\'lastrow\\'&gt;5.80 [4.30, 7.90]&lt;/td&gt;\\n&lt;/tr&gt;\\n&lt;tr&gt;\\n&lt;td class=\\'rowlabel firstrow\\'&gt;Sepal.Width&lt;/td&gt;\\n&lt;td class=\\'firstrow\\'&gt;&lt;/td&gt;\\n&lt;/tr&gt;\\n&lt;tr&gt;\\n&lt;td class=\\'rowlabel\\'&gt;Mean (SD)&lt;/td&gt;\\n&lt;td&gt;3.06 (0.436)&lt;/td&gt;\\n&lt;/tr&gt;\\n&lt;tr&gt;\\n&lt;td class=\\'rowlabel lastrow\\'&gt;Median [Min, Max]&lt;/td&gt;\\n&lt;td class=\\'lastrow\\'&gt;3.00 [2.00, 4.40]&lt;/td&gt;\\n&lt;/tr&gt;\\n&lt;tr&gt;\\n&lt;td class=\\'rowlabel firstrow\\'&gt;Petal.Length&lt;/td&gt;\\n&lt;td class=\\'firstrow\\'&gt;&lt;/td&gt;\\n&lt;/tr&gt;\\n&lt;tr&gt;\\n&lt;td class=\\'rowlabel\\'&gt;Mean (SD)&lt;/td&gt;\\n&lt;td&gt;3.76 (1.77)&lt;/td&gt;\\n&lt;/tr&gt;\\n&lt;tr&gt;\\n&lt;td class=\\'rowlabel lastrow\\'&gt;Median [Min, Max]&lt;/td&gt;\\n&lt;td class=\\'lastrow\\'&gt;4.35 [1.00, 6.90]&lt;/td&gt;\\n&lt;/tr&gt;\\n&lt;tr&gt;\\n&lt;td class=\\'rowlabel firstrow\\'&gt;Petal.Width&lt;/td&gt;\\n&lt;td class=\\'firstrow\\'&gt;&lt;/td&gt;\\n&lt;/tr&gt;\\n&lt;tr&gt;\\n&lt;td class=\\'rowlabel\\'&gt;Mean (SD)&lt;/td&gt;\\n&lt;td&gt;1.20 (0.762)&lt;/td&gt;\\n&lt;/tr&gt;\\n&lt;tr&gt;\\n&lt;td class=\\'rowlabel lastrow\\'&gt;Median [Min, Max]&lt;/td&gt;\\n&lt;td class=\\'lastrow\\'&gt;1.30 [0.100, 2.50]&lt;/td&gt;\\n&lt;/tr&gt;\\n&lt;tr&gt;\\n&lt;td class=\\'rowlabel firstrow\\'&gt;Species&lt;/td&gt;\\n&lt;td class=\\'firstrow\\'&gt;&lt;/td&gt;\\n&lt;/tr&gt;\\n&lt;tr&gt;\\n&lt;td class=\\'rowlabel\\'&gt;setosa&lt;/td&gt;\\n&lt;td&gt;50 (33.3%)&lt;/td&gt;\\n&lt;/tr&gt;\\n&lt;tr&gt;\\n&lt;td class=\\'rowlabel\\'&gt;versicolor&lt;/td&gt;\\n&lt;td&gt;50 (33.3%)&lt;/td&gt;\\n&lt;/tr&gt;\\n&lt;tr&gt;\\n&lt;td class=\\'rowlabel lastrow\\'&gt;virginica&lt;/td&gt;\\n&lt;td class=\\'lastrow\\'&gt;50 (33.3%)&lt;/td&gt;\\n&lt;/tr&gt;\\n&lt;tr&gt;\\n&lt;td class=\\'rowlabel firstrow\\'&gt;Uzunluk&lt;/td&gt;\\n&lt;td class=\\'firstrow\\'&gt;&lt;/td&gt;\\n&lt;/tr&gt;\\n&lt;tr&gt;\\n&lt;td class=\\'rowlabel\\'&gt;Kısa&lt;/td&gt;\\n&lt;td&gt;59 (39.3%)&lt;/td&gt;\\n&lt;/tr&gt;\\n&lt;tr&gt;\\n&lt;td class=\\'rowlabel lastrow\\'&gt;Uzun&lt;/td&gt;\\n&lt;td class=\\'lastrow\\'&gt;91 (60.7%)&lt;/td&gt;\\n&lt;/tr&gt;\\n&lt;/tbody&gt;\\n&lt;/table&gt;\\n'"
            ],
            "text/markdown": "'&lt;table class=\"Rtable1\"&gt;\\n&lt;thead&gt;\\n&lt;tr&gt;\\n&lt;th class=\\'rowlabel firstrow lastrow\\'&gt;&lt;/th&gt;\\n&lt;th class=\\'firstrow lastrow\\'&gt;&lt;span class=\\'stratlabel\\'&gt;Overall&lt;br&gt;&lt;span class=\\'stratn\\'&gt;(N=150)&lt;/span&gt;&lt;/span&gt;&lt;/th&gt;\\n&lt;/tr&gt;\\n&lt;/thead&gt;\\n&lt;tbody&gt;\\n&lt;tr&gt;\\n&lt;td class=\\'rowlabel firstrow\\'&gt;Sepal.Length&lt;/td&gt;\\n&lt;td class=\\'firstrow\\'&gt;&lt;/td&gt;\\n&lt;/tr&gt;\\n&lt;tr&gt;\\n&lt;td class=\\'rowlabel\\'&gt;Mean (SD)&lt;/td&gt;\\n&lt;td&gt;5.84 (0.828)&lt;/td&gt;\\n&lt;/tr&gt;\\n&lt;tr&gt;\\n&lt;td class=\\'rowlabel lastrow\\'&gt;Median [Min, Max]&lt;/td&gt;\\n&lt;td class=\\'lastrow\\'&gt;5.80 [4.30, 7.90]&lt;/td&gt;\\n&lt;/tr&gt;\\n&lt;tr&gt;\\n&lt;td class=\\'rowlabel firstrow\\'&gt;Sepal.Width&lt;/td&gt;\\n&lt;td class=\\'firstrow\\'&gt;&lt;/td&gt;\\n&lt;/tr&gt;\\n&lt;tr&gt;\\n&lt;td class=\\'rowlabel\\'&gt;Mean (SD)&lt;/td&gt;\\n&lt;td&gt;3.06 (0.436)&lt;/td&gt;\\n&lt;/tr&gt;\\n&lt;tr&gt;\\n&lt;td class=\\'rowlabel lastrow\\'&gt;Median [Min, Max]&lt;/td&gt;\\n&lt;td class=\\'lastrow\\'&gt;3.00 [2.00, 4.40]&lt;/td&gt;\\n&lt;/tr&gt;\\n&lt;tr&gt;\\n&lt;td class=\\'rowlabel firstrow\\'&gt;Petal.Length&lt;/td&gt;\\n&lt;td class=\\'firstrow\\'&gt;&lt;/td&gt;\\n&lt;/tr&gt;\\n&lt;tr&gt;\\n&lt;td class=\\'rowlabel\\'&gt;Mean (SD)&lt;/td&gt;\\n&lt;td&gt;3.76 (1.77)&lt;/td&gt;\\n&lt;/tr&gt;\\n&lt;tr&gt;\\n&lt;td class=\\'rowlabel lastrow\\'&gt;Median [Min, Max]&lt;/td&gt;\\n&lt;td class=\\'lastrow\\'&gt;4.35 [1.00, 6.90]&lt;/td&gt;\\n&lt;/tr&gt;\\n&lt;tr&gt;\\n&lt;td class=\\'rowlabel firstrow\\'&gt;Petal.Width&lt;/td&gt;\\n&lt;td class=\\'firstrow\\'&gt;&lt;/td&gt;\\n&lt;/tr&gt;\\n&lt;tr&gt;\\n&lt;td class=\\'rowlabel\\'&gt;Mean (SD)&lt;/td&gt;\\n&lt;td&gt;1.20 (0.762)&lt;/td&gt;\\n&lt;/tr&gt;\\n&lt;tr&gt;\\n&lt;td class=\\'rowlabel lastrow\\'&gt;Median [Min, Max]&lt;/td&gt;\\n&lt;td class=\\'lastrow\\'&gt;1.30 [0.100, 2.50]&lt;/td&gt;\\n&lt;/tr&gt;\\n&lt;tr&gt;\\n&lt;td class=\\'rowlabel firstrow\\'&gt;Species&lt;/td&gt;\\n&lt;td class=\\'firstrow\\'&gt;&lt;/td&gt;\\n&lt;/tr&gt;\\n&lt;tr&gt;\\n&lt;td class=\\'rowlabel\\'&gt;setosa&lt;/td&gt;\\n&lt;td&gt;50 (33.3%)&lt;/td&gt;\\n&lt;/tr&gt;\\n&lt;tr&gt;\\n&lt;td class=\\'rowlabel\\'&gt;versicolor&lt;/td&gt;\\n&lt;td&gt;50 (33.3%)&lt;/td&gt;\\n&lt;/tr&gt;\\n&lt;tr&gt;\\n&lt;td class=\\'rowlabel lastrow\\'&gt;virginica&lt;/td&gt;\\n&lt;td class=\\'lastrow\\'&gt;50 (33.3%)&lt;/td&gt;\\n&lt;/tr&gt;\\n&lt;tr&gt;\\n&lt;td class=\\'rowlabel firstrow\\'&gt;Uzunluk&lt;/td&gt;\\n&lt;td class=\\'firstrow\\'&gt;&lt;/td&gt;\\n&lt;/tr&gt;\\n&lt;tr&gt;\\n&lt;td class=\\'rowlabel\\'&gt;Kısa&lt;/td&gt;\\n&lt;td&gt;59 (39.3%)&lt;/td&gt;\\n&lt;/tr&gt;\\n&lt;tr&gt;\\n&lt;td class=\\'rowlabel lastrow\\'&gt;Uzun&lt;/td&gt;\\n&lt;td class=\\'lastrow\\'&gt;91 (60.7%)&lt;/td&gt;\\n&lt;/tr&gt;\\n&lt;/tbody&gt;\\n&lt;/table&gt;\\n'",
            "text/latex": "'<table class=\"Rtable1\">\\textbackslash{}n<thead>\\textbackslash{}n<tr>\\textbackslash{}n<th class=\\textbackslash{}'rowlabel firstrow lastrow\\textbackslash{}'></th>\\textbackslash{}n<th class=\\textbackslash{}'firstrow lastrow\\textbackslash{}'><span class=\\textbackslash{}'stratlabel\\textbackslash{}'>Overall<br><span class=\\textbackslash{}'stratn\\textbackslash{}'>(N=150)</span></span></th>\\textbackslash{}n</tr>\\textbackslash{}n</thead>\\textbackslash{}n<tbody>\\textbackslash{}n<tr>\\textbackslash{}n<td class=\\textbackslash{}'rowlabel firstrow\\textbackslash{}'>Sepal.Length</td>\\textbackslash{}n<td class=\\textbackslash{}'firstrow\\textbackslash{}'></td>\\textbackslash{}n</tr>\\textbackslash{}n<tr>\\textbackslash{}n<td class=\\textbackslash{}'rowlabel\\textbackslash{}'>Mean (SD)</td>\\textbackslash{}n<td>5.84 (0.828)</td>\\textbackslash{}n</tr>\\textbackslash{}n<tr>\\textbackslash{}n<td class=\\textbackslash{}'rowlabel lastrow\\textbackslash{}'>Median {[}Min, Max{]}</td>\\textbackslash{}n<td class=\\textbackslash{}'lastrow\\textbackslash{}'>5.80 {[}4.30, 7.90{]}</td>\\textbackslash{}n</tr>\\textbackslash{}n<tr>\\textbackslash{}n<td class=\\textbackslash{}'rowlabel firstrow\\textbackslash{}'>Sepal.Width</td>\\textbackslash{}n<td class=\\textbackslash{}'firstrow\\textbackslash{}'></td>\\textbackslash{}n</tr>\\textbackslash{}n<tr>\\textbackslash{}n<td class=\\textbackslash{}'rowlabel\\textbackslash{}'>Mean (SD)</td>\\textbackslash{}n<td>3.06 (0.436)</td>\\textbackslash{}n</tr>\\textbackslash{}n<tr>\\textbackslash{}n<td class=\\textbackslash{}'rowlabel lastrow\\textbackslash{}'>Median {[}Min, Max{]}</td>\\textbackslash{}n<td class=\\textbackslash{}'lastrow\\textbackslash{}'>3.00 {[}2.00, 4.40{]}</td>\\textbackslash{}n</tr>\\textbackslash{}n<tr>\\textbackslash{}n<td class=\\textbackslash{}'rowlabel firstrow\\textbackslash{}'>Petal.Length</td>\\textbackslash{}n<td class=\\textbackslash{}'firstrow\\textbackslash{}'></td>\\textbackslash{}n</tr>\\textbackslash{}n<tr>\\textbackslash{}n<td class=\\textbackslash{}'rowlabel\\textbackslash{}'>Mean (SD)</td>\\textbackslash{}n<td>3.76 (1.77)</td>\\textbackslash{}n</tr>\\textbackslash{}n<tr>\\textbackslash{}n<td class=\\textbackslash{}'rowlabel lastrow\\textbackslash{}'>Median {[}Min, Max{]}</td>\\textbackslash{}n<td class=\\textbackslash{}'lastrow\\textbackslash{}'>4.35 {[}1.00, 6.90{]}</td>\\textbackslash{}n</tr>\\textbackslash{}n<tr>\\textbackslash{}n<td class=\\textbackslash{}'rowlabel firstrow\\textbackslash{}'>Petal.Width</td>\\textbackslash{}n<td class=\\textbackslash{}'firstrow\\textbackslash{}'></td>\\textbackslash{}n</tr>\\textbackslash{}n<tr>\\textbackslash{}n<td class=\\textbackslash{}'rowlabel\\textbackslash{}'>Mean (SD)</td>\\textbackslash{}n<td>1.20 (0.762)</td>\\textbackslash{}n</tr>\\textbackslash{}n<tr>\\textbackslash{}n<td class=\\textbackslash{}'rowlabel lastrow\\textbackslash{}'>Median {[}Min, Max{]}</td>\\textbackslash{}n<td class=\\textbackslash{}'lastrow\\textbackslash{}'>1.30 {[}0.100, 2.50{]}</td>\\textbackslash{}n</tr>\\textbackslash{}n<tr>\\textbackslash{}n<td class=\\textbackslash{}'rowlabel firstrow\\textbackslash{}'>Species</td>\\textbackslash{}n<td class=\\textbackslash{}'firstrow\\textbackslash{}'></td>\\textbackslash{}n</tr>\\textbackslash{}n<tr>\\textbackslash{}n<td class=\\textbackslash{}'rowlabel\\textbackslash{}'>setosa</td>\\textbackslash{}n<td>50 (33.3\\%)</td>\\textbackslash{}n</tr>\\textbackslash{}n<tr>\\textbackslash{}n<td class=\\textbackslash{}'rowlabel\\textbackslash{}'>versicolor</td>\\textbackslash{}n<td>50 (33.3\\%)</td>\\textbackslash{}n</tr>\\textbackslash{}n<tr>\\textbackslash{}n<td class=\\textbackslash{}'rowlabel lastrow\\textbackslash{}'>virginica</td>\\textbackslash{}n<td class=\\textbackslash{}'lastrow\\textbackslash{}'>50 (33.3\\%)</td>\\textbackslash{}n</tr>\\textbackslash{}n<tr>\\textbackslash{}n<td class=\\textbackslash{}'rowlabel firstrow\\textbackslash{}'>Uzunluk</td>\\textbackslash{}n<td class=\\textbackslash{}'firstrow\\textbackslash{}'></td>\\textbackslash{}n</tr>\\textbackslash{}n<tr>\\textbackslash{}n<td class=\\textbackslash{}'rowlabel\\textbackslash{}'>Kısa</td>\\textbackslash{}n<td>59 (39.3\\%)</td>\\textbackslash{}n</tr>\\textbackslash{}n<tr>\\textbackslash{}n<td class=\\textbackslash{}'rowlabel lastrow\\textbackslash{}'>Uzun</td>\\textbackslash{}n<td class=\\textbackslash{}'lastrow\\textbackslash{}'>91 (60.7\\%)</td>\\textbackslash{}n</tr>\\textbackslash{}n</tbody>\\textbackslash{}n</table>\\textbackslash{}n'",
            "text/plain": [
              "<table class=\"Rtable1\">\n",
              "<thead>\n",
              "<tr>\n",
              "<th class='rowlabel firstrow lastrow'></th>\n",
              "<th class='firstrow lastrow'><span class='stratlabel'>Overall<br><span class='stratn'>(N=150)</span></span></th>\n",
              "</tr>\n",
              "</thead>\n",
              "<tbody>\n",
              "<tr>\n",
              "<td class='rowlabel firstrow'>Sepal.Length</td>\n",
              "<td class='firstrow'></td>\n",
              "</tr>\n",
              "<tr>\n",
              "<td class='rowlabel'>Mean (SD)</td>\n",
              "<td>5.84 (0.828)</td>\n",
              "</tr>\n",
              "<tr>\n",
              "<td class='rowlabel lastrow'>Median [Min, Max]</td>\n",
              "<td class='lastrow'>5.80 [4.30, 7.90]</td>\n",
              "</tr>\n",
              "<tr>\n",
              "<td class='rowlabel firstrow'>Sepal.Width</td>\n",
              "<td class='firstrow'></td>\n",
              "</tr>\n",
              "<tr>\n",
              "<td class='rowlabel'>Mean (SD)</td>\n",
              "<td>3.06 (0.436)</td>\n",
              "</tr>\n",
              "<tr>\n",
              "<td class='rowlabel lastrow'>Median [Min, Max]</td>\n",
              "<td class='lastrow'>3.00 [2.00, 4.40]</td>\n",
              "</tr>\n",
              "<tr>\n",
              "<td class='rowlabel firstrow'>Petal.Length</td>\n",
              "<td class='firstrow'></td>\n",
              "</tr>\n",
              "<tr>\n",
              "<td class='rowlabel'>Mean (SD)</td>\n",
              "<td>3.76 (1.77)</td>\n",
              "</tr>\n",
              "<tr>\n",
              "<td class='rowlabel lastrow'>Median [Min, Max]</td>\n",
              "<td class='lastrow'>4.35 [1.00, 6.90]</td>\n",
              "</tr>\n",
              "<tr>\n",
              "<td class='rowlabel firstrow'>Petal.Width</td>\n",
              "<td class='firstrow'></td>\n",
              "</tr>\n",
              "<tr>\n",
              "<td class='rowlabel'>Mean (SD)</td>\n",
              "<td>1.20 (0.762)</td>\n",
              "</tr>\n",
              "<tr>\n",
              "<td class='rowlabel lastrow'>Median [Min, Max]</td>\n",
              "<td class='lastrow'>1.30 [0.100, 2.50]</td>\n",
              "</tr>\n",
              "<tr>\n",
              "<td class='rowlabel firstrow'>Species</td>\n",
              "<td class='firstrow'></td>\n",
              "</tr>\n",
              "<tr>\n",
              "<td class='rowlabel'>setosa</td>\n",
              "<td>50 (33.3%)</td>\n",
              "</tr>\n",
              "<tr>\n",
              "<td class='rowlabel'>versicolor</td>\n",
              "<td>50 (33.3%)</td>\n",
              "</tr>\n",
              "<tr>\n",
              "<td class='rowlabel lastrow'>virginica</td>\n",
              "<td class='lastrow'>50 (33.3%)</td>\n",
              "</tr>\n",
              "<tr>\n",
              "<td class='rowlabel firstrow'>Uzunluk</td>\n",
              "<td class='firstrow'></td>\n",
              "</tr>\n",
              "<tr>\n",
              "<td class='rowlabel'>Kısa</td>\n",
              "<td>59 (39.3%)</td>\n",
              "</tr>\n",
              "<tr>\n",
              "<td class='rowlabel lastrow'>Uzun</td>\n",
              "<td class='lastrow'>91 (60.7%)</td>\n",
              "</tr>\n",
              "</tbody>\n",
              "</table>"
            ]
          },
          "metadata": {}
        }
      ]
    },
    {
      "cell_type": "code",
      "source": [
        "table1::table1(~.| Species,data=iris2)"
      ],
      "metadata": {
        "colab": {
          "base_uri": "https://localhost:8080/",
          "height": 364
        },
        "id": "prp0KAShhxbZ",
        "outputId": "697e4dd3-7fc2-4681-c3eb-d2ce76be965e"
      },
      "execution_count": 6,
      "outputs": [
        {
          "output_type": "display_data",
          "data": {
            "text/html": [
              "'&lt;table class=\"Rtable1\"&gt;\\n&lt;thead&gt;\\n&lt;tr&gt;\\n&lt;th class=\\'rowlabel firstrow lastrow\\'&gt;&lt;/th&gt;\\n&lt;th class=\\'firstrow lastrow\\'&gt;&lt;span class=\\'stratlabel\\'&gt;setosa&lt;br&gt;&lt;span class=\\'stratn\\'&gt;(N=50)&lt;/span&gt;&lt;/span&gt;&lt;/th&gt;\\n&lt;th class=\\'firstrow lastrow\\'&gt;&lt;span class=\\'stratlabel\\'&gt;versicolor&lt;br&gt;&lt;span class=\\'stratn\\'&gt;(N=50)&lt;/span&gt;&lt;/span&gt;&lt;/th&gt;\\n&lt;th class=\\'firstrow lastrow\\'&gt;&lt;span class=\\'stratlabel\\'&gt;virginica&lt;br&gt;&lt;span class=\\'stratn\\'&gt;(N=50)&lt;/span&gt;&lt;/span&gt;&lt;/th&gt;\\n&lt;th class=\\'firstrow lastrow\\'&gt;&lt;span class=\\'stratlabel\\'&gt;Overall&lt;br&gt;&lt;span class=\\'stratn\\'&gt;(N=150)&lt;/span&gt;&lt;/span&gt;&lt;/th&gt;\\n&lt;/tr&gt;\\n&lt;/thead&gt;\\n&lt;tbody&gt;\\n&lt;tr&gt;\\n&lt;td class=\\'rowlabel firstrow\\'&gt;Sepal.Length&lt;/td&gt;\\n&lt;td class=\\'firstrow\\'&gt;&lt;/td&gt;\\n&lt;td class=\\'firstrow\\'&gt;&lt;/td&gt;\\n&lt;td class=\\'firstrow\\'&gt;&lt;/td&gt;\\n&lt;td class=\\'firstrow\\'&gt;&lt;/td&gt;\\n&lt;/tr&gt;\\n&lt;tr&gt;\\n&lt;td class=\\'rowlabel\\'&gt;Mean (SD)&lt;/td&gt;\\n&lt;td&gt;5.01 (0.352)&lt;/td&gt;\\n&lt;td&gt;5.94 (0.516)&lt;/td&gt;\\n&lt;td&gt;6.59 (0.636)&lt;/td&gt;\\n&lt;td&gt;5.84 (0.828)&lt;/td&gt;\\n&lt;/tr&gt;\\n&lt;tr&gt;\\n&lt;td class=\\'rowlabel lastrow\\'&gt;Median [Min, Max]&lt;/td&gt;\\n&lt;td class=\\'lastrow\\'&gt;5.00 [4.30, 5.80]&lt;/td&gt;\\n&lt;td class=\\'lastrow\\'&gt;5.90 [4.90, 7.00]&lt;/td&gt;\\n&lt;td class=\\'lastrow\\'&gt;6.50 [4.90, 7.90]&lt;/td&gt;\\n&lt;td class=\\'lastrow\\'&gt;5.80 [4.30, 7.90]&lt;/td&gt;\\n&lt;/tr&gt;\\n&lt;tr&gt;\\n&lt;td class=\\'rowlabel firstrow\\'&gt;Sepal.Width&lt;/td&gt;\\n&lt;td class=\\'firstrow\\'&gt;&lt;/td&gt;\\n&lt;td class=\\'firstrow\\'&gt;&lt;/td&gt;\\n&lt;td class=\\'firstrow\\'&gt;&lt;/td&gt;\\n&lt;td class=\\'firstrow\\'&gt;&lt;/td&gt;\\n&lt;/tr&gt;\\n&lt;tr&gt;\\n&lt;td class=\\'rowlabel\\'&gt;Mean (SD)&lt;/td&gt;\\n&lt;td&gt;3.43 (0.379)&lt;/td&gt;\\n&lt;td&gt;2.77 (0.314)&lt;/td&gt;\\n&lt;td&gt;2.97 (0.322)&lt;/td&gt;\\n&lt;td&gt;3.06 (0.436)&lt;/td&gt;\\n&lt;/tr&gt;\\n&lt;tr&gt;\\n&lt;td class=\\'rowlabel lastrow\\'&gt;Median [Min, Max]&lt;/td&gt;\\n&lt;td class=\\'lastrow\\'&gt;3.40 [2.30, 4.40]&lt;/td&gt;\\n&lt;td class=\\'lastrow\\'&gt;2.80 [2.00, 3.40]&lt;/td&gt;\\n&lt;td class=\\'lastrow\\'&gt;3.00 [2.20, 3.80]&lt;/td&gt;\\n&lt;td class=\\'lastrow\\'&gt;3.00 [2.00, 4.40]&lt;/td&gt;\\n&lt;/tr&gt;\\n&lt;tr&gt;\\n&lt;td class=\\'rowlabel firstrow\\'&gt;Petal.Length&lt;/td&gt;\\n&lt;td class=\\'firstrow\\'&gt;&lt;/td&gt;\\n&lt;td class=\\'firstrow\\'&gt;&lt;/td&gt;\\n&lt;td class=\\'firstrow\\'&gt;&lt;/td&gt;\\n&lt;td class=\\'firstrow\\'&gt;&lt;/td&gt;\\n&lt;/tr&gt;\\n&lt;tr&gt;\\n&lt;td class=\\'rowlabel\\'&gt;Mean (SD)&lt;/td&gt;\\n&lt;td&gt;1.46 (0.174)&lt;/td&gt;\\n&lt;td&gt;4.26 (0.470)&lt;/td&gt;\\n&lt;td&gt;5.55 (0.552)&lt;/td&gt;\\n&lt;td&gt;3.76 (1.77)&lt;/td&gt;\\n&lt;/tr&gt;\\n&lt;tr&gt;\\n&lt;td class=\\'rowlabel lastrow\\'&gt;Median [Min, Max]&lt;/td&gt;\\n&lt;td class=\\'lastrow\\'&gt;1.50 [1.00, 1.90]&lt;/td&gt;\\n&lt;td class=\\'lastrow\\'&gt;4.35 [3.00, 5.10]&lt;/td&gt;\\n&lt;td class=\\'lastrow\\'&gt;5.55 [4.50, 6.90]&lt;/td&gt;\\n&lt;td class=\\'lastrow\\'&gt;4.35 [1.00, 6.90]&lt;/td&gt;\\n&lt;/tr&gt;\\n&lt;tr&gt;\\n&lt;td class=\\'rowlabel firstrow\\'&gt;Petal.Width&lt;/td&gt;\\n&lt;td class=\\'firstrow\\'&gt;&lt;/td&gt;\\n&lt;td class=\\'firstrow\\'&gt;&lt;/td&gt;\\n&lt;td class=\\'firstrow\\'&gt;&lt;/td&gt;\\n&lt;td class=\\'firstrow\\'&gt;&lt;/td&gt;\\n&lt;/tr&gt;\\n&lt;tr&gt;\\n&lt;td class=\\'rowlabel\\'&gt;Mean (SD)&lt;/td&gt;\\n&lt;td&gt;0.246 (0.105)&lt;/td&gt;\\n&lt;td&gt;1.33 (0.198)&lt;/td&gt;\\n&lt;td&gt;2.03 (0.275)&lt;/td&gt;\\n&lt;td&gt;1.20 (0.762)&lt;/td&gt;\\n&lt;/tr&gt;\\n&lt;tr&gt;\\n&lt;td class=\\'rowlabel lastrow\\'&gt;Median [Min, Max]&lt;/td&gt;\\n&lt;td class=\\'lastrow\\'&gt;0.200 [0.100, 0.600]&lt;/td&gt;\\n&lt;td class=\\'lastrow\\'&gt;1.30 [1.00, 1.80]&lt;/td&gt;\\n&lt;td class=\\'lastrow\\'&gt;2.00 [1.40, 2.50]&lt;/td&gt;\\n&lt;td class=\\'lastrow\\'&gt;1.30 [0.100, 2.50]&lt;/td&gt;\\n&lt;/tr&gt;\\n&lt;tr&gt;\\n&lt;td class=\\'rowlabel firstrow\\'&gt;Uzunluk&lt;/td&gt;\\n&lt;td class=\\'firstrow\\'&gt;&lt;/td&gt;\\n&lt;td class=\\'firstrow\\'&gt;&lt;/td&gt;\\n&lt;td class=\\'firstrow\\'&gt;&lt;/td&gt;\\n&lt;td class=\\'firstrow\\'&gt;&lt;/td&gt;\\n&lt;/tr&gt;\\n&lt;tr&gt;\\n&lt;td class=\\'rowlabel\\'&gt;Kısa&lt;/td&gt;\\n&lt;td&gt;47 (94.0%)&lt;/td&gt;\\n&lt;td&gt;11 (22.0%)&lt;/td&gt;\\n&lt;td&gt;1 (2.0%)&lt;/td&gt;\\n&lt;td&gt;59 (39.3%)&lt;/td&gt;\\n&lt;/tr&gt;\\n&lt;tr&gt;\\n&lt;td class=\\'rowlabel lastrow\\'&gt;Uzun&lt;/td&gt;\\n&lt;td class=\\'lastrow\\'&gt;3 (6.0%)&lt;/td&gt;\\n&lt;td class=\\'lastrow\\'&gt;39 (78.0%)&lt;/td&gt;\\n&lt;td class=\\'lastrow\\'&gt;49 (98.0%)&lt;/td&gt;\\n&lt;td class=\\'lastrow\\'&gt;91 (60.7%)&lt;/td&gt;\\n&lt;/tr&gt;\\n&lt;/tbody&gt;\\n&lt;/table&gt;\\n'"
            ],
            "text/markdown": "'&lt;table class=\"Rtable1\"&gt;\\n&lt;thead&gt;\\n&lt;tr&gt;\\n&lt;th class=\\'rowlabel firstrow lastrow\\'&gt;&lt;/th&gt;\\n&lt;th class=\\'firstrow lastrow\\'&gt;&lt;span class=\\'stratlabel\\'&gt;setosa&lt;br&gt;&lt;span class=\\'stratn\\'&gt;(N=50)&lt;/span&gt;&lt;/span&gt;&lt;/th&gt;\\n&lt;th class=\\'firstrow lastrow\\'&gt;&lt;span class=\\'stratlabel\\'&gt;versicolor&lt;br&gt;&lt;span class=\\'stratn\\'&gt;(N=50)&lt;/span&gt;&lt;/span&gt;&lt;/th&gt;\\n&lt;th class=\\'firstrow lastrow\\'&gt;&lt;span class=\\'stratlabel\\'&gt;virginica&lt;br&gt;&lt;span class=\\'stratn\\'&gt;(N=50)&lt;/span&gt;&lt;/span&gt;&lt;/th&gt;\\n&lt;th class=\\'firstrow lastrow\\'&gt;&lt;span class=\\'stratlabel\\'&gt;Overall&lt;br&gt;&lt;span class=\\'stratn\\'&gt;(N=150)&lt;/span&gt;&lt;/span&gt;&lt;/th&gt;\\n&lt;/tr&gt;\\n&lt;/thead&gt;\\n&lt;tbody&gt;\\n&lt;tr&gt;\\n&lt;td class=\\'rowlabel firstrow\\'&gt;Sepal.Length&lt;/td&gt;\\n&lt;td class=\\'firstrow\\'&gt;&lt;/td&gt;\\n&lt;td class=\\'firstrow\\'&gt;&lt;/td&gt;\\n&lt;td class=\\'firstrow\\'&gt;&lt;/td&gt;\\n&lt;td class=\\'firstrow\\'&gt;&lt;/td&gt;\\n&lt;/tr&gt;\\n&lt;tr&gt;\\n&lt;td class=\\'rowlabel\\'&gt;Mean (SD)&lt;/td&gt;\\n&lt;td&gt;5.01 (0.352)&lt;/td&gt;\\n&lt;td&gt;5.94 (0.516)&lt;/td&gt;\\n&lt;td&gt;6.59 (0.636)&lt;/td&gt;\\n&lt;td&gt;5.84 (0.828)&lt;/td&gt;\\n&lt;/tr&gt;\\n&lt;tr&gt;\\n&lt;td class=\\'rowlabel lastrow\\'&gt;Median [Min, Max]&lt;/td&gt;\\n&lt;td class=\\'lastrow\\'&gt;5.00 [4.30, 5.80]&lt;/td&gt;\\n&lt;td class=\\'lastrow\\'&gt;5.90 [4.90, 7.00]&lt;/td&gt;\\n&lt;td class=\\'lastrow\\'&gt;6.50 [4.90, 7.90]&lt;/td&gt;\\n&lt;td class=\\'lastrow\\'&gt;5.80 [4.30, 7.90]&lt;/td&gt;\\n&lt;/tr&gt;\\n&lt;tr&gt;\\n&lt;td class=\\'rowlabel firstrow\\'&gt;Sepal.Width&lt;/td&gt;\\n&lt;td class=\\'firstrow\\'&gt;&lt;/td&gt;\\n&lt;td class=\\'firstrow\\'&gt;&lt;/td&gt;\\n&lt;td class=\\'firstrow\\'&gt;&lt;/td&gt;\\n&lt;td class=\\'firstrow\\'&gt;&lt;/td&gt;\\n&lt;/tr&gt;\\n&lt;tr&gt;\\n&lt;td class=\\'rowlabel\\'&gt;Mean (SD)&lt;/td&gt;\\n&lt;td&gt;3.43 (0.379)&lt;/td&gt;\\n&lt;td&gt;2.77 (0.314)&lt;/td&gt;\\n&lt;td&gt;2.97 (0.322)&lt;/td&gt;\\n&lt;td&gt;3.06 (0.436)&lt;/td&gt;\\n&lt;/tr&gt;\\n&lt;tr&gt;\\n&lt;td class=\\'rowlabel lastrow\\'&gt;Median [Min, Max]&lt;/td&gt;\\n&lt;td class=\\'lastrow\\'&gt;3.40 [2.30, 4.40]&lt;/td&gt;\\n&lt;td class=\\'lastrow\\'&gt;2.80 [2.00, 3.40]&lt;/td&gt;\\n&lt;td class=\\'lastrow\\'&gt;3.00 [2.20, 3.80]&lt;/td&gt;\\n&lt;td class=\\'lastrow\\'&gt;3.00 [2.00, 4.40]&lt;/td&gt;\\n&lt;/tr&gt;\\n&lt;tr&gt;\\n&lt;td class=\\'rowlabel firstrow\\'&gt;Petal.Length&lt;/td&gt;\\n&lt;td class=\\'firstrow\\'&gt;&lt;/td&gt;\\n&lt;td class=\\'firstrow\\'&gt;&lt;/td&gt;\\n&lt;td class=\\'firstrow\\'&gt;&lt;/td&gt;\\n&lt;td class=\\'firstrow\\'&gt;&lt;/td&gt;\\n&lt;/tr&gt;\\n&lt;tr&gt;\\n&lt;td class=\\'rowlabel\\'&gt;Mean (SD)&lt;/td&gt;\\n&lt;td&gt;1.46 (0.174)&lt;/td&gt;\\n&lt;td&gt;4.26 (0.470)&lt;/td&gt;\\n&lt;td&gt;5.55 (0.552)&lt;/td&gt;\\n&lt;td&gt;3.76 (1.77)&lt;/td&gt;\\n&lt;/tr&gt;\\n&lt;tr&gt;\\n&lt;td class=\\'rowlabel lastrow\\'&gt;Median [Min, Max]&lt;/td&gt;\\n&lt;td class=\\'lastrow\\'&gt;1.50 [1.00, 1.90]&lt;/td&gt;\\n&lt;td class=\\'lastrow\\'&gt;4.35 [3.00, 5.10]&lt;/td&gt;\\n&lt;td class=\\'lastrow\\'&gt;5.55 [4.50, 6.90]&lt;/td&gt;\\n&lt;td class=\\'lastrow\\'&gt;4.35 [1.00, 6.90]&lt;/td&gt;\\n&lt;/tr&gt;\\n&lt;tr&gt;\\n&lt;td class=\\'rowlabel firstrow\\'&gt;Petal.Width&lt;/td&gt;\\n&lt;td class=\\'firstrow\\'&gt;&lt;/td&gt;\\n&lt;td class=\\'firstrow\\'&gt;&lt;/td&gt;\\n&lt;td class=\\'firstrow\\'&gt;&lt;/td&gt;\\n&lt;td class=\\'firstrow\\'&gt;&lt;/td&gt;\\n&lt;/tr&gt;\\n&lt;tr&gt;\\n&lt;td class=\\'rowlabel\\'&gt;Mean (SD)&lt;/td&gt;\\n&lt;td&gt;0.246 (0.105)&lt;/td&gt;\\n&lt;td&gt;1.33 (0.198)&lt;/td&gt;\\n&lt;td&gt;2.03 (0.275)&lt;/td&gt;\\n&lt;td&gt;1.20 (0.762)&lt;/td&gt;\\n&lt;/tr&gt;\\n&lt;tr&gt;\\n&lt;td class=\\'rowlabel lastrow\\'&gt;Median [Min, Max]&lt;/td&gt;\\n&lt;td class=\\'lastrow\\'&gt;0.200 [0.100, 0.600]&lt;/td&gt;\\n&lt;td class=\\'lastrow\\'&gt;1.30 [1.00, 1.80]&lt;/td&gt;\\n&lt;td class=\\'lastrow\\'&gt;2.00 [1.40, 2.50]&lt;/td&gt;\\n&lt;td class=\\'lastrow\\'&gt;1.30 [0.100, 2.50]&lt;/td&gt;\\n&lt;/tr&gt;\\n&lt;tr&gt;\\n&lt;td class=\\'rowlabel firstrow\\'&gt;Uzunluk&lt;/td&gt;\\n&lt;td class=\\'firstrow\\'&gt;&lt;/td&gt;\\n&lt;td class=\\'firstrow\\'&gt;&lt;/td&gt;\\n&lt;td class=\\'firstrow\\'&gt;&lt;/td&gt;\\n&lt;td class=\\'firstrow\\'&gt;&lt;/td&gt;\\n&lt;/tr&gt;\\n&lt;tr&gt;\\n&lt;td class=\\'rowlabel\\'&gt;Kısa&lt;/td&gt;\\n&lt;td&gt;47 (94.0%)&lt;/td&gt;\\n&lt;td&gt;11 (22.0%)&lt;/td&gt;\\n&lt;td&gt;1 (2.0%)&lt;/td&gt;\\n&lt;td&gt;59 (39.3%)&lt;/td&gt;\\n&lt;/tr&gt;\\n&lt;tr&gt;\\n&lt;td class=\\'rowlabel lastrow\\'&gt;Uzun&lt;/td&gt;\\n&lt;td class=\\'lastrow\\'&gt;3 (6.0%)&lt;/td&gt;\\n&lt;td class=\\'lastrow\\'&gt;39 (78.0%)&lt;/td&gt;\\n&lt;td class=\\'lastrow\\'&gt;49 (98.0%)&lt;/td&gt;\\n&lt;td class=\\'lastrow\\'&gt;91 (60.7%)&lt;/td&gt;\\n&lt;/tr&gt;\\n&lt;/tbody&gt;\\n&lt;/table&gt;\\n'",
            "text/latex": "'<table class=\"Rtable1\">\\textbackslash{}n<thead>\\textbackslash{}n<tr>\\textbackslash{}n<th class=\\textbackslash{}'rowlabel firstrow lastrow\\textbackslash{}'></th>\\textbackslash{}n<th class=\\textbackslash{}'firstrow lastrow\\textbackslash{}'><span class=\\textbackslash{}'stratlabel\\textbackslash{}'>setosa<br><span class=\\textbackslash{}'stratn\\textbackslash{}'>(N=50)</span></span></th>\\textbackslash{}n<th class=\\textbackslash{}'firstrow lastrow\\textbackslash{}'><span class=\\textbackslash{}'stratlabel\\textbackslash{}'>versicolor<br><span class=\\textbackslash{}'stratn\\textbackslash{}'>(N=50)</span></span></th>\\textbackslash{}n<th class=\\textbackslash{}'firstrow lastrow\\textbackslash{}'><span class=\\textbackslash{}'stratlabel\\textbackslash{}'>virginica<br><span class=\\textbackslash{}'stratn\\textbackslash{}'>(N=50)</span></span></th>\\textbackslash{}n<th class=\\textbackslash{}'firstrow lastrow\\textbackslash{}'><span class=\\textbackslash{}'stratlabel\\textbackslash{}'>Overall<br><span class=\\textbackslash{}'stratn\\textbackslash{}'>(N=150)</span></span></th>\\textbackslash{}n</tr>\\textbackslash{}n</thead>\\textbackslash{}n<tbody>\\textbackslash{}n<tr>\\textbackslash{}n<td class=\\textbackslash{}'rowlabel firstrow\\textbackslash{}'>Sepal.Length</td>\\textbackslash{}n<td class=\\textbackslash{}'firstrow\\textbackslash{}'></td>\\textbackslash{}n<td class=\\textbackslash{}'firstrow\\textbackslash{}'></td>\\textbackslash{}n<td class=\\textbackslash{}'firstrow\\textbackslash{}'></td>\\textbackslash{}n<td class=\\textbackslash{}'firstrow\\textbackslash{}'></td>\\textbackslash{}n</tr>\\textbackslash{}n<tr>\\textbackslash{}n<td class=\\textbackslash{}'rowlabel\\textbackslash{}'>Mean (SD)</td>\\textbackslash{}n<td>5.01 (0.352)</td>\\textbackslash{}n<td>5.94 (0.516)</td>\\textbackslash{}n<td>6.59 (0.636)</td>\\textbackslash{}n<td>5.84 (0.828)</td>\\textbackslash{}n</tr>\\textbackslash{}n<tr>\\textbackslash{}n<td class=\\textbackslash{}'rowlabel lastrow\\textbackslash{}'>Median {[}Min, Max{]}</td>\\textbackslash{}n<td class=\\textbackslash{}'lastrow\\textbackslash{}'>5.00 {[}4.30, 5.80{]}</td>\\textbackslash{}n<td class=\\textbackslash{}'lastrow\\textbackslash{}'>5.90 {[}4.90, 7.00{]}</td>\\textbackslash{}n<td class=\\textbackslash{}'lastrow\\textbackslash{}'>6.50 {[}4.90, 7.90{]}</td>\\textbackslash{}n<td class=\\textbackslash{}'lastrow\\textbackslash{}'>5.80 {[}4.30, 7.90{]}</td>\\textbackslash{}n</tr>\\textbackslash{}n<tr>\\textbackslash{}n<td class=\\textbackslash{}'rowlabel firstrow\\textbackslash{}'>Sepal.Width</td>\\textbackslash{}n<td class=\\textbackslash{}'firstrow\\textbackslash{}'></td>\\textbackslash{}n<td class=\\textbackslash{}'firstrow\\textbackslash{}'></td>\\textbackslash{}n<td class=\\textbackslash{}'firstrow\\textbackslash{}'></td>\\textbackslash{}n<td class=\\textbackslash{}'firstrow\\textbackslash{}'></td>\\textbackslash{}n</tr>\\textbackslash{}n<tr>\\textbackslash{}n<td class=\\textbackslash{}'rowlabel\\textbackslash{}'>Mean (SD)</td>\\textbackslash{}n<td>3.43 (0.379)</td>\\textbackslash{}n<td>2.77 (0.314)</td>\\textbackslash{}n<td>2.97 (0.322)</td>\\textbackslash{}n<td>3.06 (0.436)</td>\\textbackslash{}n</tr>\\textbackslash{}n<tr>\\textbackslash{}n<td class=\\textbackslash{}'rowlabel lastrow\\textbackslash{}'>Median {[}Min, Max{]}</td>\\textbackslash{}n<td class=\\textbackslash{}'lastrow\\textbackslash{}'>3.40 {[}2.30, 4.40{]}</td>\\textbackslash{}n<td class=\\textbackslash{}'lastrow\\textbackslash{}'>2.80 {[}2.00, 3.40{]}</td>\\textbackslash{}n<td class=\\textbackslash{}'lastrow\\textbackslash{}'>3.00 {[}2.20, 3.80{]}</td>\\textbackslash{}n<td class=\\textbackslash{}'lastrow\\textbackslash{}'>3.00 {[}2.00, 4.40{]}</td>\\textbackslash{}n</tr>\\textbackslash{}n<tr>\\textbackslash{}n<td class=\\textbackslash{}'rowlabel firstrow\\textbackslash{}'>Petal.Length</td>\\textbackslash{}n<td class=\\textbackslash{}'firstrow\\textbackslash{}'></td>\\textbackslash{}n<td class=\\textbackslash{}'firstrow\\textbackslash{}'></td>\\textbackslash{}n<td class=\\textbackslash{}'firstrow\\textbackslash{}'></td>\\textbackslash{}n<td class=\\textbackslash{}'firstrow\\textbackslash{}'></td>\\textbackslash{}n</tr>\\textbackslash{}n<tr>\\textbackslash{}n<td class=\\textbackslash{}'rowlabel\\textbackslash{}'>Mean (SD)</td>\\textbackslash{}n<td>1.46 (0.174)</td>\\textbackslash{}n<td>4.26 (0.470)</td>\\textbackslash{}n<td>5.55 (0.552)</td>\\textbackslash{}n<td>3.76 (1.77)</td>\\textbackslash{}n</tr>\\textbackslash{}n<tr>\\textbackslash{}n<td class=\\textbackslash{}'rowlabel lastrow\\textbackslash{}'>Median {[}Min, Max{]}</td>\\textbackslash{}n<td class=\\textbackslash{}'lastrow\\textbackslash{}'>1.50 {[}1.00, 1.90{]}</td>\\textbackslash{}n<td class=\\textbackslash{}'lastrow\\textbackslash{}'>4.35 {[}3.00, 5.10{]}</td>\\textbackslash{}n<td class=\\textbackslash{}'lastrow\\textbackslash{}'>5.55 {[}4.50, 6.90{]}</td>\\textbackslash{}n<td class=\\textbackslash{}'lastrow\\textbackslash{}'>4.35 {[}1.00, 6.90{]}</td>\\textbackslash{}n</tr>\\textbackslash{}n<tr>\\textbackslash{}n<td class=\\textbackslash{}'rowlabel firstrow\\textbackslash{}'>Petal.Width</td>\\textbackslash{}n<td class=\\textbackslash{}'firstrow\\textbackslash{}'></td>\\textbackslash{}n<td class=\\textbackslash{}'firstrow\\textbackslash{}'></td>\\textbackslash{}n<td class=\\textbackslash{}'firstrow\\textbackslash{}'></td>\\textbackslash{}n<td class=\\textbackslash{}'firstrow\\textbackslash{}'></td>\\textbackslash{}n</tr>\\textbackslash{}n<tr>\\textbackslash{}n<td class=\\textbackslash{}'rowlabel\\textbackslash{}'>Mean (SD)</td>\\textbackslash{}n<td>0.246 (0.105)</td>\\textbackslash{}n<td>1.33 (0.198)</td>\\textbackslash{}n<td>2.03 (0.275)</td>\\textbackslash{}n<td>1.20 (0.762)</td>\\textbackslash{}n</tr>\\textbackslash{}n<tr>\\textbackslash{}n<td class=\\textbackslash{}'rowlabel lastrow\\textbackslash{}'>Median {[}Min, Max{]}</td>\\textbackslash{}n<td class=\\textbackslash{}'lastrow\\textbackslash{}'>0.200 {[}0.100, 0.600{]}</td>\\textbackslash{}n<td class=\\textbackslash{}'lastrow\\textbackslash{}'>1.30 {[}1.00, 1.80{]}</td>\\textbackslash{}n<td class=\\textbackslash{}'lastrow\\textbackslash{}'>2.00 {[}1.40, 2.50{]}</td>\\textbackslash{}n<td class=\\textbackslash{}'lastrow\\textbackslash{}'>1.30 {[}0.100, 2.50{]}</td>\\textbackslash{}n</tr>\\textbackslash{}n<tr>\\textbackslash{}n<td class=\\textbackslash{}'rowlabel firstrow\\textbackslash{}'>Uzunluk</td>\\textbackslash{}n<td class=\\textbackslash{}'firstrow\\textbackslash{}'></td>\\textbackslash{}n<td class=\\textbackslash{}'firstrow\\textbackslash{}'></td>\\textbackslash{}n<td class=\\textbackslash{}'firstrow\\textbackslash{}'></td>\\textbackslash{}n<td class=\\textbackslash{}'firstrow\\textbackslash{}'></td>\\textbackslash{}n</tr>\\textbackslash{}n<tr>\\textbackslash{}n<td class=\\textbackslash{}'rowlabel\\textbackslash{}'>Kısa</td>\\textbackslash{}n<td>47 (94.0\\%)</td>\\textbackslash{}n<td>11 (22.0\\%)</td>\\textbackslash{}n<td>1 (2.0\\%)</td>\\textbackslash{}n<td>59 (39.3\\%)</td>\\textbackslash{}n</tr>\\textbackslash{}n<tr>\\textbackslash{}n<td class=\\textbackslash{}'rowlabel lastrow\\textbackslash{}'>Uzun</td>\\textbackslash{}n<td class=\\textbackslash{}'lastrow\\textbackslash{}'>3 (6.0\\%)</td>\\textbackslash{}n<td class=\\textbackslash{}'lastrow\\textbackslash{}'>39 (78.0\\%)</td>\\textbackslash{}n<td class=\\textbackslash{}'lastrow\\textbackslash{}'>49 (98.0\\%)</td>\\textbackslash{}n<td class=\\textbackslash{}'lastrow\\textbackslash{}'>91 (60.7\\%)</td>\\textbackslash{}n</tr>\\textbackslash{}n</tbody>\\textbackslash{}n</table>\\textbackslash{}n'",
            "text/plain": [
              "<table class=\"Rtable1\">\n",
              "<thead>\n",
              "<tr>\n",
              "<th class='rowlabel firstrow lastrow'></th>\n",
              "<th class='firstrow lastrow'><span class='stratlabel'>setosa<br><span class='stratn'>(N=50)</span></span></th>\n",
              "<th class='firstrow lastrow'><span class='stratlabel'>versicolor<br><span class='stratn'>(N=50)</span></span></th>\n",
              "<th class='firstrow lastrow'><span class='stratlabel'>virginica<br><span class='stratn'>(N=50)</span></span></th>\n",
              "<th class='firstrow lastrow'><span class='stratlabel'>Overall<br><span class='stratn'>(N=150)</span></span></th>\n",
              "</tr>\n",
              "</thead>\n",
              "<tbody>\n",
              "<tr>\n",
              "<td class='rowlabel firstrow'>Sepal.Length</td>\n",
              "<td class='firstrow'></td>\n",
              "<td class='firstrow'></td>\n",
              "<td class='firstrow'></td>\n",
              "<td class='firstrow'></td>\n",
              "</tr>\n",
              "<tr>\n",
              "<td class='rowlabel'>Mean (SD)</td>\n",
              "<td>5.01 (0.352)</td>\n",
              "<td>5.94 (0.516)</td>\n",
              "<td>6.59 (0.636)</td>\n",
              "<td>5.84 (0.828)</td>\n",
              "</tr>\n",
              "<tr>\n",
              "<td class='rowlabel lastrow'>Median [Min, Max]</td>\n",
              "<td class='lastrow'>5.00 [4.30, 5.80]</td>\n",
              "<td class='lastrow'>5.90 [4.90, 7.00]</td>\n",
              "<td class='lastrow'>6.50 [4.90, 7.90]</td>\n",
              "<td class='lastrow'>5.80 [4.30, 7.90]</td>\n",
              "</tr>\n",
              "<tr>\n",
              "<td class='rowlabel firstrow'>Sepal.Width</td>\n",
              "<td class='firstrow'></td>\n",
              "<td class='firstrow'></td>\n",
              "<td class='firstrow'></td>\n",
              "<td class='firstrow'></td>\n",
              "</tr>\n",
              "<tr>\n",
              "<td class='rowlabel'>Mean (SD)</td>\n",
              "<td>3.43 (0.379)</td>\n",
              "<td>2.77 (0.314)</td>\n",
              "<td>2.97 (0.322)</td>\n",
              "<td>3.06 (0.436)</td>\n",
              "</tr>\n",
              "<tr>\n",
              "<td class='rowlabel lastrow'>Median [Min, Max]</td>\n",
              "<td class='lastrow'>3.40 [2.30, 4.40]</td>\n",
              "<td class='lastrow'>2.80 [2.00, 3.40]</td>\n",
              "<td class='lastrow'>3.00 [2.20, 3.80]</td>\n",
              "<td class='lastrow'>3.00 [2.00, 4.40]</td>\n",
              "</tr>\n",
              "<tr>\n",
              "<td class='rowlabel firstrow'>Petal.Length</td>\n",
              "<td class='firstrow'></td>\n",
              "<td class='firstrow'></td>\n",
              "<td class='firstrow'></td>\n",
              "<td class='firstrow'></td>\n",
              "</tr>\n",
              "<tr>\n",
              "<td class='rowlabel'>Mean (SD)</td>\n",
              "<td>1.46 (0.174)</td>\n",
              "<td>4.26 (0.470)</td>\n",
              "<td>5.55 (0.552)</td>\n",
              "<td>3.76 (1.77)</td>\n",
              "</tr>\n",
              "<tr>\n",
              "<td class='rowlabel lastrow'>Median [Min, Max]</td>\n",
              "<td class='lastrow'>1.50 [1.00, 1.90]</td>\n",
              "<td class='lastrow'>4.35 [3.00, 5.10]</td>\n",
              "<td class='lastrow'>5.55 [4.50, 6.90]</td>\n",
              "<td class='lastrow'>4.35 [1.00, 6.90]</td>\n",
              "</tr>\n",
              "<tr>\n",
              "<td class='rowlabel firstrow'>Petal.Width</td>\n",
              "<td class='firstrow'></td>\n",
              "<td class='firstrow'></td>\n",
              "<td class='firstrow'></td>\n",
              "<td class='firstrow'></td>\n",
              "</tr>\n",
              "<tr>\n",
              "<td class='rowlabel'>Mean (SD)</td>\n",
              "<td>0.246 (0.105)</td>\n",
              "<td>1.33 (0.198)</td>\n",
              "<td>2.03 (0.275)</td>\n",
              "<td>1.20 (0.762)</td>\n",
              "</tr>\n",
              "<tr>\n",
              "<td class='rowlabel lastrow'>Median [Min, Max]</td>\n",
              "<td class='lastrow'>0.200 [0.100, 0.600]</td>\n",
              "<td class='lastrow'>1.30 [1.00, 1.80]</td>\n",
              "<td class='lastrow'>2.00 [1.40, 2.50]</td>\n",
              "<td class='lastrow'>1.30 [0.100, 2.50]</td>\n",
              "</tr>\n",
              "<tr>\n",
              "<td class='rowlabel firstrow'>Uzunluk</td>\n",
              "<td class='firstrow'></td>\n",
              "<td class='firstrow'></td>\n",
              "<td class='firstrow'></td>\n",
              "<td class='firstrow'></td>\n",
              "</tr>\n",
              "<tr>\n",
              "<td class='rowlabel'>Kısa</td>\n",
              "<td>47 (94.0%)</td>\n",
              "<td>11 (22.0%)</td>\n",
              "<td>1 (2.0%)</td>\n",
              "<td>59 (39.3%)</td>\n",
              "</tr>\n",
              "<tr>\n",
              "<td class='rowlabel lastrow'>Uzun</td>\n",
              "<td class='lastrow'>3 (6.0%)</td>\n",
              "<td class='lastrow'>39 (78.0%)</td>\n",
              "<td class='lastrow'>49 (98.0%)</td>\n",
              "<td class='lastrow'>91 (60.7%)</td>\n",
              "</tr>\n",
              "</tbody>\n",
              "</table>"
            ]
          },
          "metadata": {}
        }
      ]
    },
    {
      "cell_type": "code",
      "source": [
        "table1::table1(~.| Species*Uzunluk,data=iris2,overal=FALSE)"
      ],
      "metadata": {
        "id": "7gcBWex3iBMt",
        "outputId": "2ecdf1e9-9995-455e-9318-ff5aad40c122",
        "colab": {
          "base_uri": "https://localhost:8080/",
          "height": 416
        }
      },
      "execution_count": 7,
      "outputs": [
        {
          "output_type": "display_data",
          "data": {
            "text/html": [
              "'&lt;table class=\"Rtable1\"&gt;\\n&lt;thead&gt;\\n&lt;tr&gt;\\n&lt;th class=\"grouplabel\"&gt;&lt;/th&gt;\\n&lt;th colspan=\"2\" class=\"grouplabel\"&gt;&lt;div&gt;setosa&lt;/div&gt;&lt;/th&gt;\\n&lt;th colspan=\"2\" class=\"grouplabel\"&gt;&lt;div&gt;versicolor&lt;/div&gt;&lt;/th&gt;\\n&lt;th colspan=\"2\" class=\"grouplabel\"&gt;&lt;div&gt;virginica&lt;/div&gt;&lt;/th&gt;\\n&lt;/tr&gt;\\n&lt;tr&gt;\\n&lt;th class=\\'rowlabel firstrow lastrow\\'&gt;&lt;/th&gt;\\n&lt;th class=\\'firstrow lastrow\\'&gt;&lt;span class=\\'stratlabel\\'&gt;Kısa&lt;br&gt;&lt;span class=\\'stratn\\'&gt;(N=47)&lt;/span&gt;&lt;/span&gt;&lt;/th&gt;\\n&lt;th class=\\'firstrow lastrow\\'&gt;&lt;span class=\\'stratlabel\\'&gt;Uzun&lt;br&gt;&lt;span class=\\'stratn\\'&gt;(N=3)&lt;/span&gt;&lt;/span&gt;&lt;/th&gt;\\n&lt;th class=\\'firstrow lastrow\\'&gt;&lt;span class=\\'stratlabel\\'&gt;Kısa&lt;br&gt;&lt;span class=\\'stratn\\'&gt;(N=11)&lt;/span&gt;&lt;/span&gt;&lt;/th&gt;\\n&lt;th class=\\'firstrow lastrow\\'&gt;&lt;span class=\\'stratlabel\\'&gt;Uzun&lt;br&gt;&lt;span class=\\'stratn\\'&gt;(N=39)&lt;/span&gt;&lt;/span&gt;&lt;/th&gt;\\n&lt;th class=\\'firstrow lastrow\\'&gt;&lt;span class=\\'stratlabel\\'&gt;Kısa&lt;br&gt;&lt;span class=\\'stratn\\'&gt;(N=1)&lt;/span&gt;&lt;/span&gt;&lt;/th&gt;\\n&lt;th class=\\'firstrow lastrow\\'&gt;&lt;span class=\\'stratlabel\\'&gt;Uzun&lt;br&gt;&lt;span class=\\'stratn\\'&gt;(N=49)&lt;/span&gt;&lt;/span&gt;&lt;/th&gt;\\n&lt;/tr&gt;\\n&lt;/thead&gt;\\n&lt;tbody&gt;\\n&lt;tr&gt;\\n&lt;td class=\\'rowlabel firstrow\\'&gt;Sepal.Length&lt;/td&gt;\\n&lt;td class=\\'firstrow\\'&gt;&lt;/td&gt;\\n&lt;td class=\\'firstrow\\'&gt;&lt;/td&gt;\\n&lt;td class=\\'firstrow\\'&gt;&lt;/td&gt;\\n&lt;td class=\\'firstrow\\'&gt;&lt;/td&gt;\\n&lt;td class=\\'firstrow\\'&gt;&lt;/td&gt;\\n&lt;td class=\\'firstrow\\'&gt;&lt;/td&gt;\\n&lt;/tr&gt;\\n&lt;tr&gt;\\n&lt;td class=\\'rowlabel\\'&gt;Mean (SD)&lt;/td&gt;\\n&lt;td&gt;4.96 (0.309)&lt;/td&gt;\\n&lt;td&gt;5.73 (0.0577)&lt;/td&gt;\\n&lt;td&gt;5.28 (0.244)&lt;/td&gt;\\n&lt;td&gt;6.12 (0.411)&lt;/td&gt;\\n&lt;td&gt;4.90 (NA)&lt;/td&gt;\\n&lt;td&gt;6.62 (0.593)&lt;/td&gt;\\n&lt;/tr&gt;\\n&lt;tr&gt;\\n&lt;td class=\\'rowlabel lastrow\\'&gt;Median [Min, Max]&lt;/td&gt;\\n&lt;td class=\\'lastrow\\'&gt;5.00 [4.30, 5.50]&lt;/td&gt;\\n&lt;td class=\\'lastrow\\'&gt;5.70 [5.70, 5.80]&lt;/td&gt;\\n&lt;td class=\\'lastrow\\'&gt;5.40 [4.90, 5.50]&lt;/td&gt;\\n&lt;td class=\\'lastrow\\'&gt;6.10 [5.60, 7.00]&lt;/td&gt;\\n&lt;td class=\\'lastrow\\'&gt;4.90 [4.90, 4.90]&lt;/td&gt;\\n&lt;td class=\\'lastrow\\'&gt;6.50 [5.60, 7.90]&lt;/td&gt;\\n&lt;/tr&gt;\\n&lt;tr&gt;\\n&lt;td class=\\'rowlabel firstrow\\'&gt;Sepal.Width&lt;/td&gt;\\n&lt;td class=\\'firstrow\\'&gt;&lt;/td&gt;\\n&lt;td class=\\'firstrow\\'&gt;&lt;/td&gt;\\n&lt;td class=\\'firstrow\\'&gt;&lt;/td&gt;\\n&lt;td class=\\'firstrow\\'&gt;&lt;/td&gt;\\n&lt;td class=\\'firstrow\\'&gt;&lt;/td&gt;\\n&lt;td class=\\'firstrow\\'&gt;&lt;/td&gt;\\n&lt;/tr&gt;\\n&lt;tr&gt;\\n&lt;td class=\\'rowlabel\\'&gt;Mean (SD)&lt;/td&gt;\\n&lt;td&gt;3.39 (0.347)&lt;/td&gt;\\n&lt;td&gt;4.07 (0.306)&lt;/td&gt;\\n&lt;td&gt;2.46 (0.254)&lt;/td&gt;\\n&lt;td&gt;2.86 (0.274)&lt;/td&gt;\\n&lt;td&gt;2.50 (NA)&lt;/td&gt;\\n&lt;td&gt;2.98 (0.318)&lt;/td&gt;\\n&lt;/tr&gt;\\n&lt;tr&gt;\\n&lt;td class=\\'rowlabel lastrow\\'&gt;Median [Min, Max]&lt;/td&gt;\\n&lt;td class=\\'lastrow\\'&gt;3.40 [2.30, 4.20]&lt;/td&gt;\\n&lt;td class=\\'lastrow\\'&gt;4.00 [3.80, 4.40]&lt;/td&gt;\\n&lt;td class=\\'lastrow\\'&gt;2.40 [2.00, 3.00]&lt;/td&gt;\\n&lt;td class=\\'lastrow\\'&gt;2.90 [2.20, 3.40]&lt;/td&gt;\\n&lt;td class=\\'lastrow\\'&gt;2.50 [2.50, 2.50]&lt;/td&gt;\\n&lt;td class=\\'lastrow\\'&gt;3.00 [2.20, 3.80]&lt;/td&gt;\\n&lt;/tr&gt;\\n&lt;tr&gt;\\n&lt;td class=\\'rowlabel firstrow\\'&gt;Petal.Length&lt;/td&gt;\\n&lt;td class=\\'firstrow\\'&gt;&lt;/td&gt;\\n&lt;td class=\\'firstrow\\'&gt;&lt;/td&gt;\\n&lt;td class=\\'firstrow\\'&gt;&lt;/td&gt;\\n&lt;td class=\\'firstrow\\'&gt;&lt;/td&gt;\\n&lt;td class=\\'firstrow\\'&gt;&lt;/td&gt;\\n&lt;td class=\\'firstrow\\'&gt;&lt;/td&gt;\\n&lt;/tr&gt;\\n&lt;tr&gt;\\n&lt;td class=\\'rowlabel\\'&gt;Mean (SD)&lt;/td&gt;\\n&lt;td&gt;1.46 (0.171)&lt;/td&gt;\\n&lt;td&gt;1.47 (0.252)&lt;/td&gt;\\n&lt;td&gt;3.76 (0.465)&lt;/td&gt;\\n&lt;td&gt;4.40 (0.369)&lt;/td&gt;\\n&lt;td&gt;4.50 (NA)&lt;/td&gt;\\n&lt;td&gt;5.57 (0.536)&lt;/td&gt;\\n&lt;/tr&gt;\\n&lt;tr&gt;\\n&lt;td class=\\'rowlabel lastrow\\'&gt;Median [Min, Max]&lt;/td&gt;\\n&lt;td class=\\'lastrow\\'&gt;1.50 [1.00, 1.90]&lt;/td&gt;\\n&lt;td class=\\'lastrow\\'&gt;1.50 [1.20, 1.70]&lt;/td&gt;\\n&lt;td class=\\'lastrow\\'&gt;3.80 [3.00, 4.50]&lt;/td&gt;\\n&lt;td class=\\'lastrow\\'&gt;4.50 [3.50, 5.10]&lt;/td&gt;\\n&lt;td class=\\'lastrow\\'&gt;4.50 [4.50, 4.50]&lt;/td&gt;\\n&lt;td class=\\'lastrow\\'&gt;5.60 [4.80, 6.90]&lt;/td&gt;\\n&lt;/tr&gt;\\n&lt;tr&gt;\\n&lt;td class=\\'rowlabel firstrow\\'&gt;Petal.Width&lt;/td&gt;\\n&lt;td class=\\'firstrow\\'&gt;&lt;/td&gt;\\n&lt;td class=\\'firstrow\\'&gt;&lt;/td&gt;\\n&lt;td class=\\'firstrow\\'&gt;&lt;/td&gt;\\n&lt;td class=\\'firstrow\\'&gt;&lt;/td&gt;\\n&lt;td class=\\'firstrow\\'&gt;&lt;/td&gt;\\n&lt;td class=\\'firstrow\\'&gt;&lt;/td&gt;\\n&lt;/tr&gt;\\n&lt;tr&gt;\\n&lt;td class=\\'rowlabel\\'&gt;Mean (SD)&lt;/td&gt;\\n&lt;td&gt;0.243 (0.106)&lt;/td&gt;\\n&lt;td&gt;0.300 (0.100)&lt;/td&gt;\\n&lt;td&gt;1.17 (0.179)&lt;/td&gt;\\n&lt;td&gt;1.37 (0.182)&lt;/td&gt;\\n&lt;td&gt;1.70 (NA)&lt;/td&gt;\\n&lt;td&gt;2.03 (0.273)&lt;/td&gt;\\n&lt;/tr&gt;\\n&lt;tr&gt;\\n&lt;td class=\\'rowlabel lastrow\\'&gt;Median [Min, Max]&lt;/td&gt;\\n&lt;td class=\\'lastrow\\'&gt;0.200 [0.100, 0.600]&lt;/td&gt;\\n&lt;td class=\\'lastrow\\'&gt;0.300 [0.200, 0.400]&lt;/td&gt;\\n&lt;td class=\\'lastrow\\'&gt;1.10 [1.00, 1.50]&lt;/td&gt;\\n&lt;td class=\\'lastrow\\'&gt;1.40 [1.00, 1.80]&lt;/td&gt;\\n&lt;td class=\\'lastrow\\'&gt;1.70 [1.70, 1.70]&lt;/td&gt;\\n&lt;td class=\\'lastrow\\'&gt;2.00 [1.40, 2.50]&lt;/td&gt;\\n&lt;/tr&gt;\\n&lt;/tbody&gt;\\n&lt;/table&gt;\\n'"
            ],
            "text/markdown": "'&lt;table class=\"Rtable1\"&gt;\\n&lt;thead&gt;\\n&lt;tr&gt;\\n&lt;th class=\"grouplabel\"&gt;&lt;/th&gt;\\n&lt;th colspan=\"2\" class=\"grouplabel\"&gt;&lt;div&gt;setosa&lt;/div&gt;&lt;/th&gt;\\n&lt;th colspan=\"2\" class=\"grouplabel\"&gt;&lt;div&gt;versicolor&lt;/div&gt;&lt;/th&gt;\\n&lt;th colspan=\"2\" class=\"grouplabel\"&gt;&lt;div&gt;virginica&lt;/div&gt;&lt;/th&gt;\\n&lt;/tr&gt;\\n&lt;tr&gt;\\n&lt;th class=\\'rowlabel firstrow lastrow\\'&gt;&lt;/th&gt;\\n&lt;th class=\\'firstrow lastrow\\'&gt;&lt;span class=\\'stratlabel\\'&gt;Kısa&lt;br&gt;&lt;span class=\\'stratn\\'&gt;(N=47)&lt;/span&gt;&lt;/span&gt;&lt;/th&gt;\\n&lt;th class=\\'firstrow lastrow\\'&gt;&lt;span class=\\'stratlabel\\'&gt;Uzun&lt;br&gt;&lt;span class=\\'stratn\\'&gt;(N=3)&lt;/span&gt;&lt;/span&gt;&lt;/th&gt;\\n&lt;th class=\\'firstrow lastrow\\'&gt;&lt;span class=\\'stratlabel\\'&gt;Kısa&lt;br&gt;&lt;span class=\\'stratn\\'&gt;(N=11)&lt;/span&gt;&lt;/span&gt;&lt;/th&gt;\\n&lt;th class=\\'firstrow lastrow\\'&gt;&lt;span class=\\'stratlabel\\'&gt;Uzun&lt;br&gt;&lt;span class=\\'stratn\\'&gt;(N=39)&lt;/span&gt;&lt;/span&gt;&lt;/th&gt;\\n&lt;th class=\\'firstrow lastrow\\'&gt;&lt;span class=\\'stratlabel\\'&gt;Kısa&lt;br&gt;&lt;span class=\\'stratn\\'&gt;(N=1)&lt;/span&gt;&lt;/span&gt;&lt;/th&gt;\\n&lt;th class=\\'firstrow lastrow\\'&gt;&lt;span class=\\'stratlabel\\'&gt;Uzun&lt;br&gt;&lt;span class=\\'stratn\\'&gt;(N=49)&lt;/span&gt;&lt;/span&gt;&lt;/th&gt;\\n&lt;/tr&gt;\\n&lt;/thead&gt;\\n&lt;tbody&gt;\\n&lt;tr&gt;\\n&lt;td class=\\'rowlabel firstrow\\'&gt;Sepal.Length&lt;/td&gt;\\n&lt;td class=\\'firstrow\\'&gt;&lt;/td&gt;\\n&lt;td class=\\'firstrow\\'&gt;&lt;/td&gt;\\n&lt;td class=\\'firstrow\\'&gt;&lt;/td&gt;\\n&lt;td class=\\'firstrow\\'&gt;&lt;/td&gt;\\n&lt;td class=\\'firstrow\\'&gt;&lt;/td&gt;\\n&lt;td class=\\'firstrow\\'&gt;&lt;/td&gt;\\n&lt;/tr&gt;\\n&lt;tr&gt;\\n&lt;td class=\\'rowlabel\\'&gt;Mean (SD)&lt;/td&gt;\\n&lt;td&gt;4.96 (0.309)&lt;/td&gt;\\n&lt;td&gt;5.73 (0.0577)&lt;/td&gt;\\n&lt;td&gt;5.28 (0.244)&lt;/td&gt;\\n&lt;td&gt;6.12 (0.411)&lt;/td&gt;\\n&lt;td&gt;4.90 (NA)&lt;/td&gt;\\n&lt;td&gt;6.62 (0.593)&lt;/td&gt;\\n&lt;/tr&gt;\\n&lt;tr&gt;\\n&lt;td class=\\'rowlabel lastrow\\'&gt;Median [Min, Max]&lt;/td&gt;\\n&lt;td class=\\'lastrow\\'&gt;5.00 [4.30, 5.50]&lt;/td&gt;\\n&lt;td class=\\'lastrow\\'&gt;5.70 [5.70, 5.80]&lt;/td&gt;\\n&lt;td class=\\'lastrow\\'&gt;5.40 [4.90, 5.50]&lt;/td&gt;\\n&lt;td class=\\'lastrow\\'&gt;6.10 [5.60, 7.00]&lt;/td&gt;\\n&lt;td class=\\'lastrow\\'&gt;4.90 [4.90, 4.90]&lt;/td&gt;\\n&lt;td class=\\'lastrow\\'&gt;6.50 [5.60, 7.90]&lt;/td&gt;\\n&lt;/tr&gt;\\n&lt;tr&gt;\\n&lt;td class=\\'rowlabel firstrow\\'&gt;Sepal.Width&lt;/td&gt;\\n&lt;td class=\\'firstrow\\'&gt;&lt;/td&gt;\\n&lt;td class=\\'firstrow\\'&gt;&lt;/td&gt;\\n&lt;td class=\\'firstrow\\'&gt;&lt;/td&gt;\\n&lt;td class=\\'firstrow\\'&gt;&lt;/td&gt;\\n&lt;td class=\\'firstrow\\'&gt;&lt;/td&gt;\\n&lt;td class=\\'firstrow\\'&gt;&lt;/td&gt;\\n&lt;/tr&gt;\\n&lt;tr&gt;\\n&lt;td class=\\'rowlabel\\'&gt;Mean (SD)&lt;/td&gt;\\n&lt;td&gt;3.39 (0.347)&lt;/td&gt;\\n&lt;td&gt;4.07 (0.306)&lt;/td&gt;\\n&lt;td&gt;2.46 (0.254)&lt;/td&gt;\\n&lt;td&gt;2.86 (0.274)&lt;/td&gt;\\n&lt;td&gt;2.50 (NA)&lt;/td&gt;\\n&lt;td&gt;2.98 (0.318)&lt;/td&gt;\\n&lt;/tr&gt;\\n&lt;tr&gt;\\n&lt;td class=\\'rowlabel lastrow\\'&gt;Median [Min, Max]&lt;/td&gt;\\n&lt;td class=\\'lastrow\\'&gt;3.40 [2.30, 4.20]&lt;/td&gt;\\n&lt;td class=\\'lastrow\\'&gt;4.00 [3.80, 4.40]&lt;/td&gt;\\n&lt;td class=\\'lastrow\\'&gt;2.40 [2.00, 3.00]&lt;/td&gt;\\n&lt;td class=\\'lastrow\\'&gt;2.90 [2.20, 3.40]&lt;/td&gt;\\n&lt;td class=\\'lastrow\\'&gt;2.50 [2.50, 2.50]&lt;/td&gt;\\n&lt;td class=\\'lastrow\\'&gt;3.00 [2.20, 3.80]&lt;/td&gt;\\n&lt;/tr&gt;\\n&lt;tr&gt;\\n&lt;td class=\\'rowlabel firstrow\\'&gt;Petal.Length&lt;/td&gt;\\n&lt;td class=\\'firstrow\\'&gt;&lt;/td&gt;\\n&lt;td class=\\'firstrow\\'&gt;&lt;/td&gt;\\n&lt;td class=\\'firstrow\\'&gt;&lt;/td&gt;\\n&lt;td class=\\'firstrow\\'&gt;&lt;/td&gt;\\n&lt;td class=\\'firstrow\\'&gt;&lt;/td&gt;\\n&lt;td class=\\'firstrow\\'&gt;&lt;/td&gt;\\n&lt;/tr&gt;\\n&lt;tr&gt;\\n&lt;td class=\\'rowlabel\\'&gt;Mean (SD)&lt;/td&gt;\\n&lt;td&gt;1.46 (0.171)&lt;/td&gt;\\n&lt;td&gt;1.47 (0.252)&lt;/td&gt;\\n&lt;td&gt;3.76 (0.465)&lt;/td&gt;\\n&lt;td&gt;4.40 (0.369)&lt;/td&gt;\\n&lt;td&gt;4.50 (NA)&lt;/td&gt;\\n&lt;td&gt;5.57 (0.536)&lt;/td&gt;\\n&lt;/tr&gt;\\n&lt;tr&gt;\\n&lt;td class=\\'rowlabel lastrow\\'&gt;Median [Min, Max]&lt;/td&gt;\\n&lt;td class=\\'lastrow\\'&gt;1.50 [1.00, 1.90]&lt;/td&gt;\\n&lt;td class=\\'lastrow\\'&gt;1.50 [1.20, 1.70]&lt;/td&gt;\\n&lt;td class=\\'lastrow\\'&gt;3.80 [3.00, 4.50]&lt;/td&gt;\\n&lt;td class=\\'lastrow\\'&gt;4.50 [3.50, 5.10]&lt;/td&gt;\\n&lt;td class=\\'lastrow\\'&gt;4.50 [4.50, 4.50]&lt;/td&gt;\\n&lt;td class=\\'lastrow\\'&gt;5.60 [4.80, 6.90]&lt;/td&gt;\\n&lt;/tr&gt;\\n&lt;tr&gt;\\n&lt;td class=\\'rowlabel firstrow\\'&gt;Petal.Width&lt;/td&gt;\\n&lt;td class=\\'firstrow\\'&gt;&lt;/td&gt;\\n&lt;td class=\\'firstrow\\'&gt;&lt;/td&gt;\\n&lt;td class=\\'firstrow\\'&gt;&lt;/td&gt;\\n&lt;td class=\\'firstrow\\'&gt;&lt;/td&gt;\\n&lt;td class=\\'firstrow\\'&gt;&lt;/td&gt;\\n&lt;td class=\\'firstrow\\'&gt;&lt;/td&gt;\\n&lt;/tr&gt;\\n&lt;tr&gt;\\n&lt;td class=\\'rowlabel\\'&gt;Mean (SD)&lt;/td&gt;\\n&lt;td&gt;0.243 (0.106)&lt;/td&gt;\\n&lt;td&gt;0.300 (0.100)&lt;/td&gt;\\n&lt;td&gt;1.17 (0.179)&lt;/td&gt;\\n&lt;td&gt;1.37 (0.182)&lt;/td&gt;\\n&lt;td&gt;1.70 (NA)&lt;/td&gt;\\n&lt;td&gt;2.03 (0.273)&lt;/td&gt;\\n&lt;/tr&gt;\\n&lt;tr&gt;\\n&lt;td class=\\'rowlabel lastrow\\'&gt;Median [Min, Max]&lt;/td&gt;\\n&lt;td class=\\'lastrow\\'&gt;0.200 [0.100, 0.600]&lt;/td&gt;\\n&lt;td class=\\'lastrow\\'&gt;0.300 [0.200, 0.400]&lt;/td&gt;\\n&lt;td class=\\'lastrow\\'&gt;1.10 [1.00, 1.50]&lt;/td&gt;\\n&lt;td class=\\'lastrow\\'&gt;1.40 [1.00, 1.80]&lt;/td&gt;\\n&lt;td class=\\'lastrow\\'&gt;1.70 [1.70, 1.70]&lt;/td&gt;\\n&lt;td class=\\'lastrow\\'&gt;2.00 [1.40, 2.50]&lt;/td&gt;\\n&lt;/tr&gt;\\n&lt;/tbody&gt;\\n&lt;/table&gt;\\n'",
            "text/latex": "'<table class=\"Rtable1\">\\textbackslash{}n<thead>\\textbackslash{}n<tr>\\textbackslash{}n<th class=\"grouplabel\"></th>\\textbackslash{}n<th colspan=\"2\" class=\"grouplabel\"><div>setosa</div></th>\\textbackslash{}n<th colspan=\"2\" class=\"grouplabel\"><div>versicolor</div></th>\\textbackslash{}n<th colspan=\"2\" class=\"grouplabel\"><div>virginica</div></th>\\textbackslash{}n</tr>\\textbackslash{}n<tr>\\textbackslash{}n<th class=\\textbackslash{}'rowlabel firstrow lastrow\\textbackslash{}'></th>\\textbackslash{}n<th class=\\textbackslash{}'firstrow lastrow\\textbackslash{}'><span class=\\textbackslash{}'stratlabel\\textbackslash{}'>Kısa<br><span class=\\textbackslash{}'stratn\\textbackslash{}'>(N=47)</span></span></th>\\textbackslash{}n<th class=\\textbackslash{}'firstrow lastrow\\textbackslash{}'><span class=\\textbackslash{}'stratlabel\\textbackslash{}'>Uzun<br><span class=\\textbackslash{}'stratn\\textbackslash{}'>(N=3)</span></span></th>\\textbackslash{}n<th class=\\textbackslash{}'firstrow lastrow\\textbackslash{}'><span class=\\textbackslash{}'stratlabel\\textbackslash{}'>Kısa<br><span class=\\textbackslash{}'stratn\\textbackslash{}'>(N=11)</span></span></th>\\textbackslash{}n<th class=\\textbackslash{}'firstrow lastrow\\textbackslash{}'><span class=\\textbackslash{}'stratlabel\\textbackslash{}'>Uzun<br><span class=\\textbackslash{}'stratn\\textbackslash{}'>(N=39)</span></span></th>\\textbackslash{}n<th class=\\textbackslash{}'firstrow lastrow\\textbackslash{}'><span class=\\textbackslash{}'stratlabel\\textbackslash{}'>Kısa<br><span class=\\textbackslash{}'stratn\\textbackslash{}'>(N=1)</span></span></th>\\textbackslash{}n<th class=\\textbackslash{}'firstrow lastrow\\textbackslash{}'><span class=\\textbackslash{}'stratlabel\\textbackslash{}'>Uzun<br><span class=\\textbackslash{}'stratn\\textbackslash{}'>(N=49)</span></span></th>\\textbackslash{}n</tr>\\textbackslash{}n</thead>\\textbackslash{}n<tbody>\\textbackslash{}n<tr>\\textbackslash{}n<td class=\\textbackslash{}'rowlabel firstrow\\textbackslash{}'>Sepal.Length</td>\\textbackslash{}n<td class=\\textbackslash{}'firstrow\\textbackslash{}'></td>\\textbackslash{}n<td class=\\textbackslash{}'firstrow\\textbackslash{}'></td>\\textbackslash{}n<td class=\\textbackslash{}'firstrow\\textbackslash{}'></td>\\textbackslash{}n<td class=\\textbackslash{}'firstrow\\textbackslash{}'></td>\\textbackslash{}n<td class=\\textbackslash{}'firstrow\\textbackslash{}'></td>\\textbackslash{}n<td class=\\textbackslash{}'firstrow\\textbackslash{}'></td>\\textbackslash{}n</tr>\\textbackslash{}n<tr>\\textbackslash{}n<td class=\\textbackslash{}'rowlabel\\textbackslash{}'>Mean (SD)</td>\\textbackslash{}n<td>4.96 (0.309)</td>\\textbackslash{}n<td>5.73 (0.0577)</td>\\textbackslash{}n<td>5.28 (0.244)</td>\\textbackslash{}n<td>6.12 (0.411)</td>\\textbackslash{}n<td>4.90 (NA)</td>\\textbackslash{}n<td>6.62 (0.593)</td>\\textbackslash{}n</tr>\\textbackslash{}n<tr>\\textbackslash{}n<td class=\\textbackslash{}'rowlabel lastrow\\textbackslash{}'>Median {[}Min, Max{]}</td>\\textbackslash{}n<td class=\\textbackslash{}'lastrow\\textbackslash{}'>5.00 {[}4.30, 5.50{]}</td>\\textbackslash{}n<td class=\\textbackslash{}'lastrow\\textbackslash{}'>5.70 {[}5.70, 5.80{]}</td>\\textbackslash{}n<td class=\\textbackslash{}'lastrow\\textbackslash{}'>5.40 {[}4.90, 5.50{]}</td>\\textbackslash{}n<td class=\\textbackslash{}'lastrow\\textbackslash{}'>6.10 {[}5.60, 7.00{]}</td>\\textbackslash{}n<td class=\\textbackslash{}'lastrow\\textbackslash{}'>4.90 {[}4.90, 4.90{]}</td>\\textbackslash{}n<td class=\\textbackslash{}'lastrow\\textbackslash{}'>6.50 {[}5.60, 7.90{]}</td>\\textbackslash{}n</tr>\\textbackslash{}n<tr>\\textbackslash{}n<td class=\\textbackslash{}'rowlabel firstrow\\textbackslash{}'>Sepal.Width</td>\\textbackslash{}n<td class=\\textbackslash{}'firstrow\\textbackslash{}'></td>\\textbackslash{}n<td class=\\textbackslash{}'firstrow\\textbackslash{}'></td>\\textbackslash{}n<td class=\\textbackslash{}'firstrow\\textbackslash{}'></td>\\textbackslash{}n<td class=\\textbackslash{}'firstrow\\textbackslash{}'></td>\\textbackslash{}n<td class=\\textbackslash{}'firstrow\\textbackslash{}'></td>\\textbackslash{}n<td class=\\textbackslash{}'firstrow\\textbackslash{}'></td>\\textbackslash{}n</tr>\\textbackslash{}n<tr>\\textbackslash{}n<td class=\\textbackslash{}'rowlabel\\textbackslash{}'>Mean (SD)</td>\\textbackslash{}n<td>3.39 (0.347)</td>\\textbackslash{}n<td>4.07 (0.306)</td>\\textbackslash{}n<td>2.46 (0.254)</td>\\textbackslash{}n<td>2.86 (0.274)</td>\\textbackslash{}n<td>2.50 (NA)</td>\\textbackslash{}n<td>2.98 (0.318)</td>\\textbackslash{}n</tr>\\textbackslash{}n<tr>\\textbackslash{}n<td class=\\textbackslash{}'rowlabel lastrow\\textbackslash{}'>Median {[}Min, Max{]}</td>\\textbackslash{}n<td class=\\textbackslash{}'lastrow\\textbackslash{}'>3.40 {[}2.30, 4.20{]}</td>\\textbackslash{}n<td class=\\textbackslash{}'lastrow\\textbackslash{}'>4.00 {[}3.80, 4.40{]}</td>\\textbackslash{}n<td class=\\textbackslash{}'lastrow\\textbackslash{}'>2.40 {[}2.00, 3.00{]}</td>\\textbackslash{}n<td class=\\textbackslash{}'lastrow\\textbackslash{}'>2.90 {[}2.20, 3.40{]}</td>\\textbackslash{}n<td class=\\textbackslash{}'lastrow\\textbackslash{}'>2.50 {[}2.50, 2.50{]}</td>\\textbackslash{}n<td class=\\textbackslash{}'lastrow\\textbackslash{}'>3.00 {[}2.20, 3.80{]}</td>\\textbackslash{}n</tr>\\textbackslash{}n<tr>\\textbackslash{}n<td class=\\textbackslash{}'rowlabel firstrow\\textbackslash{}'>Petal.Length</td>\\textbackslash{}n<td class=\\textbackslash{}'firstrow\\textbackslash{}'></td>\\textbackslash{}n<td class=\\textbackslash{}'firstrow\\textbackslash{}'></td>\\textbackslash{}n<td class=\\textbackslash{}'firstrow\\textbackslash{}'></td>\\textbackslash{}n<td class=\\textbackslash{}'firstrow\\textbackslash{}'></td>\\textbackslash{}n<td class=\\textbackslash{}'firstrow\\textbackslash{}'></td>\\textbackslash{}n<td class=\\textbackslash{}'firstrow\\textbackslash{}'></td>\\textbackslash{}n</tr>\\textbackslash{}n<tr>\\textbackslash{}n<td class=\\textbackslash{}'rowlabel\\textbackslash{}'>Mean (SD)</td>\\textbackslash{}n<td>1.46 (0.171)</td>\\textbackslash{}n<td>1.47 (0.252)</td>\\textbackslash{}n<td>3.76 (0.465)</td>\\textbackslash{}n<td>4.40 (0.369)</td>\\textbackslash{}n<td>4.50 (NA)</td>\\textbackslash{}n<td>5.57 (0.536)</td>\\textbackslash{}n</tr>\\textbackslash{}n<tr>\\textbackslash{}n<td class=\\textbackslash{}'rowlabel lastrow\\textbackslash{}'>Median {[}Min, Max{]}</td>\\textbackslash{}n<td class=\\textbackslash{}'lastrow\\textbackslash{}'>1.50 {[}1.00, 1.90{]}</td>\\textbackslash{}n<td class=\\textbackslash{}'lastrow\\textbackslash{}'>1.50 {[}1.20, 1.70{]}</td>\\textbackslash{}n<td class=\\textbackslash{}'lastrow\\textbackslash{}'>3.80 {[}3.00, 4.50{]}</td>\\textbackslash{}n<td class=\\textbackslash{}'lastrow\\textbackslash{}'>4.50 {[}3.50, 5.10{]}</td>\\textbackslash{}n<td class=\\textbackslash{}'lastrow\\textbackslash{}'>4.50 {[}4.50, 4.50{]}</td>\\textbackslash{}n<td class=\\textbackslash{}'lastrow\\textbackslash{}'>5.60 {[}4.80, 6.90{]}</td>\\textbackslash{}n</tr>\\textbackslash{}n<tr>\\textbackslash{}n<td class=\\textbackslash{}'rowlabel firstrow\\textbackslash{}'>Petal.Width</td>\\textbackslash{}n<td class=\\textbackslash{}'firstrow\\textbackslash{}'></td>\\textbackslash{}n<td class=\\textbackslash{}'firstrow\\textbackslash{}'></td>\\textbackslash{}n<td class=\\textbackslash{}'firstrow\\textbackslash{}'></td>\\textbackslash{}n<td class=\\textbackslash{}'firstrow\\textbackslash{}'></td>\\textbackslash{}n<td class=\\textbackslash{}'firstrow\\textbackslash{}'></td>\\textbackslash{}n<td class=\\textbackslash{}'firstrow\\textbackslash{}'></td>\\textbackslash{}n</tr>\\textbackslash{}n<tr>\\textbackslash{}n<td class=\\textbackslash{}'rowlabel\\textbackslash{}'>Mean (SD)</td>\\textbackslash{}n<td>0.243 (0.106)</td>\\textbackslash{}n<td>0.300 (0.100)</td>\\textbackslash{}n<td>1.17 (0.179)</td>\\textbackslash{}n<td>1.37 (0.182)</td>\\textbackslash{}n<td>1.70 (NA)</td>\\textbackslash{}n<td>2.03 (0.273)</td>\\textbackslash{}n</tr>\\textbackslash{}n<tr>\\textbackslash{}n<td class=\\textbackslash{}'rowlabel lastrow\\textbackslash{}'>Median {[}Min, Max{]}</td>\\textbackslash{}n<td class=\\textbackslash{}'lastrow\\textbackslash{}'>0.200 {[}0.100, 0.600{]}</td>\\textbackslash{}n<td class=\\textbackslash{}'lastrow\\textbackslash{}'>0.300 {[}0.200, 0.400{]}</td>\\textbackslash{}n<td class=\\textbackslash{}'lastrow\\textbackslash{}'>1.10 {[}1.00, 1.50{]}</td>\\textbackslash{}n<td class=\\textbackslash{}'lastrow\\textbackslash{}'>1.40 {[}1.00, 1.80{]}</td>\\textbackslash{}n<td class=\\textbackslash{}'lastrow\\textbackslash{}'>1.70 {[}1.70, 1.70{]}</td>\\textbackslash{}n<td class=\\textbackslash{}'lastrow\\textbackslash{}'>2.00 {[}1.40, 2.50{]}</td>\\textbackslash{}n</tr>\\textbackslash{}n</tbody>\\textbackslash{}n</table>\\textbackslash{}n'",
            "text/plain": [
              "<table class=\"Rtable1\">\n",
              "<thead>\n",
              "<tr>\n",
              "<th class=\"grouplabel\"></th>\n",
              "<th colspan=\"2\" class=\"grouplabel\"><div>setosa</div></th>\n",
              "<th colspan=\"2\" class=\"grouplabel\"><div>versicolor</div></th>\n",
              "<th colspan=\"2\" class=\"grouplabel\"><div>virginica</div></th>\n",
              "</tr>\n",
              "<tr>\n",
              "<th class='rowlabel firstrow lastrow'></th>\n",
              "<th class='firstrow lastrow'><span class='stratlabel'>Kısa<br><span class='stratn'>(N=47)</span></span></th>\n",
              "<th class='firstrow lastrow'><span class='stratlabel'>Uzun<br><span class='stratn'>(N=3)</span></span></th>\n",
              "<th class='firstrow lastrow'><span class='stratlabel'>Kısa<br><span class='stratn'>(N=11)</span></span></th>\n",
              "<th class='firstrow lastrow'><span class='stratlabel'>Uzun<br><span class='stratn'>(N=39)</span></span></th>\n",
              "<th class='firstrow lastrow'><span class='stratlabel'>Kısa<br><span class='stratn'>(N=1)</span></span></th>\n",
              "<th class='firstrow lastrow'><span class='stratlabel'>Uzun<br><span class='stratn'>(N=49)</span></span></th>\n",
              "</tr>\n",
              "</thead>\n",
              "<tbody>\n",
              "<tr>\n",
              "<td class='rowlabel firstrow'>Sepal.Length</td>\n",
              "<td class='firstrow'></td>\n",
              "<td class='firstrow'></td>\n",
              "<td class='firstrow'></td>\n",
              "<td class='firstrow'></td>\n",
              "<td class='firstrow'></td>\n",
              "<td class='firstrow'></td>\n",
              "</tr>\n",
              "<tr>\n",
              "<td class='rowlabel'>Mean (SD)</td>\n",
              "<td>4.96 (0.309)</td>\n",
              "<td>5.73 (0.0577)</td>\n",
              "<td>5.28 (0.244)</td>\n",
              "<td>6.12 (0.411)</td>\n",
              "<td>4.90 (NA)</td>\n",
              "<td>6.62 (0.593)</td>\n",
              "</tr>\n",
              "<tr>\n",
              "<td class='rowlabel lastrow'>Median [Min, Max]</td>\n",
              "<td class='lastrow'>5.00 [4.30, 5.50]</td>\n",
              "<td class='lastrow'>5.70 [5.70, 5.80]</td>\n",
              "<td class='lastrow'>5.40 [4.90, 5.50]</td>\n",
              "<td class='lastrow'>6.10 [5.60, 7.00]</td>\n",
              "<td class='lastrow'>4.90 [4.90, 4.90]</td>\n",
              "<td class='lastrow'>6.50 [5.60, 7.90]</td>\n",
              "</tr>\n",
              "<tr>\n",
              "<td class='rowlabel firstrow'>Sepal.Width</td>\n",
              "<td class='firstrow'></td>\n",
              "<td class='firstrow'></td>\n",
              "<td class='firstrow'></td>\n",
              "<td class='firstrow'></td>\n",
              "<td class='firstrow'></td>\n",
              "<td class='firstrow'></td>\n",
              "</tr>\n",
              "<tr>\n",
              "<td class='rowlabel'>Mean (SD)</td>\n",
              "<td>3.39 (0.347)</td>\n",
              "<td>4.07 (0.306)</td>\n",
              "<td>2.46 (0.254)</td>\n",
              "<td>2.86 (0.274)</td>\n",
              "<td>2.50 (NA)</td>\n",
              "<td>2.98 (0.318)</td>\n",
              "</tr>\n",
              "<tr>\n",
              "<td class='rowlabel lastrow'>Median [Min, Max]</td>\n",
              "<td class='lastrow'>3.40 [2.30, 4.20]</td>\n",
              "<td class='lastrow'>4.00 [3.80, 4.40]</td>\n",
              "<td class='lastrow'>2.40 [2.00, 3.00]</td>\n",
              "<td class='lastrow'>2.90 [2.20, 3.40]</td>\n",
              "<td class='lastrow'>2.50 [2.50, 2.50]</td>\n",
              "<td class='lastrow'>3.00 [2.20, 3.80]</td>\n",
              "</tr>\n",
              "<tr>\n",
              "<td class='rowlabel firstrow'>Petal.Length</td>\n",
              "<td class='firstrow'></td>\n",
              "<td class='firstrow'></td>\n",
              "<td class='firstrow'></td>\n",
              "<td class='firstrow'></td>\n",
              "<td class='firstrow'></td>\n",
              "<td class='firstrow'></td>\n",
              "</tr>\n",
              "<tr>\n",
              "<td class='rowlabel'>Mean (SD)</td>\n",
              "<td>1.46 (0.171)</td>\n",
              "<td>1.47 (0.252)</td>\n",
              "<td>3.76 (0.465)</td>\n",
              "<td>4.40 (0.369)</td>\n",
              "<td>4.50 (NA)</td>\n",
              "<td>5.57 (0.536)</td>\n",
              "</tr>\n",
              "<tr>\n",
              "<td class='rowlabel lastrow'>Median [Min, Max]</td>\n",
              "<td class='lastrow'>1.50 [1.00, 1.90]</td>\n",
              "<td class='lastrow'>1.50 [1.20, 1.70]</td>\n",
              "<td class='lastrow'>3.80 [3.00, 4.50]</td>\n",
              "<td class='lastrow'>4.50 [3.50, 5.10]</td>\n",
              "<td class='lastrow'>4.50 [4.50, 4.50]</td>\n",
              "<td class='lastrow'>5.60 [4.80, 6.90]</td>\n",
              "</tr>\n",
              "<tr>\n",
              "<td class='rowlabel firstrow'>Petal.Width</td>\n",
              "<td class='firstrow'></td>\n",
              "<td class='firstrow'></td>\n",
              "<td class='firstrow'></td>\n",
              "<td class='firstrow'></td>\n",
              "<td class='firstrow'></td>\n",
              "<td class='firstrow'></td>\n",
              "</tr>\n",
              "<tr>\n",
              "<td class='rowlabel'>Mean (SD)</td>\n",
              "<td>0.243 (0.106)</td>\n",
              "<td>0.300 (0.100)</td>\n",
              "<td>1.17 (0.179)</td>\n",
              "<td>1.37 (0.182)</td>\n",
              "<td>1.70 (NA)</td>\n",
              "<td>2.03 (0.273)</td>\n",
              "</tr>\n",
              "<tr>\n",
              "<td class='rowlabel lastrow'>Median [Min, Max]</td>\n",
              "<td class='lastrow'>0.200 [0.100, 0.600]</td>\n",
              "<td class='lastrow'>0.300 [0.200, 0.400]</td>\n",
              "<td class='lastrow'>1.10 [1.00, 1.50]</td>\n",
              "<td class='lastrow'>1.40 [1.00, 1.80]</td>\n",
              "<td class='lastrow'>1.70 [1.70, 1.70]</td>\n",
              "<td class='lastrow'>2.00 [1.40, 2.50]</td>\n",
              "</tr>\n",
              "</tbody>\n",
              "</table>"
            ]
          },
          "metadata": {}
        }
      ]
    },
    {
      "cell_type": "markdown",
      "source": [
        "#### Kitaba geri dön! \n",
        "<img src=\"https://raw.githubusercontent.com/tensorchiefs/dl_book/master/imgs/Page_turn_icon_A.png\" width=\"120\" align=\"left\" />  \n",
        "Bölüm 20.2'yi incelemek için kitaba geri dönebilirsin."
      ],
      "metadata": {
        "id": "6eWD-wAkTBGX"
      }
    },
    {
      "cell_type": "markdown",
      "source": [
        "## **20.2. Student t Dağılımı Tablosu**"
      ],
      "metadata": {
        "id": "moah4XfIS_Gu"
      }
    },
    {
      "cell_type": "code",
      "source": [
        "sd=c(seq(1,30,by=1),seq(40,100,by=10),seq(120,200, by=20),Inf)\n",
        "olasılık<-c(0.75,0.90,0.95,0.975,0.99,0.995,0.999)\n",
        "T.tablo<-matrix(0,nrow=43, ncol=7)\n",
        "for (i in 1:43) {\n",
        "for (j in 1:7) {\n",
        "T.tablo[i,j]=qt(df=sd[i],p=olasılık[j])\n",
        "}}\n",
        "rownames(T.tablo)=sd\n",
        "colnames(T.tablo)=olasılık\n",
        "round(T.tablo,3)"
      ],
      "metadata": {
        "colab": {
          "base_uri": "https://localhost:8080/",
          "height": 1000
        },
        "id": "PZRCo-BiKT9f",
        "outputId": "4c31f131-170d-4430-9ed5-7c797b9f68ba"
      },
      "execution_count": null,
      "outputs": [
        {
          "output_type": "display_data",
          "data": {
            "text/html": [
              "<table class=\"dataframe\">\n",
              "<caption>A matrix: 43 × 7 of type dbl</caption>\n",
              "<thead>\n",
              "\t<tr><th></th><th scope=col>0.75</th><th scope=col>0.9</th><th scope=col>0.95</th><th scope=col>0.975</th><th scope=col>0.99</th><th scope=col>0.995</th><th scope=col>0.999</th></tr>\n",
              "</thead>\n",
              "<tbody>\n",
              "\t<tr><th scope=row>1</th><td>1.000</td><td>3.078</td><td>6.314</td><td>12.706</td><td>31.821</td><td>63.657</td><td>318.309</td></tr>\n",
              "\t<tr><th scope=row>2</th><td>0.816</td><td>1.886</td><td>2.920</td><td> 4.303</td><td> 6.965</td><td> 9.925</td><td> 22.327</td></tr>\n",
              "\t<tr><th scope=row>3</th><td>0.765</td><td>1.638</td><td>2.353</td><td> 3.182</td><td> 4.541</td><td> 5.841</td><td> 10.215</td></tr>\n",
              "\t<tr><th scope=row>4</th><td>0.741</td><td>1.533</td><td>2.132</td><td> 2.776</td><td> 3.747</td><td> 4.604</td><td>  7.173</td></tr>\n",
              "\t<tr><th scope=row>5</th><td>0.727</td><td>1.476</td><td>2.015</td><td> 2.571</td><td> 3.365</td><td> 4.032</td><td>  5.893</td></tr>\n",
              "\t<tr><th scope=row>6</th><td>0.718</td><td>1.440</td><td>1.943</td><td> 2.447</td><td> 3.143</td><td> 3.707</td><td>  5.208</td></tr>\n",
              "\t<tr><th scope=row>7</th><td>0.711</td><td>1.415</td><td>1.895</td><td> 2.365</td><td> 2.998</td><td> 3.499</td><td>  4.785</td></tr>\n",
              "\t<tr><th scope=row>8</th><td>0.706</td><td>1.397</td><td>1.860</td><td> 2.306</td><td> 2.896</td><td> 3.355</td><td>  4.501</td></tr>\n",
              "\t<tr><th scope=row>9</th><td>0.703</td><td>1.383</td><td>1.833</td><td> 2.262</td><td> 2.821</td><td> 3.250</td><td>  4.297</td></tr>\n",
              "\t<tr><th scope=row>10</th><td>0.700</td><td>1.372</td><td>1.812</td><td> 2.228</td><td> 2.764</td><td> 3.169</td><td>  4.144</td></tr>\n",
              "\t<tr><th scope=row>11</th><td>0.697</td><td>1.363</td><td>1.796</td><td> 2.201</td><td> 2.718</td><td> 3.106</td><td>  4.025</td></tr>\n",
              "\t<tr><th scope=row>12</th><td>0.695</td><td>1.356</td><td>1.782</td><td> 2.179</td><td> 2.681</td><td> 3.055</td><td>  3.930</td></tr>\n",
              "\t<tr><th scope=row>13</th><td>0.694</td><td>1.350</td><td>1.771</td><td> 2.160</td><td> 2.650</td><td> 3.012</td><td>  3.852</td></tr>\n",
              "\t<tr><th scope=row>14</th><td>0.692</td><td>1.345</td><td>1.761</td><td> 2.145</td><td> 2.624</td><td> 2.977</td><td>  3.787</td></tr>\n",
              "\t<tr><th scope=row>15</th><td>0.691</td><td>1.341</td><td>1.753</td><td> 2.131</td><td> 2.602</td><td> 2.947</td><td>  3.733</td></tr>\n",
              "\t<tr><th scope=row>16</th><td>0.690</td><td>1.337</td><td>1.746</td><td> 2.120</td><td> 2.583</td><td> 2.921</td><td>  3.686</td></tr>\n",
              "\t<tr><th scope=row>17</th><td>0.689</td><td>1.333</td><td>1.740</td><td> 2.110</td><td> 2.567</td><td> 2.898</td><td>  3.646</td></tr>\n",
              "\t<tr><th scope=row>18</th><td>0.688</td><td>1.330</td><td>1.734</td><td> 2.101</td><td> 2.552</td><td> 2.878</td><td>  3.610</td></tr>\n",
              "\t<tr><th scope=row>19</th><td>0.688</td><td>1.328</td><td>1.729</td><td> 2.093</td><td> 2.539</td><td> 2.861</td><td>  3.579</td></tr>\n",
              "\t<tr><th scope=row>20</th><td>0.687</td><td>1.325</td><td>1.725</td><td> 2.086</td><td> 2.528</td><td> 2.845</td><td>  3.552</td></tr>\n",
              "\t<tr><th scope=row>21</th><td>0.686</td><td>1.323</td><td>1.721</td><td> 2.080</td><td> 2.518</td><td> 2.831</td><td>  3.527</td></tr>\n",
              "\t<tr><th scope=row>22</th><td>0.686</td><td>1.321</td><td>1.717</td><td> 2.074</td><td> 2.508</td><td> 2.819</td><td>  3.505</td></tr>\n",
              "\t<tr><th scope=row>23</th><td>0.685</td><td>1.319</td><td>1.714</td><td> 2.069</td><td> 2.500</td><td> 2.807</td><td>  3.485</td></tr>\n",
              "\t<tr><th scope=row>24</th><td>0.685</td><td>1.318</td><td>1.711</td><td> 2.064</td><td> 2.492</td><td> 2.797</td><td>  3.467</td></tr>\n",
              "\t<tr><th scope=row>25</th><td>0.684</td><td>1.316</td><td>1.708</td><td> 2.060</td><td> 2.485</td><td> 2.787</td><td>  3.450</td></tr>\n",
              "\t<tr><th scope=row>26</th><td>0.684</td><td>1.315</td><td>1.706</td><td> 2.056</td><td> 2.479</td><td> 2.779</td><td>  3.435</td></tr>\n",
              "\t<tr><th scope=row>27</th><td>0.684</td><td>1.314</td><td>1.703</td><td> 2.052</td><td> 2.473</td><td> 2.771</td><td>  3.421</td></tr>\n",
              "\t<tr><th scope=row>28</th><td>0.683</td><td>1.313</td><td>1.701</td><td> 2.048</td><td> 2.467</td><td> 2.763</td><td>  3.408</td></tr>\n",
              "\t<tr><th scope=row>29</th><td>0.683</td><td>1.311</td><td>1.699</td><td> 2.045</td><td> 2.462</td><td> 2.756</td><td>  3.396</td></tr>\n",
              "\t<tr><th scope=row>30</th><td>0.683</td><td>1.310</td><td>1.697</td><td> 2.042</td><td> 2.457</td><td> 2.750</td><td>  3.385</td></tr>\n",
              "\t<tr><th scope=row>40</th><td>0.681</td><td>1.303</td><td>1.684</td><td> 2.021</td><td> 2.423</td><td> 2.704</td><td>  3.307</td></tr>\n",
              "\t<tr><th scope=row>50</th><td>0.679</td><td>1.299</td><td>1.676</td><td> 2.009</td><td> 2.403</td><td> 2.678</td><td>  3.261</td></tr>\n",
              "\t<tr><th scope=row>60</th><td>0.679</td><td>1.296</td><td>1.671</td><td> 2.000</td><td> 2.390</td><td> 2.660</td><td>  3.232</td></tr>\n",
              "\t<tr><th scope=row>70</th><td>0.678</td><td>1.294</td><td>1.667</td><td> 1.994</td><td> 2.381</td><td> 2.648</td><td>  3.211</td></tr>\n",
              "\t<tr><th scope=row>80</th><td>0.678</td><td>1.292</td><td>1.664</td><td> 1.990</td><td> 2.374</td><td> 2.639</td><td>  3.195</td></tr>\n",
              "\t<tr><th scope=row>90</th><td>0.677</td><td>1.291</td><td>1.662</td><td> 1.987</td><td> 2.368</td><td> 2.632</td><td>  3.183</td></tr>\n",
              "\t<tr><th scope=row>100</th><td>0.677</td><td>1.290</td><td>1.660</td><td> 1.984</td><td> 2.364</td><td> 2.626</td><td>  3.174</td></tr>\n",
              "\t<tr><th scope=row>120</th><td>0.677</td><td>1.289</td><td>1.658</td><td> 1.980</td><td> 2.358</td><td> 2.617</td><td>  3.160</td></tr>\n",
              "\t<tr><th scope=row>140</th><td>0.676</td><td>1.288</td><td>1.656</td><td> 1.977</td><td> 2.353</td><td> 2.611</td><td>  3.149</td></tr>\n",
              "\t<tr><th scope=row>160</th><td>0.676</td><td>1.287</td><td>1.654</td><td> 1.975</td><td> 2.350</td><td> 2.607</td><td>  3.142</td></tr>\n",
              "\t<tr><th scope=row>180</th><td>0.676</td><td>1.286</td><td>1.653</td><td> 1.973</td><td> 2.347</td><td> 2.603</td><td>  3.136</td></tr>\n",
              "\t<tr><th scope=row>200</th><td>0.676</td><td>1.286</td><td>1.653</td><td> 1.972</td><td> 2.345</td><td> 2.601</td><td>  3.131</td></tr>\n",
              "\t<tr><th scope=row>Inf</th><td>0.674</td><td>1.282</td><td>1.645</td><td> 1.960</td><td> 2.326</td><td> 2.576</td><td>  3.090</td></tr>\n",
              "</tbody>\n",
              "</table>\n"
            ],
            "text/markdown": "\nA matrix: 43 × 7 of type dbl\n\n| <!--/--> | 0.75 | 0.9 | 0.95 | 0.975 | 0.99 | 0.995 | 0.999 |\n|---|---|---|---|---|---|---|---|\n| 1 | 1.000 | 3.078 | 6.314 | 12.706 | 31.821 | 63.657 | 318.309 |\n| 2 | 0.816 | 1.886 | 2.920 |  4.303 |  6.965 |  9.925 |  22.327 |\n| 3 | 0.765 | 1.638 | 2.353 |  3.182 |  4.541 |  5.841 |  10.215 |\n| 4 | 0.741 | 1.533 | 2.132 |  2.776 |  3.747 |  4.604 |   7.173 |\n| 5 | 0.727 | 1.476 | 2.015 |  2.571 |  3.365 |  4.032 |   5.893 |\n| 6 | 0.718 | 1.440 | 1.943 |  2.447 |  3.143 |  3.707 |   5.208 |\n| 7 | 0.711 | 1.415 | 1.895 |  2.365 |  2.998 |  3.499 |   4.785 |\n| 8 | 0.706 | 1.397 | 1.860 |  2.306 |  2.896 |  3.355 |   4.501 |\n| 9 | 0.703 | 1.383 | 1.833 |  2.262 |  2.821 |  3.250 |   4.297 |\n| 10 | 0.700 | 1.372 | 1.812 |  2.228 |  2.764 |  3.169 |   4.144 |\n| 11 | 0.697 | 1.363 | 1.796 |  2.201 |  2.718 |  3.106 |   4.025 |\n| 12 | 0.695 | 1.356 | 1.782 |  2.179 |  2.681 |  3.055 |   3.930 |\n| 13 | 0.694 | 1.350 | 1.771 |  2.160 |  2.650 |  3.012 |   3.852 |\n| 14 | 0.692 | 1.345 | 1.761 |  2.145 |  2.624 |  2.977 |   3.787 |\n| 15 | 0.691 | 1.341 | 1.753 |  2.131 |  2.602 |  2.947 |   3.733 |\n| 16 | 0.690 | 1.337 | 1.746 |  2.120 |  2.583 |  2.921 |   3.686 |\n| 17 | 0.689 | 1.333 | 1.740 |  2.110 |  2.567 |  2.898 |   3.646 |\n| 18 | 0.688 | 1.330 | 1.734 |  2.101 |  2.552 |  2.878 |   3.610 |\n| 19 | 0.688 | 1.328 | 1.729 |  2.093 |  2.539 |  2.861 |   3.579 |\n| 20 | 0.687 | 1.325 | 1.725 |  2.086 |  2.528 |  2.845 |   3.552 |\n| 21 | 0.686 | 1.323 | 1.721 |  2.080 |  2.518 |  2.831 |   3.527 |\n| 22 | 0.686 | 1.321 | 1.717 |  2.074 |  2.508 |  2.819 |   3.505 |\n| 23 | 0.685 | 1.319 | 1.714 |  2.069 |  2.500 |  2.807 |   3.485 |\n| 24 | 0.685 | 1.318 | 1.711 |  2.064 |  2.492 |  2.797 |   3.467 |\n| 25 | 0.684 | 1.316 | 1.708 |  2.060 |  2.485 |  2.787 |   3.450 |\n| 26 | 0.684 | 1.315 | 1.706 |  2.056 |  2.479 |  2.779 |   3.435 |\n| 27 | 0.684 | 1.314 | 1.703 |  2.052 |  2.473 |  2.771 |   3.421 |\n| 28 | 0.683 | 1.313 | 1.701 |  2.048 |  2.467 |  2.763 |   3.408 |\n| 29 | 0.683 | 1.311 | 1.699 |  2.045 |  2.462 |  2.756 |   3.396 |\n| 30 | 0.683 | 1.310 | 1.697 |  2.042 |  2.457 |  2.750 |   3.385 |\n| 40 | 0.681 | 1.303 | 1.684 |  2.021 |  2.423 |  2.704 |   3.307 |\n| 50 | 0.679 | 1.299 | 1.676 |  2.009 |  2.403 |  2.678 |   3.261 |\n| 60 | 0.679 | 1.296 | 1.671 |  2.000 |  2.390 |  2.660 |   3.232 |\n| 70 | 0.678 | 1.294 | 1.667 |  1.994 |  2.381 |  2.648 |   3.211 |\n| 80 | 0.678 | 1.292 | 1.664 |  1.990 |  2.374 |  2.639 |   3.195 |\n| 90 | 0.677 | 1.291 | 1.662 |  1.987 |  2.368 |  2.632 |   3.183 |\n| 100 | 0.677 | 1.290 | 1.660 |  1.984 |  2.364 |  2.626 |   3.174 |\n| 120 | 0.677 | 1.289 | 1.658 |  1.980 |  2.358 |  2.617 |   3.160 |\n| 140 | 0.676 | 1.288 | 1.656 |  1.977 |  2.353 |  2.611 |   3.149 |\n| 160 | 0.676 | 1.287 | 1.654 |  1.975 |  2.350 |  2.607 |   3.142 |\n| 180 | 0.676 | 1.286 | 1.653 |  1.973 |  2.347 |  2.603 |   3.136 |\n| 200 | 0.676 | 1.286 | 1.653 |  1.972 |  2.345 |  2.601 |   3.131 |\n| Inf | 0.674 | 1.282 | 1.645 |  1.960 |  2.326 |  2.576 |   3.090 |\n\n",
            "text/latex": "A matrix: 43 × 7 of type dbl\n\\begin{tabular}{r|lllllll}\n  & 0.75 & 0.9 & 0.95 & 0.975 & 0.99 & 0.995 & 0.999\\\\\n\\hline\n\t1 & 1.000 & 3.078 & 6.314 & 12.706 & 31.821 & 63.657 & 318.309\\\\\n\t2 & 0.816 & 1.886 & 2.920 &  4.303 &  6.965 &  9.925 &  22.327\\\\\n\t3 & 0.765 & 1.638 & 2.353 &  3.182 &  4.541 &  5.841 &  10.215\\\\\n\t4 & 0.741 & 1.533 & 2.132 &  2.776 &  3.747 &  4.604 &   7.173\\\\\n\t5 & 0.727 & 1.476 & 2.015 &  2.571 &  3.365 &  4.032 &   5.893\\\\\n\t6 & 0.718 & 1.440 & 1.943 &  2.447 &  3.143 &  3.707 &   5.208\\\\\n\t7 & 0.711 & 1.415 & 1.895 &  2.365 &  2.998 &  3.499 &   4.785\\\\\n\t8 & 0.706 & 1.397 & 1.860 &  2.306 &  2.896 &  3.355 &   4.501\\\\\n\t9 & 0.703 & 1.383 & 1.833 &  2.262 &  2.821 &  3.250 &   4.297\\\\\n\t10 & 0.700 & 1.372 & 1.812 &  2.228 &  2.764 &  3.169 &   4.144\\\\\n\t11 & 0.697 & 1.363 & 1.796 &  2.201 &  2.718 &  3.106 &   4.025\\\\\n\t12 & 0.695 & 1.356 & 1.782 &  2.179 &  2.681 &  3.055 &   3.930\\\\\n\t13 & 0.694 & 1.350 & 1.771 &  2.160 &  2.650 &  3.012 &   3.852\\\\\n\t14 & 0.692 & 1.345 & 1.761 &  2.145 &  2.624 &  2.977 &   3.787\\\\\n\t15 & 0.691 & 1.341 & 1.753 &  2.131 &  2.602 &  2.947 &   3.733\\\\\n\t16 & 0.690 & 1.337 & 1.746 &  2.120 &  2.583 &  2.921 &   3.686\\\\\n\t17 & 0.689 & 1.333 & 1.740 &  2.110 &  2.567 &  2.898 &   3.646\\\\\n\t18 & 0.688 & 1.330 & 1.734 &  2.101 &  2.552 &  2.878 &   3.610\\\\\n\t19 & 0.688 & 1.328 & 1.729 &  2.093 &  2.539 &  2.861 &   3.579\\\\\n\t20 & 0.687 & 1.325 & 1.725 &  2.086 &  2.528 &  2.845 &   3.552\\\\\n\t21 & 0.686 & 1.323 & 1.721 &  2.080 &  2.518 &  2.831 &   3.527\\\\\n\t22 & 0.686 & 1.321 & 1.717 &  2.074 &  2.508 &  2.819 &   3.505\\\\\n\t23 & 0.685 & 1.319 & 1.714 &  2.069 &  2.500 &  2.807 &   3.485\\\\\n\t24 & 0.685 & 1.318 & 1.711 &  2.064 &  2.492 &  2.797 &   3.467\\\\\n\t25 & 0.684 & 1.316 & 1.708 &  2.060 &  2.485 &  2.787 &   3.450\\\\\n\t26 & 0.684 & 1.315 & 1.706 &  2.056 &  2.479 &  2.779 &   3.435\\\\\n\t27 & 0.684 & 1.314 & 1.703 &  2.052 &  2.473 &  2.771 &   3.421\\\\\n\t28 & 0.683 & 1.313 & 1.701 &  2.048 &  2.467 &  2.763 &   3.408\\\\\n\t29 & 0.683 & 1.311 & 1.699 &  2.045 &  2.462 &  2.756 &   3.396\\\\\n\t30 & 0.683 & 1.310 & 1.697 &  2.042 &  2.457 &  2.750 &   3.385\\\\\n\t40 & 0.681 & 1.303 & 1.684 &  2.021 &  2.423 &  2.704 &   3.307\\\\\n\t50 & 0.679 & 1.299 & 1.676 &  2.009 &  2.403 &  2.678 &   3.261\\\\\n\t60 & 0.679 & 1.296 & 1.671 &  2.000 &  2.390 &  2.660 &   3.232\\\\\n\t70 & 0.678 & 1.294 & 1.667 &  1.994 &  2.381 &  2.648 &   3.211\\\\\n\t80 & 0.678 & 1.292 & 1.664 &  1.990 &  2.374 &  2.639 &   3.195\\\\\n\t90 & 0.677 & 1.291 & 1.662 &  1.987 &  2.368 &  2.632 &   3.183\\\\\n\t100 & 0.677 & 1.290 & 1.660 &  1.984 &  2.364 &  2.626 &   3.174\\\\\n\t120 & 0.677 & 1.289 & 1.658 &  1.980 &  2.358 &  2.617 &   3.160\\\\\n\t140 & 0.676 & 1.288 & 1.656 &  1.977 &  2.353 &  2.611 &   3.149\\\\\n\t160 & 0.676 & 1.287 & 1.654 &  1.975 &  2.350 &  2.607 &   3.142\\\\\n\t180 & 0.676 & 1.286 & 1.653 &  1.973 &  2.347 &  2.603 &   3.136\\\\\n\t200 & 0.676 & 1.286 & 1.653 &  1.972 &  2.345 &  2.601 &   3.131\\\\\n\tInf & 0.674 & 1.282 & 1.645 &  1.960 &  2.326 &  2.576 &   3.090\\\\\n\\end{tabular}\n",
            "text/plain": [
              "    0.75  0.9   0.95  0.975  0.99   0.995  0.999  \n",
              "1   1.000 3.078 6.314 12.706 31.821 63.657 318.309\n",
              "2   0.816 1.886 2.920  4.303  6.965  9.925  22.327\n",
              "3   0.765 1.638 2.353  3.182  4.541  5.841  10.215\n",
              "4   0.741 1.533 2.132  2.776  3.747  4.604   7.173\n",
              "5   0.727 1.476 2.015  2.571  3.365  4.032   5.893\n",
              "6   0.718 1.440 1.943  2.447  3.143  3.707   5.208\n",
              "7   0.711 1.415 1.895  2.365  2.998  3.499   4.785\n",
              "8   0.706 1.397 1.860  2.306  2.896  3.355   4.501\n",
              "9   0.703 1.383 1.833  2.262  2.821  3.250   4.297\n",
              "10  0.700 1.372 1.812  2.228  2.764  3.169   4.144\n",
              "11  0.697 1.363 1.796  2.201  2.718  3.106   4.025\n",
              "12  0.695 1.356 1.782  2.179  2.681  3.055   3.930\n",
              "13  0.694 1.350 1.771  2.160  2.650  3.012   3.852\n",
              "14  0.692 1.345 1.761  2.145  2.624  2.977   3.787\n",
              "15  0.691 1.341 1.753  2.131  2.602  2.947   3.733\n",
              "16  0.690 1.337 1.746  2.120  2.583  2.921   3.686\n",
              "17  0.689 1.333 1.740  2.110  2.567  2.898   3.646\n",
              "18  0.688 1.330 1.734  2.101  2.552  2.878   3.610\n",
              "19  0.688 1.328 1.729  2.093  2.539  2.861   3.579\n",
              "20  0.687 1.325 1.725  2.086  2.528  2.845   3.552\n",
              "21  0.686 1.323 1.721  2.080  2.518  2.831   3.527\n",
              "22  0.686 1.321 1.717  2.074  2.508  2.819   3.505\n",
              "23  0.685 1.319 1.714  2.069  2.500  2.807   3.485\n",
              "24  0.685 1.318 1.711  2.064  2.492  2.797   3.467\n",
              "25  0.684 1.316 1.708  2.060  2.485  2.787   3.450\n",
              "26  0.684 1.315 1.706  2.056  2.479  2.779   3.435\n",
              "27  0.684 1.314 1.703  2.052  2.473  2.771   3.421\n",
              "28  0.683 1.313 1.701  2.048  2.467  2.763   3.408\n",
              "29  0.683 1.311 1.699  2.045  2.462  2.756   3.396\n",
              "30  0.683 1.310 1.697  2.042  2.457  2.750   3.385\n",
              "40  0.681 1.303 1.684  2.021  2.423  2.704   3.307\n",
              "50  0.679 1.299 1.676  2.009  2.403  2.678   3.261\n",
              "60  0.679 1.296 1.671  2.000  2.390  2.660   3.232\n",
              "70  0.678 1.294 1.667  1.994  2.381  2.648   3.211\n",
              "80  0.678 1.292 1.664  1.990  2.374  2.639   3.195\n",
              "90  0.677 1.291 1.662  1.987  2.368  2.632   3.183\n",
              "100 0.677 1.290 1.660  1.984  2.364  2.626   3.174\n",
              "120 0.677 1.289 1.658  1.980  2.358  2.617   3.160\n",
              "140 0.676 1.288 1.656  1.977  2.353  2.611   3.149\n",
              "160 0.676 1.287 1.654  1.975  2.350  2.607   3.142\n",
              "180 0.676 1.286 1.653  1.973  2.347  2.603   3.136\n",
              "200 0.676 1.286 1.653  1.972  2.345  2.601   3.131\n",
              "Inf 0.674 1.282 1.645  1.960  2.326  2.576   3.090"
            ]
          },
          "metadata": {}
        }
      ]
    },
    {
      "cell_type": "markdown",
      "source": [
        "#### Kitaba geri dön! \n",
        "<img src=\"https://raw.githubusercontent.com/tensorchiefs/dl_book/master/imgs/Page_turn_icon_A.png\" width=\"120\" align=\"left\" />  \n",
        "Bölüm 20.3'ü incelemek için kitaba geri dönebilirsin."
      ],
      "metadata": {
        "id": "ATds7eokLBeL"
      }
    },
    {
      "cell_type": "markdown",
      "source": [
        "### **20.3. Kikare Dağılımı Tablosu**"
      ],
      "metadata": {
        "id": "axOQL_FtU8G1"
      }
    },
    {
      "cell_type": "code",
      "source": [
        "sd=c(seq(1,30,by=1),seq(40,100,by=10))\n",
        "olasılık<-c(0.005,0.025,0.05,0.90,0.95,0.975,0.99,0.995,0.999)\n",
        "Kikare.tablo<-matrix(0,nrow=37, ncol=9)\n",
        "for (i in 1:37) {\n",
        "for (j in 1:9) {\n",
        "Kikare.tablo[i,j]=qchisq(df=sd[i],p=olasılık[j])\n",
        "}}\n",
        "rownames(Kikare.tablo)=sd\n",
        "colnames(Kikare.tablo)=olasılık\n",
        "round(Kikare.tablo,3)"
      ],
      "metadata": {
        "id": "hwjLLQl6W8AA",
        "colab": {
          "base_uri": "https://localhost:8080/",
          "height": 1000
        },
        "outputId": "25b20d80-0789-4635-91e8-a30d573562cf"
      },
      "execution_count": null,
      "outputs": [
        {
          "output_type": "display_data",
          "data": {
            "text/html": [
              "<table class=\"dataframe\">\n",
              "<caption>A matrix: 37 × 9 of type dbl</caption>\n",
              "<thead>\n",
              "\t<tr><th></th><th scope=col>0.005</th><th scope=col>0.025</th><th scope=col>0.05</th><th scope=col>0.9</th><th scope=col>0.95</th><th scope=col>0.975</th><th scope=col>0.99</th><th scope=col>0.995</th><th scope=col>0.999</th></tr>\n",
              "</thead>\n",
              "<tbody>\n",
              "\t<tr><th scope=row>1</th><td> 0.000</td><td> 0.001</td><td> 0.004</td><td>  2.706</td><td>  3.841</td><td>  5.024</td><td>  6.635</td><td>  7.879</td><td> 10.828</td></tr>\n",
              "\t<tr><th scope=row>2</th><td> 0.010</td><td> 0.051</td><td> 0.103</td><td>  4.605</td><td>  5.991</td><td>  7.378</td><td>  9.210</td><td> 10.597</td><td> 13.816</td></tr>\n",
              "\t<tr><th scope=row>3</th><td> 0.072</td><td> 0.216</td><td> 0.352</td><td>  6.251</td><td>  7.815</td><td>  9.348</td><td> 11.345</td><td> 12.838</td><td> 16.266</td></tr>\n",
              "\t<tr><th scope=row>4</th><td> 0.207</td><td> 0.484</td><td> 0.711</td><td>  7.779</td><td>  9.488</td><td> 11.143</td><td> 13.277</td><td> 14.860</td><td> 18.467</td></tr>\n",
              "\t<tr><th scope=row>5</th><td> 0.412</td><td> 0.831</td><td> 1.145</td><td>  9.236</td><td> 11.070</td><td> 12.833</td><td> 15.086</td><td> 16.750</td><td> 20.515</td></tr>\n",
              "\t<tr><th scope=row>6</th><td> 0.676</td><td> 1.237</td><td> 1.635</td><td> 10.645</td><td> 12.592</td><td> 14.449</td><td> 16.812</td><td> 18.548</td><td> 22.458</td></tr>\n",
              "\t<tr><th scope=row>7</th><td> 0.989</td><td> 1.690</td><td> 2.167</td><td> 12.017</td><td> 14.067</td><td> 16.013</td><td> 18.475</td><td> 20.278</td><td> 24.322</td></tr>\n",
              "\t<tr><th scope=row>8</th><td> 1.344</td><td> 2.180</td><td> 2.733</td><td> 13.362</td><td> 15.507</td><td> 17.535</td><td> 20.090</td><td> 21.955</td><td> 26.124</td></tr>\n",
              "\t<tr><th scope=row>9</th><td> 1.735</td><td> 2.700</td><td> 3.325</td><td> 14.684</td><td> 16.919</td><td> 19.023</td><td> 21.666</td><td> 23.589</td><td> 27.877</td></tr>\n",
              "\t<tr><th scope=row>10</th><td> 2.156</td><td> 3.247</td><td> 3.940</td><td> 15.987</td><td> 18.307</td><td> 20.483</td><td> 23.209</td><td> 25.188</td><td> 29.588</td></tr>\n",
              "\t<tr><th scope=row>11</th><td> 2.603</td><td> 3.816</td><td> 4.575</td><td> 17.275</td><td> 19.675</td><td> 21.920</td><td> 24.725</td><td> 26.757</td><td> 31.264</td></tr>\n",
              "\t<tr><th scope=row>12</th><td> 3.074</td><td> 4.404</td><td> 5.226</td><td> 18.549</td><td> 21.026</td><td> 23.337</td><td> 26.217</td><td> 28.300</td><td> 32.909</td></tr>\n",
              "\t<tr><th scope=row>13</th><td> 3.565</td><td> 5.009</td><td> 5.892</td><td> 19.812</td><td> 22.362</td><td> 24.736</td><td> 27.688</td><td> 29.819</td><td> 34.528</td></tr>\n",
              "\t<tr><th scope=row>14</th><td> 4.075</td><td> 5.629</td><td> 6.571</td><td> 21.064</td><td> 23.685</td><td> 26.119</td><td> 29.141</td><td> 31.319</td><td> 36.123</td></tr>\n",
              "\t<tr><th scope=row>15</th><td> 4.601</td><td> 6.262</td><td> 7.261</td><td> 22.307</td><td> 24.996</td><td> 27.488</td><td> 30.578</td><td> 32.801</td><td> 37.697</td></tr>\n",
              "\t<tr><th scope=row>16</th><td> 5.142</td><td> 6.908</td><td> 7.962</td><td> 23.542</td><td> 26.296</td><td> 28.845</td><td> 32.000</td><td> 34.267</td><td> 39.252</td></tr>\n",
              "\t<tr><th scope=row>17</th><td> 5.697</td><td> 7.564</td><td> 8.672</td><td> 24.769</td><td> 27.587</td><td> 30.191</td><td> 33.409</td><td> 35.718</td><td> 40.790</td></tr>\n",
              "\t<tr><th scope=row>18</th><td> 6.265</td><td> 8.231</td><td> 9.390</td><td> 25.989</td><td> 28.869</td><td> 31.526</td><td> 34.805</td><td> 37.156</td><td> 42.312</td></tr>\n",
              "\t<tr><th scope=row>19</th><td> 6.844</td><td> 8.907</td><td>10.117</td><td> 27.204</td><td> 30.144</td><td> 32.852</td><td> 36.191</td><td> 38.582</td><td> 43.820</td></tr>\n",
              "\t<tr><th scope=row>20</th><td> 7.434</td><td> 9.591</td><td>10.851</td><td> 28.412</td><td> 31.410</td><td> 34.170</td><td> 37.566</td><td> 39.997</td><td> 45.315</td></tr>\n",
              "\t<tr><th scope=row>21</th><td> 8.034</td><td>10.283</td><td>11.591</td><td> 29.615</td><td> 32.671</td><td> 35.479</td><td> 38.932</td><td> 41.401</td><td> 46.797</td></tr>\n",
              "\t<tr><th scope=row>22</th><td> 8.643</td><td>10.982</td><td>12.338</td><td> 30.813</td><td> 33.924</td><td> 36.781</td><td> 40.289</td><td> 42.796</td><td> 48.268</td></tr>\n",
              "\t<tr><th scope=row>23</th><td> 9.260</td><td>11.689</td><td>13.091</td><td> 32.007</td><td> 35.172</td><td> 38.076</td><td> 41.638</td><td> 44.181</td><td> 49.728</td></tr>\n",
              "\t<tr><th scope=row>24</th><td> 9.886</td><td>12.401</td><td>13.848</td><td> 33.196</td><td> 36.415</td><td> 39.364</td><td> 42.980</td><td> 45.559</td><td> 51.179</td></tr>\n",
              "\t<tr><th scope=row>25</th><td>10.520</td><td>13.120</td><td>14.611</td><td> 34.382</td><td> 37.652</td><td> 40.646</td><td> 44.314</td><td> 46.928</td><td> 52.620</td></tr>\n",
              "\t<tr><th scope=row>26</th><td>11.160</td><td>13.844</td><td>15.379</td><td> 35.563</td><td> 38.885</td><td> 41.923</td><td> 45.642</td><td> 48.290</td><td> 54.052</td></tr>\n",
              "\t<tr><th scope=row>27</th><td>11.808</td><td>14.573</td><td>16.151</td><td> 36.741</td><td> 40.113</td><td> 43.195</td><td> 46.963</td><td> 49.645</td><td> 55.476</td></tr>\n",
              "\t<tr><th scope=row>28</th><td>12.461</td><td>15.308</td><td>16.928</td><td> 37.916</td><td> 41.337</td><td> 44.461</td><td> 48.278</td><td> 50.993</td><td> 56.892</td></tr>\n",
              "\t<tr><th scope=row>29</th><td>13.121</td><td>16.047</td><td>17.708</td><td> 39.087</td><td> 42.557</td><td> 45.722</td><td> 49.588</td><td> 52.336</td><td> 58.301</td></tr>\n",
              "\t<tr><th scope=row>30</th><td>13.787</td><td>16.791</td><td>18.493</td><td> 40.256</td><td> 43.773</td><td> 46.979</td><td> 50.892</td><td> 53.672</td><td> 59.703</td></tr>\n",
              "\t<tr><th scope=row>40</th><td>20.707</td><td>24.433</td><td>26.509</td><td> 51.805</td><td> 55.758</td><td> 59.342</td><td> 63.691</td><td> 66.766</td><td> 73.402</td></tr>\n",
              "\t<tr><th scope=row>50</th><td>27.991</td><td>32.357</td><td>34.764</td><td> 63.167</td><td> 67.505</td><td> 71.420</td><td> 76.154</td><td> 79.490</td><td> 86.661</td></tr>\n",
              "\t<tr><th scope=row>60</th><td>35.534</td><td>40.482</td><td>43.188</td><td> 74.397</td><td> 79.082</td><td> 83.298</td><td> 88.379</td><td> 91.952</td><td> 99.607</td></tr>\n",
              "\t<tr><th scope=row>70</th><td>43.275</td><td>48.758</td><td>51.739</td><td> 85.527</td><td> 90.531</td><td> 95.023</td><td>100.425</td><td>104.215</td><td>112.317</td></tr>\n",
              "\t<tr><th scope=row>80</th><td>51.172</td><td>57.153</td><td>60.391</td><td> 96.578</td><td>101.879</td><td>106.629</td><td>112.329</td><td>116.321</td><td>124.839</td></tr>\n",
              "\t<tr><th scope=row>90</th><td>59.196</td><td>65.647</td><td>69.126</td><td>107.565</td><td>113.145</td><td>118.136</td><td>124.116</td><td>128.299</td><td>137.208</td></tr>\n",
              "\t<tr><th scope=row>100</th><td>67.328</td><td>74.222</td><td>77.929</td><td>118.498</td><td>124.342</td><td>129.561</td><td>135.807</td><td>140.169</td><td>149.449</td></tr>\n",
              "</tbody>\n",
              "</table>\n"
            ],
            "text/markdown": "\nA matrix: 37 × 9 of type dbl\n\n| <!--/--> | 0.005 | 0.025 | 0.05 | 0.9 | 0.95 | 0.975 | 0.99 | 0.995 | 0.999 |\n|---|---|---|---|---|---|---|---|---|---|\n| 1 |  0.000 |  0.001 |  0.004 |   2.706 |   3.841 |   5.024 |   6.635 |   7.879 |  10.828 |\n| 2 |  0.010 |  0.051 |  0.103 |   4.605 |   5.991 |   7.378 |   9.210 |  10.597 |  13.816 |\n| 3 |  0.072 |  0.216 |  0.352 |   6.251 |   7.815 |   9.348 |  11.345 |  12.838 |  16.266 |\n| 4 |  0.207 |  0.484 |  0.711 |   7.779 |   9.488 |  11.143 |  13.277 |  14.860 |  18.467 |\n| 5 |  0.412 |  0.831 |  1.145 |   9.236 |  11.070 |  12.833 |  15.086 |  16.750 |  20.515 |\n| 6 |  0.676 |  1.237 |  1.635 |  10.645 |  12.592 |  14.449 |  16.812 |  18.548 |  22.458 |\n| 7 |  0.989 |  1.690 |  2.167 |  12.017 |  14.067 |  16.013 |  18.475 |  20.278 |  24.322 |\n| 8 |  1.344 |  2.180 |  2.733 |  13.362 |  15.507 |  17.535 |  20.090 |  21.955 |  26.124 |\n| 9 |  1.735 |  2.700 |  3.325 |  14.684 |  16.919 |  19.023 |  21.666 |  23.589 |  27.877 |\n| 10 |  2.156 |  3.247 |  3.940 |  15.987 |  18.307 |  20.483 |  23.209 |  25.188 |  29.588 |\n| 11 |  2.603 |  3.816 |  4.575 |  17.275 |  19.675 |  21.920 |  24.725 |  26.757 |  31.264 |\n| 12 |  3.074 |  4.404 |  5.226 |  18.549 |  21.026 |  23.337 |  26.217 |  28.300 |  32.909 |\n| 13 |  3.565 |  5.009 |  5.892 |  19.812 |  22.362 |  24.736 |  27.688 |  29.819 |  34.528 |\n| 14 |  4.075 |  5.629 |  6.571 |  21.064 |  23.685 |  26.119 |  29.141 |  31.319 |  36.123 |\n| 15 |  4.601 |  6.262 |  7.261 |  22.307 |  24.996 |  27.488 |  30.578 |  32.801 |  37.697 |\n| 16 |  5.142 |  6.908 |  7.962 |  23.542 |  26.296 |  28.845 |  32.000 |  34.267 |  39.252 |\n| 17 |  5.697 |  7.564 |  8.672 |  24.769 |  27.587 |  30.191 |  33.409 |  35.718 |  40.790 |\n| 18 |  6.265 |  8.231 |  9.390 |  25.989 |  28.869 |  31.526 |  34.805 |  37.156 |  42.312 |\n| 19 |  6.844 |  8.907 | 10.117 |  27.204 |  30.144 |  32.852 |  36.191 |  38.582 |  43.820 |\n| 20 |  7.434 |  9.591 | 10.851 |  28.412 |  31.410 |  34.170 |  37.566 |  39.997 |  45.315 |\n| 21 |  8.034 | 10.283 | 11.591 |  29.615 |  32.671 |  35.479 |  38.932 |  41.401 |  46.797 |\n| 22 |  8.643 | 10.982 | 12.338 |  30.813 |  33.924 |  36.781 |  40.289 |  42.796 |  48.268 |\n| 23 |  9.260 | 11.689 | 13.091 |  32.007 |  35.172 |  38.076 |  41.638 |  44.181 |  49.728 |\n| 24 |  9.886 | 12.401 | 13.848 |  33.196 |  36.415 |  39.364 |  42.980 |  45.559 |  51.179 |\n| 25 | 10.520 | 13.120 | 14.611 |  34.382 |  37.652 |  40.646 |  44.314 |  46.928 |  52.620 |\n| 26 | 11.160 | 13.844 | 15.379 |  35.563 |  38.885 |  41.923 |  45.642 |  48.290 |  54.052 |\n| 27 | 11.808 | 14.573 | 16.151 |  36.741 |  40.113 |  43.195 |  46.963 |  49.645 |  55.476 |\n| 28 | 12.461 | 15.308 | 16.928 |  37.916 |  41.337 |  44.461 |  48.278 |  50.993 |  56.892 |\n| 29 | 13.121 | 16.047 | 17.708 |  39.087 |  42.557 |  45.722 |  49.588 |  52.336 |  58.301 |\n| 30 | 13.787 | 16.791 | 18.493 |  40.256 |  43.773 |  46.979 |  50.892 |  53.672 |  59.703 |\n| 40 | 20.707 | 24.433 | 26.509 |  51.805 |  55.758 |  59.342 |  63.691 |  66.766 |  73.402 |\n| 50 | 27.991 | 32.357 | 34.764 |  63.167 |  67.505 |  71.420 |  76.154 |  79.490 |  86.661 |\n| 60 | 35.534 | 40.482 | 43.188 |  74.397 |  79.082 |  83.298 |  88.379 |  91.952 |  99.607 |\n| 70 | 43.275 | 48.758 | 51.739 |  85.527 |  90.531 |  95.023 | 100.425 | 104.215 | 112.317 |\n| 80 | 51.172 | 57.153 | 60.391 |  96.578 | 101.879 | 106.629 | 112.329 | 116.321 | 124.839 |\n| 90 | 59.196 | 65.647 | 69.126 | 107.565 | 113.145 | 118.136 | 124.116 | 128.299 | 137.208 |\n| 100 | 67.328 | 74.222 | 77.929 | 118.498 | 124.342 | 129.561 | 135.807 | 140.169 | 149.449 |\n\n",
            "text/latex": "A matrix: 37 × 9 of type dbl\n\\begin{tabular}{r|lllllllll}\n  & 0.005 & 0.025 & 0.05 & 0.9 & 0.95 & 0.975 & 0.99 & 0.995 & 0.999\\\\\n\\hline\n\t1 &  0.000 &  0.001 &  0.004 &   2.706 &   3.841 &   5.024 &   6.635 &   7.879 &  10.828\\\\\n\t2 &  0.010 &  0.051 &  0.103 &   4.605 &   5.991 &   7.378 &   9.210 &  10.597 &  13.816\\\\\n\t3 &  0.072 &  0.216 &  0.352 &   6.251 &   7.815 &   9.348 &  11.345 &  12.838 &  16.266\\\\\n\t4 &  0.207 &  0.484 &  0.711 &   7.779 &   9.488 &  11.143 &  13.277 &  14.860 &  18.467\\\\\n\t5 &  0.412 &  0.831 &  1.145 &   9.236 &  11.070 &  12.833 &  15.086 &  16.750 &  20.515\\\\\n\t6 &  0.676 &  1.237 &  1.635 &  10.645 &  12.592 &  14.449 &  16.812 &  18.548 &  22.458\\\\\n\t7 &  0.989 &  1.690 &  2.167 &  12.017 &  14.067 &  16.013 &  18.475 &  20.278 &  24.322\\\\\n\t8 &  1.344 &  2.180 &  2.733 &  13.362 &  15.507 &  17.535 &  20.090 &  21.955 &  26.124\\\\\n\t9 &  1.735 &  2.700 &  3.325 &  14.684 &  16.919 &  19.023 &  21.666 &  23.589 &  27.877\\\\\n\t10 &  2.156 &  3.247 &  3.940 &  15.987 &  18.307 &  20.483 &  23.209 &  25.188 &  29.588\\\\\n\t11 &  2.603 &  3.816 &  4.575 &  17.275 &  19.675 &  21.920 &  24.725 &  26.757 &  31.264\\\\\n\t12 &  3.074 &  4.404 &  5.226 &  18.549 &  21.026 &  23.337 &  26.217 &  28.300 &  32.909\\\\\n\t13 &  3.565 &  5.009 &  5.892 &  19.812 &  22.362 &  24.736 &  27.688 &  29.819 &  34.528\\\\\n\t14 &  4.075 &  5.629 &  6.571 &  21.064 &  23.685 &  26.119 &  29.141 &  31.319 &  36.123\\\\\n\t15 &  4.601 &  6.262 &  7.261 &  22.307 &  24.996 &  27.488 &  30.578 &  32.801 &  37.697\\\\\n\t16 &  5.142 &  6.908 &  7.962 &  23.542 &  26.296 &  28.845 &  32.000 &  34.267 &  39.252\\\\\n\t17 &  5.697 &  7.564 &  8.672 &  24.769 &  27.587 &  30.191 &  33.409 &  35.718 &  40.790\\\\\n\t18 &  6.265 &  8.231 &  9.390 &  25.989 &  28.869 &  31.526 &  34.805 &  37.156 &  42.312\\\\\n\t19 &  6.844 &  8.907 & 10.117 &  27.204 &  30.144 &  32.852 &  36.191 &  38.582 &  43.820\\\\\n\t20 &  7.434 &  9.591 & 10.851 &  28.412 &  31.410 &  34.170 &  37.566 &  39.997 &  45.315\\\\\n\t21 &  8.034 & 10.283 & 11.591 &  29.615 &  32.671 &  35.479 &  38.932 &  41.401 &  46.797\\\\\n\t22 &  8.643 & 10.982 & 12.338 &  30.813 &  33.924 &  36.781 &  40.289 &  42.796 &  48.268\\\\\n\t23 &  9.260 & 11.689 & 13.091 &  32.007 &  35.172 &  38.076 &  41.638 &  44.181 &  49.728\\\\\n\t24 &  9.886 & 12.401 & 13.848 &  33.196 &  36.415 &  39.364 &  42.980 &  45.559 &  51.179\\\\\n\t25 & 10.520 & 13.120 & 14.611 &  34.382 &  37.652 &  40.646 &  44.314 &  46.928 &  52.620\\\\\n\t26 & 11.160 & 13.844 & 15.379 &  35.563 &  38.885 &  41.923 &  45.642 &  48.290 &  54.052\\\\\n\t27 & 11.808 & 14.573 & 16.151 &  36.741 &  40.113 &  43.195 &  46.963 &  49.645 &  55.476\\\\\n\t28 & 12.461 & 15.308 & 16.928 &  37.916 &  41.337 &  44.461 &  48.278 &  50.993 &  56.892\\\\\n\t29 & 13.121 & 16.047 & 17.708 &  39.087 &  42.557 &  45.722 &  49.588 &  52.336 &  58.301\\\\\n\t30 & 13.787 & 16.791 & 18.493 &  40.256 &  43.773 &  46.979 &  50.892 &  53.672 &  59.703\\\\\n\t40 & 20.707 & 24.433 & 26.509 &  51.805 &  55.758 &  59.342 &  63.691 &  66.766 &  73.402\\\\\n\t50 & 27.991 & 32.357 & 34.764 &  63.167 &  67.505 &  71.420 &  76.154 &  79.490 &  86.661\\\\\n\t60 & 35.534 & 40.482 & 43.188 &  74.397 &  79.082 &  83.298 &  88.379 &  91.952 &  99.607\\\\\n\t70 & 43.275 & 48.758 & 51.739 &  85.527 &  90.531 &  95.023 & 100.425 & 104.215 & 112.317\\\\\n\t80 & 51.172 & 57.153 & 60.391 &  96.578 & 101.879 & 106.629 & 112.329 & 116.321 & 124.839\\\\\n\t90 & 59.196 & 65.647 & 69.126 & 107.565 & 113.145 & 118.136 & 124.116 & 128.299 & 137.208\\\\\n\t100 & 67.328 & 74.222 & 77.929 & 118.498 & 124.342 & 129.561 & 135.807 & 140.169 & 149.449\\\\\n\\end{tabular}\n",
            "text/plain": [
              "    0.005  0.025  0.05   0.9     0.95    0.975   0.99    0.995   0.999  \n",
              "1    0.000  0.001  0.004   2.706   3.841   5.024   6.635   7.879  10.828\n",
              "2    0.010  0.051  0.103   4.605   5.991   7.378   9.210  10.597  13.816\n",
              "3    0.072  0.216  0.352   6.251   7.815   9.348  11.345  12.838  16.266\n",
              "4    0.207  0.484  0.711   7.779   9.488  11.143  13.277  14.860  18.467\n",
              "5    0.412  0.831  1.145   9.236  11.070  12.833  15.086  16.750  20.515\n",
              "6    0.676  1.237  1.635  10.645  12.592  14.449  16.812  18.548  22.458\n",
              "7    0.989  1.690  2.167  12.017  14.067  16.013  18.475  20.278  24.322\n",
              "8    1.344  2.180  2.733  13.362  15.507  17.535  20.090  21.955  26.124\n",
              "9    1.735  2.700  3.325  14.684  16.919  19.023  21.666  23.589  27.877\n",
              "10   2.156  3.247  3.940  15.987  18.307  20.483  23.209  25.188  29.588\n",
              "11   2.603  3.816  4.575  17.275  19.675  21.920  24.725  26.757  31.264\n",
              "12   3.074  4.404  5.226  18.549  21.026  23.337  26.217  28.300  32.909\n",
              "13   3.565  5.009  5.892  19.812  22.362  24.736  27.688  29.819  34.528\n",
              "14   4.075  5.629  6.571  21.064  23.685  26.119  29.141  31.319  36.123\n",
              "15   4.601  6.262  7.261  22.307  24.996  27.488  30.578  32.801  37.697\n",
              "16   5.142  6.908  7.962  23.542  26.296  28.845  32.000  34.267  39.252\n",
              "17   5.697  7.564  8.672  24.769  27.587  30.191  33.409  35.718  40.790\n",
              "18   6.265  8.231  9.390  25.989  28.869  31.526  34.805  37.156  42.312\n",
              "19   6.844  8.907 10.117  27.204  30.144  32.852  36.191  38.582  43.820\n",
              "20   7.434  9.591 10.851  28.412  31.410  34.170  37.566  39.997  45.315\n",
              "21   8.034 10.283 11.591  29.615  32.671  35.479  38.932  41.401  46.797\n",
              "22   8.643 10.982 12.338  30.813  33.924  36.781  40.289  42.796  48.268\n",
              "23   9.260 11.689 13.091  32.007  35.172  38.076  41.638  44.181  49.728\n",
              "24   9.886 12.401 13.848  33.196  36.415  39.364  42.980  45.559  51.179\n",
              "25  10.520 13.120 14.611  34.382  37.652  40.646  44.314  46.928  52.620\n",
              "26  11.160 13.844 15.379  35.563  38.885  41.923  45.642  48.290  54.052\n",
              "27  11.808 14.573 16.151  36.741  40.113  43.195  46.963  49.645  55.476\n",
              "28  12.461 15.308 16.928  37.916  41.337  44.461  48.278  50.993  56.892\n",
              "29  13.121 16.047 17.708  39.087  42.557  45.722  49.588  52.336  58.301\n",
              "30  13.787 16.791 18.493  40.256  43.773  46.979  50.892  53.672  59.703\n",
              "40  20.707 24.433 26.509  51.805  55.758  59.342  63.691  66.766  73.402\n",
              "50  27.991 32.357 34.764  63.167  67.505  71.420  76.154  79.490  86.661\n",
              "60  35.534 40.482 43.188  74.397  79.082  83.298  88.379  91.952  99.607\n",
              "70  43.275 48.758 51.739  85.527  90.531  95.023 100.425 104.215 112.317\n",
              "80  51.172 57.153 60.391  96.578 101.879 106.629 112.329 116.321 124.839\n",
              "90  59.196 65.647 69.126 107.565 113.145 118.136 124.116 128.299 137.208\n",
              "100 67.328 74.222 77.929 118.498 124.342 129.561 135.807 140.169 149.449"
            ]
          },
          "metadata": {}
        }
      ]
    },
    {
      "cell_type": "markdown",
      "source": [
        "#### Kitaba geri dön! \n",
        "<img src=\"https://raw.githubusercontent.com/tensorchiefs/dl_book/master/imgs/Page_turn_icon_A.png\" width=\"120\" align=\"left\" />  \n",
        "Bölüm 20.4'ü incelemek için kitaba geri dönebilirsin."
      ],
      "metadata": {
        "id": "Uxtwgxg_bFOz"
      }
    },
    {
      "cell_type": "markdown",
      "source": [
        "## **20.4. F Dağılımı Tablosu**"
      ],
      "metadata": {
        "id": "gJMMGVaSbOwE"
      }
    },
    {
      "cell_type": "markdown",
      "source": [
        "**%5 Önem Seviyesi** için F tablosu aşağıdaki gibi elde edilir."
      ],
      "metadata": {
        "id": "6tFBakTcfV4n"
      }
    },
    {
      "cell_type": "code",
      "source": [
        "## Alfa=0.05 (0.95 Birikimli olasılık değerleri) için F Tablosu\n",
        "sd1=c(seq(1,20,by=1))\n",
        "sd2=c(seq(1,20,by=1),seq(40,100,by=20))\n",
        "F.tablo<-matrix(0,nrow=24, ncol=20)\n",
        "for (i in 1:24) {\n",
        "for (j in 1:20) {\n",
        "F.tablo[i,j]=qf(p=0.95,df1=sd1[j],df2=sd2[i])\n",
        "}}\n",
        "rownames(F.tablo)=sd2\n",
        "colnames(F.tablo)=sd1\n",
        "round(F.tablo,2)"
      ],
      "metadata": {
        "colab": {
          "base_uri": "https://localhost:8080/",
          "height": 839
        },
        "id": "qLDyk1RwbTqG",
        "outputId": "b01e8dd2-2e9b-43f1-c735-38790252dcfc"
      },
      "execution_count": null,
      "outputs": [
        {
          "output_type": "display_data",
          "data": {
            "text/html": [
              "<table class=\"dataframe\">\n",
              "<caption>A matrix: 24 × 20 of type dbl</caption>\n",
              "<thead>\n",
              "\t<tr><th></th><th scope=col>1</th><th scope=col>2</th><th scope=col>3</th><th scope=col>4</th><th scope=col>5</th><th scope=col>6</th><th scope=col>7</th><th scope=col>8</th><th scope=col>9</th><th scope=col>10</th><th scope=col>11</th><th scope=col>12</th><th scope=col>13</th><th scope=col>14</th><th scope=col>15</th><th scope=col>16</th><th scope=col>17</th><th scope=col>18</th><th scope=col>19</th><th scope=col>20</th></tr>\n",
              "</thead>\n",
              "<tbody>\n",
              "\t<tr><th scope=row>1</th><td>161.45</td><td>199.50</td><td>215.71</td><td>224.58</td><td>230.16</td><td>233.99</td><td>236.77</td><td>238.88</td><td>240.54</td><td>241.88</td><td>242.98</td><td>243.91</td><td>244.69</td><td>245.36</td><td>245.95</td><td>246.46</td><td>246.92</td><td>247.32</td><td>247.69</td><td>248.01</td></tr>\n",
              "\t<tr><th scope=row>2</th><td> 18.51</td><td> 19.00</td><td> 19.16</td><td> 19.25</td><td> 19.30</td><td> 19.33</td><td> 19.35</td><td> 19.37</td><td> 19.38</td><td> 19.40</td><td> 19.40</td><td> 19.41</td><td> 19.42</td><td> 19.42</td><td> 19.43</td><td> 19.43</td><td> 19.44</td><td> 19.44</td><td> 19.44</td><td> 19.45</td></tr>\n",
              "\t<tr><th scope=row>3</th><td> 10.13</td><td>  9.55</td><td>  9.28</td><td>  9.12</td><td>  9.01</td><td>  8.94</td><td>  8.89</td><td>  8.85</td><td>  8.81</td><td>  8.79</td><td>  8.76</td><td>  8.74</td><td>  8.73</td><td>  8.71</td><td>  8.70</td><td>  8.69</td><td>  8.68</td><td>  8.67</td><td>  8.67</td><td>  8.66</td></tr>\n",
              "\t<tr><th scope=row>4</th><td>  7.71</td><td>  6.94</td><td>  6.59</td><td>  6.39</td><td>  6.26</td><td>  6.16</td><td>  6.09</td><td>  6.04</td><td>  6.00</td><td>  5.96</td><td>  5.94</td><td>  5.91</td><td>  5.89</td><td>  5.87</td><td>  5.86</td><td>  5.84</td><td>  5.83</td><td>  5.82</td><td>  5.81</td><td>  5.80</td></tr>\n",
              "\t<tr><th scope=row>5</th><td>  6.61</td><td>  5.79</td><td>  5.41</td><td>  5.19</td><td>  5.05</td><td>  4.95</td><td>  4.88</td><td>  4.82</td><td>  4.77</td><td>  4.74</td><td>  4.70</td><td>  4.68</td><td>  4.66</td><td>  4.64</td><td>  4.62</td><td>  4.60</td><td>  4.59</td><td>  4.58</td><td>  4.57</td><td>  4.56</td></tr>\n",
              "\t<tr><th scope=row>6</th><td>  5.99</td><td>  5.14</td><td>  4.76</td><td>  4.53</td><td>  4.39</td><td>  4.28</td><td>  4.21</td><td>  4.15</td><td>  4.10</td><td>  4.06</td><td>  4.03</td><td>  4.00</td><td>  3.98</td><td>  3.96</td><td>  3.94</td><td>  3.92</td><td>  3.91</td><td>  3.90</td><td>  3.88</td><td>  3.87</td></tr>\n",
              "\t<tr><th scope=row>7</th><td>  5.59</td><td>  4.74</td><td>  4.35</td><td>  4.12</td><td>  3.97</td><td>  3.87</td><td>  3.79</td><td>  3.73</td><td>  3.68</td><td>  3.64</td><td>  3.60</td><td>  3.57</td><td>  3.55</td><td>  3.53</td><td>  3.51</td><td>  3.49</td><td>  3.48</td><td>  3.47</td><td>  3.46</td><td>  3.44</td></tr>\n",
              "\t<tr><th scope=row>8</th><td>  5.32</td><td>  4.46</td><td>  4.07</td><td>  3.84</td><td>  3.69</td><td>  3.58</td><td>  3.50</td><td>  3.44</td><td>  3.39</td><td>  3.35</td><td>  3.31</td><td>  3.28</td><td>  3.26</td><td>  3.24</td><td>  3.22</td><td>  3.20</td><td>  3.19</td><td>  3.17</td><td>  3.16</td><td>  3.15</td></tr>\n",
              "\t<tr><th scope=row>9</th><td>  5.12</td><td>  4.26</td><td>  3.86</td><td>  3.63</td><td>  3.48</td><td>  3.37</td><td>  3.29</td><td>  3.23</td><td>  3.18</td><td>  3.14</td><td>  3.10</td><td>  3.07</td><td>  3.05</td><td>  3.03</td><td>  3.01</td><td>  2.99</td><td>  2.97</td><td>  2.96</td><td>  2.95</td><td>  2.94</td></tr>\n",
              "\t<tr><th scope=row>10</th><td>  4.96</td><td>  4.10</td><td>  3.71</td><td>  3.48</td><td>  3.33</td><td>  3.22</td><td>  3.14</td><td>  3.07</td><td>  3.02</td><td>  2.98</td><td>  2.94</td><td>  2.91</td><td>  2.89</td><td>  2.86</td><td>  2.85</td><td>  2.83</td><td>  2.81</td><td>  2.80</td><td>  2.79</td><td>  2.77</td></tr>\n",
              "\t<tr><th scope=row>11</th><td>  4.84</td><td>  3.98</td><td>  3.59</td><td>  3.36</td><td>  3.20</td><td>  3.09</td><td>  3.01</td><td>  2.95</td><td>  2.90</td><td>  2.85</td><td>  2.82</td><td>  2.79</td><td>  2.76</td><td>  2.74</td><td>  2.72</td><td>  2.70</td><td>  2.69</td><td>  2.67</td><td>  2.66</td><td>  2.65</td></tr>\n",
              "\t<tr><th scope=row>12</th><td>  4.75</td><td>  3.89</td><td>  3.49</td><td>  3.26</td><td>  3.11</td><td>  3.00</td><td>  2.91</td><td>  2.85</td><td>  2.80</td><td>  2.75</td><td>  2.72</td><td>  2.69</td><td>  2.66</td><td>  2.64</td><td>  2.62</td><td>  2.60</td><td>  2.58</td><td>  2.57</td><td>  2.56</td><td>  2.54</td></tr>\n",
              "\t<tr><th scope=row>13</th><td>  4.67</td><td>  3.81</td><td>  3.41</td><td>  3.18</td><td>  3.03</td><td>  2.92</td><td>  2.83</td><td>  2.77</td><td>  2.71</td><td>  2.67</td><td>  2.63</td><td>  2.60</td><td>  2.58</td><td>  2.55</td><td>  2.53</td><td>  2.51</td><td>  2.50</td><td>  2.48</td><td>  2.47</td><td>  2.46</td></tr>\n",
              "\t<tr><th scope=row>14</th><td>  4.60</td><td>  3.74</td><td>  3.34</td><td>  3.11</td><td>  2.96</td><td>  2.85</td><td>  2.76</td><td>  2.70</td><td>  2.65</td><td>  2.60</td><td>  2.57</td><td>  2.53</td><td>  2.51</td><td>  2.48</td><td>  2.46</td><td>  2.44</td><td>  2.43</td><td>  2.41</td><td>  2.40</td><td>  2.39</td></tr>\n",
              "\t<tr><th scope=row>15</th><td>  4.54</td><td>  3.68</td><td>  3.29</td><td>  3.06</td><td>  2.90</td><td>  2.79</td><td>  2.71</td><td>  2.64</td><td>  2.59</td><td>  2.54</td><td>  2.51</td><td>  2.48</td><td>  2.45</td><td>  2.42</td><td>  2.40</td><td>  2.38</td><td>  2.37</td><td>  2.35</td><td>  2.34</td><td>  2.33</td></tr>\n",
              "\t<tr><th scope=row>16</th><td>  4.49</td><td>  3.63</td><td>  3.24</td><td>  3.01</td><td>  2.85</td><td>  2.74</td><td>  2.66</td><td>  2.59</td><td>  2.54</td><td>  2.49</td><td>  2.46</td><td>  2.42</td><td>  2.40</td><td>  2.37</td><td>  2.35</td><td>  2.33</td><td>  2.32</td><td>  2.30</td><td>  2.29</td><td>  2.28</td></tr>\n",
              "\t<tr><th scope=row>17</th><td>  4.45</td><td>  3.59</td><td>  3.20</td><td>  2.96</td><td>  2.81</td><td>  2.70</td><td>  2.61</td><td>  2.55</td><td>  2.49</td><td>  2.45</td><td>  2.41</td><td>  2.38</td><td>  2.35</td><td>  2.33</td><td>  2.31</td><td>  2.29</td><td>  2.27</td><td>  2.26</td><td>  2.24</td><td>  2.23</td></tr>\n",
              "\t<tr><th scope=row>18</th><td>  4.41</td><td>  3.55</td><td>  3.16</td><td>  2.93</td><td>  2.77</td><td>  2.66</td><td>  2.58</td><td>  2.51</td><td>  2.46</td><td>  2.41</td><td>  2.37</td><td>  2.34</td><td>  2.31</td><td>  2.29</td><td>  2.27</td><td>  2.25</td><td>  2.23</td><td>  2.22</td><td>  2.20</td><td>  2.19</td></tr>\n",
              "\t<tr><th scope=row>19</th><td>  4.38</td><td>  3.52</td><td>  3.13</td><td>  2.90</td><td>  2.74</td><td>  2.63</td><td>  2.54</td><td>  2.48</td><td>  2.42</td><td>  2.38</td><td>  2.34</td><td>  2.31</td><td>  2.28</td><td>  2.26</td><td>  2.23</td><td>  2.21</td><td>  2.20</td><td>  2.18</td><td>  2.17</td><td>  2.16</td></tr>\n",
              "\t<tr><th scope=row>20</th><td>  4.35</td><td>  3.49</td><td>  3.10</td><td>  2.87</td><td>  2.71</td><td>  2.60</td><td>  2.51</td><td>  2.45</td><td>  2.39</td><td>  2.35</td><td>  2.31</td><td>  2.28</td><td>  2.25</td><td>  2.22</td><td>  2.20</td><td>  2.18</td><td>  2.17</td><td>  2.15</td><td>  2.14</td><td>  2.12</td></tr>\n",
              "\t<tr><th scope=row>40</th><td>  4.08</td><td>  3.23</td><td>  2.84</td><td>  2.61</td><td>  2.45</td><td>  2.34</td><td>  2.25</td><td>  2.18</td><td>  2.12</td><td>  2.08</td><td>  2.04</td><td>  2.00</td><td>  1.97</td><td>  1.95</td><td>  1.92</td><td>  1.90</td><td>  1.89</td><td>  1.87</td><td>  1.85</td><td>  1.84</td></tr>\n",
              "\t<tr><th scope=row>60</th><td>  4.00</td><td>  3.15</td><td>  2.76</td><td>  2.53</td><td>  2.37</td><td>  2.25</td><td>  2.17</td><td>  2.10</td><td>  2.04</td><td>  1.99</td><td>  1.95</td><td>  1.92</td><td>  1.89</td><td>  1.86</td><td>  1.84</td><td>  1.82</td><td>  1.80</td><td>  1.78</td><td>  1.76</td><td>  1.75</td></tr>\n",
              "\t<tr><th scope=row>80</th><td>  3.96</td><td>  3.11</td><td>  2.72</td><td>  2.49</td><td>  2.33</td><td>  2.21</td><td>  2.13</td><td>  2.06</td><td>  2.00</td><td>  1.95</td><td>  1.91</td><td>  1.88</td><td>  1.84</td><td>  1.82</td><td>  1.79</td><td>  1.77</td><td>  1.75</td><td>  1.73</td><td>  1.72</td><td>  1.70</td></tr>\n",
              "\t<tr><th scope=row>100</th><td>  3.94</td><td>  3.09</td><td>  2.70</td><td>  2.46</td><td>  2.31</td><td>  2.19</td><td>  2.10</td><td>  2.03</td><td>  1.97</td><td>  1.93</td><td>  1.89</td><td>  1.85</td><td>  1.82</td><td>  1.79</td><td>  1.77</td><td>  1.75</td><td>  1.73</td><td>  1.71</td><td>  1.69</td><td>  1.68</td></tr>\n",
              "</tbody>\n",
              "</table>\n"
            ],
            "text/markdown": "\nA matrix: 24 × 20 of type dbl\n\n| <!--/--> | 1 | 2 | 3 | 4 | 5 | 6 | 7 | 8 | 9 | 10 | 11 | 12 | 13 | 14 | 15 | 16 | 17 | 18 | 19 | 20 |\n|---|---|---|---|---|---|---|---|---|---|---|---|---|---|---|---|---|---|---|---|---|\n| 1 | 161.45 | 199.50 | 215.71 | 224.58 | 230.16 | 233.99 | 236.77 | 238.88 | 240.54 | 241.88 | 242.98 | 243.91 | 244.69 | 245.36 | 245.95 | 246.46 | 246.92 | 247.32 | 247.69 | 248.01 |\n| 2 |  18.51 |  19.00 |  19.16 |  19.25 |  19.30 |  19.33 |  19.35 |  19.37 |  19.38 |  19.40 |  19.40 |  19.41 |  19.42 |  19.42 |  19.43 |  19.43 |  19.44 |  19.44 |  19.44 |  19.45 |\n| 3 |  10.13 |   9.55 |   9.28 |   9.12 |   9.01 |   8.94 |   8.89 |   8.85 |   8.81 |   8.79 |   8.76 |   8.74 |   8.73 |   8.71 |   8.70 |   8.69 |   8.68 |   8.67 |   8.67 |   8.66 |\n| 4 |   7.71 |   6.94 |   6.59 |   6.39 |   6.26 |   6.16 |   6.09 |   6.04 |   6.00 |   5.96 |   5.94 |   5.91 |   5.89 |   5.87 |   5.86 |   5.84 |   5.83 |   5.82 |   5.81 |   5.80 |\n| 5 |   6.61 |   5.79 |   5.41 |   5.19 |   5.05 |   4.95 |   4.88 |   4.82 |   4.77 |   4.74 |   4.70 |   4.68 |   4.66 |   4.64 |   4.62 |   4.60 |   4.59 |   4.58 |   4.57 |   4.56 |\n| 6 |   5.99 |   5.14 |   4.76 |   4.53 |   4.39 |   4.28 |   4.21 |   4.15 |   4.10 |   4.06 |   4.03 |   4.00 |   3.98 |   3.96 |   3.94 |   3.92 |   3.91 |   3.90 |   3.88 |   3.87 |\n| 7 |   5.59 |   4.74 |   4.35 |   4.12 |   3.97 |   3.87 |   3.79 |   3.73 |   3.68 |   3.64 |   3.60 |   3.57 |   3.55 |   3.53 |   3.51 |   3.49 |   3.48 |   3.47 |   3.46 |   3.44 |\n| 8 |   5.32 |   4.46 |   4.07 |   3.84 |   3.69 |   3.58 |   3.50 |   3.44 |   3.39 |   3.35 |   3.31 |   3.28 |   3.26 |   3.24 |   3.22 |   3.20 |   3.19 |   3.17 |   3.16 |   3.15 |\n| 9 |   5.12 |   4.26 |   3.86 |   3.63 |   3.48 |   3.37 |   3.29 |   3.23 |   3.18 |   3.14 |   3.10 |   3.07 |   3.05 |   3.03 |   3.01 |   2.99 |   2.97 |   2.96 |   2.95 |   2.94 |\n| 10 |   4.96 |   4.10 |   3.71 |   3.48 |   3.33 |   3.22 |   3.14 |   3.07 |   3.02 |   2.98 |   2.94 |   2.91 |   2.89 |   2.86 |   2.85 |   2.83 |   2.81 |   2.80 |   2.79 |   2.77 |\n| 11 |   4.84 |   3.98 |   3.59 |   3.36 |   3.20 |   3.09 |   3.01 |   2.95 |   2.90 |   2.85 |   2.82 |   2.79 |   2.76 |   2.74 |   2.72 |   2.70 |   2.69 |   2.67 |   2.66 |   2.65 |\n| 12 |   4.75 |   3.89 |   3.49 |   3.26 |   3.11 |   3.00 |   2.91 |   2.85 |   2.80 |   2.75 |   2.72 |   2.69 |   2.66 |   2.64 |   2.62 |   2.60 |   2.58 |   2.57 |   2.56 |   2.54 |\n| 13 |   4.67 |   3.81 |   3.41 |   3.18 |   3.03 |   2.92 |   2.83 |   2.77 |   2.71 |   2.67 |   2.63 |   2.60 |   2.58 |   2.55 |   2.53 |   2.51 |   2.50 |   2.48 |   2.47 |   2.46 |\n| 14 |   4.60 |   3.74 |   3.34 |   3.11 |   2.96 |   2.85 |   2.76 |   2.70 |   2.65 |   2.60 |   2.57 |   2.53 |   2.51 |   2.48 |   2.46 |   2.44 |   2.43 |   2.41 |   2.40 |   2.39 |\n| 15 |   4.54 |   3.68 |   3.29 |   3.06 |   2.90 |   2.79 |   2.71 |   2.64 |   2.59 |   2.54 |   2.51 |   2.48 |   2.45 |   2.42 |   2.40 |   2.38 |   2.37 |   2.35 |   2.34 |   2.33 |\n| 16 |   4.49 |   3.63 |   3.24 |   3.01 |   2.85 |   2.74 |   2.66 |   2.59 |   2.54 |   2.49 |   2.46 |   2.42 |   2.40 |   2.37 |   2.35 |   2.33 |   2.32 |   2.30 |   2.29 |   2.28 |\n| 17 |   4.45 |   3.59 |   3.20 |   2.96 |   2.81 |   2.70 |   2.61 |   2.55 |   2.49 |   2.45 |   2.41 |   2.38 |   2.35 |   2.33 |   2.31 |   2.29 |   2.27 |   2.26 |   2.24 |   2.23 |\n| 18 |   4.41 |   3.55 |   3.16 |   2.93 |   2.77 |   2.66 |   2.58 |   2.51 |   2.46 |   2.41 |   2.37 |   2.34 |   2.31 |   2.29 |   2.27 |   2.25 |   2.23 |   2.22 |   2.20 |   2.19 |\n| 19 |   4.38 |   3.52 |   3.13 |   2.90 |   2.74 |   2.63 |   2.54 |   2.48 |   2.42 |   2.38 |   2.34 |   2.31 |   2.28 |   2.26 |   2.23 |   2.21 |   2.20 |   2.18 |   2.17 |   2.16 |\n| 20 |   4.35 |   3.49 |   3.10 |   2.87 |   2.71 |   2.60 |   2.51 |   2.45 |   2.39 |   2.35 |   2.31 |   2.28 |   2.25 |   2.22 |   2.20 |   2.18 |   2.17 |   2.15 |   2.14 |   2.12 |\n| 40 |   4.08 |   3.23 |   2.84 |   2.61 |   2.45 |   2.34 |   2.25 |   2.18 |   2.12 |   2.08 |   2.04 |   2.00 |   1.97 |   1.95 |   1.92 |   1.90 |   1.89 |   1.87 |   1.85 |   1.84 |\n| 60 |   4.00 |   3.15 |   2.76 |   2.53 |   2.37 |   2.25 |   2.17 |   2.10 |   2.04 |   1.99 |   1.95 |   1.92 |   1.89 |   1.86 |   1.84 |   1.82 |   1.80 |   1.78 |   1.76 |   1.75 |\n| 80 |   3.96 |   3.11 |   2.72 |   2.49 |   2.33 |   2.21 |   2.13 |   2.06 |   2.00 |   1.95 |   1.91 |   1.88 |   1.84 |   1.82 |   1.79 |   1.77 |   1.75 |   1.73 |   1.72 |   1.70 |\n| 100 |   3.94 |   3.09 |   2.70 |   2.46 |   2.31 |   2.19 |   2.10 |   2.03 |   1.97 |   1.93 |   1.89 |   1.85 |   1.82 |   1.79 |   1.77 |   1.75 |   1.73 |   1.71 |   1.69 |   1.68 |\n\n",
            "text/latex": "A matrix: 24 × 20 of type dbl\n\\begin{tabular}{r|llllllllllllllllllll}\n  & 1 & 2 & 3 & 4 & 5 & 6 & 7 & 8 & 9 & 10 & 11 & 12 & 13 & 14 & 15 & 16 & 17 & 18 & 19 & 20\\\\\n\\hline\n\t1 & 161.45 & 199.50 & 215.71 & 224.58 & 230.16 & 233.99 & 236.77 & 238.88 & 240.54 & 241.88 & 242.98 & 243.91 & 244.69 & 245.36 & 245.95 & 246.46 & 246.92 & 247.32 & 247.69 & 248.01\\\\\n\t2 &  18.51 &  19.00 &  19.16 &  19.25 &  19.30 &  19.33 &  19.35 &  19.37 &  19.38 &  19.40 &  19.40 &  19.41 &  19.42 &  19.42 &  19.43 &  19.43 &  19.44 &  19.44 &  19.44 &  19.45\\\\\n\t3 &  10.13 &   9.55 &   9.28 &   9.12 &   9.01 &   8.94 &   8.89 &   8.85 &   8.81 &   8.79 &   8.76 &   8.74 &   8.73 &   8.71 &   8.70 &   8.69 &   8.68 &   8.67 &   8.67 &   8.66\\\\\n\t4 &   7.71 &   6.94 &   6.59 &   6.39 &   6.26 &   6.16 &   6.09 &   6.04 &   6.00 &   5.96 &   5.94 &   5.91 &   5.89 &   5.87 &   5.86 &   5.84 &   5.83 &   5.82 &   5.81 &   5.80\\\\\n\t5 &   6.61 &   5.79 &   5.41 &   5.19 &   5.05 &   4.95 &   4.88 &   4.82 &   4.77 &   4.74 &   4.70 &   4.68 &   4.66 &   4.64 &   4.62 &   4.60 &   4.59 &   4.58 &   4.57 &   4.56\\\\\n\t6 &   5.99 &   5.14 &   4.76 &   4.53 &   4.39 &   4.28 &   4.21 &   4.15 &   4.10 &   4.06 &   4.03 &   4.00 &   3.98 &   3.96 &   3.94 &   3.92 &   3.91 &   3.90 &   3.88 &   3.87\\\\\n\t7 &   5.59 &   4.74 &   4.35 &   4.12 &   3.97 &   3.87 &   3.79 &   3.73 &   3.68 &   3.64 &   3.60 &   3.57 &   3.55 &   3.53 &   3.51 &   3.49 &   3.48 &   3.47 &   3.46 &   3.44\\\\\n\t8 &   5.32 &   4.46 &   4.07 &   3.84 &   3.69 &   3.58 &   3.50 &   3.44 &   3.39 &   3.35 &   3.31 &   3.28 &   3.26 &   3.24 &   3.22 &   3.20 &   3.19 &   3.17 &   3.16 &   3.15\\\\\n\t9 &   5.12 &   4.26 &   3.86 &   3.63 &   3.48 &   3.37 &   3.29 &   3.23 &   3.18 &   3.14 &   3.10 &   3.07 &   3.05 &   3.03 &   3.01 &   2.99 &   2.97 &   2.96 &   2.95 &   2.94\\\\\n\t10 &   4.96 &   4.10 &   3.71 &   3.48 &   3.33 &   3.22 &   3.14 &   3.07 &   3.02 &   2.98 &   2.94 &   2.91 &   2.89 &   2.86 &   2.85 &   2.83 &   2.81 &   2.80 &   2.79 &   2.77\\\\\n\t11 &   4.84 &   3.98 &   3.59 &   3.36 &   3.20 &   3.09 &   3.01 &   2.95 &   2.90 &   2.85 &   2.82 &   2.79 &   2.76 &   2.74 &   2.72 &   2.70 &   2.69 &   2.67 &   2.66 &   2.65\\\\\n\t12 &   4.75 &   3.89 &   3.49 &   3.26 &   3.11 &   3.00 &   2.91 &   2.85 &   2.80 &   2.75 &   2.72 &   2.69 &   2.66 &   2.64 &   2.62 &   2.60 &   2.58 &   2.57 &   2.56 &   2.54\\\\\n\t13 &   4.67 &   3.81 &   3.41 &   3.18 &   3.03 &   2.92 &   2.83 &   2.77 &   2.71 &   2.67 &   2.63 &   2.60 &   2.58 &   2.55 &   2.53 &   2.51 &   2.50 &   2.48 &   2.47 &   2.46\\\\\n\t14 &   4.60 &   3.74 &   3.34 &   3.11 &   2.96 &   2.85 &   2.76 &   2.70 &   2.65 &   2.60 &   2.57 &   2.53 &   2.51 &   2.48 &   2.46 &   2.44 &   2.43 &   2.41 &   2.40 &   2.39\\\\\n\t15 &   4.54 &   3.68 &   3.29 &   3.06 &   2.90 &   2.79 &   2.71 &   2.64 &   2.59 &   2.54 &   2.51 &   2.48 &   2.45 &   2.42 &   2.40 &   2.38 &   2.37 &   2.35 &   2.34 &   2.33\\\\\n\t16 &   4.49 &   3.63 &   3.24 &   3.01 &   2.85 &   2.74 &   2.66 &   2.59 &   2.54 &   2.49 &   2.46 &   2.42 &   2.40 &   2.37 &   2.35 &   2.33 &   2.32 &   2.30 &   2.29 &   2.28\\\\\n\t17 &   4.45 &   3.59 &   3.20 &   2.96 &   2.81 &   2.70 &   2.61 &   2.55 &   2.49 &   2.45 &   2.41 &   2.38 &   2.35 &   2.33 &   2.31 &   2.29 &   2.27 &   2.26 &   2.24 &   2.23\\\\\n\t18 &   4.41 &   3.55 &   3.16 &   2.93 &   2.77 &   2.66 &   2.58 &   2.51 &   2.46 &   2.41 &   2.37 &   2.34 &   2.31 &   2.29 &   2.27 &   2.25 &   2.23 &   2.22 &   2.20 &   2.19\\\\\n\t19 &   4.38 &   3.52 &   3.13 &   2.90 &   2.74 &   2.63 &   2.54 &   2.48 &   2.42 &   2.38 &   2.34 &   2.31 &   2.28 &   2.26 &   2.23 &   2.21 &   2.20 &   2.18 &   2.17 &   2.16\\\\\n\t20 &   4.35 &   3.49 &   3.10 &   2.87 &   2.71 &   2.60 &   2.51 &   2.45 &   2.39 &   2.35 &   2.31 &   2.28 &   2.25 &   2.22 &   2.20 &   2.18 &   2.17 &   2.15 &   2.14 &   2.12\\\\\n\t40 &   4.08 &   3.23 &   2.84 &   2.61 &   2.45 &   2.34 &   2.25 &   2.18 &   2.12 &   2.08 &   2.04 &   2.00 &   1.97 &   1.95 &   1.92 &   1.90 &   1.89 &   1.87 &   1.85 &   1.84\\\\\n\t60 &   4.00 &   3.15 &   2.76 &   2.53 &   2.37 &   2.25 &   2.17 &   2.10 &   2.04 &   1.99 &   1.95 &   1.92 &   1.89 &   1.86 &   1.84 &   1.82 &   1.80 &   1.78 &   1.76 &   1.75\\\\\n\t80 &   3.96 &   3.11 &   2.72 &   2.49 &   2.33 &   2.21 &   2.13 &   2.06 &   2.00 &   1.95 &   1.91 &   1.88 &   1.84 &   1.82 &   1.79 &   1.77 &   1.75 &   1.73 &   1.72 &   1.70\\\\\n\t100 &   3.94 &   3.09 &   2.70 &   2.46 &   2.31 &   2.19 &   2.10 &   2.03 &   1.97 &   1.93 &   1.89 &   1.85 &   1.82 &   1.79 &   1.77 &   1.75 &   1.73 &   1.71 &   1.69 &   1.68\\\\\n\\end{tabular}\n",
            "text/plain": [
              "    1      2      3      4      5      6      7      8      9      10    \n",
              "1   161.45 199.50 215.71 224.58 230.16 233.99 236.77 238.88 240.54 241.88\n",
              "2    18.51  19.00  19.16  19.25  19.30  19.33  19.35  19.37  19.38  19.40\n",
              "3    10.13   9.55   9.28   9.12   9.01   8.94   8.89   8.85   8.81   8.79\n",
              "4     7.71   6.94   6.59   6.39   6.26   6.16   6.09   6.04   6.00   5.96\n",
              "5     6.61   5.79   5.41   5.19   5.05   4.95   4.88   4.82   4.77   4.74\n",
              "6     5.99   5.14   4.76   4.53   4.39   4.28   4.21   4.15   4.10   4.06\n",
              "7     5.59   4.74   4.35   4.12   3.97   3.87   3.79   3.73   3.68   3.64\n",
              "8     5.32   4.46   4.07   3.84   3.69   3.58   3.50   3.44   3.39   3.35\n",
              "9     5.12   4.26   3.86   3.63   3.48   3.37   3.29   3.23   3.18   3.14\n",
              "10    4.96   4.10   3.71   3.48   3.33   3.22   3.14   3.07   3.02   2.98\n",
              "11    4.84   3.98   3.59   3.36   3.20   3.09   3.01   2.95   2.90   2.85\n",
              "12    4.75   3.89   3.49   3.26   3.11   3.00   2.91   2.85   2.80   2.75\n",
              "13    4.67   3.81   3.41   3.18   3.03   2.92   2.83   2.77   2.71   2.67\n",
              "14    4.60   3.74   3.34   3.11   2.96   2.85   2.76   2.70   2.65   2.60\n",
              "15    4.54   3.68   3.29   3.06   2.90   2.79   2.71   2.64   2.59   2.54\n",
              "16    4.49   3.63   3.24   3.01   2.85   2.74   2.66   2.59   2.54   2.49\n",
              "17    4.45   3.59   3.20   2.96   2.81   2.70   2.61   2.55   2.49   2.45\n",
              "18    4.41   3.55   3.16   2.93   2.77   2.66   2.58   2.51   2.46   2.41\n",
              "19    4.38   3.52   3.13   2.90   2.74   2.63   2.54   2.48   2.42   2.38\n",
              "20    4.35   3.49   3.10   2.87   2.71   2.60   2.51   2.45   2.39   2.35\n",
              "40    4.08   3.23   2.84   2.61   2.45   2.34   2.25   2.18   2.12   2.08\n",
              "60    4.00   3.15   2.76   2.53   2.37   2.25   2.17   2.10   2.04   1.99\n",
              "80    3.96   3.11   2.72   2.49   2.33   2.21   2.13   2.06   2.00   1.95\n",
              "100   3.94   3.09   2.70   2.46   2.31   2.19   2.10   2.03   1.97   1.93\n",
              "    11     12     13     14     15     16     17     18     19     20    \n",
              "1   242.98 243.91 244.69 245.36 245.95 246.46 246.92 247.32 247.69 248.01\n",
              "2    19.40  19.41  19.42  19.42  19.43  19.43  19.44  19.44  19.44  19.45\n",
              "3     8.76   8.74   8.73   8.71   8.70   8.69   8.68   8.67   8.67   8.66\n",
              "4     5.94   5.91   5.89   5.87   5.86   5.84   5.83   5.82   5.81   5.80\n",
              "5     4.70   4.68   4.66   4.64   4.62   4.60   4.59   4.58   4.57   4.56\n",
              "6     4.03   4.00   3.98   3.96   3.94   3.92   3.91   3.90   3.88   3.87\n",
              "7     3.60   3.57   3.55   3.53   3.51   3.49   3.48   3.47   3.46   3.44\n",
              "8     3.31   3.28   3.26   3.24   3.22   3.20   3.19   3.17   3.16   3.15\n",
              "9     3.10   3.07   3.05   3.03   3.01   2.99   2.97   2.96   2.95   2.94\n",
              "10    2.94   2.91   2.89   2.86   2.85   2.83   2.81   2.80   2.79   2.77\n",
              "11    2.82   2.79   2.76   2.74   2.72   2.70   2.69   2.67   2.66   2.65\n",
              "12    2.72   2.69   2.66   2.64   2.62   2.60   2.58   2.57   2.56   2.54\n",
              "13    2.63   2.60   2.58   2.55   2.53   2.51   2.50   2.48   2.47   2.46\n",
              "14    2.57   2.53   2.51   2.48   2.46   2.44   2.43   2.41   2.40   2.39\n",
              "15    2.51   2.48   2.45   2.42   2.40   2.38   2.37   2.35   2.34   2.33\n",
              "16    2.46   2.42   2.40   2.37   2.35   2.33   2.32   2.30   2.29   2.28\n",
              "17    2.41   2.38   2.35   2.33   2.31   2.29   2.27   2.26   2.24   2.23\n",
              "18    2.37   2.34   2.31   2.29   2.27   2.25   2.23   2.22   2.20   2.19\n",
              "19    2.34   2.31   2.28   2.26   2.23   2.21   2.20   2.18   2.17   2.16\n",
              "20    2.31   2.28   2.25   2.22   2.20   2.18   2.17   2.15   2.14   2.12\n",
              "40    2.04   2.00   1.97   1.95   1.92   1.90   1.89   1.87   1.85   1.84\n",
              "60    1.95   1.92   1.89   1.86   1.84   1.82   1.80   1.78   1.76   1.75\n",
              "80    1.91   1.88   1.84   1.82   1.79   1.77   1.75   1.73   1.72   1.70\n",
              "100   1.89   1.85   1.82   1.79   1.77   1.75   1.73   1.71   1.69   1.68"
            ]
          },
          "metadata": {}
        }
      ]
    },
    {
      "cell_type": "code",
      "source": [
        "## Alfa=0.01 (0.99 Birikimli olasılık değerleri) için F Tablosu\n",
        "sd1=c(seq(1,20,by=1))\n",
        "sd2=c(seq(1,20,by=1),seq(40,100,by=20))\n",
        "F.tablo<-matrix(0,nrow=24, ncol=20)\n",
        "for (i in 1:24) {\n",
        "for (j in 1:20) {\n",
        "F.tablo[i,j]=qf(p=0.99,df1=sd1[j],df2=sd2[i])\n",
        "}}\n",
        "rownames(F.tablo)=sd2\n",
        "colnames(F.tablo)=sd1\n",
        "round(F.tablo,2)"
      ],
      "metadata": {
        "colab": {
          "base_uri": "https://localhost:8080/",
          "height": 839
        },
        "id": "nT33PRpOf2kh",
        "outputId": "2ffd6c41-afab-41fd-880f-7a8582c460d3"
      },
      "execution_count": null,
      "outputs": [
        {
          "output_type": "display_data",
          "data": {
            "text/html": [
              "<table class=\"dataframe\">\n",
              "<caption>A matrix: 24 × 20 of type dbl</caption>\n",
              "<thead>\n",
              "\t<tr><th></th><th scope=col>1</th><th scope=col>2</th><th scope=col>3</th><th scope=col>4</th><th scope=col>5</th><th scope=col>6</th><th scope=col>7</th><th scope=col>8</th><th scope=col>9</th><th scope=col>10</th><th scope=col>11</th><th scope=col>12</th><th scope=col>13</th><th scope=col>14</th><th scope=col>15</th><th scope=col>16</th><th scope=col>17</th><th scope=col>18</th><th scope=col>19</th><th scope=col>20</th></tr>\n",
              "</thead>\n",
              "<tbody>\n",
              "\t<tr><th scope=row>1</th><td>4052.18</td><td>4999.50</td><td>5403.35</td><td>5624.58</td><td>5763.65</td><td>5858.99</td><td>5928.36</td><td>5981.07</td><td>6022.47</td><td>6055.85</td><td>6083.32</td><td>6106.32</td><td>6125.86</td><td>6142.67</td><td>6157.28</td><td>6170.10</td><td>6181.43</td><td>6191.53</td><td>6200.58</td><td>6208.73</td></tr>\n",
              "\t<tr><th scope=row>2</th><td>  98.50</td><td>  99.00</td><td>  99.17</td><td>  99.25</td><td>  99.30</td><td>  99.33</td><td>  99.36</td><td>  99.37</td><td>  99.39</td><td>  99.40</td><td>  99.41</td><td>  99.42</td><td>  99.42</td><td>  99.43</td><td>  99.43</td><td>  99.44</td><td>  99.44</td><td>  99.44</td><td>  99.45</td><td>  99.45</td></tr>\n",
              "\t<tr><th scope=row>3</th><td>  34.12</td><td>  30.82</td><td>  29.46</td><td>  28.71</td><td>  28.24</td><td>  27.91</td><td>  27.67</td><td>  27.49</td><td>  27.35</td><td>  27.23</td><td>  27.13</td><td>  27.05</td><td>  26.98</td><td>  26.92</td><td>  26.87</td><td>  26.83</td><td>  26.79</td><td>  26.75</td><td>  26.72</td><td>  26.69</td></tr>\n",
              "\t<tr><th scope=row>4</th><td>  21.20</td><td>  18.00</td><td>  16.69</td><td>  15.98</td><td>  15.52</td><td>  15.21</td><td>  14.98</td><td>  14.80</td><td>  14.66</td><td>  14.55</td><td>  14.45</td><td>  14.37</td><td>  14.31</td><td>  14.25</td><td>  14.20</td><td>  14.15</td><td>  14.11</td><td>  14.08</td><td>  14.05</td><td>  14.02</td></tr>\n",
              "\t<tr><th scope=row>5</th><td>  16.26</td><td>  13.27</td><td>  12.06</td><td>  11.39</td><td>  10.97</td><td>  10.67</td><td>  10.46</td><td>  10.29</td><td>  10.16</td><td>  10.05</td><td>   9.96</td><td>   9.89</td><td>   9.82</td><td>   9.77</td><td>   9.72</td><td>   9.68</td><td>   9.64</td><td>   9.61</td><td>   9.58</td><td>   9.55</td></tr>\n",
              "\t<tr><th scope=row>6</th><td>  13.75</td><td>  10.92</td><td>   9.78</td><td>   9.15</td><td>   8.75</td><td>   8.47</td><td>   8.26</td><td>   8.10</td><td>   7.98</td><td>   7.87</td><td>   7.79</td><td>   7.72</td><td>   7.66</td><td>   7.60</td><td>   7.56</td><td>   7.52</td><td>   7.48</td><td>   7.45</td><td>   7.42</td><td>   7.40</td></tr>\n",
              "\t<tr><th scope=row>7</th><td>  12.25</td><td>   9.55</td><td>   8.45</td><td>   7.85</td><td>   7.46</td><td>   7.19</td><td>   6.99</td><td>   6.84</td><td>   6.72</td><td>   6.62</td><td>   6.54</td><td>   6.47</td><td>   6.41</td><td>   6.36</td><td>   6.31</td><td>   6.28</td><td>   6.24</td><td>   6.21</td><td>   6.18</td><td>   6.16</td></tr>\n",
              "\t<tr><th scope=row>8</th><td>  11.26</td><td>   8.65</td><td>   7.59</td><td>   7.01</td><td>   6.63</td><td>   6.37</td><td>   6.18</td><td>   6.03</td><td>   5.91</td><td>   5.81</td><td>   5.73</td><td>   5.67</td><td>   5.61</td><td>   5.56</td><td>   5.52</td><td>   5.48</td><td>   5.44</td><td>   5.41</td><td>   5.38</td><td>   5.36</td></tr>\n",
              "\t<tr><th scope=row>9</th><td>  10.56</td><td>   8.02</td><td>   6.99</td><td>   6.42</td><td>   6.06</td><td>   5.80</td><td>   5.61</td><td>   5.47</td><td>   5.35</td><td>   5.26</td><td>   5.18</td><td>   5.11</td><td>   5.05</td><td>   5.01</td><td>   4.96</td><td>   4.92</td><td>   4.89</td><td>   4.86</td><td>   4.83</td><td>   4.81</td></tr>\n",
              "\t<tr><th scope=row>10</th><td>  10.04</td><td>   7.56</td><td>   6.55</td><td>   5.99</td><td>   5.64</td><td>   5.39</td><td>   5.20</td><td>   5.06</td><td>   4.94</td><td>   4.85</td><td>   4.77</td><td>   4.71</td><td>   4.65</td><td>   4.60</td><td>   4.56</td><td>   4.52</td><td>   4.49</td><td>   4.46</td><td>   4.43</td><td>   4.41</td></tr>\n",
              "\t<tr><th scope=row>11</th><td>   9.65</td><td>   7.21</td><td>   6.22</td><td>   5.67</td><td>   5.32</td><td>   5.07</td><td>   4.89</td><td>   4.74</td><td>   4.63</td><td>   4.54</td><td>   4.46</td><td>   4.40</td><td>   4.34</td><td>   4.29</td><td>   4.25</td><td>   4.21</td><td>   4.18</td><td>   4.15</td><td>   4.12</td><td>   4.10</td></tr>\n",
              "\t<tr><th scope=row>12</th><td>   9.33</td><td>   6.93</td><td>   5.95</td><td>   5.41</td><td>   5.06</td><td>   4.82</td><td>   4.64</td><td>   4.50</td><td>   4.39</td><td>   4.30</td><td>   4.22</td><td>   4.16</td><td>   4.10</td><td>   4.05</td><td>   4.01</td><td>   3.97</td><td>   3.94</td><td>   3.91</td><td>   3.88</td><td>   3.86</td></tr>\n",
              "\t<tr><th scope=row>13</th><td>   9.07</td><td>   6.70</td><td>   5.74</td><td>   5.21</td><td>   4.86</td><td>   4.62</td><td>   4.44</td><td>   4.30</td><td>   4.19</td><td>   4.10</td><td>   4.02</td><td>   3.96</td><td>   3.91</td><td>   3.86</td><td>   3.82</td><td>   3.78</td><td>   3.75</td><td>   3.72</td><td>   3.69</td><td>   3.66</td></tr>\n",
              "\t<tr><th scope=row>14</th><td>   8.86</td><td>   6.51</td><td>   5.56</td><td>   5.04</td><td>   4.69</td><td>   4.46</td><td>   4.28</td><td>   4.14</td><td>   4.03</td><td>   3.94</td><td>   3.86</td><td>   3.80</td><td>   3.75</td><td>   3.70</td><td>   3.66</td><td>   3.62</td><td>   3.59</td><td>   3.56</td><td>   3.53</td><td>   3.51</td></tr>\n",
              "\t<tr><th scope=row>15</th><td>   8.68</td><td>   6.36</td><td>   5.42</td><td>   4.89</td><td>   4.56</td><td>   4.32</td><td>   4.14</td><td>   4.00</td><td>   3.89</td><td>   3.80</td><td>   3.73</td><td>   3.67</td><td>   3.61</td><td>   3.56</td><td>   3.52</td><td>   3.49</td><td>   3.45</td><td>   3.42</td><td>   3.40</td><td>   3.37</td></tr>\n",
              "\t<tr><th scope=row>16</th><td>   8.53</td><td>   6.23</td><td>   5.29</td><td>   4.77</td><td>   4.44</td><td>   4.20</td><td>   4.03</td><td>   3.89</td><td>   3.78</td><td>   3.69</td><td>   3.62</td><td>   3.55</td><td>   3.50</td><td>   3.45</td><td>   3.41</td><td>   3.37</td><td>   3.34</td><td>   3.31</td><td>   3.28</td><td>   3.26</td></tr>\n",
              "\t<tr><th scope=row>17</th><td>   8.40</td><td>   6.11</td><td>   5.18</td><td>   4.67</td><td>   4.34</td><td>   4.10</td><td>   3.93</td><td>   3.79</td><td>   3.68</td><td>   3.59</td><td>   3.52</td><td>   3.46</td><td>   3.40</td><td>   3.35</td><td>   3.31</td><td>   3.27</td><td>   3.24</td><td>   3.21</td><td>   3.19</td><td>   3.16</td></tr>\n",
              "\t<tr><th scope=row>18</th><td>   8.29</td><td>   6.01</td><td>   5.09</td><td>   4.58</td><td>   4.25</td><td>   4.01</td><td>   3.84</td><td>   3.71</td><td>   3.60</td><td>   3.51</td><td>   3.43</td><td>   3.37</td><td>   3.32</td><td>   3.27</td><td>   3.23</td><td>   3.19</td><td>   3.16</td><td>   3.13</td><td>   3.10</td><td>   3.08</td></tr>\n",
              "\t<tr><th scope=row>19</th><td>   8.18</td><td>   5.93</td><td>   5.01</td><td>   4.50</td><td>   4.17</td><td>   3.94</td><td>   3.77</td><td>   3.63</td><td>   3.52</td><td>   3.43</td><td>   3.36</td><td>   3.30</td><td>   3.24</td><td>   3.19</td><td>   3.15</td><td>   3.12</td><td>   3.08</td><td>   3.05</td><td>   3.03</td><td>   3.00</td></tr>\n",
              "\t<tr><th scope=row>20</th><td>   8.10</td><td>   5.85</td><td>   4.94</td><td>   4.43</td><td>   4.10</td><td>   3.87</td><td>   3.70</td><td>   3.56</td><td>   3.46</td><td>   3.37</td><td>   3.29</td><td>   3.23</td><td>   3.18</td><td>   3.13</td><td>   3.09</td><td>   3.05</td><td>   3.02</td><td>   2.99</td><td>   2.96</td><td>   2.94</td></tr>\n",
              "\t<tr><th scope=row>40</th><td>   7.31</td><td>   5.18</td><td>   4.31</td><td>   3.83</td><td>   3.51</td><td>   3.29</td><td>   3.12</td><td>   2.99</td><td>   2.89</td><td>   2.80</td><td>   2.73</td><td>   2.66</td><td>   2.61</td><td>   2.56</td><td>   2.52</td><td>   2.48</td><td>   2.45</td><td>   2.42</td><td>   2.39</td><td>   2.37</td></tr>\n",
              "\t<tr><th scope=row>60</th><td>   7.08</td><td>   4.98</td><td>   4.13</td><td>   3.65</td><td>   3.34</td><td>   3.12</td><td>   2.95</td><td>   2.82</td><td>   2.72</td><td>   2.63</td><td>   2.56</td><td>   2.50</td><td>   2.44</td><td>   2.39</td><td>   2.35</td><td>   2.31</td><td>   2.28</td><td>   2.25</td><td>   2.22</td><td>   2.20</td></tr>\n",
              "\t<tr><th scope=row>80</th><td>   6.96</td><td>   4.88</td><td>   4.04</td><td>   3.56</td><td>   3.26</td><td>   3.04</td><td>   2.87</td><td>   2.74</td><td>   2.64</td><td>   2.55</td><td>   2.48</td><td>   2.42</td><td>   2.36</td><td>   2.31</td><td>   2.27</td><td>   2.23</td><td>   2.20</td><td>   2.17</td><td>   2.14</td><td>   2.12</td></tr>\n",
              "\t<tr><th scope=row>100</th><td>   6.90</td><td>   4.82</td><td>   3.98</td><td>   3.51</td><td>   3.21</td><td>   2.99</td><td>   2.82</td><td>   2.69</td><td>   2.59</td><td>   2.50</td><td>   2.43</td><td>   2.37</td><td>   2.31</td><td>   2.27</td><td>   2.22</td><td>   2.19</td><td>   2.15</td><td>   2.12</td><td>   2.09</td><td>   2.07</td></tr>\n",
              "</tbody>\n",
              "</table>\n"
            ],
            "text/markdown": "\nA matrix: 24 × 20 of type dbl\n\n| <!--/--> | 1 | 2 | 3 | 4 | 5 | 6 | 7 | 8 | 9 | 10 | 11 | 12 | 13 | 14 | 15 | 16 | 17 | 18 | 19 | 20 |\n|---|---|---|---|---|---|---|---|---|---|---|---|---|---|---|---|---|---|---|---|---|\n| 1 | 4052.18 | 4999.50 | 5403.35 | 5624.58 | 5763.65 | 5858.99 | 5928.36 | 5981.07 | 6022.47 | 6055.85 | 6083.32 | 6106.32 | 6125.86 | 6142.67 | 6157.28 | 6170.10 | 6181.43 | 6191.53 | 6200.58 | 6208.73 |\n| 2 |   98.50 |   99.00 |   99.17 |   99.25 |   99.30 |   99.33 |   99.36 |   99.37 |   99.39 |   99.40 |   99.41 |   99.42 |   99.42 |   99.43 |   99.43 |   99.44 |   99.44 |   99.44 |   99.45 |   99.45 |\n| 3 |   34.12 |   30.82 |   29.46 |   28.71 |   28.24 |   27.91 |   27.67 |   27.49 |   27.35 |   27.23 |   27.13 |   27.05 |   26.98 |   26.92 |   26.87 |   26.83 |   26.79 |   26.75 |   26.72 |   26.69 |\n| 4 |   21.20 |   18.00 |   16.69 |   15.98 |   15.52 |   15.21 |   14.98 |   14.80 |   14.66 |   14.55 |   14.45 |   14.37 |   14.31 |   14.25 |   14.20 |   14.15 |   14.11 |   14.08 |   14.05 |   14.02 |\n| 5 |   16.26 |   13.27 |   12.06 |   11.39 |   10.97 |   10.67 |   10.46 |   10.29 |   10.16 |   10.05 |    9.96 |    9.89 |    9.82 |    9.77 |    9.72 |    9.68 |    9.64 |    9.61 |    9.58 |    9.55 |\n| 6 |   13.75 |   10.92 |    9.78 |    9.15 |    8.75 |    8.47 |    8.26 |    8.10 |    7.98 |    7.87 |    7.79 |    7.72 |    7.66 |    7.60 |    7.56 |    7.52 |    7.48 |    7.45 |    7.42 |    7.40 |\n| 7 |   12.25 |    9.55 |    8.45 |    7.85 |    7.46 |    7.19 |    6.99 |    6.84 |    6.72 |    6.62 |    6.54 |    6.47 |    6.41 |    6.36 |    6.31 |    6.28 |    6.24 |    6.21 |    6.18 |    6.16 |\n| 8 |   11.26 |    8.65 |    7.59 |    7.01 |    6.63 |    6.37 |    6.18 |    6.03 |    5.91 |    5.81 |    5.73 |    5.67 |    5.61 |    5.56 |    5.52 |    5.48 |    5.44 |    5.41 |    5.38 |    5.36 |\n| 9 |   10.56 |    8.02 |    6.99 |    6.42 |    6.06 |    5.80 |    5.61 |    5.47 |    5.35 |    5.26 |    5.18 |    5.11 |    5.05 |    5.01 |    4.96 |    4.92 |    4.89 |    4.86 |    4.83 |    4.81 |\n| 10 |   10.04 |    7.56 |    6.55 |    5.99 |    5.64 |    5.39 |    5.20 |    5.06 |    4.94 |    4.85 |    4.77 |    4.71 |    4.65 |    4.60 |    4.56 |    4.52 |    4.49 |    4.46 |    4.43 |    4.41 |\n| 11 |    9.65 |    7.21 |    6.22 |    5.67 |    5.32 |    5.07 |    4.89 |    4.74 |    4.63 |    4.54 |    4.46 |    4.40 |    4.34 |    4.29 |    4.25 |    4.21 |    4.18 |    4.15 |    4.12 |    4.10 |\n| 12 |    9.33 |    6.93 |    5.95 |    5.41 |    5.06 |    4.82 |    4.64 |    4.50 |    4.39 |    4.30 |    4.22 |    4.16 |    4.10 |    4.05 |    4.01 |    3.97 |    3.94 |    3.91 |    3.88 |    3.86 |\n| 13 |    9.07 |    6.70 |    5.74 |    5.21 |    4.86 |    4.62 |    4.44 |    4.30 |    4.19 |    4.10 |    4.02 |    3.96 |    3.91 |    3.86 |    3.82 |    3.78 |    3.75 |    3.72 |    3.69 |    3.66 |\n| 14 |    8.86 |    6.51 |    5.56 |    5.04 |    4.69 |    4.46 |    4.28 |    4.14 |    4.03 |    3.94 |    3.86 |    3.80 |    3.75 |    3.70 |    3.66 |    3.62 |    3.59 |    3.56 |    3.53 |    3.51 |\n| 15 |    8.68 |    6.36 |    5.42 |    4.89 |    4.56 |    4.32 |    4.14 |    4.00 |    3.89 |    3.80 |    3.73 |    3.67 |    3.61 |    3.56 |    3.52 |    3.49 |    3.45 |    3.42 |    3.40 |    3.37 |\n| 16 |    8.53 |    6.23 |    5.29 |    4.77 |    4.44 |    4.20 |    4.03 |    3.89 |    3.78 |    3.69 |    3.62 |    3.55 |    3.50 |    3.45 |    3.41 |    3.37 |    3.34 |    3.31 |    3.28 |    3.26 |\n| 17 |    8.40 |    6.11 |    5.18 |    4.67 |    4.34 |    4.10 |    3.93 |    3.79 |    3.68 |    3.59 |    3.52 |    3.46 |    3.40 |    3.35 |    3.31 |    3.27 |    3.24 |    3.21 |    3.19 |    3.16 |\n| 18 |    8.29 |    6.01 |    5.09 |    4.58 |    4.25 |    4.01 |    3.84 |    3.71 |    3.60 |    3.51 |    3.43 |    3.37 |    3.32 |    3.27 |    3.23 |    3.19 |    3.16 |    3.13 |    3.10 |    3.08 |\n| 19 |    8.18 |    5.93 |    5.01 |    4.50 |    4.17 |    3.94 |    3.77 |    3.63 |    3.52 |    3.43 |    3.36 |    3.30 |    3.24 |    3.19 |    3.15 |    3.12 |    3.08 |    3.05 |    3.03 |    3.00 |\n| 20 |    8.10 |    5.85 |    4.94 |    4.43 |    4.10 |    3.87 |    3.70 |    3.56 |    3.46 |    3.37 |    3.29 |    3.23 |    3.18 |    3.13 |    3.09 |    3.05 |    3.02 |    2.99 |    2.96 |    2.94 |\n| 40 |    7.31 |    5.18 |    4.31 |    3.83 |    3.51 |    3.29 |    3.12 |    2.99 |    2.89 |    2.80 |    2.73 |    2.66 |    2.61 |    2.56 |    2.52 |    2.48 |    2.45 |    2.42 |    2.39 |    2.37 |\n| 60 |    7.08 |    4.98 |    4.13 |    3.65 |    3.34 |    3.12 |    2.95 |    2.82 |    2.72 |    2.63 |    2.56 |    2.50 |    2.44 |    2.39 |    2.35 |    2.31 |    2.28 |    2.25 |    2.22 |    2.20 |\n| 80 |    6.96 |    4.88 |    4.04 |    3.56 |    3.26 |    3.04 |    2.87 |    2.74 |    2.64 |    2.55 |    2.48 |    2.42 |    2.36 |    2.31 |    2.27 |    2.23 |    2.20 |    2.17 |    2.14 |    2.12 |\n| 100 |    6.90 |    4.82 |    3.98 |    3.51 |    3.21 |    2.99 |    2.82 |    2.69 |    2.59 |    2.50 |    2.43 |    2.37 |    2.31 |    2.27 |    2.22 |    2.19 |    2.15 |    2.12 |    2.09 |    2.07 |\n\n",
            "text/latex": "A matrix: 24 × 20 of type dbl\n\\begin{tabular}{r|llllllllllllllllllll}\n  & 1 & 2 & 3 & 4 & 5 & 6 & 7 & 8 & 9 & 10 & 11 & 12 & 13 & 14 & 15 & 16 & 17 & 18 & 19 & 20\\\\\n\\hline\n\t1 & 4052.18 & 4999.50 & 5403.35 & 5624.58 & 5763.65 & 5858.99 & 5928.36 & 5981.07 & 6022.47 & 6055.85 & 6083.32 & 6106.32 & 6125.86 & 6142.67 & 6157.28 & 6170.10 & 6181.43 & 6191.53 & 6200.58 & 6208.73\\\\\n\t2 &   98.50 &   99.00 &   99.17 &   99.25 &   99.30 &   99.33 &   99.36 &   99.37 &   99.39 &   99.40 &   99.41 &   99.42 &   99.42 &   99.43 &   99.43 &   99.44 &   99.44 &   99.44 &   99.45 &   99.45\\\\\n\t3 &   34.12 &   30.82 &   29.46 &   28.71 &   28.24 &   27.91 &   27.67 &   27.49 &   27.35 &   27.23 &   27.13 &   27.05 &   26.98 &   26.92 &   26.87 &   26.83 &   26.79 &   26.75 &   26.72 &   26.69\\\\\n\t4 &   21.20 &   18.00 &   16.69 &   15.98 &   15.52 &   15.21 &   14.98 &   14.80 &   14.66 &   14.55 &   14.45 &   14.37 &   14.31 &   14.25 &   14.20 &   14.15 &   14.11 &   14.08 &   14.05 &   14.02\\\\\n\t5 &   16.26 &   13.27 &   12.06 &   11.39 &   10.97 &   10.67 &   10.46 &   10.29 &   10.16 &   10.05 &    9.96 &    9.89 &    9.82 &    9.77 &    9.72 &    9.68 &    9.64 &    9.61 &    9.58 &    9.55\\\\\n\t6 &   13.75 &   10.92 &    9.78 &    9.15 &    8.75 &    8.47 &    8.26 &    8.10 &    7.98 &    7.87 &    7.79 &    7.72 &    7.66 &    7.60 &    7.56 &    7.52 &    7.48 &    7.45 &    7.42 &    7.40\\\\\n\t7 &   12.25 &    9.55 &    8.45 &    7.85 &    7.46 &    7.19 &    6.99 &    6.84 &    6.72 &    6.62 &    6.54 &    6.47 &    6.41 &    6.36 &    6.31 &    6.28 &    6.24 &    6.21 &    6.18 &    6.16\\\\\n\t8 &   11.26 &    8.65 &    7.59 &    7.01 &    6.63 &    6.37 &    6.18 &    6.03 &    5.91 &    5.81 &    5.73 &    5.67 &    5.61 &    5.56 &    5.52 &    5.48 &    5.44 &    5.41 &    5.38 &    5.36\\\\\n\t9 &   10.56 &    8.02 &    6.99 &    6.42 &    6.06 &    5.80 &    5.61 &    5.47 &    5.35 &    5.26 &    5.18 &    5.11 &    5.05 &    5.01 &    4.96 &    4.92 &    4.89 &    4.86 &    4.83 &    4.81\\\\\n\t10 &   10.04 &    7.56 &    6.55 &    5.99 &    5.64 &    5.39 &    5.20 &    5.06 &    4.94 &    4.85 &    4.77 &    4.71 &    4.65 &    4.60 &    4.56 &    4.52 &    4.49 &    4.46 &    4.43 &    4.41\\\\\n\t11 &    9.65 &    7.21 &    6.22 &    5.67 &    5.32 &    5.07 &    4.89 &    4.74 &    4.63 &    4.54 &    4.46 &    4.40 &    4.34 &    4.29 &    4.25 &    4.21 &    4.18 &    4.15 &    4.12 &    4.10\\\\\n\t12 &    9.33 &    6.93 &    5.95 &    5.41 &    5.06 &    4.82 &    4.64 &    4.50 &    4.39 &    4.30 &    4.22 &    4.16 &    4.10 &    4.05 &    4.01 &    3.97 &    3.94 &    3.91 &    3.88 &    3.86\\\\\n\t13 &    9.07 &    6.70 &    5.74 &    5.21 &    4.86 &    4.62 &    4.44 &    4.30 &    4.19 &    4.10 &    4.02 &    3.96 &    3.91 &    3.86 &    3.82 &    3.78 &    3.75 &    3.72 &    3.69 &    3.66\\\\\n\t14 &    8.86 &    6.51 &    5.56 &    5.04 &    4.69 &    4.46 &    4.28 &    4.14 &    4.03 &    3.94 &    3.86 &    3.80 &    3.75 &    3.70 &    3.66 &    3.62 &    3.59 &    3.56 &    3.53 &    3.51\\\\\n\t15 &    8.68 &    6.36 &    5.42 &    4.89 &    4.56 &    4.32 &    4.14 &    4.00 &    3.89 &    3.80 &    3.73 &    3.67 &    3.61 &    3.56 &    3.52 &    3.49 &    3.45 &    3.42 &    3.40 &    3.37\\\\\n\t16 &    8.53 &    6.23 &    5.29 &    4.77 &    4.44 &    4.20 &    4.03 &    3.89 &    3.78 &    3.69 &    3.62 &    3.55 &    3.50 &    3.45 &    3.41 &    3.37 &    3.34 &    3.31 &    3.28 &    3.26\\\\\n\t17 &    8.40 &    6.11 &    5.18 &    4.67 &    4.34 &    4.10 &    3.93 &    3.79 &    3.68 &    3.59 &    3.52 &    3.46 &    3.40 &    3.35 &    3.31 &    3.27 &    3.24 &    3.21 &    3.19 &    3.16\\\\\n\t18 &    8.29 &    6.01 &    5.09 &    4.58 &    4.25 &    4.01 &    3.84 &    3.71 &    3.60 &    3.51 &    3.43 &    3.37 &    3.32 &    3.27 &    3.23 &    3.19 &    3.16 &    3.13 &    3.10 &    3.08\\\\\n\t19 &    8.18 &    5.93 &    5.01 &    4.50 &    4.17 &    3.94 &    3.77 &    3.63 &    3.52 &    3.43 &    3.36 &    3.30 &    3.24 &    3.19 &    3.15 &    3.12 &    3.08 &    3.05 &    3.03 &    3.00\\\\\n\t20 &    8.10 &    5.85 &    4.94 &    4.43 &    4.10 &    3.87 &    3.70 &    3.56 &    3.46 &    3.37 &    3.29 &    3.23 &    3.18 &    3.13 &    3.09 &    3.05 &    3.02 &    2.99 &    2.96 &    2.94\\\\\n\t40 &    7.31 &    5.18 &    4.31 &    3.83 &    3.51 &    3.29 &    3.12 &    2.99 &    2.89 &    2.80 &    2.73 &    2.66 &    2.61 &    2.56 &    2.52 &    2.48 &    2.45 &    2.42 &    2.39 &    2.37\\\\\n\t60 &    7.08 &    4.98 &    4.13 &    3.65 &    3.34 &    3.12 &    2.95 &    2.82 &    2.72 &    2.63 &    2.56 &    2.50 &    2.44 &    2.39 &    2.35 &    2.31 &    2.28 &    2.25 &    2.22 &    2.20\\\\\n\t80 &    6.96 &    4.88 &    4.04 &    3.56 &    3.26 &    3.04 &    2.87 &    2.74 &    2.64 &    2.55 &    2.48 &    2.42 &    2.36 &    2.31 &    2.27 &    2.23 &    2.20 &    2.17 &    2.14 &    2.12\\\\\n\t100 &    6.90 &    4.82 &    3.98 &    3.51 &    3.21 &    2.99 &    2.82 &    2.69 &    2.59 &    2.50 &    2.43 &    2.37 &    2.31 &    2.27 &    2.22 &    2.19 &    2.15 &    2.12 &    2.09 &    2.07\\\\\n\\end{tabular}\n",
            "text/plain": [
              "    1       2       3       4       5       6       7       8       9      \n",
              "1   4052.18 4999.50 5403.35 5624.58 5763.65 5858.99 5928.36 5981.07 6022.47\n",
              "2     98.50   99.00   99.17   99.25   99.30   99.33   99.36   99.37   99.39\n",
              "3     34.12   30.82   29.46   28.71   28.24   27.91   27.67   27.49   27.35\n",
              "4     21.20   18.00   16.69   15.98   15.52   15.21   14.98   14.80   14.66\n",
              "5     16.26   13.27   12.06   11.39   10.97   10.67   10.46   10.29   10.16\n",
              "6     13.75   10.92    9.78    9.15    8.75    8.47    8.26    8.10    7.98\n",
              "7     12.25    9.55    8.45    7.85    7.46    7.19    6.99    6.84    6.72\n",
              "8     11.26    8.65    7.59    7.01    6.63    6.37    6.18    6.03    5.91\n",
              "9     10.56    8.02    6.99    6.42    6.06    5.80    5.61    5.47    5.35\n",
              "10    10.04    7.56    6.55    5.99    5.64    5.39    5.20    5.06    4.94\n",
              "11     9.65    7.21    6.22    5.67    5.32    5.07    4.89    4.74    4.63\n",
              "12     9.33    6.93    5.95    5.41    5.06    4.82    4.64    4.50    4.39\n",
              "13     9.07    6.70    5.74    5.21    4.86    4.62    4.44    4.30    4.19\n",
              "14     8.86    6.51    5.56    5.04    4.69    4.46    4.28    4.14    4.03\n",
              "15     8.68    6.36    5.42    4.89    4.56    4.32    4.14    4.00    3.89\n",
              "16     8.53    6.23    5.29    4.77    4.44    4.20    4.03    3.89    3.78\n",
              "17     8.40    6.11    5.18    4.67    4.34    4.10    3.93    3.79    3.68\n",
              "18     8.29    6.01    5.09    4.58    4.25    4.01    3.84    3.71    3.60\n",
              "19     8.18    5.93    5.01    4.50    4.17    3.94    3.77    3.63    3.52\n",
              "20     8.10    5.85    4.94    4.43    4.10    3.87    3.70    3.56    3.46\n",
              "40     7.31    5.18    4.31    3.83    3.51    3.29    3.12    2.99    2.89\n",
              "60     7.08    4.98    4.13    3.65    3.34    3.12    2.95    2.82    2.72\n",
              "80     6.96    4.88    4.04    3.56    3.26    3.04    2.87    2.74    2.64\n",
              "100    6.90    4.82    3.98    3.51    3.21    2.99    2.82    2.69    2.59\n",
              "    10      11      12      13      14      15      16      17      18     \n",
              "1   6055.85 6083.32 6106.32 6125.86 6142.67 6157.28 6170.10 6181.43 6191.53\n",
              "2     99.40   99.41   99.42   99.42   99.43   99.43   99.44   99.44   99.44\n",
              "3     27.23   27.13   27.05   26.98   26.92   26.87   26.83   26.79   26.75\n",
              "4     14.55   14.45   14.37   14.31   14.25   14.20   14.15   14.11   14.08\n",
              "5     10.05    9.96    9.89    9.82    9.77    9.72    9.68    9.64    9.61\n",
              "6      7.87    7.79    7.72    7.66    7.60    7.56    7.52    7.48    7.45\n",
              "7      6.62    6.54    6.47    6.41    6.36    6.31    6.28    6.24    6.21\n",
              "8      5.81    5.73    5.67    5.61    5.56    5.52    5.48    5.44    5.41\n",
              "9      5.26    5.18    5.11    5.05    5.01    4.96    4.92    4.89    4.86\n",
              "10     4.85    4.77    4.71    4.65    4.60    4.56    4.52    4.49    4.46\n",
              "11     4.54    4.46    4.40    4.34    4.29    4.25    4.21    4.18    4.15\n",
              "12     4.30    4.22    4.16    4.10    4.05    4.01    3.97    3.94    3.91\n",
              "13     4.10    4.02    3.96    3.91    3.86    3.82    3.78    3.75    3.72\n",
              "14     3.94    3.86    3.80    3.75    3.70    3.66    3.62    3.59    3.56\n",
              "15     3.80    3.73    3.67    3.61    3.56    3.52    3.49    3.45    3.42\n",
              "16     3.69    3.62    3.55    3.50    3.45    3.41    3.37    3.34    3.31\n",
              "17     3.59    3.52    3.46    3.40    3.35    3.31    3.27    3.24    3.21\n",
              "18     3.51    3.43    3.37    3.32    3.27    3.23    3.19    3.16    3.13\n",
              "19     3.43    3.36    3.30    3.24    3.19    3.15    3.12    3.08    3.05\n",
              "20     3.37    3.29    3.23    3.18    3.13    3.09    3.05    3.02    2.99\n",
              "40     2.80    2.73    2.66    2.61    2.56    2.52    2.48    2.45    2.42\n",
              "60     2.63    2.56    2.50    2.44    2.39    2.35    2.31    2.28    2.25\n",
              "80     2.55    2.48    2.42    2.36    2.31    2.27    2.23    2.20    2.17\n",
              "100    2.50    2.43    2.37    2.31    2.27    2.22    2.19    2.15    2.12\n",
              "    19      20     \n",
              "1   6200.58 6208.73\n",
              "2     99.45   99.45\n",
              "3     26.72   26.69\n",
              "4     14.05   14.02\n",
              "5      9.58    9.55\n",
              "6      7.42    7.40\n",
              "7      6.18    6.16\n",
              "8      5.38    5.36\n",
              "9      4.83    4.81\n",
              "10     4.43    4.41\n",
              "11     4.12    4.10\n",
              "12     3.88    3.86\n",
              "13     3.69    3.66\n",
              "14     3.53    3.51\n",
              "15     3.40    3.37\n",
              "16     3.28    3.26\n",
              "17     3.19    3.16\n",
              "18     3.10    3.08\n",
              "19     3.03    3.00\n",
              "20     2.96    2.94\n",
              "40     2.39    2.37\n",
              "60     2.22    2.20\n",
              "80     2.14    2.12\n",
              "100    2.09    2.07"
            ]
          },
          "metadata": {}
        }
      ]
    },
    {
      "cell_type": "markdown",
      "source": [
        "#### Kitaba geri dön! \n",
        "<img src=\"https://raw.githubusercontent.com/tensorchiefs/dl_book/master/imgs/Page_turn_icon_A.png\" width=\"120\" align=\"left\" />  \n",
        "Bölüm 20 ve Kısım 2 tamamlandı. Bir sonraki bölümü incelemek için kitaba geri dönebilirsin."
      ],
      "metadata": {
        "id": "jr4H_ctT1jdM"
      }
    }
  ]
}