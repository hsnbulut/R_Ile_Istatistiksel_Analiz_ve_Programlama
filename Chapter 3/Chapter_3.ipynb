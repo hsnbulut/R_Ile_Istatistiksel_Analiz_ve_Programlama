{
  "nbformat": 4,
  "nbformat_minor": 0,
  "metadata": {
    "colab": {
      "provenance": []
    },
    "kernelspec": {
      "name": "ir",
      "display_name": "R"
    },
    "language_info": {
      "name": "R"
    },
    "gpuClass": "standard"
  },
  "cells": [
    {
      "cell_type": "markdown",
      "source": [
        "# **3. R Programında Karar Yapıları**"
      ],
      "metadata": {
        "id": "MlFI9W6eSfb0"
      }
    },
    {
      "cell_type": "markdown",
      "source": [
        "## **Örnek 3.1 Uygulama**"
      ],
      "metadata": {
        "id": "OVAXrw8aSpwZ"
      }
    },
    {
      "cell_type": "code",
      "source": [
        "C=20\n",
        "if(C<15) {\n",
        "   print(\"Hava soğuk\")\n",
        "} else if (C>25) { # veya else if (C>15 & C<25) {\n",
        "   print(\"Hava Sıcak\")\n",
        "} else {\n",
        "   print(\"Hava normal\")\n",
        "}"
      ],
      "metadata": {
        "colab": {
          "base_uri": "https://localhost:8080/"
        },
        "id": "nlK-4YDBStMl",
        "outputId": "6805ab75-2ca4-4a79-93f7-9ebbeda94fae"
      },
      "execution_count": 2,
      "outputs": [
        {
          "output_type": "stream",
          "name": "stdout",
          "text": [
            "[1] \"Hava normal\"\n"
          ]
        }
      ]
    },
    {
      "cell_type": "markdown",
      "source": [
        "#### Kitaba geri dön! \n",
        "<img src=\"https://raw.githubusercontent.com/tensorchiefs/dl_book/master/imgs/Page_turn_icon_A.png\" width=\"120\" align=\"left\" />  \n",
        "Örnek 3.2'yi incelemek için kitaba geri dönebilirsin."
      ],
      "metadata": {
        "id": "6eWD-wAkTBGX"
      }
    },
    {
      "cell_type": "markdown",
      "source": [
        "## **Örnek 3.2 Uygulama**"
      ],
      "metadata": {
        "id": "axOQL_FtU8G1"
      }
    },
    {
      "cell_type": "code",
      "source": [
        "x=20\n",
        "if(x<10){\n",
        "  tutar=10*x\n",
        "} else if (x>=10 & x<50){\n",
        "    tutar=8*x\n",
        "    } else if (x>=50 & x<100){\n",
        "    tutar=6*x\n",
        "  } else {\n",
        "    tutar=5*x\n",
        "}\n",
        "tutar"
      ],
      "metadata": {
        "colab": {
          "base_uri": "https://localhost:8080/",
          "height": 34
        },
        "id": "hwjLLQl6W8AA",
        "outputId": "40428157-a83b-4831-f5e6-dcb597ac8ff2"
      },
      "execution_count": 1,
      "outputs": [
        {
          "output_type": "display_data",
          "data": {
            "text/html": [
              "160"
            ],
            "text/markdown": "160",
            "text/latex": "160",
            "text/plain": [
              "[1] 160"
            ]
          },
          "metadata": {}
        }
      ]
    },
    {
      "cell_type": "markdown",
      "source": [
        "#### Kitaba geri dön! \n",
        "<img src=\"https://raw.githubusercontent.com/tensorchiefs/dl_book/master/imgs/Page_turn_icon_A.png\" width=\"120\" align=\"left\" />  \n",
        "Örnek 3.3'ü incelemek için kitaba geri dönebilirsin."
      ],
      "metadata": {
        "id": "3MFyAjSAXBXC"
      }
    },
    {
      "cell_type": "markdown",
      "source": [
        "## **Örnek 3.3 Uygulama**"
      ],
      "metadata": {
        "id": "TLiyPREfXLHM"
      }
    },
    {
      "cell_type": "code",
      "source": [
        "ürün=\"C\"\n",
        "if(ürün==\"A\"){\n",
        "   fiyat=25*1.01\n",
        " } else if (ürün==\"B\"){\n",
        "   fiyat=25*1.08\n",
        " } else if(ürün==\"C\") {\n",
        "   fiyat=25*1.18\n",
        " } else if (ürün==\"D\"){\n",
        "   fiyat=25*1.40\n",
        " } else {\n",
        " warning(\"Lütfen ürün kategorisini kontrol edi-niz!\")\n",
        " }\n",
        " fiyat"
      ],
      "metadata": {
        "colab": {
          "base_uri": "https://localhost:8080/",
          "height": 34
        },
        "id": "uPSLmfNBXyQz",
        "outputId": "7564efdf-0aea-4da1-9841-b7a97f13e464"
      },
      "execution_count": 3,
      "outputs": [
        {
          "output_type": "display_data",
          "data": {
            "text/html": [
              "29.5"
            ],
            "text/markdown": "29.5",
            "text/latex": "29.5",
            "text/plain": [
              "[1] 29.5"
            ]
          },
          "metadata": {}
        }
      ]
    },
    {
      "cell_type": "markdown",
      "source": [
        "#### Kitaba geri dön! \n",
        "<img src=\"https://raw.githubusercontent.com/tensorchiefs/dl_book/master/imgs/Page_turn_icon_A.png\" width=\"120\" align=\"left\" />  \n",
        "Bölüm 3 tamamlandı. Bir sonraki bölüm için kitaba geri dönebilirsin.\n"
      ],
      "metadata": {
        "id": "dIumbsJyX5sH"
      }
    }
  ]
}