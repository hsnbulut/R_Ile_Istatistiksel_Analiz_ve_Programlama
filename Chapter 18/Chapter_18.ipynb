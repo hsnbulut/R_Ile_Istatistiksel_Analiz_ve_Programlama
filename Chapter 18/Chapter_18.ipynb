{
  "nbformat": 4,
  "nbformat_minor": 0,
  "metadata": {
    "colab": {
      "provenance": []
    },
    "kernelspec": {
      "name": "ir",
      "display_name": "R"
    },
    "language_info": {
      "name": "R"
    },
    "gpuClass": "standard"
  },
  "cells": [
    {
      "cell_type": "markdown",
      "source": [
        "# **18. REGRESYON ANALİZİ**"
      ],
      "metadata": {
        "id": "MlFI9W6eSfb0"
      }
    },
    {
      "cell_type": "markdown",
      "source": [
        "## **18.1. Basit Doğrusal Regresyon**"
      ],
      "metadata": {
        "id": "uJOxXov5KX65"
      }
    },
    {
      "cell_type": "markdown",
      "source": [
        "**Örnek 18.1**"
      ],
      "metadata": {
        "id": "KZdA4cG11agl"
      }
    },
    {
      "cell_type": "code",
      "source": [
        "Y<-c(50,60,62,68,72,80,83,85,90)\n",
        "x<-c(2,3.5,4,5,6,7.5,8,8.5,10)\n",
        "veri<-as.data.frame(cbind(Y,x))\n",
        "reg<-lm(Y~x,data=veri)\n",
        "summary(reg)"
      ],
      "metadata": {
        "colab": {
          "base_uri": "https://localhost:8080/",
          "height": 338
        },
        "id": "7Ws133g0F8Qn",
        "outputId": "9b1e1d97-e3cf-4178-c485-a327f15d40d6"
      },
      "execution_count": 2,
      "outputs": [
        {
          "output_type": "display_data",
          "data": {
            "text/plain": [
              "\n",
              "Call:\n",
              "lm(formula = Y ~ x, data = veri)\n",
              "\n",
              "Residuals:\n",
              "     Min       1Q   Median       3Q      Max \n",
              "-2.07029  0.05733  0.47757  0.63709  1.08923 \n",
              "\n",
              "Coefficients:\n",
              "            Estimate Std. Error t value Pr(>|t|)    \n",
              "(Intercept)  41.7512     1.0826   38.57 2.05e-09 ***\n",
              "x             5.0319     0.1654   30.43 1.07e-08 ***\n",
              "---\n",
              "Signif. codes:  0 ‘***’ 0.001 ‘**’ 0.01 ‘*’ 0.05 ‘.’ 0.1 ‘ ’ 1\n",
              "\n",
              "Residual standard error: 1.234 on 7 degrees of freedom\n",
              "Multiple R-squared:  0.9925,\tAdjusted R-squared:  0.9914 \n",
              "F-statistic:   926 on 1 and 7 DF,  p-value: 1.068e-08\n"
            ]
          },
          "metadata": {}
        }
      ]
    },
    {
      "cell_type": "markdown",
      "source": [
        "#### Kitaba geri dön! \n",
        "<img src=\"https://raw.githubusercontent.com/tensorchiefs/dl_book/master/imgs/Page_turn_icon_A.png\" width=\"120\" align=\"left\" />  \n",
        "Bölüm 18.2'yi incelemek için kitaba geri dönebilirsin."
      ],
      "metadata": {
        "id": "6eWD-wAkTBGX"
      }
    },
    {
      "cell_type": "markdown",
      "source": [
        "## **18.2. Çoklu Doğrusal Regresyon Analizi**"
      ],
      "metadata": {
        "id": "moah4XfIS_Gu"
      }
    },
    {
      "cell_type": "markdown",
      "source": [
        "**Örnek 18.2**"
      ],
      "metadata": {
        "id": "Yv14f94cKQGh"
      }
    },
    {
      "cell_type": "code",
      "source": [
        "Y<-c(50,60,62,68,72,80,83,85,90)\n",
        "X1<-c(2,3.5,4,5,6,7.5,8,8.5,10)\n",
        "X2<-c(15,8,18,30,33,28,38,34,40)\n",
        "veri<-as.data.frame(cbind(Y,X1,X2))\n",
        "reg2<-lm(Y~.,data=veri)  # veya reg2<-lm(Y~X1+X2,data=veri)\n",
        "summary(reg2)"
      ],
      "metadata": {
        "colab": {
          "base_uri": "https://localhost:8080/",
          "height": 356
        },
        "id": "PZRCo-BiKT9f",
        "outputId": "fd606415-7bf3-4251-c675-58b8f58e59b8"
      },
      "execution_count": 3,
      "outputs": [
        {
          "output_type": "display_data",
          "data": {
            "text/plain": [
              "\n",
              "Call:\n",
              "lm(formula = Y ~ ., data = veri)\n",
              "\n",
              "Residuals:\n",
              "    Min      1Q  Median      3Q     Max \n",
              "-2.0699  0.0556  0.4782  0.6399  1.0873 \n",
              "\n",
              "Coefficients:\n",
              "             Estimate Std. Error t value Pr(>|t|)    \n",
              "(Intercept) 4.175e+01  1.250e+00  33.402 4.79e-08 ***\n",
              "X1          5.031e+00  3.685e-01  13.653 9.59e-06 ***\n",
              "X2          2.841e-04  8.828e-02   0.003    0.998    \n",
              "---\n",
              "Signif. codes:  0 ‘***’ 0.001 ‘**’ 0.01 ‘*’ 0.05 ‘.’ 0.1 ‘ ’ 1\n",
              "\n",
              "Residual standard error: 1.333 on 6 degrees of freedom\n",
              "Multiple R-squared:  0.9925,\tAdjusted R-squared:   0.99 \n",
              "F-statistic: 396.9 on 2 and 6 DF,  p-value: 4.223e-07\n"
            ]
          },
          "metadata": {}
        }
      ]
    },
    {
      "cell_type": "markdown",
      "source": [
        "#### Kitaba geri dön! \n",
        "<img src=\"https://raw.githubusercontent.com/tensorchiefs/dl_book/master/imgs/Page_turn_icon_A.png\" width=\"120\" align=\"left\" />  \n",
        "Bölüm 18.3'ü incelemek için kitaba geri dönebilirsin."
      ],
      "metadata": {
        "id": "ATds7eokLBeL"
      }
    },
    {
      "cell_type": "markdown",
      "source": [
        "### **18.3. Kategorik-Nitel Açıklayıcı Değişken Durumu: Kukla (Dummy) Değişken**"
      ],
      "metadata": {
        "id": "axOQL_FtU8G1"
      }
    },
    {
      "cell_type": "markdown",
      "source": [
        "**Örnek 18.3**"
      ],
      "metadata": {
        "id": "CzJdhAad1ewq"
      }
    },
    {
      "cell_type": "code",
      "source": [
        "Y<-c(50,60,62,68,72,80,83,85,90)\n",
        "x1<-c(2,3.5,4,5,6,7.5,8,8.5,10)\n",
        "x2<-c(15,8,18,30,33,28,38,34,40)\n",
        "D<-c(1,1,2,3,2,1,3,2,3)\n",
        "veri<-as.data.frame(cbind(Y,x1,x2,D))\n",
        "veri$D<-as.factor(veri$D)\n",
        "str(veri)"
      ],
      "metadata": {
        "id": "hwjLLQl6W8AA",
        "colab": {
          "base_uri": "https://localhost:8080/"
        },
        "outputId": "a2ef9bca-6ebc-4950-bac9-0410acbfb3c8"
      },
      "execution_count": 4,
      "outputs": [
        {
          "output_type": "stream",
          "name": "stdout",
          "text": [
            "'data.frame':\t9 obs. of  4 variables:\n",
            " $ Y : num  50 60 62 68 72 80 83 85 90\n",
            " $ x1: num  2 3.5 4 5 6 7.5 8 8.5 10\n",
            " $ x2: num  15 8 18 30 33 28 38 34 40\n",
            " $ D : Factor w/ 3 levels \"1\",\"2\",\"3\": 1 1 2 3 2 1 3 2 3\n"
          ]
        }
      ]
    },
    {
      "cell_type": "code",
      "source": [
        "reg3<-lm(Y~.,data= veri)\n",
        "summary(reg3)"
      ],
      "metadata": {
        "colab": {
          "base_uri": "https://localhost:8080/",
          "height": 428
        },
        "id": "wAjfGSqCVhjG",
        "outputId": "7b80cee9-3ec0-4ab4-c8df-9da939198f31"
      },
      "execution_count": 5,
      "outputs": [
        {
          "output_type": "display_data",
          "data": {
            "text/plain": [
              "\n",
              "Call:\n",
              "lm(formula = Y ~ ., data = veri)\n",
              "\n",
              "Residuals:\n",
              "        1         2         3         4         5         6         7         8 \n",
              "-1.517700  0.609263 -0.311987  1.045953  0.004919  0.908437  1.036086  0.307067 \n",
              "        9 \n",
              "-2.082039 \n",
              "\n",
              "Coefficients:\n",
              "            Estimate Std. Error t value Pr(>|t|)    \n",
              "(Intercept) 41.83461    1.60998  25.985  1.3e-05 ***\n",
              "x1           5.09253    0.47098  10.813 0.000415 ***\n",
              "x2          -0.03346    0.14307  -0.234 0.826541    \n",
              "D2           0.70963    1.64978   0.430 0.689259    \n",
              "D3           0.66073    2.09383   0.316 0.768116    \n",
              "---\n",
              "Signif. codes:  0 ‘***’ 0.001 ‘**’ 0.01 ‘*’ 0.05 ‘.’ 0.1 ‘ ’ 1\n",
              "\n",
              "Residual standard error: 1.596 on 4 degrees of freedom\n",
              "Multiple R-squared:  0.9928,\tAdjusted R-squared:  0.9857 \n",
              "F-statistic: 138.5 on 4 and 4 DF,  p-value: 0.0001535\n"
            ]
          },
          "metadata": {}
        }
      ]
    },
    {
      "cell_type": "markdown",
      "source": [
        "#### Kitaba geri dön! \n",
        "<img src=\"https://raw.githubusercontent.com/tensorchiefs/dl_book/master/imgs/Page_turn_icon_A.png\" width=\"120\" align=\"left\" />  \n",
        "Bölüm 18 tamamlandı. Bir sonraki bölümü incelemek için kitaba geri dönebilirsin."
      ],
      "metadata": {
        "id": "jr4H_ctT1jdM"
      }
    }
  ]
}