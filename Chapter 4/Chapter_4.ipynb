{
  "nbformat": 4,
  "nbformat_minor": 0,
  "metadata": {
    "colab": {
      "provenance": []
    },
    "kernelspec": {
      "name": "ir",
      "display_name": "R"
    },
    "language_info": {
      "name": "R"
    },
    "gpuClass": "standard"
  },
  "cells": [
    {
      "cell_type": "markdown",
      "source": [
        "# **4. R Programlama Dilinde Döngü Yapıları**"
      ],
      "metadata": {
        "id": "MlFI9W6eSfb0"
      }
    },
    {
      "cell_type": "markdown",
      "source": [
        "## **Örnek 4.1 Uygulama**"
      ],
      "metadata": {
        "id": "OVAXrw8aSpwZ"
      }
    },
    {
      "cell_type": "code",
      "source": [
        "x<-c(1,2,5,4,2,3,6,4,8,9,6,2)\n",
        "T=0\n",
        "n<-length(x) # for döngüsünün adım sayısını belirlemek için hesaplandı\n",
        "for(i in 1:n){\n",
        "  if(x[i]%%2==0){ # Vektörün i. elemanı çiftse T’yi 1 art-tır.\n",
        "    T=T+1\n",
        "  }\n",
        "}\n",
        "T\n"
      ],
      "metadata": {
        "colab": {
          "base_uri": "https://localhost:8080/",
          "height": 34
        },
        "id": "nlK-4YDBStMl",
        "outputId": "ead52c54-9366-418e-c284-e6a484b8f5b2"
      },
      "execution_count": null,
      "outputs": [
        {
          "output_type": "display_data",
          "data": {
            "text/html": [
              "8"
            ],
            "text/markdown": "8",
            "text/latex": "8",
            "text/plain": [
              "[1] 8"
            ]
          },
          "metadata": {}
        }
      ]
    },
    {
      "cell_type": "markdown",
      "source": [
        "#### Kitaba geri dön! \n",
        "<img src=\"https://raw.githubusercontent.com/tensorchiefs/dl_book/master/imgs/Page_turn_icon_A.png\" width=\"120\" align=\"left\" />  \n",
        "Örnek 4.2'yi incelemek için kitaba geri dönebilirsin."
      ],
      "metadata": {
        "id": "6eWD-wAkTBGX"
      }
    },
    {
      "cell_type": "markdown",
      "source": [
        "## **Örnek 4.2 Uygulama**"
      ],
      "metadata": {
        "id": "axOQL_FtU8G1"
      }
    },
    {
      "cell_type": "code",
      "source": [
        "x<-c(1,2,5,4,2,3,6,4,8,9,6,2)\n",
        "n<-length(x)\n",
        "çift<-NULL\n",
        "for (i in 1:n) {\n",
        " if (x[i]%%2==0) {\n",
        "     çift<-c(çift, x[i])\n",
        "   }\n",
        "}\n",
        "çift"
      ],
      "metadata": {
        "colab": {
          "base_uri": "https://localhost:8080/",
          "height": 34
        },
        "id": "hwjLLQl6W8AA",
        "outputId": "bf3f92f1-cab0-48c1-a95d-afe99a8fac28"
      },
      "execution_count": null,
      "outputs": [
        {
          "output_type": "display_data",
          "data": {
            "text/html": [
              "<style>\n",
              ".list-inline {list-style: none; margin:0; padding: 0}\n",
              ".list-inline>li {display: inline-block}\n",
              ".list-inline>li:not(:last-child)::after {content: \"\\00b7\"; padding: 0 .5ex}\n",
              "</style>\n",
              "<ol class=list-inline><li>2</li><li>4</li><li>2</li><li>6</li><li>4</li><li>8</li><li>6</li><li>2</li></ol>\n"
            ],
            "text/markdown": "1. 2\n2. 4\n3. 2\n4. 6\n5. 4\n6. 8\n7. 6\n8. 2\n\n\n",
            "text/latex": "\\begin{enumerate*}\n\\item 2\n\\item 4\n\\item 2\n\\item 6\n\\item 4\n\\item 8\n\\item 6\n\\item 2\n\\end{enumerate*}\n",
            "text/plain": [
              "[1] 2 4 2 6 4 8 6 2"
            ]
          },
          "metadata": {}
        }
      ]
    },
    {
      "cell_type": "markdown",
      "source": [
        "#### Kitaba geri dön! \n",
        "<img src=\"https://raw.githubusercontent.com/tensorchiefs/dl_book/master/imgs/Page_turn_icon_A.png\" width=\"120\" align=\"left\" />  \n",
        "Örnek 4.3'ü incelemek için kitaba geri dönebilirsin."
      ],
      "metadata": {
        "id": "3MFyAjSAXBXC"
      }
    },
    {
      "cell_type": "markdown",
      "source": [
        "## **Örnek 4.3 Uygulama**"
      ],
      "metadata": {
        "id": "TLiyPREfXLHM"
      }
    },
    {
      "cell_type": "code",
      "source": [
        "Takım<-NULL\n",
        "Kişiler<-c(1,2,4,3,2,1,4,2,4,4,3,1)\n",
        "n<-length(Kişiler)\n",
        "for (i in 1:n) {\n",
        "  Takım[i]<-switch(Kişiler[i],\"TS\",\"GS\",\"BJK\",\"FB\")\n",
        "}\n",
        "Takım"
      ],
      "metadata": {
        "colab": {
          "base_uri": "https://localhost:8080/",
          "height": 34
        },
        "id": "uPSLmfNBXyQz",
        "outputId": "9eb3757d-907b-4a15-97bb-787a83e8d205"
      },
      "execution_count": null,
      "outputs": [
        {
          "output_type": "display_data",
          "data": {
            "text/html": [
              "<style>\n",
              ".list-inline {list-style: none; margin:0; padding: 0}\n",
              ".list-inline>li {display: inline-block}\n",
              ".list-inline>li:not(:last-child)::after {content: \"\\00b7\"; padding: 0 .5ex}\n",
              "</style>\n",
              "<ol class=list-inline><li>'TS'</li><li>'GS'</li><li>'FB'</li><li>'BJK'</li><li>'GS'</li><li>'TS'</li><li>'FB'</li><li>'GS'</li><li>'FB'</li><li>'FB'</li><li>'BJK'</li><li>'TS'</li></ol>\n"
            ],
            "text/markdown": "1. 'TS'\n2. 'GS'\n3. 'FB'\n4. 'BJK'\n5. 'GS'\n6. 'TS'\n7. 'FB'\n8. 'GS'\n9. 'FB'\n10. 'FB'\n11. 'BJK'\n12. 'TS'\n\n\n",
            "text/latex": "\\begin{enumerate*}\n\\item 'TS'\n\\item 'GS'\n\\item 'FB'\n\\item 'BJK'\n\\item 'GS'\n\\item 'TS'\n\\item 'FB'\n\\item 'GS'\n\\item 'FB'\n\\item 'FB'\n\\item 'BJK'\n\\item 'TS'\n\\end{enumerate*}\n",
            "text/plain": [
              " [1] \"TS\"  \"GS\"  \"FB\"  \"BJK\" \"GS\"  \"TS\"  \"FB\"  \"GS\"  \"FB\"  \"FB\"  \"BJK\" \"TS\" "
            ]
          },
          "metadata": {}
        }
      ]
    },
    {
      "cell_type": "markdown",
      "source": [
        "#### Kitaba geri dön! \n",
        "<img src=\"https://raw.githubusercontent.com/tensorchiefs/dl_book/master/imgs/Page_turn_icon_A.png\" width=\"120\" align=\"left\" />  \n",
        "Örnek 4.4'ü incelemek için kitaba geri dönebilirsin."
      ],
      "metadata": {
        "id": "WBDJdsOb5AkB"
      }
    },
    {
      "cell_type": "markdown",
      "source": [
        "## **Örnek 4.4 Uygulama**"
      ],
      "metadata": {
        "id": "ZjfhEt3I5wXr"
      }
    },
    {
      "cell_type": "code",
      "source": [
        "A<-matrix(0,nrow=10, ncol=10)\n",
        "for (i in 1:10) {  # 1. Döngü başlangıcı\n",
        " for (j in 1:10) { # 2. Döngü Başlangıcı\n",
        "    A[i,j]<-i*j\n",
        "  }  # 2. Döngü Bitişi\n",
        "} # 1. Döngü Bitişi\t\t\n",
        "A"
      ],
      "metadata": {
        "colab": {
          "base_uri": "https://localhost:8080/",
          "height": 348
        },
        "id": "zMp2QvNY5CZo",
        "outputId": "d937ced8-98db-4c14-d007-ce68354d8ece"
      },
      "execution_count": null,
      "outputs": [
        {
          "output_type": "display_data",
          "data": {
            "text/html": [
              "<table class=\"dataframe\">\n",
              "<caption>A matrix: 10 × 10 of type dbl</caption>\n",
              "<tbody>\n",
              "\t<tr><td> 1</td><td> 2</td><td> 3</td><td> 4</td><td> 5</td><td> 6</td><td> 7</td><td> 8</td><td> 9</td><td> 10</td></tr>\n",
              "\t<tr><td> 2</td><td> 4</td><td> 6</td><td> 8</td><td>10</td><td>12</td><td>14</td><td>16</td><td>18</td><td> 20</td></tr>\n",
              "\t<tr><td> 3</td><td> 6</td><td> 9</td><td>12</td><td>15</td><td>18</td><td>21</td><td>24</td><td>27</td><td> 30</td></tr>\n",
              "\t<tr><td> 4</td><td> 8</td><td>12</td><td>16</td><td>20</td><td>24</td><td>28</td><td>32</td><td>36</td><td> 40</td></tr>\n",
              "\t<tr><td> 5</td><td>10</td><td>15</td><td>20</td><td>25</td><td>30</td><td>35</td><td>40</td><td>45</td><td> 50</td></tr>\n",
              "\t<tr><td> 6</td><td>12</td><td>18</td><td>24</td><td>30</td><td>36</td><td>42</td><td>48</td><td>54</td><td> 60</td></tr>\n",
              "\t<tr><td> 7</td><td>14</td><td>21</td><td>28</td><td>35</td><td>42</td><td>49</td><td>56</td><td>63</td><td> 70</td></tr>\n",
              "\t<tr><td> 8</td><td>16</td><td>24</td><td>32</td><td>40</td><td>48</td><td>56</td><td>64</td><td>72</td><td> 80</td></tr>\n",
              "\t<tr><td> 9</td><td>18</td><td>27</td><td>36</td><td>45</td><td>54</td><td>63</td><td>72</td><td>81</td><td> 90</td></tr>\n",
              "\t<tr><td>10</td><td>20</td><td>30</td><td>40</td><td>50</td><td>60</td><td>70</td><td>80</td><td>90</td><td>100</td></tr>\n",
              "</tbody>\n",
              "</table>\n"
            ],
            "text/markdown": "\nA matrix: 10 × 10 of type dbl\n\n|  1 |  2 |  3 |  4 |  5 |  6 |  7 |  8 |  9 |  10 |\n|  2 |  4 |  6 |  8 | 10 | 12 | 14 | 16 | 18 |  20 |\n|  3 |  6 |  9 | 12 | 15 | 18 | 21 | 24 | 27 |  30 |\n|  4 |  8 | 12 | 16 | 20 | 24 | 28 | 32 | 36 |  40 |\n|  5 | 10 | 15 | 20 | 25 | 30 | 35 | 40 | 45 |  50 |\n|  6 | 12 | 18 | 24 | 30 | 36 | 42 | 48 | 54 |  60 |\n|  7 | 14 | 21 | 28 | 35 | 42 | 49 | 56 | 63 |  70 |\n|  8 | 16 | 24 | 32 | 40 | 48 | 56 | 64 | 72 |  80 |\n|  9 | 18 | 27 | 36 | 45 | 54 | 63 | 72 | 81 |  90 |\n| 10 | 20 | 30 | 40 | 50 | 60 | 70 | 80 | 90 | 100 |\n\n",
            "text/latex": "A matrix: 10 × 10 of type dbl\n\\begin{tabular}{llllllllll}\n\t  1 &  2 &  3 &  4 &  5 &  6 &  7 &  8 &  9 &  10\\\\\n\t  2 &  4 &  6 &  8 & 10 & 12 & 14 & 16 & 18 &  20\\\\\n\t  3 &  6 &  9 & 12 & 15 & 18 & 21 & 24 & 27 &  30\\\\\n\t  4 &  8 & 12 & 16 & 20 & 24 & 28 & 32 & 36 &  40\\\\\n\t  5 & 10 & 15 & 20 & 25 & 30 & 35 & 40 & 45 &  50\\\\\n\t  6 & 12 & 18 & 24 & 30 & 36 & 42 & 48 & 54 &  60\\\\\n\t  7 & 14 & 21 & 28 & 35 & 42 & 49 & 56 & 63 &  70\\\\\n\t  8 & 16 & 24 & 32 & 40 & 48 & 56 & 64 & 72 &  80\\\\\n\t  9 & 18 & 27 & 36 & 45 & 54 & 63 & 72 & 81 &  90\\\\\n\t 10 & 20 & 30 & 40 & 50 & 60 & 70 & 80 & 90 & 100\\\\\n\\end{tabular}\n",
            "text/plain": [
              "      [,1] [,2] [,3] [,4] [,5] [,6] [,7] [,8] [,9] [,10]\n",
              " [1,]  1    2    3    4    5    6    7    8    9    10  \n",
              " [2,]  2    4    6    8   10   12   14   16   18    20  \n",
              " [3,]  3    6    9   12   15   18   21   24   27    30  \n",
              " [4,]  4    8   12   16   20   24   28   32   36    40  \n",
              " [5,]  5   10   15   20   25   30   35   40   45    50  \n",
              " [6,]  6   12   18   24   30   36   42   48   54    60  \n",
              " [7,]  7   14   21   28   35   42   49   56   63    70  \n",
              " [8,]  8   16   24   32   40   48   56   64   72    80  \n",
              " [9,]  9   18   27   36   45   54   63   72   81    90  \n",
              "[10,] 10   20   30   40   50   60   70   80   90   100  "
            ]
          },
          "metadata": {}
        }
      ]
    },
    {
      "cell_type": "markdown",
      "source": [
        "#### Kitaba geri dön! \n",
        "<img src=\"https://raw.githubusercontent.com/tensorchiefs/dl_book/master/imgs/Page_turn_icon_A.png\" width=\"120\" align=\"left\" />  \n",
        "Örnek 4.5'i incelemek için kitaba geri dönebilirsin."
      ],
      "metadata": {
        "id": "RFiGbtPY5F3S"
      }
    },
    {
      "cell_type": "markdown",
      "source": [
        "## **Örnek 4.5 Uygulama**"
      ],
      "metadata": {
        "id": "UEcJsCej5_AM"
      }
    },
    {
      "cell_type": "code",
      "source": [
        "i<-1\n",
        "kare<-NULL\n",
        "while(i<=10){\n",
        "  kare[i]<-i^2\n",
        "  i=i+1 # Bu sayaç düzenlemesi olmazsa sonsuz döngü oluşur.\n",
        "}\n",
        "kare"
      ],
      "metadata": {
        "id": "UcR80fSR5F3T",
        "colab": {
          "base_uri": "https://localhost:8080/",
          "height": 34
        },
        "outputId": "f6adcb99-f0c6-4b6b-f959-1fc067443079"
      },
      "execution_count": null,
      "outputs": [
        {
          "output_type": "display_data",
          "data": {
            "text/html": [
              "<style>\n",
              ".list-inline {list-style: none; margin:0; padding: 0}\n",
              ".list-inline>li {display: inline-block}\n",
              ".list-inline>li:not(:last-child)::after {content: \"\\00b7\"; padding: 0 .5ex}\n",
              "</style>\n",
              "<ol class=list-inline><li>1</li><li>4</li><li>9</li><li>16</li><li>25</li><li>36</li><li>49</li><li>64</li><li>81</li><li>100</li></ol>\n"
            ],
            "text/markdown": "1. 1\n2. 4\n3. 9\n4. 16\n5. 25\n6. 36\n7. 49\n8. 64\n9. 81\n10. 100\n\n\n",
            "text/latex": "\\begin{enumerate*}\n\\item 1\n\\item 4\n\\item 9\n\\item 16\n\\item 25\n\\item 36\n\\item 49\n\\item 64\n\\item 81\n\\item 100\n\\end{enumerate*}\n",
            "text/plain": [
              " [1]   1   4   9  16  25  36  49  64  81 100"
            ]
          },
          "metadata": {}
        }
      ]
    },
    {
      "cell_type": "markdown",
      "source": [
        "#### Kitaba geri dön! \n",
        "<img src=\"https://raw.githubusercontent.com/tensorchiefs/dl_book/master/imgs/Page_turn_icon_A.png\" width=\"120\" align=\"left\" />  \n",
        "Örnek 4.6'yı incelemek için kitaba geri dönebilirsin."
      ],
      "metadata": {
        "id": "VtmplI5n6HA9"
      }
    },
    {
      "cell_type": "markdown",
      "source": [
        "## **Örnek 4.6 Uygulama**\n",
        "\n"
      ],
      "metadata": {
        "id": "I9O1EE836PoD"
      }
    },
    {
      "cell_type": "code",
      "source": [
        "Takım<-NULL\n",
        "Kişiler<-c(1,2,4,3,2,1,4,2,4,4,3,1)\n",
        "n<-length(Kişiler)\n",
        "i=1\n",
        "while(i<=n) {\n",
        "   Takım[i]<-switch(Kişiler[i],\"TS\",\"GS\",\"BJK\",\"FB\")\n",
        "   i=i+1\n",
        "   }\n",
        "Takım"
      ],
      "metadata": {
        "colab": {
          "base_uri": "https://localhost:8080/",
          "height": 34
        },
        "id": "0xjJVT_G6Sz6",
        "outputId": "a4c5666d-3ab5-409a-a600-84080f41d010"
      },
      "execution_count": null,
      "outputs": [
        {
          "output_type": "display_data",
          "data": {
            "text/html": [
              "<style>\n",
              ".list-inline {list-style: none; margin:0; padding: 0}\n",
              ".list-inline>li {display: inline-block}\n",
              ".list-inline>li:not(:last-child)::after {content: \"\\00b7\"; padding: 0 .5ex}\n",
              "</style>\n",
              "<ol class=list-inline><li>'TS'</li><li>'GS'</li><li>'FB'</li><li>'BJK'</li><li>'GS'</li><li>'TS'</li><li>'FB'</li><li>'GS'</li><li>'FB'</li><li>'FB'</li><li>'BJK'</li><li>'TS'</li></ol>\n"
            ],
            "text/markdown": "1. 'TS'\n2. 'GS'\n3. 'FB'\n4. 'BJK'\n5. 'GS'\n6. 'TS'\n7. 'FB'\n8. 'GS'\n9. 'FB'\n10. 'FB'\n11. 'BJK'\n12. 'TS'\n\n\n",
            "text/latex": "\\begin{enumerate*}\n\\item 'TS'\n\\item 'GS'\n\\item 'FB'\n\\item 'BJK'\n\\item 'GS'\n\\item 'TS'\n\\item 'FB'\n\\item 'GS'\n\\item 'FB'\n\\item 'FB'\n\\item 'BJK'\n\\item 'TS'\n\\end{enumerate*}\n",
            "text/plain": [
              " [1] \"TS\"  \"GS\"  \"FB\"  \"BJK\" \"GS\"  \"TS\"  \"FB\"  \"GS\"  \"FB\"  \"FB\"  \"BJK\" \"TS\" "
            ]
          },
          "metadata": {}
        }
      ]
    },
    {
      "cell_type": "markdown",
      "source": [
        "#### Kitaba geri dön! \n",
        "<img src=\"https://raw.githubusercontent.com/tensorchiefs/dl_book/master/imgs/Page_turn_icon_A.png\" width=\"120\" align=\"left\" />  \n",
        "Örnek 4.7'yi incelemek için kitaba geri dönebilirsin."
      ],
      "metadata": {
        "id": "LQqqeV2T6LTs"
      }
    },
    {
      "cell_type": "markdown",
      "source": [
        "## **Örnek 4.7 Uygulama**\n",
        "\n"
      ],
      "metadata": {
        "id": "DEYAys-p6ad7"
      }
    },
    {
      "cell_type": "code",
      "source": [
        "i<-1\n",
        "kare<-NULL\n",
        "repeat{\n",
        "  kare[i]<-i^2\n",
        "  i=i+1 \n",
        "  if(i>10){\n",
        "  break  # koşul sağlandığında döngüyü durdurur.\n",
        "  }\n",
        "}\n",
        "kare"
      ],
      "metadata": {
        "colab": {
          "base_uri": "https://localhost:8080/",
          "height": 34
        },
        "outputId": "c8a1d8c5-1a5e-46bb-bbe6-650f7aa908d3",
        "id": "bj1uhu4-6ad8"
      },
      "execution_count": null,
      "outputs": [
        {
          "output_type": "display_data",
          "data": {
            "text/html": [
              "<style>\n",
              ".list-inline {list-style: none; margin:0; padding: 0}\n",
              ".list-inline>li {display: inline-block}\n",
              ".list-inline>li:not(:last-child)::after {content: \"\\00b7\"; padding: 0 .5ex}\n",
              "</style>\n",
              "<ol class=list-inline><li>1</li><li>4</li><li>9</li><li>16</li><li>25</li><li>36</li><li>49</li><li>64</li><li>81</li><li>100</li></ol>\n"
            ],
            "text/markdown": "1. 1\n2. 4\n3. 9\n4. 16\n5. 25\n6. 36\n7. 49\n8. 64\n9. 81\n10. 100\n\n\n",
            "text/latex": "\\begin{enumerate*}\n\\item 1\n\\item 4\n\\item 9\n\\item 16\n\\item 25\n\\item 36\n\\item 49\n\\item 64\n\\item 81\n\\item 100\n\\end{enumerate*}\n",
            "text/plain": [
              " [1]   1   4   9  16  25  36  49  64  81 100"
            ]
          },
          "metadata": {}
        }
      ]
    },
    {
      "cell_type": "markdown",
      "source": [
        "#### Kitaba geri dön! \n",
        "<img src=\"https://raw.githubusercontent.com/tensorchiefs/dl_book/master/imgs/Page_turn_icon_A.png\" width=\"120\" align=\"left\" />  \n",
        "Örnek 4.8'i incelemek için kitaba geri dönebilirsin."
      ],
      "metadata": {
        "id": "s-R8n3xg6ad9"
      }
    },
    {
      "cell_type": "markdown",
      "source": [
        "## **Örnek 4.8 Uygulama**\n",
        "\n"
      ],
      "metadata": {
        "id": "a5oDI0u16m6b"
      }
    },
    {
      "cell_type": "code",
      "source": [
        "Takım<-NULL\n",
        "Kişiler<-c(1,2,4,3,2,1,4,2,4,4,3,1)\n",
        "n<-length(Kişiler)\n",
        "i=1\n",
        "repeat{\n",
        "   Takım[i]<-switch(Kişiler[i],\"TS\",\"GS\",\"BJK\",\"FB\")\n",
        "   i=i+1\n",
        "   if(i>n){\n",
        "   break # koşul sağlandığında döngüyü durdurur.\n",
        "   }\n",
        " }\n",
        "Takım"
      ],
      "metadata": {
        "colab": {
          "base_uri": "https://localhost:8080/",
          "height": 34
        },
        "outputId": "ea27008d-b5be-4e80-cf1a-a5caa0704f6f",
        "id": "7uZvzn8A6m6c"
      },
      "execution_count": null,
      "outputs": [
        {
          "output_type": "display_data",
          "data": {
            "text/html": [
              "<style>\n",
              ".list-inline {list-style: none; margin:0; padding: 0}\n",
              ".list-inline>li {display: inline-block}\n",
              ".list-inline>li:not(:last-child)::after {content: \"\\00b7\"; padding: 0 .5ex}\n",
              "</style>\n",
              "<ol class=list-inline><li>'TS'</li><li>'GS'</li><li>'FB'</li><li>'BJK'</li><li>'GS'</li><li>'TS'</li><li>'FB'</li><li>'GS'</li><li>'FB'</li><li>'FB'</li><li>'BJK'</li><li>'TS'</li></ol>\n"
            ],
            "text/markdown": "1. 'TS'\n2. 'GS'\n3. 'FB'\n4. 'BJK'\n5. 'GS'\n6. 'TS'\n7. 'FB'\n8. 'GS'\n9. 'FB'\n10. 'FB'\n11. 'BJK'\n12. 'TS'\n\n\n",
            "text/latex": "\\begin{enumerate*}\n\\item 'TS'\n\\item 'GS'\n\\item 'FB'\n\\item 'BJK'\n\\item 'GS'\n\\item 'TS'\n\\item 'FB'\n\\item 'GS'\n\\item 'FB'\n\\item 'FB'\n\\item 'BJK'\n\\item 'TS'\n\\end{enumerate*}\n",
            "text/plain": [
              " [1] \"TS\"  \"GS\"  \"FB\"  \"BJK\" \"GS\"  \"TS\"  \"FB\"  \"GS\"  \"FB\"  \"FB\"  \"BJK\" \"TS\" "
            ]
          },
          "metadata": {}
        }
      ]
    },
    {
      "cell_type": "markdown",
      "source": [
        "#### Kitaba geri dön! \n",
        "<img src=\"https://raw.githubusercontent.com/tensorchiefs/dl_book/master/imgs/Page_turn_icon_A.png\" width=\"120\" align=\"left\" />  \n",
        "Örnek 4.9'u incelemek için kitaba geri dönebilirsin."
      ],
      "metadata": {
        "id": "RiydJKkc6m6d"
      }
    },
    {
      "cell_type": "markdown",
      "source": [
        "## **Örnek 4.9 Uygulama**\n",
        "\n"
      ],
      "metadata": {
        "id": "oRuAKicL63vs"
      }
    },
    {
      "cell_type": "code",
      "source": [
        "x=5\n",
        "faktöriyel=1\n",
        "for (i in 1:x){\n",
        "  faktöriyel=faktöriyel*i\n",
        "}\n",
        "faktöriyel"
      ],
      "metadata": {
        "colab": {
          "base_uri": "https://localhost:8080/",
          "height": 34
        },
        "outputId": "78b9dca5-9125-4a51-c1b7-b831d45b6c14",
        "id": "PlFdjB3-63vs"
      },
      "execution_count": null,
      "outputs": [
        {
          "output_type": "display_data",
          "data": {
            "text/html": [
              "120"
            ],
            "text/markdown": "120",
            "text/latex": "120",
            "text/plain": [
              "[1] 120"
            ]
          },
          "metadata": {}
        }
      ]
    },
    {
      "cell_type": "markdown",
      "source": [
        "#### Kitaba geri dön! \n",
        "<img src=\"https://raw.githubusercontent.com/tensorchiefs/dl_book/master/imgs/Page_turn_icon_A.png\" width=\"120\" align=\"left\" />  \n",
        "Örnek 4.10'u incelemek için kitaba geri dönebilirsin."
      ],
      "metadata": {
        "id": "rxrPR3pF63vt"
      }
    },
    {
      "cell_type": "markdown",
      "source": [
        "## **Örnek 4.10 Uygulama**"
      ],
      "metadata": {
        "id": "HHUjmWDS7GKQ"
      }
    },
    {
      "cell_type": "code",
      "source": [
        "while(TRUE){\n",
        "  x<-readline(\"Lütfen faktöriyeli alınacak sayıyı giriniz: \")\n",
        "  if(x==\"q\"){\n",
        "    print(\"Döngü sonlandırılıyor...\")\n",
        "    break\n",
        "  } else {\n",
        "    x<-as.numeric(x)\n",
        "    faktöriyel=1\n",
        "    for (i in 1:x){\n",
        "      faktöriyel=faktöriyel*i\n",
        "    }\n",
        "    print(paste(x,\"sayısının faktoriyeli\",\n",
        "            faktöriyel,\"olarak hesaplanmıştır\"))\n",
        "    print(\"Çıkmak için q'ya basınız\")\n",
        "  }\n",
        "}\n"
      ],
      "metadata": {
        "colab": {
          "base_uri": "https://localhost:8080/"
        },
        "id": "CQdfkLaG7Jc7",
        "outputId": "5f0f2d7c-7dd8-4e29-e736-2caea54661ce"
      },
      "execution_count": null,
      "outputs": [
        {
          "output_type": "stream",
          "name": "stdout",
          "text": [
            "Lütfen faktöriyeli alınacak sayıyı giriniz: 3\n",
            "Lütfen faktöriyeli alınacak sayıyı giriniz: 4\n",
            "Lütfen faktöriyeli alınacak sayıyı giriniz: 5\n",
            "Lütfen faktöriyeli alınacak sayıyı giriniz: q\n",
            "[1] \"3 sayısının faktoriyeli 6 olarak hesaplanmıştır\"\n",
            "[1] \"Çıkmak için q'ya basınız\"\n",
            "[1] \"4 sayısının faktoriyeli 24 olarak hesaplanmıştır\"\n",
            "[1] \"Çıkmak için q'ya basınız\"\n",
            "[1] \"5 sayısının faktoriyeli 120 olarak hesaplanmıştır\"\n",
            "[1] \"Çıkmak için q'ya basınız\"\n",
            "[1] \"Döngü sonlandırılıyor...\"\n"
          ]
        }
      ]
    },
    {
      "cell_type": "markdown",
      "source": [
        "#### Kitaba geri dön! \n",
        "<img src=\"https://raw.githubusercontent.com/tensorchiefs/dl_book/master/imgs/Page_turn_icon_A.png\" width=\"120\" align=\"left\" />  \n",
        "Örnek 4.11'i incelemek için kitaba geri dönebilirsin."
      ],
      "metadata": {
        "id": "tket5YRo7JC-"
      }
    },
    {
      "cell_type": "markdown",
      "source": [
        "## **Örnek 4.11 Uygulama**"
      ],
      "metadata": {
        "id": "0kAKlEIu7dmI"
      }
    },
    {
      "cell_type": "code",
      "source": [
        "a=1 ; b=1\n",
        "fibonacci<-c(a,b)\n",
        "for (i in 1:18) {  \n",
        "  fibonacci[i+2]<-a+b  \n",
        "  sayı1=a   # a nın güncel değeri sayı1'de tutulsun.\n",
        "  sayı2=b   # b nin güncel değeri sayı2'de tutulsun. \n",
        "  a=sayı2   # a'nın yeni değeri sayı2 olacak.\n",
        "  b=sayı1+sayı2 # b’nin yeni değeri sayı1+sayı2\n",
        "}\n",
        "fibonacci\n"
      ],
      "metadata": {
        "id": "2afRm5VH7eC4"
      },
      "execution_count": null,
      "outputs": []
    },
    {
      "cell_type": "markdown",
      "source": [
        "#### Kitaba geri dön! \n",
        "<img src=\"https://raw.githubusercontent.com/tensorchiefs/dl_book/master/imgs/Page_turn_icon_A.png\" width=\"120\" align=\"left\" />  \n",
        "Bölüm 4 tamamlandı. Bir sonraki bölüm için kitaba geri dönebilirsin.\n"
      ],
      "metadata": {
        "id": "dIumbsJyX5sH"
      }
    }
  ]
}