{
  "nbformat": 4,
  "nbformat_minor": 0,
  "metadata": {
    "colab": {
      "provenance": []
    },
    "kernelspec": {
      "name": "ir",
      "display_name": "R"
    },
    "language_info": {
      "name": "R"
    },
    "gpuClass": "standard"
  },
  "cells": [
    {
      "cell_type": "markdown",
      "source": [
        "# **17. ANOVA VE KRUSKAL-WALLIS H TESTLERİ**"
      ],
      "metadata": {
        "id": "MlFI9W6eSfb0"
      }
    },
    {
      "cell_type": "markdown",
      "source": [
        "## **17.2. Tek Yönlü Varyans Analizi**"
      ],
      "metadata": {
        "id": "uJOxXov5KX65"
      }
    },
    {
      "cell_type": "markdown",
      "source": [
        "**Örnek 17.1**"
      ],
      "metadata": {
        "id": "KZdA4cG11agl"
      }
    },
    {
      "cell_type": "code",
      "source": [
        "anova<-aov(Sepal.Width~Species,data=iris)\n",
        "summary(anova)"
      ],
      "metadata": {
        "colab": {
          "base_uri": "https://localhost:8080/",
          "height": 106
        },
        "id": "7Ws133g0F8Qn",
        "outputId": "8ca0d75f-1a7f-4e35-abc0-74917d1bdae2"
      },
      "execution_count": 1,
      "outputs": [
        {
          "output_type": "display_data",
          "data": {
            "text/plain": [
              "             Df Sum Sq Mean Sq F value Pr(>F)    \n",
              "Species       2  11.35   5.672   49.16 <2e-16 ***\n",
              "Residuals   147  16.96   0.115                   \n",
              "---\n",
              "Signif. codes:  0 ‘***’ 0.001 ‘**’ 0.01 ‘*’ 0.05 ‘.’ 0.1 ‘ ’ 1"
            ]
          },
          "metadata": {}
        }
      ]
    },
    {
      "cell_type": "code",
      "source": [
        "oneway.test(Sepal.Width~Species,data=iris,var.equal = TRUE)"
      ],
      "metadata": {
        "colab": {
          "base_uri": "https://localhost:8080/",
          "height": 106
        },
        "id": "FUk9OcaiJ9OY",
        "outputId": "5a282b8e-7af5-444e-abbf-c0ae3fed6f77"
      },
      "execution_count": 2,
      "outputs": [
        {
          "output_type": "display_data",
          "data": {
            "text/plain": [
              "\n",
              "\tOne-way analysis of means\n",
              "\n",
              "data:  Sepal.Width and Species\n",
              "F = 49.16, num df = 2, denom df = 147, p-value < 2.2e-16\n"
            ]
          },
          "metadata": {}
        }
      ]
    },
    {
      "cell_type": "markdown",
      "source": [
        "#### Kitaba geri dön! \n",
        "<img src=\"https://raw.githubusercontent.com/tensorchiefs/dl_book/master/imgs/Page_turn_icon_A.png\" width=\"120\" align=\"left\" />  \n",
        "Örnek 17.2'yi incelemek için kitaba geri dönebilirsin."
      ],
      "metadata": {
        "id": "6eWD-wAkTBGX"
      }
    },
    {
      "cell_type": "markdown",
      "source": [
        "**Örnek 17.2**"
      ],
      "metadata": {
        "id": "Yv14f94cKQGh"
      }
    },
    {
      "cell_type": "code",
      "source": [
        "oneway.test(Sepal.Length~Species,data=iris,var.equal = FALSE)"
      ],
      "metadata": {
        "colab": {
          "base_uri": "https://localhost:8080/",
          "height": 106
        },
        "id": "PZRCo-BiKT9f",
        "outputId": "46617bc9-43c1-4388-c162-e5e5262eae9d"
      },
      "execution_count": 3,
      "outputs": [
        {
          "output_type": "display_data",
          "data": {
            "text/plain": [
              "\n",
              "\tOne-way analysis of means (not assuming equal variances)\n",
              "\n",
              "data:  Sepal.Length and Species\n",
              "F = 138.91, num df = 2.000, denom df = 92.211, p-value < 2.2e-16\n"
            ]
          },
          "metadata": {}
        }
      ]
    },
    {
      "cell_type": "markdown",
      "source": [
        "#### Kitaba geri dön! \n",
        "<img src=\"https://raw.githubusercontent.com/tensorchiefs/dl_book/master/imgs/Page_turn_icon_A.png\" width=\"120\" align=\"left\" />  \n",
        "Bölüm 17.3'ü incelemek için kitaba geri dönebilirsin."
      ],
      "metadata": {
        "id": "ATds7eokLBeL"
      }
    },
    {
      "cell_type": "markdown",
      "source": [
        "### **17.4. Kruskal-Wallis H Testleri**"
      ],
      "metadata": {
        "id": "axOQL_FtU8G1"
      }
    },
    {
      "cell_type": "markdown",
      "source": [
        "**Örnek 17.5**"
      ],
      "metadata": {
        "id": "CzJdhAad1ewq"
      }
    },
    {
      "cell_type": "code",
      "source": [
        "kruskal.test(Petal.Width~Species,data=iris)"
      ],
      "metadata": {
        "id": "hwjLLQl6W8AA",
        "colab": {
          "base_uri": "https://localhost:8080/",
          "height": 106
        },
        "outputId": "b6a4f04f-eb0b-46b1-ea14-4e98cc38e61d"
      },
      "execution_count": 4,
      "outputs": [
        {
          "output_type": "display_data",
          "data": {
            "text/plain": [
              "\n",
              "\tKruskal-Wallis rank sum test\n",
              "\n",
              "data:  Petal.Width by Species\n",
              "Kruskal-Wallis chi-squared = 131.19, df = 2, p-value < 2.2e-16\n"
            ]
          },
          "metadata": {}
        }
      ]
    },
    {
      "cell_type": "markdown",
      "source": [
        "#### Kitaba geri dön! \n",
        "<img src=\"https://raw.githubusercontent.com/tensorchiefs/dl_book/master/imgs/Page_turn_icon_A.png\" width=\"120\" align=\"left\" />  \n",
        "Bölüm 17.5'i incelemek için kitaba geri dönebilirsin."
      ],
      "metadata": {
        "id": "jr4H_ctT1jdM"
      }
    }
  ]
}