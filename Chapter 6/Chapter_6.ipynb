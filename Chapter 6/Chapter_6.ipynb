{
  "nbformat": 4,
  "nbformat_minor": 0,
  "metadata": {
    "colab": {
      "provenance": []
    },
    "kernelspec": {
      "name": "ir",
      "display_name": "R"
    },
    "language_info": {
      "name": "R"
    },
    "gpuClass": "standard"
  },
  "cells": [
    {
      "cell_type": "markdown",
      "source": [
        "# **6. `apply` AİLESİ**"
      ],
      "metadata": {
        "id": "MlFI9W6eSfb0"
      }
    },
    {
      "cell_type": "markdown",
      "source": [
        "## **6.1. `apply()` fonksiyonu**"
      ],
      "metadata": {
        "id": "OVAXrw8aSpwZ"
      }
    },
    {
      "cell_type": "code",
      "source": [
        "A<-matrix(c(4,1,2,1,9,-2,2,9,15),3,3)\n",
        "apply(A, 1,mean)\n",
        "apply(A,2,mean)"
      ],
      "metadata": {
        "id": "nlK-4YDBStMl",
        "colab": {
          "base_uri": "https://localhost:8080/",
          "height": 52
        },
        "outputId": "ae35616c-43b8-4731-af18-be1177c656d6"
      },
      "execution_count": 3,
      "outputs": [
        {
          "output_type": "display_data",
          "data": {
            "text/html": [
              "<style>\n",
              ".list-inline {list-style: none; margin:0; padding: 0}\n",
              ".list-inline>li {display: inline-block}\n",
              ".list-inline>li:not(:last-child)::after {content: \"\\00b7\"; padding: 0 .5ex}\n",
              "</style>\n",
              "<ol class=list-inline><li>2.33333333333333</li><li>6.33333333333333</li><li>5</li></ol>\n"
            ],
            "text/markdown": "1. 2.33333333333333\n2. 6.33333333333333\n3. 5\n\n\n",
            "text/latex": "\\begin{enumerate*}\n\\item 2.33333333333333\n\\item 6.33333333333333\n\\item 5\n\\end{enumerate*}\n",
            "text/plain": [
              "[1] 2.333333 6.333333 5.000000"
            ]
          },
          "metadata": {}
        },
        {
          "output_type": "display_data",
          "data": {
            "text/html": [
              "<style>\n",
              ".list-inline {list-style: none; margin:0; padding: 0}\n",
              ".list-inline>li {display: inline-block}\n",
              ".list-inline>li:not(:last-child)::after {content: \"\\00b7\"; padding: 0 .5ex}\n",
              "</style>\n",
              "<ol class=list-inline><li>2.33333333333333</li><li>2.66666666666667</li><li>8.66666666666667</li></ol>\n"
            ],
            "text/markdown": "1. 2.33333333333333\n2. 2.66666666666667\n3. 8.66666666666667\n\n\n",
            "text/latex": "\\begin{enumerate*}\n\\item 2.33333333333333\n\\item 2.66666666666667\n\\item 8.66666666666667\n\\end{enumerate*}\n",
            "text/plain": [
              "[1] 2.333333 2.666667 8.666667"
            ]
          },
          "metadata": {}
        }
      ]
    },
    {
      "cell_type": "markdown",
      "source": [
        "#### Kitaba geri dön! \n",
        "<img src=\"https://raw.githubusercontent.com/tensorchiefs/dl_book/master/imgs/Page_turn_icon_A.png\" width=\"120\" align=\"left\" />  \n",
        "Bölüm 6.2'yi incelemek için kitaba geri dönebilirsin."
      ],
      "metadata": {
        "id": "6eWD-wAkTBGX"
      }
    },
    {
      "cell_type": "markdown",
      "source": [
        "## **6.2. `lapply()` fonksiyonu**"
      ],
      "metadata": {
        "id": "axOQL_FtU8G1"
      }
    },
    {
      "cell_type": "code",
      "source": [
        "Diyet1<-c(2,5,3,1,2,3,2,1,2)\n",
        "Diyet2<-c(1,4,2,3,2,1,2,3,2)\n",
        "Diyet3<-c(2,3,2,1,2,3,2,1,4)\n",
        "Diyet4<-c(4,7,5,2,1,3,2,1,2)\n",
        "veri.list<-list(Diyet1,Diyet2,Diyet3,Diyet4)\n",
        "lapply(veri.list,mean)"
      ],
      "metadata": {
        "id": "hwjLLQl6W8AA",
        "colab": {
          "base_uri": "https://localhost:8080/",
          "height": 114
        },
        "outputId": "1ec3d98f-efa2-4682-8ba5-f6c4e4139cc9"
      },
      "execution_count": 4,
      "outputs": [
        {
          "output_type": "display_data",
          "data": {
            "text/html": [
              "<ol>\n",
              "\t<li>2.33333333333333</li>\n",
              "\t<li>2.22222222222222</li>\n",
              "\t<li>2.22222222222222</li>\n",
              "\t<li>3</li>\n",
              "</ol>\n"
            ],
            "text/markdown": "1. 2.33333333333333\n2. 2.22222222222222\n3. 2.22222222222222\n4. 3\n\n\n",
            "text/latex": "\\begin{enumerate}\n\\item 2.33333333333333\n\\item 2.22222222222222\n\\item 2.22222222222222\n\\item 3\n\\end{enumerate}\n",
            "text/plain": [
              "[[1]]\n",
              "[1] 2.333333\n",
              "\n",
              "[[2]]\n",
              "[1] 2.222222\n",
              "\n",
              "[[3]]\n",
              "[1] 2.222222\n",
              "\n",
              "[[4]]\n",
              "[1] 3\n"
            ]
          },
          "metadata": {}
        }
      ]
    },
    {
      "cell_type": "code",
      "source": [
        "veri.DF<-data.frame(Diyet1,Diyet2,Diyet3,Diyet4)\n",
        "lapply(veri.DF,mean)"
      ],
      "metadata": {
        "colab": {
          "base_uri": "https://localhost:8080/",
          "height": 184
        },
        "id": "N-zeYDOq_HyJ",
        "outputId": "5106e031-e988-4b84-d928-7ddbbe03ef2d"
      },
      "execution_count": 5,
      "outputs": [
        {
          "output_type": "display_data",
          "data": {
            "text/html": [
              "<dl>\n",
              "\t<dt>$Diyet1</dt>\n",
              "\t\t<dd>2.33333333333333</dd>\n",
              "\t<dt>$Diyet2</dt>\n",
              "\t\t<dd>2.22222222222222</dd>\n",
              "\t<dt>$Diyet3</dt>\n",
              "\t\t<dd>2.22222222222222</dd>\n",
              "\t<dt>$Diyet4</dt>\n",
              "\t\t<dd>3</dd>\n",
              "</dl>\n"
            ],
            "text/markdown": "$Diyet1\n:   2.33333333333333\n$Diyet2\n:   2.22222222222222\n$Diyet3\n:   2.22222222222222\n$Diyet4\n:   3\n\n\n",
            "text/latex": "\\begin{description}\n\\item[\\$Diyet1] 2.33333333333333\n\\item[\\$Diyet2] 2.22222222222222\n\\item[\\$Diyet3] 2.22222222222222\n\\item[\\$Diyet4] 3\n\\end{description}\n",
            "text/plain": [
              "$Diyet1\n",
              "[1] 2.333333\n",
              "\n",
              "$Diyet2\n",
              "[1] 2.222222\n",
              "\n",
              "$Diyet3\n",
              "[1] 2.222222\n",
              "\n",
              "$Diyet4\n",
              "[1] 3\n"
            ]
          },
          "metadata": {}
        }
      ]
    },
    {
      "cell_type": "markdown",
      "source": [
        "#### Kitaba geri dön! \n",
        "<img src=\"https://raw.githubusercontent.com/tensorchiefs/dl_book/master/imgs/Page_turn_icon_A.png\" width=\"120\" align=\"left\" />  \n",
        "Bölüm 6.3'ü incelemek için kitaba geri dönebilirsin."
      ],
      "metadata": {
        "id": "3MFyAjSAXBXC"
      }
    },
    {
      "cell_type": "markdown",
      "source": [
        "## **6.3. `sapply()` fonksiyonu**"
      ],
      "metadata": {
        "id": "TLiyPREfXLHM"
      }
    },
    {
      "cell_type": "code",
      "source": [
        "sapply(veri.list,mean)"
      ],
      "metadata": {
        "id": "uPSLmfNBXyQz",
        "colab": {
          "base_uri": "https://localhost:8080/",
          "height": 34
        },
        "outputId": "e60a8a85-d8c3-452f-e65c-82ee54c74110"
      },
      "execution_count": 6,
      "outputs": [
        {
          "output_type": "display_data",
          "data": {
            "text/html": [
              "<style>\n",
              ".list-inline {list-style: none; margin:0; padding: 0}\n",
              ".list-inline>li {display: inline-block}\n",
              ".list-inline>li:not(:last-child)::after {content: \"\\00b7\"; padding: 0 .5ex}\n",
              "</style>\n",
              "<ol class=list-inline><li>2.33333333333333</li><li>2.22222222222222</li><li>2.22222222222222</li><li>3</li></ol>\n"
            ],
            "text/markdown": "1. 2.33333333333333\n2. 2.22222222222222\n3. 2.22222222222222\n4. 3\n\n\n",
            "text/latex": "\\begin{enumerate*}\n\\item 2.33333333333333\n\\item 2.22222222222222\n\\item 2.22222222222222\n\\item 3\n\\end{enumerate*}\n",
            "text/plain": [
              "[1] 2.333333 2.222222 2.222222 3.000000"
            ]
          },
          "metadata": {}
        }
      ]
    },
    {
      "cell_type": "code",
      "source": [
        "sapply(veri.DF,mean)"
      ],
      "metadata": {
        "colab": {
          "base_uri": "https://localhost:8080/",
          "height": 34
        },
        "id": "4V-4MnEd_a32",
        "outputId": "f9fdac3b-8539-4c64-ac9e-ead271acee6f"
      },
      "execution_count": 7,
      "outputs": [
        {
          "output_type": "display_data",
          "data": {
            "text/html": [
              "<style>\n",
              ".dl-inline {width: auto; margin:0; padding: 0}\n",
              ".dl-inline>dt, .dl-inline>dd {float: none; width: auto; display: inline-block}\n",
              ".dl-inline>dt::after {content: \":\\0020\"; padding-right: .5ex}\n",
              ".dl-inline>dt:not(:first-of-type) {padding-left: .5ex}\n",
              "</style><dl class=dl-inline><dt>Diyet1</dt><dd>2.33333333333333</dd><dt>Diyet2</dt><dd>2.22222222222222</dd><dt>Diyet3</dt><dd>2.22222222222222</dd><dt>Diyet4</dt><dd>3</dd></dl>\n"
            ],
            "text/markdown": "Diyet1\n:   2.33333333333333Diyet2\n:   2.22222222222222Diyet3\n:   2.22222222222222Diyet4\n:   3\n\n",
            "text/latex": "\\begin{description*}\n\\item[Diyet1] 2.33333333333333\n\\item[Diyet2] 2.22222222222222\n\\item[Diyet3] 2.22222222222222\n\\item[Diyet4] 3\n\\end{description*}\n",
            "text/plain": [
              "  Diyet1   Diyet2   Diyet3   Diyet4 \n",
              "2.333333 2.222222 2.222222 3.000000 "
            ]
          },
          "metadata": {}
        }
      ]
    },
    {
      "cell_type": "markdown",
      "source": [
        "#### Kitaba geri dön! \n",
        "<img src=\"https://raw.githubusercontent.com/tensorchiefs/dl_book/master/imgs/Page_turn_icon_A.png\" width=\"120\" align=\"left\" />  \n",
        "Bölüm 6.4'ü incelemek için kitaba geri dönebilirsin."
      ],
      "metadata": {
        "id": "assEqgSd8SgX"
      }
    },
    {
      "cell_type": "markdown",
      "source": [
        "## **6.4. `tapply()` fonksiyonu**"
      ],
      "metadata": {
        "id": "BiqcCDmF8SgY"
      }
    },
    {
      "cell_type": "code",
      "source": [
        "gelir<-c(4000,5000,3000,7000,4500,1800,3250,4000,3000,2500)\n",
        "eğitim<-c(\"Lisans\",\"Lise\",\"Lise\",\"Lisans\",\"Lisans\",\"İlköğretim\",\"Lise\",\"Lisans\",\"İlköğretim\",\"İlköğretim\")\n",
        "Cinsiyet<-c(\"K\",\"E\",\"E\",\"K\",\"E\",\"E\",\"K\",\"E\",\"E\",\"K\")\n",
        "tapply(gelir,eğitim,mean)"
      ],
      "metadata": {
        "id": "Xqxic0Ir8MCB",
        "colab": {
          "base_uri": "https://localhost:8080/",
          "height": 34
        },
        "outputId": "2edb426b-b790-4a41-e925-22e799ec5cca"
      },
      "execution_count": 8,
      "outputs": [
        {
          "output_type": "display_data",
          "data": {
            "text/html": [
              "<style>\n",
              ".dl-inline {width: auto; margin:0; padding: 0}\n",
              ".dl-inline>dt, .dl-inline>dd {float: none; width: auto; display: inline-block}\n",
              ".dl-inline>dt::after {content: \":\\0020\"; padding-right: .5ex}\n",
              ".dl-inline>dt:not(:first-of-type) {padding-left: .5ex}\n",
              "</style><dl class=dl-inline><dt>İlköğretim</dt><dd>2433.33333333333</dd><dt>Lisans</dt><dd>4875</dd><dt>Lise</dt><dd>3750</dd></dl>\n"
            ],
            "text/markdown": "İlköğretim\n:   2433.33333333333Lisans\n:   4875Lise\n:   3750\n\n",
            "text/latex": "\\begin{description*}\n\\item[İlköğretim] 2433.33333333333\n\\item[Lisans] 4875\n\\item[Lise] 3750\n\\end{description*}\n",
            "text/plain": [
              "İlköğretim     Lisans       Lise \n",
              "  2433.333   4875.000   3750.000 "
            ]
          },
          "metadata": {}
        }
      ]
    },
    {
      "cell_type": "code",
      "source": [
        "tapply(gelir,Cinsiyet,mean)"
      ],
      "metadata": {
        "colab": {
          "base_uri": "https://localhost:8080/",
          "height": 34
        },
        "id": "-Bl4_-oT_2WC",
        "outputId": "3bfa98ee-cc60-496a-da88-797cfc5c1480"
      },
      "execution_count": 9,
      "outputs": [
        {
          "output_type": "display_data",
          "data": {
            "text/html": [
              "<style>\n",
              ".dl-inline {width: auto; margin:0; padding: 0}\n",
              ".dl-inline>dt, .dl-inline>dd {float: none; width: auto; display: inline-block}\n",
              ".dl-inline>dt::after {content: \":\\0020\"; padding-right: .5ex}\n",
              ".dl-inline>dt:not(:first-of-type) {padding-left: .5ex}\n",
              "</style><dl class=dl-inline><dt>E</dt><dd>3550</dd><dt>K</dt><dd>4187.5</dd></dl>\n"
            ],
            "text/markdown": "E\n:   3550K\n:   4187.5\n\n",
            "text/latex": "\\begin{description*}\n\\item[E] 3550\n\\item[K] 4187.5\n\\end{description*}\n",
            "text/plain": [
              "     E      K \n",
              "3550.0 4187.5 "
            ]
          },
          "metadata": {}
        }
      ]
    },
    {
      "cell_type": "markdown",
      "source": [
        "#### Kitaba geri dön! \n",
        "<img src=\"https://raw.githubusercontent.com/tensorchiefs/dl_book/master/imgs/Page_turn_icon_A.png\" width=\"120\" align=\"left\" />  \n",
        "Bölüm 6.5'i incelemek için kitaba geri dönebilirsin."
      ],
      "metadata": {
        "id": "QfdboLMw8js3"
      }
    }
  ]
}