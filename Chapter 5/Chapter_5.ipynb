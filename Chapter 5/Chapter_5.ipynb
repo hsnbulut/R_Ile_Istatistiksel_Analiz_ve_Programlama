{
  "nbformat": 4,
  "nbformat_minor": 0,
  "metadata": {
    "colab": {
      "provenance": []
    },
    "kernelspec": {
      "name": "ir",
      "display_name": "R"
    },
    "language_info": {
      "name": "R"
    },
    "gpuClass": "standard"
  },
  "cells": [
    {
      "cell_type": "markdown",
      "source": [
        "# **5. R PROGRAMLAMA DİLİNDE KULLANICI TANIMLI FONKSİYONLAR**"
      ],
      "metadata": {
        "id": "MlFI9W6eSfb0"
      }
    },
    {
      "cell_type": "markdown",
      "source": [
        "## **Örnek 5.1**"
      ],
      "metadata": {
        "id": "OVAXrw8aSpwZ"
      }
    },
    {
      "cell_type": "code",
      "source": [
        "fahrenheit<-function(C){\n",
        "F<-32+9/5*C\n",
        "return(F)\n",
        "}"
      ],
      "metadata": {
        "id": "nlK-4YDBStMl"
      },
      "execution_count": 1,
      "outputs": []
    },
    {
      "cell_type": "markdown",
      "source": [
        "#### Kitaba geri dön! \n",
        "<img src=\"https://raw.githubusercontent.com/tensorchiefs/dl_book/master/imgs/Page_turn_icon_A.png\" width=\"120\" align=\"left\" />  \n",
        "Örnek 5.2'yi incelemek için kitaba geri dönebilirsin."
      ],
      "metadata": {
        "id": "6eWD-wAkTBGX"
      }
    },
    {
      "cell_type": "markdown",
      "source": [
        "## **Örnek 5.2**"
      ],
      "metadata": {
        "id": "axOQL_FtU8G1"
      }
    },
    {
      "cell_type": "code",
      "source": [
        "topla<-function(x){\n",
        "n=length(x) # vektörün eleman sayısı\n",
        "T=0\n",
        "for (i in 1:n){\n",
        "T=T+x[i]\n",
        "}\n",
        "return(T)\n",
        "}"
      ],
      "metadata": {
        "id": "hwjLLQl6W8AA"
      },
      "execution_count": 2,
      "outputs": []
    },
    {
      "cell_type": "markdown",
      "source": [
        "#### Kitaba geri dön! \n",
        "<img src=\"https://raw.githubusercontent.com/tensorchiefs/dl_book/master/imgs/Page_turn_icon_A.png\" width=\"120\" align=\"left\" />  \n",
        "Örnek 5.3'ü incelemek için kitaba geri dönebilirsin."
      ],
      "metadata": {
        "id": "3MFyAjSAXBXC"
      }
    },
    {
      "cell_type": "markdown",
      "source": [
        "## **Örnek 5.3**"
      ],
      "metadata": {
        "id": "TLiyPREfXLHM"
      }
    },
    {
      "cell_type": "code",
      "source": [
        "Mutlak<-function(x){\n",
        "if(x<0){\n",
        "return(-x)\n",
        "}else {\n",
        "return(x)\n",
        "}}"
      ],
      "metadata": {
        "id": "uPSLmfNBXyQz"
      },
      "execution_count": 4,
      "outputs": []
    },
    {
      "cell_type": "markdown",
      "source": [
        "#### Kitaba geri dön! \n",
        "<img src=\"https://raw.githubusercontent.com/tensorchiefs/dl_book/master/imgs/Page_turn_icon_A.png\" width=\"120\" align=\"left\" />  \n",
        "Örnek 5.4'ü incelemek için kitaba geri dönebilirsin."
      ],
      "metadata": {
        "id": "assEqgSd8SgX"
      }
    },
    {
      "cell_type": "markdown",
      "source": [
        "## **Örnek 5.4**"
      ],
      "metadata": {
        "id": "BiqcCDmF8SgY"
      }
    },
    {
      "cell_type": "code",
      "source": [
        "MutlakTopla<-function(x){\n",
        "n=length(x) # vektörün eleman sayısı\n",
        "T=0\n",
        "for (i in 1:n){\n",
        "T=T+Mutlak(x[i])\n",
        "}\n",
        "return(T)\n",
        "}"
      ],
      "metadata": {
        "id": "Xqxic0Ir8MCB"
      },
      "execution_count": 8,
      "outputs": []
    },
    {
      "cell_type": "markdown",
      "source": [
        "#### Kitaba geri dön! \n",
        "<img src=\"https://raw.githubusercontent.com/tensorchiefs/dl_book/master/imgs/Page_turn_icon_A.png\" width=\"120\" align=\"left\" />  \n",
        "Örnek 5.5'ü incelemek için kitaba geri dönebilirsin."
      ],
      "metadata": {
        "id": "QfdboLMw8js3"
      }
    },
    {
      "cell_type": "markdown",
      "source": [
        "## **Örnek 5.5**"
      ],
      "metadata": {
        "id": "Z3YmQ3GA8nt2"
      }
    },
    {
      "cell_type": "code",
      "source": [
        "TOPLAMA<-function(x,mutlak=FALSE){\n",
        "if(mutlak==FALSE){\n",
        "topla(x)\n",
        "} else if (mutlak==TRUE) {\n",
        "MutlakTopla(x)\n",
        "}else {\n",
        "print(\"Mutlak argümanı TRUE ya da FALSE olabilir\")}}"
      ],
      "metadata": {
        "id": "rNzdhm_R8fZ_"
      },
      "execution_count": 5,
      "outputs": []
    },
    {
      "cell_type": "markdown",
      "source": [
        "#### Kitaba geri dön! \n",
        "<img src=\"https://raw.githubusercontent.com/tensorchiefs/dl_book/master/imgs/Page_turn_icon_A.png\" width=\"120\" align=\"left\" />  \n",
        "Örnek 5.6'yı incelemek için kitaba geri dönebilirsin."
      ],
      "metadata": {
        "id": "zEEaJklm8-IW"
      }
    },
    {
      "cell_type": "markdown",
      "source": [
        "## **Örnek 5.6**"
      ],
      "metadata": {
        "id": "CnMa66tv9BH4"
      }
    },
    {
      "cell_type": "code",
      "source": [
        "faktöriyel<-function(x){\n",
        "f=1\n",
        "for (i in 2:x){\n",
        "f=f*i\n",
        "}\n",
        "return(f)\n",
        "}"
      ],
      "metadata": {
        "id": "mVkbpHDt858F"
      },
      "execution_count": 7,
      "outputs": []
    },
    {
      "cell_type": "markdown",
      "source": [
        "#### Kitaba geri dön! \n",
        "<img src=\"https://raw.githubusercontent.com/tensorchiefs/dl_book/master/imgs/Page_turn_icon_A.png\" width=\"120\" align=\"left\" />  \n",
        "Örnek 5.7'yi incelemek için kitaba geri dönebilirsin."
      ],
      "metadata": {
        "id": "GpjCOnZQ9Gk6"
      }
    },
    {
      "cell_type": "markdown",
      "source": [
        "## **Örnek 5.7**"
      ],
      "metadata": {
        "id": "xf57Z8JL9J0B"
      }
    },
    {
      "cell_type": "code",
      "source": [
        "asal<-function(x){\n",
        "if (x<=1){ # Asal sayılar 1'den büyüktür\n",
        "return(FALSE)\n",
        "} else if (x==2){ # en küçük asal sayı 2'dir.\n",
        "return(TRUE)\n",
        "} else {\n",
        "for (i in 2:(x-1)){ # Kendisi dışında böleni varsa asal değil\n",
        "if(x%%i==0)\n",
        "return(FALSE)\n",
        "}\n",
        "return(TRUE)\n",
        "}}"
      ],
      "metadata": {
        "id": "N54Dq6uZ9N0s"
      },
      "execution_count": 6,
      "outputs": []
    },
    {
      "cell_type": "markdown",
      "source": [
        "#### Kitaba geri dön! \n",
        "<img src=\"https://raw.githubusercontent.com/tensorchiefs/dl_book/master/imgs/Page_turn_icon_A.png\" width=\"120\" align=\"left\" />  \n",
        "Bölüm 5 tamamlandı. Bir sonraki bölüm için kitaba geri dönebilirsin.\n"
      ],
      "metadata": {
        "id": "dIumbsJyX5sH"
      }
    }
  ]
}