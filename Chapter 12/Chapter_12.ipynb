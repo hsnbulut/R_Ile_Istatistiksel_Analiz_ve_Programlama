{
  "nbformat": 4,
  "nbformat_minor": 0,
  "metadata": {
    "colab": {
      "provenance": []
    },
    "kernelspec": {
      "name": "ir",
      "display_name": "R"
    },
    "language_info": {
      "name": "R"
    },
    "gpuClass": "standard"
  },
  "cells": [
    {
      "cell_type": "markdown",
      "source": [
        "# **12. KATEGORİK DEĞİŞKENLER ARASINDAKİ İLİŞKİLERİN İNCELENMESİ**"
      ],
      "metadata": {
        "id": "MlFI9W6eSfb0"
      }
    },
    {
      "cell_type": "markdown",
      "source": [
        "## **12.1. Ki-Kare Bağımsızlık Testleri**"
      ],
      "metadata": {
        "id": "Cd6600r7cG3S"
      }
    },
    {
      "cell_type": "markdown",
      "source": [
        "**Örnek 12.1**"
      ],
      "metadata": {
        "id": "Y2n4uwde2LF0"
      }
    },
    {
      "cell_type": "code",
      "source": [
        "Gözlenen<-rbind(c(75,20,5),c(40,125,35),c(10,25,65))\n",
        "chisq.test(Gözlenen)"
      ],
      "metadata": {
        "colab": {
          "base_uri": "https://localhost:8080/",
          "height": 106
        },
        "id": "OO9m40iJbghS",
        "outputId": "dbfd3f54-745a-476b-bb3c-eb456fc8dd26"
      },
      "execution_count": 1,
      "outputs": [
        {
          "output_type": "display_data",
          "data": {
            "text/plain": [
              "\n",
              "\tPearson's Chi-squared test\n",
              "\n",
              "data:  Gözlenen\n",
              "X-squared = 201.98, df = 4, p-value < 2.2e-16\n"
            ]
          },
          "metadata": {}
        }
      ]
    },
    {
      "cell_type": "markdown",
      "source": [
        "#### Kitaba geri dön! \n",
        "<img src=\"https://raw.githubusercontent.com/tensorchiefs/dl_book/master/imgs/Page_turn_icon_A.png\" width=\"120\" align=\"left\" />  \n",
        "Örnek 12.2'yi incelemek için kitaba geri dönebilirsin."
      ],
      "metadata": {
        "id": "H7hxCQE6hakj"
      }
    },
    {
      "cell_type": "markdown",
      "source": [
        "**Örnek 12.2**"
      ],
      "metadata": {
        "id": "sMKGem5RcCZz"
      }
    },
    {
      "cell_type": "code",
      "source": [
        "Gözlenen<-rbind(c(60,30,10),c(80,50,20))\n",
        "chisq.test(Gözlenen)"
      ],
      "metadata": {
        "colab": {
          "base_uri": "https://localhost:8080/",
          "height": 106
        },
        "id": "1naPfOC5b-Pw",
        "outputId": "5b127b2d-63fb-4d27-d5f0-1ac1f778bac5"
      },
      "execution_count": 2,
      "outputs": [
        {
          "output_type": "display_data",
          "data": {
            "text/plain": [
              "\n",
              "\tPearson's Chi-squared test\n",
              "\n",
              "data:  Gözlenen\n",
              "X-squared = 1.2401, df = 2, p-value = 0.5379\n"
            ]
          },
          "metadata": {}
        }
      ]
    },
    {
      "cell_type": "markdown",
      "source": [
        "#### Kitaba geri dön! \n",
        "<img src=\"https://raw.githubusercontent.com/tensorchiefs/dl_book/master/imgs/Page_turn_icon_A.png\" width=\"120\" align=\"left\" />  \n",
        "Örnek 12.3'ü incelemek için kitaba geri dönebilirsin."
      ],
      "metadata": {
        "id": "ZcEg6skWhdmz"
      }
    },
    {
      "cell_type": "markdown",
      "source": [
        "**Örnek 12.3**"
      ],
      "metadata": {
        "id": "3fzpZBBqfFJ3"
      }
    },
    {
      "cell_type": "code",
      "source": [
        "Gözlenen<-rbind(c(6,7,17),c(151,23,145),c(10,5,10),c(20,5,20))\n",
        "sonuc<-chisq.test(Gözlenen)\n",
        "sonuc"
      ],
      "metadata": {
        "colab": {
          "base_uri": "https://localhost:8080/",
          "height": 142
        },
        "id": "BVaa5KR8fIk8",
        "outputId": "0cbfbe26-4180-454e-f60b-3c258ba3a1e4"
      },
      "execution_count": 4,
      "outputs": [
        {
          "output_type": "stream",
          "name": "stderr",
          "text": [
            "Warning message in chisq.test(Gözlenen):\n",
            "“Chi-squared approximation may be incorrect”\n"
          ]
        },
        {
          "output_type": "display_data",
          "data": {
            "text/plain": [
              "\n",
              "\tPearson's Chi-squared test\n",
              "\n",
              "data:  Gözlenen\n",
              "X-squared = 16.479, df = 6, p-value = 0.0114\n"
            ]
          },
          "metadata": {}
        }
      ]
    },
    {
      "cell_type": "code",
      "source": [
        "sonuc$expected"
      ],
      "metadata": {
        "colab": {
          "base_uri": "https://localhost:8080/",
          "height": 160
        },
        "id": "fbPWUaEZfNH4",
        "outputId": "295091e8-f44d-4a23-9962-02ab91d28405"
      },
      "execution_count": 5,
      "outputs": [
        {
          "output_type": "display_data",
          "data": {
            "text/html": [
              "<table class=\"dataframe\">\n",
              "<caption>A matrix: 4 × 3 of type dbl</caption>\n",
              "<tbody>\n",
              "\t<tr><td> 13.38902</td><td> 2.863962</td><td> 13.74702</td></tr>\n",
              "\t<tr><td>142.36993</td><td>30.453461</td><td>146.17661</td></tr>\n",
              "\t<tr><td> 11.15752</td><td> 2.386635</td><td> 11.45585</td></tr>\n",
              "\t<tr><td> 20.08353</td><td> 4.295943</td><td> 20.62053</td></tr>\n",
              "</tbody>\n",
              "</table>\n"
            ],
            "text/markdown": "\nA matrix: 4 × 3 of type dbl\n\n|  13.38902 |  2.863962 |  13.74702 |\n| 142.36993 | 30.453461 | 146.17661 |\n|  11.15752 |  2.386635 |  11.45585 |\n|  20.08353 |  4.295943 |  20.62053 |\n\n",
            "text/latex": "A matrix: 4 × 3 of type dbl\n\\begin{tabular}{lll}\n\t  13.38902 &  2.863962 &  13.74702\\\\\n\t 142.36993 & 30.453461 & 146.17661\\\\\n\t  11.15752 &  2.386635 &  11.45585\\\\\n\t  20.08353 &  4.295943 &  20.62053\\\\\n\\end{tabular}\n",
            "text/plain": [
              "     [,1]      [,2]      [,3]     \n",
              "[1,]  13.38902  2.863962  13.74702\n",
              "[2,] 142.36993 30.453461 146.17661\n",
              "[3,]  11.15752  2.386635  11.45585\n",
              "[4,]  20.08353  4.295943  20.62053"
            ]
          },
          "metadata": {}
        }
      ]
    },
    {
      "cell_type": "code",
      "source": [
        "Gözlenen2<-rbind(Gözlenen[1:2,],Gözlenen[3,]+Gözlenen[4,])\n",
        "sonuc2<-chisq.test(Gözlenen2)\n",
        "sonuc2$expected"
      ],
      "metadata": {
        "colab": {
          "base_uri": "https://localhost:8080/",
          "height": 164
        },
        "id": "qUj4K7PBfVoY",
        "outputId": "ca25fb12-59e3-4ecd-a8ae-410015d2dd49"
      },
      "execution_count": 9,
      "outputs": [
        {
          "output_type": "stream",
          "name": "stderr",
          "text": [
            "Warning message in chisq.test(Gözlenen2):\n",
            "“Chi-squared approximation may be incorrect”\n"
          ]
        },
        {
          "output_type": "display_data",
          "data": {
            "text/html": [
              "<table class=\"dataframe\">\n",
              "<caption>A matrix: 3 × 3 of type dbl</caption>\n",
              "<tbody>\n",
              "\t<tr><td> 13.38902</td><td> 2.863962</td><td> 13.74702</td></tr>\n",
              "\t<tr><td>142.36993</td><td>30.453461</td><td>146.17661</td></tr>\n",
              "\t<tr><td> 31.24105</td><td> 6.682578</td><td> 32.07637</td></tr>\n",
              "</tbody>\n",
              "</table>\n"
            ],
            "text/markdown": "\nA matrix: 3 × 3 of type dbl\n\n|  13.38902 |  2.863962 |  13.74702 |\n| 142.36993 | 30.453461 | 146.17661 |\n|  31.24105 |  6.682578 |  32.07637 |\n\n",
            "text/latex": "A matrix: 3 × 3 of type dbl\n\\begin{tabular}{lll}\n\t  13.38902 &  2.863962 &  13.74702\\\\\n\t 142.36993 & 30.453461 & 146.17661\\\\\n\t  31.24105 &  6.682578 &  32.07637\\\\\n\\end{tabular}\n",
            "text/plain": [
              "     [,1]      [,2]      [,3]     \n",
              "[1,]  13.38902  2.863962  13.74702\n",
              "[2,] 142.36993 30.453461 146.17661\n",
              "[3,]  31.24105  6.682578  32.07637"
            ]
          },
          "metadata": {}
        }
      ]
    },
    {
      "cell_type": "code",
      "source": [
        "sonuc2"
      ],
      "metadata": {
        "colab": {
          "base_uri": "https://localhost:8080/",
          "height": 106
        },
        "id": "qy_R3BEnfsdu",
        "outputId": "04a30a89-b439-4536-b870-b257a386b52b"
      },
      "execution_count": 10,
      "outputs": [
        {
          "output_type": "display_data",
          "data": {
            "text/plain": [
              "\n",
              "\tPearson's Chi-squared test\n",
              "\n",
              "data:  Gözlenen2\n",
              "X-squared = 15.008, df = 4, p-value = 0.004684\n"
            ]
          },
          "metadata": {}
        }
      ]
    },
    {
      "cell_type": "markdown",
      "source": [
        "#### Kitaba geri dön! \n",
        "<img src=\"https://raw.githubusercontent.com/tensorchiefs/dl_book/master/imgs/Page_turn_icon_A.png\" width=\"120\" align=\"left\" />  \n",
        "Örnek 12.4'ü incelemek için kitaba geri dönebilirsin."
      ],
      "metadata": {
        "id": "EMnQoMNVhheZ"
      }
    },
    {
      "cell_type": "markdown",
      "source": [
        "**Örnek 12.4**\n"
      ],
      "metadata": {
        "id": "cUqw4SmQgk8l"
      }
    },
    {
      "cell_type": "code",
      "source": [
        "Gözlenen<-rbind(c(125,287),c(246,122))\n",
        "sonuc<-chisq.test(Gözlenen,correct=FALSE)\n",
        "sonuc$expected\n",
        "sonuc"
      ],
      "metadata": {
        "colab": {
          "base_uri": "https://localhost:8080/",
          "height": 204
        },
        "id": "_5nmq_POgn6R",
        "outputId": "6fffaee2-e941-471f-e21d-ae13ba2d93bc"
      },
      "execution_count": 11,
      "outputs": [
        {
          "output_type": "display_data",
          "data": {
            "text/html": [
              "<table class=\"dataframe\">\n",
              "<caption>A matrix: 2 × 2 of type dbl</caption>\n",
              "<tbody>\n",
              "\t<tr><td>195.9641</td><td>216.0359</td></tr>\n",
              "\t<tr><td>175.0359</td><td>192.9641</td></tr>\n",
              "</tbody>\n",
              "</table>\n"
            ],
            "text/markdown": "\nA matrix: 2 × 2 of type dbl\n\n| 195.9641 | 216.0359 |\n| 175.0359 | 192.9641 |\n\n",
            "text/latex": "A matrix: 2 × 2 of type dbl\n\\begin{tabular}{ll}\n\t 195.9641 & 216.0359\\\\\n\t 175.0359 & 192.9641\\\\\n\\end{tabular}\n",
            "text/plain": [
              "     [,1]     [,2]    \n",
              "[1,] 195.9641 216.0359\n",
              "[2,] 175.0359 192.9641"
            ]
          },
          "metadata": {}
        },
        {
          "output_type": "display_data",
          "data": {
            "text/plain": [
              "\n",
              "\tPearson's Chi-squared test\n",
              "\n",
              "data:  Gözlenen\n",
              "X-squared = 103.88, df = 1, p-value < 2.2e-16\n"
            ]
          },
          "metadata": {}
        }
      ]
    },
    {
      "cell_type": "markdown",
      "source": [
        "#### Kitaba geri dön! \n",
        "<img src=\"https://raw.githubusercontent.com/tensorchiefs/dl_book/master/imgs/Page_turn_icon_A.png\" width=\"120\" align=\"left\" />  \n",
        "Örnek 12.5'i incelemek için kitaba geri dönebilirsin."
      ],
      "metadata": {
        "id": "B1qt-YfBhkj0"
      }
    },
    {
      "cell_type": "markdown",
      "source": [
        "**Örnek 12.5**"
      ],
      "metadata": {
        "id": "Yp8rfvmMhQa5"
      }
    },
    {
      "cell_type": "code",
      "source": [
        "Gözlenen<-rbind(c(10,6),c(3,14))\n",
        "sonuc<-chisq.test(Gözlenen)\n",
        "sonuc$expected\n",
        "sonuc"
      ],
      "metadata": {
        "colab": {
          "base_uri": "https://localhost:8080/",
          "height": 204
        },
        "id": "rpfNomnzhHDi",
        "outputId": "1a4b7bd1-5d97-496d-bdb6-9d4ce03986ee"
      },
      "execution_count": 13,
      "outputs": [
        {
          "output_type": "display_data",
          "data": {
            "text/html": [
              "<table class=\"dataframe\">\n",
              "<caption>A matrix: 2 × 2 of type dbl</caption>\n",
              "<tbody>\n",
              "\t<tr><td>6.30303</td><td> 9.69697</td></tr>\n",
              "\t<tr><td>6.69697</td><td>10.30303</td></tr>\n",
              "</tbody>\n",
              "</table>\n"
            ],
            "text/markdown": "\nA matrix: 2 × 2 of type dbl\n\n| 6.30303 |  9.69697 |\n| 6.69697 | 10.30303 |\n\n",
            "text/latex": "A matrix: 2 × 2 of type dbl\n\\begin{tabular}{ll}\n\t 6.30303 &  9.69697\\\\\n\t 6.69697 & 10.30303\\\\\n\\end{tabular}\n",
            "text/plain": [
              "     [,1]    [,2]    \n",
              "[1,] 6.30303  9.69697\n",
              "[2,] 6.69697 10.30303"
            ]
          },
          "metadata": {}
        },
        {
          "output_type": "display_data",
          "data": {
            "text/plain": [
              "\n",
              "\tPearson's Chi-squared test with Yates' continuity correction\n",
              "\n",
              "data:  Gözlenen\n",
              "X-squared = 5.1937, df = 1, p-value = 0.02267\n"
            ]
          },
          "metadata": {}
        }
      ]
    },
    {
      "cell_type": "markdown",
      "source": [
        "#### Kitaba geri dön! \n",
        "<img src=\"https://raw.githubusercontent.com/tensorchiefs/dl_book/master/imgs/Page_turn_icon_A.png\" width=\"120\" align=\"left\" />  \n",
        "Örnek 12.6'yı incelemek için kitaba geri dönebilirsin."
      ],
      "metadata": {
        "id": "RPoD2YkZhnBg"
      }
    },
    {
      "cell_type": "markdown",
      "source": [
        "**Örnek 12.6**"
      ],
      "metadata": {
        "id": "klLykWPjh_MU"
      }
    },
    {
      "cell_type": "code",
      "source": [
        "Gözlenen<-rbind(c(8,2),c(13,17))\n",
        "fisher.test(Gözlenen,alternative=\"greater\")"
      ],
      "metadata": {
        "colab": {
          "base_uri": "https://localhost:8080/",
          "height": 213
        },
        "id": "lGBPlTXkiBSU",
        "outputId": "3f942db3-a1d4-4432-9dd5-a8cf6683c43d"
      },
      "execution_count": 14,
      "outputs": [
        {
          "output_type": "display_data",
          "data": {
            "text/plain": [
              "\n",
              "\tFisher's Exact Test for Count Data\n",
              "\n",
              "data:  Gözlenen\n",
              "p-value = 0.04805\n",
              "alternative hypothesis: true odds ratio is greater than 1\n",
              "95 percent confidence interval:\n",
              " 1.013814      Inf\n",
              "sample estimates:\n",
              "odds ratio \n",
              "  5.022447 \n"
            ]
          },
          "metadata": {}
        }
      ]
    },
    {
      "cell_type": "markdown",
      "source": [
        "#### Kitaba geri dön! \n",
        "<img src=\"https://raw.githubusercontent.com/tensorchiefs/dl_book/master/imgs/Page_turn_icon_A.png\" width=\"120\" align=\"left\" />  \n",
        "Bölüm 12.2'yi incelemek için kitaba geri dönebilirsin."
      ],
      "metadata": {
        "id": "aBWOq1zwiINa"
      }
    },
    {
      "cell_type": "markdown",
      "source": [
        "## **12.2. Sınıflama Ölçme Düzeyindeki Değişkenler İçin İlişki Katsayıları**"
      ],
      "metadata": {
        "id": "b-c-5R0KiP6P"
      }
    },
    {
      "cell_type": "markdown",
      "source": [
        "**Örnek 12.7**"
      ],
      "metadata": {
        "id": "B1tQrGEwiYzR"
      }
    },
    {
      "cell_type": "code",
      "source": [
        "Gözlenen<-rbind(c(125,287),c(246,122))\n",
        "psych::phi(Gözlenen)"
      ],
      "metadata": {
        "colab": {
          "base_uri": "https://localhost:8080/",
          "height": 34
        },
        "id": "iI1DMYHzjIDU",
        "outputId": "c40a2322-7506-43c8-de8d-fa20c1899569"
      },
      "execution_count": 19,
      "outputs": [
        {
          "output_type": "display_data",
          "data": {
            "text/html": [
              "-0.36"
            ],
            "text/markdown": "-0.36",
            "text/latex": "-0.36",
            "text/plain": [
              "[1] -0.36"
            ]
          },
          "metadata": {}
        }
      ]
    },
    {
      "cell_type": "markdown",
      "source": [
        "#### Kitaba geri dön! \n",
        "<img src=\"https://raw.githubusercontent.com/tensorchiefs/dl_book/master/imgs/Page_turn_icon_A.png\" width=\"120\" align=\"left\" />  \n",
        "Örnek 12.8'i incelemek için kitaba geri dönebilirsin."
      ],
      "metadata": {
        "id": "_dbq5Glbk4xw"
      }
    },
    {
      "cell_type": "code",
      "source": [
        "DescTools::Phi(Gözlenen)"
      ],
      "metadata": {
        "colab": {
          "base_uri": "https://localhost:8080/",
          "height": 34
        },
        "id": "70BtFFB_jSd2",
        "outputId": "ccee1b1d-a20b-4e86-b89d-5eaa8db30e7c"
      },
      "execution_count": 22,
      "outputs": [
        {
          "output_type": "display_data",
          "data": {
            "text/html": [
              "0.36493220517215"
            ],
            "text/markdown": "0.36493220517215",
            "text/latex": "0.36493220517215",
            "text/plain": [
              "[1] 0.3649322"
            ]
          },
          "metadata": {}
        }
      ]
    },
    {
      "cell_type": "markdown",
      "source": [
        "**Örnek 12.8**"
      ],
      "metadata": {
        "id": "EUW0ElD9kYBo"
      }
    },
    {
      "cell_type": "code",
      "source": [
        "DescTools::ContCoef(Gözlenen,correct=TRUE)"
      ],
      "metadata": {
        "colab": {
          "base_uri": "https://localhost:8080/",
          "height": 34
        },
        "id": "xXvRahQEkabX",
        "outputId": "6ce1df61-3dee-4b3e-86c3-d4465d90a668"
      },
      "execution_count": 24,
      "outputs": [
        {
          "output_type": "display_data",
          "data": {
            "text/html": [
              "0.4848178467788"
            ],
            "text/markdown": "0.4848178467788",
            "text/latex": "0.4848178467788",
            "text/plain": [
              "[1] 0.4848178"
            ]
          },
          "metadata": {}
        }
      ]
    },
    {
      "cell_type": "markdown",
      "source": [
        "#### Kitaba geri dön! \n",
        "<img src=\"https://raw.githubusercontent.com/tensorchiefs/dl_book/master/imgs/Page_turn_icon_A.png\" width=\"120\" align=\"left\" />  \n",
        "Örnek 12.9'u incelemek için kitaba geri dönebilirsin."
      ],
      "metadata": {
        "id": "Pbh7GwIAk_VS"
      }
    },
    {
      "cell_type": "markdown",
      "source": [
        "**Örnek 12.9**"
      ],
      "metadata": {
        "id": "GUC12ZqIkwyz"
      }
    },
    {
      "cell_type": "code",
      "source": [
        "DescTools::CramerV(Gözlenen)"
      ],
      "metadata": {
        "colab": {
          "base_uri": "https://localhost:8080/",
          "height": 34
        },
        "id": "uRQ8tMgkkzTH",
        "outputId": "55c0d716-7a08-4cf6-af16-e990c87a3f58"
      },
      "execution_count": 25,
      "outputs": [
        {
          "output_type": "display_data",
          "data": {
            "text/html": [
              "0.36493220517215"
            ],
            "text/markdown": "0.36493220517215",
            "text/latex": "0.36493220517215",
            "text/plain": [
              "[1] 0.3649322"
            ]
          },
          "metadata": {}
        }
      ]
    },
    {
      "cell_type": "markdown",
      "source": [
        "#### Kitaba geri dön! \n",
        "<img src=\"https://raw.githubusercontent.com/tensorchiefs/dl_book/master/imgs/Page_turn_icon_A.png\" width=\"120\" align=\"left\" />  \n",
        "Örnek 12.10'u incelemek için kitaba geri dönebilirsin."
      ],
      "metadata": {
        "id": "b-DcwYjulFOi"
      }
    },
    {
      "cell_type": "markdown",
      "source": [
        "**Örnek 12.10**"
      ],
      "metadata": {
        "id": "WtU8K30VlIKx"
      }
    },
    {
      "cell_type": "code",
      "source": [
        "library(DescTools)\n",
        "UncertCoef(x = Gözlenen) # U_(X/Y)\n",
        "UncertCoef(x = Gözlenen,direction=\"column\") # U_(Y/X)\n",
        "UncertCoef(x = Gözlenen,direction=\"symmetric\") # U"
      ],
      "metadata": {
        "colab": {
          "base_uri": "https://localhost:8080/",
          "height": 69
        },
        "id": "k5ksbftwlKF-",
        "outputId": "0fbe11e6-fe4e-43e1-a42a-a0703d0df1c3"
      },
      "execution_count": 26,
      "outputs": [
        {
          "output_type": "display_data",
          "data": {
            "text/html": [
              "0.098421514431658"
            ],
            "text/markdown": "0.098421514431658",
            "text/latex": "0.098421514431658",
            "text/plain": [
              "[1] 0.09842151"
            ]
          },
          "metadata": {}
        },
        {
          "output_type": "display_data",
          "data": {
            "text/html": [
              "0.0983927319935861"
            ],
            "text/markdown": "0.0983927319935861",
            "text/latex": "0.0983927319935861",
            "text/plain": [
              "[1] 0.09839273"
            ]
          },
          "metadata": {}
        },
        {
          "output_type": "display_data",
          "data": {
            "text/html": [
              "0.098421514431658"
            ],
            "text/markdown": "0.098421514431658",
            "text/latex": "0.098421514431658",
            "text/plain": [
              "[1] 0.09842151"
            ]
          },
          "metadata": {}
        }
      ]
    },
    {
      "cell_type": "markdown",
      "source": [
        "#### Kitaba geri dön! \n",
        "<img src=\"https://raw.githubusercontent.com/tensorchiefs/dl_book/master/imgs/Page_turn_icon_A.png\" width=\"120\" align=\"left\" />  \n",
        "Bölüm 12.3'ü incelemek için kitaba geri dönebilirsin."
      ],
      "metadata": {
        "id": "6SK0oQqYmKQm"
      }
    },
    {
      "cell_type": "markdown",
      "source": [
        "## **12.3. Sıralama Ölçme Düzeyindeki Değişkenler İçin İlişki Katsayıları**"
      ],
      "metadata": {
        "id": "5Qagkg0ImO5Z"
      }
    },
    {
      "cell_type": "markdown",
      "source": [
        "**Örnek 12.11**"
      ],
      "metadata": {
        "id": "H_5NYqWZmYQ5"
      }
    },
    {
      "cell_type": "code",
      "source": [
        "Gözlenen<-rbind(c(20,40,60),c(30,50,10),c(120,24,6))\n",
        "DescTools::GoodmanKruskalGamma(Gözlenen)"
      ],
      "metadata": {
        "colab": {
          "base_uri": "https://localhost:8080/",
          "height": 34
        },
        "id": "dsqzYBLunMsO",
        "outputId": "cfdb94f5-ae6b-428f-b590-c674c41e480b"
      },
      "execution_count": 28,
      "outputs": [
        {
          "output_type": "display_data",
          "data": {
            "text/html": [
              "-0.761467889908257"
            ],
            "text/markdown": "-0.761467889908257",
            "text/latex": "-0.761467889908257",
            "text/plain": [
              "[1] -0.7614679"
            ]
          },
          "metadata": {}
        }
      ]
    },
    {
      "cell_type": "markdown",
      "source": [
        "#### Kitaba geri dön! \n",
        "<img src=\"https://raw.githubusercontent.com/tensorchiefs/dl_book/master/imgs/Page_turn_icon_A.png\" width=\"120\" align=\"left\" />  \n",
        "Örnek 12.12'yi incelemek için kitaba geri dönebilirsin."
      ],
      "metadata": {
        "id": "FPSu2eZInX8E"
      }
    },
    {
      "cell_type": "markdown",
      "source": [
        "**Örnek 12.12**"
      ],
      "metadata": {
        "id": "mX4ctQ5KnaFB"
      }
    },
    {
      "cell_type": "code",
      "source": [
        "DescTools::KendallTauB(Gözlenen)"
      ],
      "metadata": {
        "colab": {
          "base_uri": "https://localhost:8080/",
          "height": 34
        },
        "id": "ZuiIvxCKncJm",
        "outputId": "bb13a2d9-3ef5-4641-eeb0-dc5bf3414891"
      },
      "execution_count": 29,
      "outputs": [
        {
          "output_type": "display_data",
          "data": {
            "text/html": [
              "-0.558296314962403"
            ],
            "text/markdown": "-0.558296314962403",
            "text/latex": "-0.558296314962403",
            "text/plain": [
              "[1] -0.5582963"
            ]
          },
          "metadata": {}
        }
      ]
    },
    {
      "cell_type": "markdown",
      "source": [
        "#### Kitaba geri dön! \n",
        "<img src=\"https://raw.githubusercontent.com/tensorchiefs/dl_book/master/imgs/Page_turn_icon_A.png\" width=\"120\" align=\"left\" />  \n",
        "Örnek 12.13'ü incelemek için kitaba geri dönebilirsin."
      ],
      "metadata": {
        "id": "fVkLPSJZn1m8"
      }
    },
    {
      "cell_type": "markdown",
      "source": [
        "**Örnek 12.13**"
      ],
      "metadata": {
        "id": "H9nTtCgmn3_9"
      }
    },
    {
      "cell_type": "code",
      "source": [
        "DescTools::StuartTauC(Gözlenen)"
      ],
      "metadata": {
        "colab": {
          "base_uri": "https://localhost:8080/",
          "height": 34
        },
        "id": "Reut2N8In6Ms",
        "outputId": "ee748a31-ae2c-40ba-b4f0-44e1d768442e"
      },
      "execution_count": 30,
      "outputs": [
        {
          "output_type": "display_data",
          "data": {
            "text/html": [
              "-0.537962962962963"
            ],
            "text/markdown": "-0.537962962962963",
            "text/latex": "-0.537962962962963",
            "text/plain": [
              "[1] -0.537963"
            ]
          },
          "metadata": {}
        }
      ]
    },
    {
      "cell_type": "markdown",
      "source": [
        "#### Kitaba geri dön! \n",
        "<img src=\"https://raw.githubusercontent.com/tensorchiefs/dl_book/master/imgs/Page_turn_icon_A.png\" width=\"120\" align=\"left\" />  \n",
        "Bölüm 12.4'ü incelemek için kitaba geri dönebilirsin."
      ],
      "metadata": {
        "id": "irgqS05DoJ_a"
      }
    },
    {
      "cell_type": "markdown",
      "source": [
        "## **12.4. Kategorik ve Sayısal Değişkenler İçin Eta Katsayısı**"
      ],
      "metadata": {
        "id": "YHGvlroloLXU"
      }
    },
    {
      "cell_type": "markdown",
      "source": [
        "**Örnek 12.14**"
      ],
      "metadata": {
        "id": "Mnd8llfRoU0e"
      }
    },
    {
      "cell_type": "code",
      "source": [
        "eğitim<-c(rep(\"İlkokul\",5),rep(\"Ortaokul\",5),rep(\"Lise\",5),rep(\"Üniversite\",5))\n",
        "süre<-c(4,3,5,6,4,4,3,5,2,3,4,3,4,5,3,1,2,4,2,3)\n",
        "ryouready::eta(x=eğitim,y = süre)"
      ],
      "metadata": {
        "colab": {
          "base_uri": "https://localhost:8080/",
          "height": 34
        },
        "id": "7sV1nRVeo0BS",
        "outputId": "b9285533-55a2-46a2-c076-79b9156eee70"
      },
      "execution_count": 35,
      "outputs": [
        {
          "output_type": "display_data",
          "data": {
            "text/html": [
              "0.604580219143259"
            ],
            "text/markdown": "0.604580219143259",
            "text/latex": "0.604580219143259",
            "text/plain": [
              "[1] 0.6045802"
            ]
          },
          "metadata": {}
        }
      ]
    }
  ]
}