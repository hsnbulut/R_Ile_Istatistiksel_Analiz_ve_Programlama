{
  "nbformat": 4,
  "nbformat_minor": 0,
  "metadata": {
    "colab": {
      "provenance": []
    },
    "kernelspec": {
      "name": "ir",
      "display_name": "R"
    },
    "language_info": {
      "name": "R"
    },
    "gpuClass": "standard"
  },
  "cells": [
    {
      "cell_type": "markdown",
      "source": [
        "# **24. `shiny` PAKETİ**"
      ],
      "metadata": {
        "id": "MlFI9W6eSfb0"
      }
    },
    {
      "cell_type": "markdown",
      "source": [
        "## **Şekil 24.1**\n",
        "\n",
        "İlgili shiny uygulamasını açmak için aşağıdaki bağlantıya tıklayınız:\n",
        "\n",
        "[**Şekil 24.1**'de Verilen Shiny Uygulamasını Açmak İçin Tıklayın](https://hasanbulut.shinyapps.io/shiny1/)"
      ],
      "metadata": {
        "id": "OVAXrw8aSpwZ"
      }
    },
    {
      "cell_type": "markdown",
      "source": [
        "#### Kitaba geri dön! \n",
        "<img src=\"https://raw.githubusercontent.com/tensorchiefs/dl_book/master/imgs/Page_turn_icon_A.png\" width=\"120\" align=\"left\" />  \n",
        "Sonraki **`shiny`** uygulamasını incelemek için kitaba geri dönebilirsin."
      ],
      "metadata": {
        "id": "6eWD-wAkTBGX"
      }
    },
    {
      "cell_type": "markdown",
      "source": [
        "## **Şekil 24.2**\n",
        "\n",
        "İlgili shiny uygulamasını açmak için aşağıdaki bağlantıya tıklayınız:\n",
        "\n",
        "[**Şekil 24.2**'de Verilen Shiny Uygulamasını Açmak İçin Tıklayın](https://hasanbulut.shinyapps.io/shiny2/)"
      ],
      "metadata": {
        "id": "Uo1rpuRBVboV"
      }
    },
    {
      "cell_type": "markdown",
      "source": [
        "#### Kitaba geri dön! \n",
        "<img src=\"https://raw.githubusercontent.com/tensorchiefs/dl_book/master/imgs/Page_turn_icon_A.png\" width=\"120\" align=\"left\" />  \n",
        "Sonraki **`shiny`** uygulamasını incelemek için kitaba geri dönebilirsin."
      ],
      "metadata": {
        "id": "9Q4d7KFtVpFQ"
      }
    },
    {
      "cell_type": "markdown",
      "source": [
        "## **Şekil 24.3**\n",
        "\n",
        "İlgili shiny uygulamasını açmak için aşağıdaki bağlantıya tıklayınız:\n",
        "\n",
        "[**Şekil 24.3**'de Verilen Shiny Uygulamasını Açmak İçin Tıklayın](https://hasanbulut.shinyapps.io/shiny3/)"
      ],
      "metadata": {
        "id": "v8yICDdMVq9c"
      }
    },
    {
      "cell_type": "markdown",
      "source": [
        "#### Kitaba geri dön! \n",
        "<img src=\"https://raw.githubusercontent.com/tensorchiefs/dl_book/master/imgs/Page_turn_icon_A.png\" width=\"120\" align=\"left\" />  \n",
        "Sonraki **`shiny`** uygulamasını incelemek için kitaba geri dönebilirsin."
      ],
      "metadata": {
        "id": "c8eWVZfEV3fq"
      }
    },
    {
      "cell_type": "markdown",
      "source": [
        "## **Şekil 24.4**\n",
        "\n",
        "İlgili shiny uygulamasını açmak için aşağıdaki bağlantıya tıklayınız:\n",
        "\n",
        "[**Şekil 24.4**'de Verilen Shiny Uygulamasını Açmak İçin Tıklayın](https://hasanbulut.shinyapps.io/shiny4/)"
      ],
      "metadata": {
        "id": "GC8e867YV49B"
      }
    },
    {
      "cell_type": "markdown",
      "source": [
        "#### Kitaba geri dön! \n",
        "<img src=\"https://raw.githubusercontent.com/tensorchiefs/dl_book/master/imgs/Page_turn_icon_A.png\" width=\"120\" align=\"left\" />  \n",
        "Sonraki **`shiny`** uygulamasını incelemek için kitaba geri dönebilirsin."
      ],
      "metadata": {
        "id": "HhzSOWXFWC9s"
      }
    },
    {
      "cell_type": "markdown",
      "source": [
        "## **Şekil 24.5**\n",
        "\n",
        "İlgili shiny uygulamasını açmak için aşağıdaki bağlantıya tıklayınız:\n",
        "\n",
        "[**Şekil 24.5**'de Verilen Shiny Uygulamasını Açmak İçin Tıklayın](https://hasanbulut.shinyapps.io/shiny5/)"
      ],
      "metadata": {
        "id": "JTr88CJyWHX_"
      }
    },
    {
      "cell_type": "markdown",
      "source": [
        "#### Kitaba geri dön! \n",
        "<img src=\"https://raw.githubusercontent.com/tensorchiefs/dl_book/master/imgs/Page_turn_icon_A.png\" width=\"120\" align=\"left\" />  \n",
        "Sonraki **`shiny`** uygulamasını incelemek için kitaba geri dönebilirsin."
      ],
      "metadata": {
        "id": "Mp8PD1dTWHYA"
      }
    },
    {
      "cell_type": "markdown",
      "source": [
        "## **Şekil 24.6**\n",
        "\n",
        "İlgili shiny uygulamasını açmak için aşağıdaki bağlantıya tıklayınız:\n",
        "\n",
        "[**Şekil 24.6**'da Verilen Shiny Uygulamasını Açmak İçin Tıklayın](https://hsnbulut.shinyapps.io/shiny6/)"
      ],
      "metadata": {
        "id": "ZhmDHsYVWVBf"
      }
    },
    {
      "cell_type": "markdown",
      "source": [
        "#### Kitaba geri dön! \n",
        "<img src=\"https://raw.githubusercontent.com/tensorchiefs/dl_book/master/imgs/Page_turn_icon_A.png\" width=\"120\" align=\"left\" />  \n",
        "Sonraki **`shiny`** uygulamasını incelemek için kitaba geri dönebilirsin."
      ],
      "metadata": {
        "id": "nmTt4ypOWPqf"
      }
    },
    {
      "cell_type": "markdown",
      "source": [
        "## **Şekil 24.7**\n",
        "\n",
        "İlgili shiny uygulamasını açmak için aşağıdaki bağlantıya tıklayınız:\n",
        "\n",
        "[**Şekil 24.7**'de Verilen Shiny Uygulamasını Açmak İçin Tıklayın](https://hsnbulut.shinyapps.io/shiny7/)"
      ],
      "metadata": {
        "id": "4h96vEYiWR4c"
      }
    },
    {
      "cell_type": "markdown",
      "source": [
        "#### Kitaba geri dön! \n",
        "<img src=\"https://raw.githubusercontent.com/tensorchiefs/dl_book/master/imgs/Page_turn_icon_A.png\" width=\"120\" align=\"left\" />  \n",
        "Sonraki **`shiny`** uygulamasını incelemek için kitaba geri dönebilirsin."
      ],
      "metadata": {
        "id": "n-BBVo3tWSRh"
      }
    },
    {
      "cell_type": "markdown",
      "source": [
        "## **Şekil 24.8**\n",
        "\n",
        "İlgili shiny uygulamasını açmak için aşağıdaki bağlantıya tıklayınız:\n",
        "\n",
        "[**Şekil 24.8**'de Verilen Shiny Uygulamasını Açmak İçin Tıklayın](https://hsnbulut.shinyapps.io/shiny8/)"
      ],
      "metadata": {
        "id": "6flMJ0uQWbgm"
      }
    },
    {
      "cell_type": "markdown",
      "source": [
        "#### Kitaba geri dön! \n",
        "<img src=\"https://raw.githubusercontent.com/tensorchiefs/dl_book/master/imgs/Page_turn_icon_A.png\" width=\"120\" align=\"left\" />  \n",
        "Sonraki **`shiny`** uygulamasını incelemek için kitaba geri dönebilirsin."
      ],
      "metadata": {
        "id": "wym6VlEtWSyF"
      }
    },
    {
      "cell_type": "markdown",
      "source": [
        "## **Şekil 24.9**\n",
        "\n",
        "İlgili shiny uygulamasını açmak için aşağıdaki bağlantıya tıklayınız:\n",
        "\n",
        "[**Şekil 24.9**'da Verilen Shiny Uygulamasını Açmak İçin Tıklayın](https://hsnbulut.shinyapps.io/shiny9/)"
      ],
      "metadata": {
        "id": "rB96NAZTWegm"
      }
    },
    {
      "cell_type": "markdown",
      "source": [
        "#### Kitaba geri dön! \n",
        "<img src=\"https://raw.githubusercontent.com/tensorchiefs/dl_book/master/imgs/Page_turn_icon_A.png\" width=\"120\" align=\"left\" />  \n",
        "Sonraki **`shiny`** uygulamasını incelemek için kitaba geri dönebilirsin."
      ],
      "metadata": {
        "id": "cx1iXkbpWTEP"
      }
    },
    {
      "cell_type": "markdown",
      "source": [
        "## **Şekil 24.10**\n",
        "\n",
        "İlgili shiny uygulamasını açmak için aşağıdaki bağlantıya tıklayınız:\n",
        "\n",
        "[**Şekil 24.10**'da Verilen Shiny Uygulamasını Açmak İçin Tıklayın](https://hsnbulut.shinyapps.io/shiny10/)"
      ],
      "metadata": {
        "id": "reYtHvfKWiDB"
      }
    },
    {
      "cell_type": "markdown",
      "source": [
        "#### Kitaba geri dön! \n",
        "<img src=\"https://raw.githubusercontent.com/tensorchiefs/dl_book/master/imgs/Page_turn_icon_A.png\" width=\"120\" align=\"left\" />  \n",
        "Bölüm 24 tamamlandı. Artık kitabın son bölümünde birlikte bir R paketi oluşturabiliriz."
      ],
      "metadata": {
        "id": "rZlEZSHsWTNs"
      }
    }
  ]
}