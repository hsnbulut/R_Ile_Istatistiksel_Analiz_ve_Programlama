{
  "nbformat": 4,
  "nbformat_minor": 0,
  "metadata": {
    "colab": {
      "provenance": []
    },
    "kernelspec": {
      "name": "ir",
      "display_name": "R"
    },
    "language_info": {
      "name": "R"
    },
    "gpuClass": "standard"
  },
  "cells": [
    {
      "cell_type": "markdown",
      "source": [
        "# **16. İKİ KİTLE İÇİN HİPOTEZ TESTLERİ**"
      ],
      "metadata": {
        "id": "MlFI9W6eSfb0"
      }
    },
    {
      "cell_type": "markdown",
      "source": [
        "## **16.1. İki Bağımsız Kitle Ortalaması İçin Testler**"
      ],
      "metadata": {
        "id": "uJOxXov5KX65"
      }
    },
    {
      "cell_type": "markdown",
      "source": [
        "### **16.1.1. İki Bağımsız Örnek Z Testi**"
      ],
      "metadata": {
        "id": "qfJFR2iGzi5v"
      }
    },
    {
      "cell_type": "markdown",
      "source": [
        "**Örnek 16.1**"
      ],
      "metadata": {
        "id": "KZdA4cG11agl"
      }
    },
    {
      "cell_type": "code",
      "source": [
        "x1<-c(10, 25, 35, 40, 70, 60, 50, 70, 65,25)\n",
        "x2<-c(30, 20, 60, 70, 50, 90, 80, 65, 75,60)\n",
        "library(BSDA)\n",
        "z.test(x = x1,y = x2,alternative = \"two.sided\",sigma.x = sqrt(30),sigma.y = sqrt(60))"
      ],
      "metadata": {
        "colab": {
          "base_uri": "https://localhost:8080/",
          "height": 213
        },
        "id": "7Ws133g0F8Qn",
        "outputId": "87ba7871-75c4-4255-9e38-35f1a305129e"
      },
      "execution_count": 3,
      "outputs": [
        {
          "output_type": "display_data",
          "data": {
            "text/plain": [
              "\n",
              "\tTwo-sample z-Test\n",
              "\n",
              "data:  x1 and x2\n",
              "z = -5, p-value = 5.733e-07\n",
              "alternative hypothesis: true difference in means is not equal to 0\n",
              "95 percent confidence interval:\n",
              " -20.879892  -9.120108\n",
              "sample estimates:\n",
              "mean of x mean of y \n",
              "       45        60 \n"
            ]
          },
          "metadata": {}
        }
      ]
    },
    {
      "cell_type": "markdown",
      "source": [
        "#### Kitaba geri dön! \n",
        "<img src=\"https://raw.githubusercontent.com/tensorchiefs/dl_book/master/imgs/Page_turn_icon_A.png\" width=\"120\" align=\"left\" />  \n",
        "Bölüm 16.1.2'yi incelemek için kitaba geri dönebilirsin."
      ],
      "metadata": {
        "id": "6eWD-wAkTBGX"
      }
    },
    {
      "cell_type": "markdown",
      "source": [
        "### **16.1.2. İki Bağımsız Örnek t Testi**"
      ],
      "metadata": {
        "id": "axOQL_FtU8G1"
      }
    },
    {
      "cell_type": "markdown",
      "source": [
        "**Örnek 16.2**"
      ],
      "metadata": {
        "id": "CzJdhAad1ewq"
      }
    },
    {
      "cell_type": "code",
      "source": [
        "library(stats)\n",
        "t.test(x = x1,y = x2,alternative = \"two.sided\",var.equal = TRUE)"
      ],
      "metadata": {
        "id": "hwjLLQl6W8AA",
        "colab": {
          "base_uri": "https://localhost:8080/",
          "height": 213
        },
        "outputId": "48a56571-a8e2-4726-c248-780501e10e0a"
      },
      "execution_count": 4,
      "outputs": [
        {
          "output_type": "display_data",
          "data": {
            "text/plain": [
              "\n",
              "\tTwo Sample t-test\n",
              "\n",
              "data:  x1 and x2\n",
              "t = -1.562, df = 18, p-value = 0.1357\n",
              "alternative hypothesis: true difference in means is not equal to 0\n",
              "95 percent confidence interval:\n",
              " -35.175659   5.175659\n",
              "sample estimates:\n",
              "mean of x mean of y \n",
              "       45        60 \n"
            ]
          },
          "metadata": {}
        }
      ]
    },
    {
      "cell_type": "markdown",
      "source": [
        "#### Kitaba geri dön! \n",
        "<img src=\"https://raw.githubusercontent.com/tensorchiefs/dl_book/master/imgs/Page_turn_icon_A.png\" width=\"120\" align=\"left\" />  \n",
        "Örnek 16.3'ü incelemek için kitaba geri dönebilirsin."
      ],
      "metadata": {
        "id": "jr4H_ctT1jdM"
      }
    },
    {
      "cell_type": "markdown",
      "source": [
        "**Örnek 16.5**"
      ],
      "metadata": {
        "id": "ezvACu_X1nHU"
      }
    },
    {
      "cell_type": "code",
      "source": [
        "x1<-c(150, 270,182,67,92,123,240,160)\n",
        "x2<-c(45,60,81,47,82,95,120,110,74,63,49,52)\n",
        "t.test(x=x1,y=x2,alternative = \"two.sided\",var.equal = FALSE)"
      ],
      "metadata": {
        "colab": {
          "base_uri": "https://localhost:8080/",
          "height": 213
        },
        "id": "EwLT538F3seV",
        "outputId": "0227b5dd-6f28-4813-87ae-3f0abc3beede"
      },
      "execution_count": 5,
      "outputs": [
        {
          "output_type": "display_data",
          "data": {
            "text/plain": [
              "\n",
              "\tWelch Two Sample t-test\n",
              "\n",
              "data:  x1 and x2\n",
              "t = 3.4127, df = 8.2381, p-value = 0.008793\n",
              "alternative hypothesis: true difference in means is not equal to 0\n",
              "95 percent confidence interval:\n",
              "  28.61622 146.05044\n",
              "sample estimates:\n",
              "mean of x mean of y \n",
              "160.50000  73.16667 \n"
            ]
          },
          "metadata": {}
        }
      ]
    },
    {
      "cell_type": "markdown",
      "source": [
        "#### Kitaba geri dön! \n",
        "<img src=\"https://raw.githubusercontent.com/tensorchiefs/dl_book/master/imgs/Page_turn_icon_A.png\" width=\"120\" align=\"left\" />  \n",
        "Örnek 16.6'yı incelemek için kitaba geri dönebilirsin."
      ],
      "metadata": {
        "id": "hv-ByRVW34aZ"
      }
    },
    {
      "cell_type": "markdown",
      "source": [
        "### **16.1.3. Mann-Whitney U Testi**"
      ],
      "metadata": {
        "id": "WHWZlfq-4g6O"
      }
    },
    {
      "cell_type": "markdown",
      "source": [
        "**Örnek 16.8**"
      ],
      "metadata": {
        "id": "3efQ9LQs4o_c"
      }
    },
    {
      "cell_type": "code",
      "source": [
        "x1<-c(6,7,6,8,5,6,7,9)\n",
        "x2<-c(7,8,9,5,9,10,6,8)\n",
        "wilcox.test(x=x1,y=x2,alternative = \"two.sided\",exact = FALSE)"
      ],
      "metadata": {
        "colab": {
          "base_uri": "https://localhost:8080/",
          "height": 124
        },
        "id": "S2YHpUIV5K6D",
        "outputId": "bab2d788-7360-4d03-c28a-4274bfad37b3"
      },
      "execution_count": 6,
      "outputs": [
        {
          "output_type": "display_data",
          "data": {
            "text/plain": [
              "\n",
              "\tWilcoxon rank sum test with continuity correction\n",
              "\n",
              "data:  x1 and x2\n",
              "W = 20, p-value = 0.2192\n",
              "alternative hypothesis: true location shift is not equal to 0\n"
            ]
          },
          "metadata": {}
        }
      ]
    },
    {
      "cell_type": "markdown",
      "source": [
        "#### Kitaba geri dön! \n",
        "<img src=\"https://raw.githubusercontent.com/tensorchiefs/dl_book/master/imgs/Page_turn_icon_A.png\" width=\"120\" align=\"left\" />  \n",
        "Bölüm 16.1.4'ü incelemek için kitaba geri dönebilirsin."
      ],
      "metadata": {
        "id": "w4wyVMsl5Ui3"
      }
    },
    {
      "cell_type": "markdown",
      "source": [
        "### **16.1.4. İki Bağımsız Örnek Test Sonuçlarının Görselleştirilmesi**"
      ],
      "metadata": {
        "id": "M7r1D_LO5sDE"
      }
    },
    {
      "cell_type": "code",
      "source": [
        "x1<-c(10,25,35,40,70,60,50,70,65,25)\n",
        "x2<-c(30,20,60,70,50,90,80,65,75,60)\n",
        "veri<-c(x1,x2)\n",
        "grup<-c(rep(\"İstatistik\",10),rep(\"Matematik\",10))\n",
        "data<-data.frame(veri,grup)\n",
        "ggstatsplot::ggbetweenstats(data = data,x = grup,y = veri,type = \"parametric\",var.equal = TRUE)"
      ],
      "metadata": {
        "colab": {
          "base_uri": "https://localhost:8080/",
          "height": 437
        },
        "id": "rTtwcqsV5z48",
        "outputId": "1353f76d-f253-44e3-a490-1fc6635b11f5"
      },
      "execution_count": 19,
      "outputs": [
        {
          "output_type": "display_data",
          "data": {
            "text/plain": [
              "plot without title"
            ],
            "image/png": "[encoded data removed]"
          },
          "metadata": {
            "image/png": {
              "width": 420,
              "height": 420
            }
          }
        }
      ]
    },
    {
      "cell_type": "markdown",
      "source": [
        "#### Kitaba geri dön! \n",
        "<img src=\"https://raw.githubusercontent.com/tensorchiefs/dl_book/master/imgs/Page_turn_icon_A.png\" width=\"120\" align=\"left\" />  \n",
        "Bölüm 16.2'yi incelemek için kitaba geri dönebilirsin."
      ],
      "metadata": {
        "id": "53bnewAv6Q9C"
      }
    },
    {
      "cell_type": "markdown",
      "source": [
        "## **16.2. İki Bağımlı Kitle Ortalaması İçin Testler**"
      ],
      "metadata": {
        "id": "mRFtV9ft6VQK"
      }
    },
    {
      "cell_type": "markdown",
      "source": [
        "### **16.2.1. Paired t Testi**"
      ],
      "metadata": {
        "id": "VQC_avTD6jA-"
      }
    },
    {
      "cell_type": "markdown",
      "source": [
        "**Örnek 16.9**"
      ],
      "metadata": {
        "id": "SUZIzl4H6nIi"
      }
    },
    {
      "cell_type": "code",
      "source": [
        "x<-c(90,105,80,100,70,60,95)\n",
        "y<-c(82,90,70,83,72,53,80)\n",
        "t.test(x = x,y = y,alternative = \"greater\",paired = TRUE)"
      ],
      "metadata": {
        "colab": {
          "base_uri": "https://localhost:8080/",
          "height": 213
        },
        "id": "R2RUoLQe6mdE",
        "outputId": "026576fa-c7c4-4c1e-c8f7-1ec9fe8c14be"
      },
      "execution_count": 12,
      "outputs": [
        {
          "output_type": "display_data",
          "data": {
            "text/plain": [
              "\n",
              "\tPaired t-test\n",
              "\n",
              "data:  x and y\n",
              "t = 4.0505, df = 6, p-value = 0.003361\n",
              "alternative hypothesis: true mean difference is greater than 0\n",
              "95 percent confidence interval:\n",
              " 5.202572      Inf\n",
              "sample estimates:\n",
              "mean difference \n",
              "             10 \n"
            ]
          },
          "metadata": {}
        }
      ]
    },
    {
      "cell_type": "markdown",
      "source": [
        "#### Kitaba geri dön! \n",
        "<img src=\"https://raw.githubusercontent.com/tensorchiefs/dl_book/master/imgs/Page_turn_icon_A.png\" width=\"120\" align=\"left\" />  \n",
        "Örnek 16.10'u incelemek için kitaba geri dönebilirsin."
      ],
      "metadata": {
        "id": "3D5r140p8JMD"
      }
    },
    {
      "cell_type": "markdown",
      "source": [
        "### **16.2.2. Wilcoxon İşaretli Sıra Sayıları Testi**"
      ],
      "metadata": {
        "id": "OXbGPsKe-Hb1"
      }
    },
    {
      "cell_type": "markdown",
      "source": [
        "**Örnek 16.12**"
      ],
      "metadata": {
        "id": "40NHEQDa-MRI"
      }
    },
    {
      "cell_type": "code",
      "source": [
        "x<-c(130,150,180,230,140,160,190,110,90,150)\n",
        "y<-c(200,180,170,200,145,150,200,100,100,160)\n",
        "wilcox.test(x = x,y = y,alternative = \"two.sided\",paired = TRUE,exact = FALSE)"
      ],
      "metadata": {
        "colab": {
          "base_uri": "https://localhost:8080/",
          "height": 124
        },
        "id": "-bPDItbH-Puy",
        "outputId": "493183e7-433a-4eb5-ca92-cdff077e4406"
      },
      "execution_count": 13,
      "outputs": [
        {
          "output_type": "display_data",
          "data": {
            "text/plain": [
              "\n",
              "\tWilcoxon signed rank test with continuity correction\n",
              "\n",
              "data:  x and y\n",
              "V = 22, p-value = 0.6017\n",
              "alternative hypothesis: true location shift is not equal to 0\n"
            ]
          },
          "metadata": {}
        }
      ]
    },
    {
      "cell_type": "markdown",
      "source": [
        "#### Kitaba geri dön! \n",
        "<img src=\"https://raw.githubusercontent.com/tensorchiefs/dl_book/master/imgs/Page_turn_icon_A.png\" width=\"120\" align=\"left\" />  \n",
        "Bölüm 16.3'ü incelemek için kitaba geri dönebilirsin."
      ],
      "metadata": {
        "id": "k5vcVEYh-a64"
      }
    },
    {
      "cell_type": "markdown",
      "source": [
        "## **16.3. İki Kitle Ortalaması İçin R Fonksiyonu**"
      ],
      "metadata": {
        "id": "aUZ2jYCo-frc"
      }
    },
    {
      "cell_type": "code",
      "source": [
        "TwoSamplesMeans<-function(x,y,\n",
        "var.equal=FALSE,\n",
        "H1=\"two.sided\",\n",
        "xvar=NULL,yvar=NULL,\n",
        "paired=FALSE){\n",
        "if(paired==TRUE){\n",
        "d<-x-y\n",
        "if(stats::shapiro.test(d)$p<0.05){\n",
        "result<-stats::wilcox.test(x = x,y=y,\n",
        "paired=TRUE,\n",
        "alternative = H1,\n",
        "exact=FALSE)\n",
        "}else{\n",
        "result<-stats::t.test(x = x,y=y,paired=TRUE,\n",
        "alternative = H1)\n",
        "}\n",
        "} else if(stats::shapiro.test(x)$p<0.05 |\n",
        "stats::shapiro.test(y)$p<0.05){\n",
        "result<-stats::wilcox.test(x = x,y=y,\n",
        "alternative = H1,exact=FALSE)\n",
        "}else if(missing(xvar)==FALSE &\n",
        "missing(yvar)==FALSE){\n",
        "result<-BSDA::z.test(x = x, y=y,\n",
        "sigma.x=sqrt(xvar),\n",
        "sigma.y=sqrt(yvar),\n",
        "alternative = H1)\n",
        "} else {\n",
        "result<-t.test(x = x,y=y,alternative = H1,\n",
        "var.equal=var.equal)\n",
        "}\n",
        "return(result)\n",
        "}"
      ],
      "metadata": {
        "id": "fIBt8sNz-l1t"
      },
      "execution_count": 14,
      "outputs": []
    },
    {
      "cell_type": "markdown",
      "source": [
        "#### Kitaba geri dön! \n",
        "<img src=\"https://raw.githubusercontent.com/tensorchiefs/dl_book/master/imgs/Page_turn_icon_A.png\" width=\"120\" align=\"left\" />  \n",
        "Bölüm 16.4'ü incelemek için kitaba geri dönebilirsin."
      ],
      "metadata": {
        "id": "zcF5fqds_ru_"
      }
    },
    {
      "cell_type": "markdown",
      "source": [
        "## **16.4. İki Kitle Oran Parametresi İçin Testler**"
      ],
      "metadata": {
        "id": "PjdpBM6__r6i"
      }
    },
    {
      "cell_type": "markdown",
      "source": [
        "**Örnek 16.13**"
      ],
      "metadata": {
        "id": "ezb_7YP4Bvuf"
      }
    },
    {
      "cell_type": "code",
      "source": [
        "prop.test(x =c(50,78),n = c(80,100),alternative = \"two.sided\",correct=FALSE)"
      ],
      "metadata": {
        "colab": {
          "base_uri": "https://localhost:8080/",
          "height": 213
        },
        "id": "MRjBfzAxByNi",
        "outputId": "950c2c8d-ba8a-4db5-9630-26e347784d7f"
      },
      "execution_count": 16,
      "outputs": [
        {
          "output_type": "display_data",
          "data": {
            "text/plain": [
              "\n",
              "\t2-sample test for equality of proportions without continuity correction\n",
              "\n",
              "data:  c(50, 78) out of c(80, 100)\n",
              "X-squared = 5.1977, df = 1, p-value = 0.02262\n",
              "alternative hypothesis: two.sided\n",
              "95 percent confidence interval:\n",
              " -0.28858973 -0.02141027\n",
              "sample estimates:\n",
              "prop 1 prop 2 \n",
              " 0.625  0.780 \n"
            ]
          },
          "metadata": {}
        }
      ]
    },
    {
      "cell_type": "markdown",
      "source": [
        "#### Kitaba geri dön! \n",
        "<img src=\"https://raw.githubusercontent.com/tensorchiefs/dl_book/master/imgs/Page_turn_icon_A.png\" width=\"120\" align=\"left\" />  \n",
        "Bölüm 16.5'i incelemek için kitaba geri dönebilirsin."
      ],
      "metadata": {
        "id": "chtMhCPECKgI"
      }
    },
    {
      "cell_type": "markdown",
      "source": [
        "## **16.5. İki Kitle Varyans Parametreleri İçin Testler**"
      ],
      "metadata": {
        "id": "TtOJORJECM_n"
      }
    },
    {
      "cell_type": "markdown",
      "source": [
        "**Örnek 16.14**"
      ],
      "metadata": {
        "id": "UhcUGhsWCVFL"
      }
    },
    {
      "cell_type": "code",
      "source": [
        "x1<-c(10, 25, 35, 40, 70, 60, 50, 70, 65, 25)\n",
        "x2<-c(30, 20, 60, 70, 50, 90, 80, 65, 75, 60)\n",
        "var.test(x = x1,y = x2,alternative = \"less\")"
      ],
      "metadata": {
        "colab": {
          "base_uri": "https://localhost:8080/",
          "height": 213
        },
        "id": "stu_RCaPCXzJ",
        "outputId": "fda121bf-562b-40ae-f81b-f589f844509a"
      },
      "execution_count": 17,
      "outputs": [
        {
          "output_type": "display_data",
          "data": {
            "text/plain": [
              "\n",
              "\tF test to compare two variances\n",
              "\n",
              "data:  x1 and x2\n",
              "F = 0.95294, num df = 9, denom df = 9, p-value = 0.472\n",
              "alternative hypothesis: true ratio of variances is less than 1\n",
              "95 percent confidence interval:\n",
              " 0.000000 3.029298\n",
              "sample estimates:\n",
              "ratio of variances \n",
              "         0.9529412 \n"
            ]
          },
          "metadata": {}
        }
      ]
    },
    {
      "cell_type": "markdown",
      "source": [
        "#### Kitaba geri dön! \n",
        "<img src=\"https://raw.githubusercontent.com/tensorchiefs/dl_book/master/imgs/Page_turn_icon_A.png\" width=\"120\" align=\"left\" />  \n",
        "Örnek 16.15'i incelemek için kitaba geri dönebilirsin."
      ],
      "metadata": {
        "id": "fLpagxKBDN7A"
      }
    }
  ]
}